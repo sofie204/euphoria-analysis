{
 "cells": [
  {
   "cell_type": "markdown",
   "id": "612c3cad",
   "metadata": {},
   "source": [
    "# Euphoria Twitter Analysis "
   ]
  },
  {
   "cell_type": "markdown",
   "id": "a1c0ff58",
   "metadata": {},
   "source": [
    "## Analysis \n",
    "\n",
    "**Project Strategy:**\n",
    "- Tweet Mining \n",
    "- Data Cleansing and Processing \n",
    "- Extracting Hashtags and Main Characters \n",
    "- Location Geocoding \n",
    "- Sentiment Analysis \n",
    "- Tableau Dashboard "
   ]
  },
  {
   "cell_type": "markdown",
   "id": "029c5161",
   "metadata": {},
   "source": [
    "# Tweet Mining\n",
    "\n",
    "## Notebook Scope : \n",
    "\n",
    "The scope of this notebook is under the Tweet Mining Section of this analysis project. Over the course of seven weeks I scraped tweets from Twitter using the Twitter API in Python (main library used to extract tweets is Tweepy). I had to use my Twitter developer account credentials. All the tweets collected had the Euphoria hashtag in them. \n",
    "\n",
    "I would run this notebook each week to get the tweets about the show for that time period. \n",
    "\n",
    "Tweet Scraping began on 17th Jan 2022"
   ]
  },
  {
   "cell_type": "markdown",
   "id": "11331c10",
   "metadata": {},
   "source": []
  },
  {
   "cell_type": "markdown",
   "id": "908c8dd4",
   "metadata": {},
   "source": [
    "## Import Relevant Libraries"
   ]
  },
  {
   "cell_type": "code",
   "execution_count": 1,
   "id": "e7d33126",
   "metadata": {
    "ExecuteTime": {
     "end_time": "2022-03-02T04:03:14.628896Z",
     "start_time": "2022-03-02T04:03:14.214188Z"
    }
   },
   "outputs": [],
   "source": [
    "import pandas as pd\n",
    "import tweepy\n",
    "import numpy as np\n",
    "import config"
   ]
  },
  {
   "cell_type": "markdown",
   "id": "8d289e39",
   "metadata": {},
   "source": [
    "The API to use would be the Twitter Premium API"
   ]
  },
  {
   "cell_type": "code",
   "execution_count": 2,
   "id": "9883d019",
   "metadata": {
    "ExecuteTime": {
     "end_time": "2022-03-02T04:03:14.632468Z",
     "start_time": "2022-03-02T04:03:14.630330Z"
    }
   },
   "outputs": [],
   "source": [
    "consumer_key = config.api_key\n",
    "consumer_secret = config.api_secret\n",
    "access_key = config.access_token\n",
    "access_secret = config.token_secret"
   ]
  },
  {
   "cell_type": "code",
   "execution_count": 3,
   "id": "f37cae4f",
   "metadata": {
    "ExecuteTime": {
     "end_time": "2022-03-02T04:03:14.635343Z",
     "start_time": "2022-03-02T04:03:14.633619Z"
    }
   },
   "outputs": [],
   "source": [
    "auth = tweepy.OAuthHandler(consumer_key, consumer_secret)\n",
    "auth.set_access_token(access_key, access_secret)"
   ]
  },
  {
   "cell_type": "code",
   "execution_count": 4,
   "id": "c4c74ad2",
   "metadata": {
    "ExecuteTime": {
     "end_time": "2022-03-02T04:03:14.638092Z",
     "start_time": "2022-03-02T04:03:14.636348Z"
    }
   },
   "outputs": [],
   "source": [
    "api = tweepy.API(auth, wait_on_rate_limit = True, wait_on_rate_limit_notify= True )\n",
    "\n"
   ]
  },
  {
   "cell_type": "markdown",
   "id": "0581795c",
   "metadata": {},
   "source": [
    "**Sanity check to ensure my API works and can extract tweets** "
   ]
  },
  {
   "cell_type": "code",
   "execution_count": 5,
   "id": "49050a9f",
   "metadata": {
    "ExecuteTime": {
     "end_time": "2022-03-02T04:03:15.095231Z",
     "start_time": "2022-03-02T04:03:14.639232Z"
    }
   },
   "outputs": [],
   "source": [
    "\n",
    "posts = api.user_timeline(screen_name = 'BillGates', count = 100, lang = 'en', tweet_mode = 'extended')"
   ]
  },
  {
   "cell_type": "code",
   "execution_count": 6,
   "id": "7285ac0f",
   "metadata": {
    "ExecuteTime": {
     "end_time": "2022-03-02T04:03:15.101568Z",
     "start_time": "2022-03-02T04:03:15.097458Z"
    }
   },
   "outputs": [
    {
     "name": "stdout",
     "output_type": "stream",
     "text": [
      "I have never met anyone who was more passionate about reducing the world’s worst inequities in health than Paul Farmer. I continue to learn from my dear friend’s life and legacy today. https://t.co/Mk3HFoiqEn\n",
      "More than 1B people globally still suffer from #NTDs, many caused by parasites. I got a firsthand look at these creepy crawlies at the Parasitic Museum in Tokyo. The more we understand them, the better we can address the diseases they cause. https://t.co/jDjFYCFVgv\n",
      "This year's #BESummit2022 brought together investors, policymakers, and innovators to tackle one of the world’s toughest problems: climate change. https://t.co/nZ4SWXKrhk\n",
      "Math shouldn’t be a gatekeeper, limiting a student’s dreams. It should be a gateway, helping students realize them. https://t.co/YjFMqGn5yz\n",
      "TerraPower, the next-gen nuclear company I founded, just agreed with PacifiCorp to study the feasibility of building five Natrium reactors for its customers. https://t.co/S6F0ALOnFO\n"
     ]
    }
   ],
   "source": [
    "for tweet in posts[0:5]:\n",
    "    print(tweet.full_text)"
   ]
  },
  {
   "cell_type": "markdown",
   "id": "6571a33a",
   "metadata": {},
   "source": [
    "**The following cell block below works to actually extract tweets that have the texts in the text_query variable within them, goal was to extract maximum of 50,000 tweets each week**"
   ]
  },
  {
   "cell_type": "code",
   "execution_count": 8,
   "id": "ad7c46e3",
   "metadata": {
    "ExecuteTime": {
     "end_time": "2022-03-02T08:35:23.739531Z",
     "start_time": "2022-03-02T04:03:15.111549Z"
    },
    "scrolled": true
   },
   "outputs": [
    {
     "name": "stderr",
     "output_type": "stream",
     "text": [
      "Rate limit reached. Sleeping for: 844\n",
      "Rate limit reached. Sleeping for: 844\n",
      "Rate limit reached. Sleeping for: 845\n",
      "Rate limit reached. Sleeping for: 847\n",
      "Rate limit reached. Sleeping for: 846\n",
      "Rate limit reached. Sleeping for: 847\n",
      "Rate limit reached. Sleeping for: 848\n",
      "Rate limit reached. Sleeping for: 845\n",
      "Rate limit reached. Sleeping for: 844\n",
      "Rate limit reached. Sleeping for: 845\n",
      "Rate limit reached. Sleeping for: 846\n",
      "Rate limit reached. Sleeping for: 844\n",
      "Rate limit reached. Sleeping for: 842\n",
      "Rate limit reached. Sleeping for: 844\n",
      "Rate limit reached. Sleeping for: 844\n",
      "Rate limit reached. Sleeping for: 844\n",
      "Rate limit reached. Sleeping for: 845\n",
      "Rate limit reached. Sleeping for: 844\n"
     ]
    }
   ],
   "source": [
    "text_query = \"\\\"euphoria hbo\\\" OR #EUPHORIA OR #EuphoriaHBO OR #EuphoriaHBOMax\"\n",
    "\n",
    "#text_query = \"love island OR Love Island OR #LoveIsland OR #loveisland OR #loveIsland OR loveisland\"\n",
    "\n",
    "\n",
    "search_query = text_query + \" -filter:retweets AND -filter:replies\" # Exclude retweets, replies\n",
    "\n",
    "max_tweets = 50000\n",
    "\n",
    "\n",
    "# Creation of query method using parameters\n",
    "tweets = tweepy.Cursor(api.search, since = \"2022-02-22\", until=\"2022-03-01\", q=search_query, lang = \"en\", tweet_mode = 'extended').items(max_tweets)\n",
    " \n",
    "# Pulling information from tweets iterable object\n",
    "# Add or remove tweet information you want in the below list comprehension\n",
    "tweets_list = [[tweet.full_text, tweet.created_at, tweet.id, tweet.user.name, tweet.user.screen_name, tweet.user.id_str, tweet.user.location, tweet.user.url, tweet.user.description, tweet.user.verified, tweet.user.followers_count, tweet.user.friends_count, tweet.user.favourites_count, tweet.user.statuses_count, tweet.user.listed_count, tweet.user.created_at, tweet.user.profile_image_url_https, tweet.user.default_profile, tweet.user.default_profile_image, tweet.retweet_count, tweet.favorite_count] for tweet in tweets]\n",
    " \n",
    "# Creation of dataframe from tweets_list\n",
    "# Did not include column names to simplify code \n",
    "tweets_df = pd.DataFrame(tweets_list)"
   ]
  },
  {
   "cell_type": "code",
   "execution_count": 10,
   "id": "530ad5d6",
   "metadata": {
    "ExecuteTime": {
     "end_time": "2022-03-02T08:35:23.862421Z",
     "start_time": "2022-03-02T08:35:23.850851Z"
    }
   },
   "outputs": [
    {
     "data": {
      "text/html": [
       "<div>\n",
       "<style scoped>\n",
       "    .dataframe tbody tr th:only-of-type {\n",
       "        vertical-align: middle;\n",
       "    }\n",
       "\n",
       "    .dataframe tbody tr th {\n",
       "        vertical-align: top;\n",
       "    }\n",
       "\n",
       "    .dataframe thead th {\n",
       "        text-align: right;\n",
       "    }\n",
       "</style>\n",
       "<table border=\"1\" class=\"dataframe\">\n",
       "  <thead>\n",
       "    <tr style=\"text-align: right;\">\n",
       "      <th></th>\n",
       "      <th>0</th>\n",
       "      <th>1</th>\n",
       "      <th>2</th>\n",
       "      <th>3</th>\n",
       "      <th>4</th>\n",
       "      <th>5</th>\n",
       "      <th>6</th>\n",
       "      <th>7</th>\n",
       "      <th>8</th>\n",
       "      <th>9</th>\n",
       "      <th>...</th>\n",
       "      <th>11</th>\n",
       "      <th>12</th>\n",
       "      <th>13</th>\n",
       "      <th>14</th>\n",
       "      <th>15</th>\n",
       "      <th>16</th>\n",
       "      <th>17</th>\n",
       "      <th>18</th>\n",
       "      <th>19</th>\n",
       "      <th>20</th>\n",
       "    </tr>\n",
       "  </thead>\n",
       "  <tbody>\n",
       "    <tr>\n",
       "      <th>0</th>\n",
       "      <td>We deadass have so many unanswered questions f...</td>\n",
       "      <td>2022-02-28 23:59:59</td>\n",
       "      <td>1498447922664546304</td>\n",
       "      <td>(Not) Taylor ♡</td>\n",
       "      <td>folklorealbum</td>\n",
       "      <td>1365176606386491396</td>\n",
       "      <td>JMA♡ | She/Her</td>\n",
       "      <td>https://t.co/3Issz5SZP2</td>\n",
       "      <td>I love you and that's all I really know. (NOT ...</td>\n",
       "      <td>False</td>\n",
       "      <td>...</td>\n",
       "      <td>1406</td>\n",
       "      <td>5503</td>\n",
       "      <td>4431</td>\n",
       "      <td>16</td>\n",
       "      <td>2021-02-26 05:47:33</td>\n",
       "      <td>https://pbs.twimg.com/profile_images/149415705...</td>\n",
       "      <td>True</td>\n",
       "      <td>False</td>\n",
       "      <td>0</td>\n",
       "      <td>1</td>\n",
       "    </tr>\n",
       "    <tr>\n",
       "      <th>1</th>\n",
       "      <td>i can sleep peacefully now #euphoria https://t...</td>\n",
       "      <td>2022-02-28 23:59:58</td>\n",
       "      <td>1498447920756105216</td>\n",
       "      <td>ري</td>\n",
       "      <td>fuckinRii</td>\n",
       "      <td>773271568998920192</td>\n",
       "      <td>your dreams</td>\n",
       "      <td>None</td>\n",
       "      <td></td>\n",
       "      <td>False</td>\n",
       "      <td>...</td>\n",
       "      <td>114</td>\n",
       "      <td>95</td>\n",
       "      <td>5749</td>\n",
       "      <td>0</td>\n",
       "      <td>2016-09-06 21:28:04</td>\n",
       "      <td>https://pbs.twimg.com/profile_images/149305363...</td>\n",
       "      <td>True</td>\n",
       "      <td>False</td>\n",
       "      <td>0</td>\n",
       "      <td>1</td>\n",
       "    </tr>\n",
       "    <tr>\n",
       "      <th>2</th>\n",
       "      <td>Me watching yall tweet about Euphoria and I ha...</td>\n",
       "      <td>2022-02-28 23:59:58</td>\n",
       "      <td>1498447918222782470</td>\n",
       "      <td>MER✨😈</td>\n",
       "      <td>whomorgg</td>\n",
       "      <td>1416973349616488448</td>\n",
       "      <td>Philadelphia, PA</td>\n",
       "      <td>None</td>\n",
       "      <td>Nicetown📍CheyneyU’24</td>\n",
       "      <td>False</td>\n",
       "      <td>...</td>\n",
       "      <td>85</td>\n",
       "      <td>1494</td>\n",
       "      <td>80</td>\n",
       "      <td>0</td>\n",
       "      <td>2021-07-19 04:09:16</td>\n",
       "      <td>https://pbs.twimg.com/profile_images/147657367...</td>\n",
       "      <td>True</td>\n",
       "      <td>False</td>\n",
       "      <td>0</td>\n",
       "      <td>1</td>\n",
       "    </tr>\n",
       "    <tr>\n",
       "      <th>3</th>\n",
       "      <td>Farewell 🥺🥺🥺🥺\\n#Euphoria #EuphoriaFinale #Euph...</td>\n",
       "      <td>2022-02-28 23:59:47</td>\n",
       "      <td>1498447873670889472</td>\n",
       "      <td>Rabiu Kabir🃏🎮😉</td>\n",
       "      <td>rabioukabeer</td>\n",
       "      <td>774786300457222144</td>\n",
       "      <td>Nigeria</td>\n",
       "      <td>https://t.co/26Zgi9aRny</td>\n",
       "      <td>@rabioukabeer on all platforms\\n\\nLive Much, L...</td>\n",
       "      <td>False</td>\n",
       "      <td>...</td>\n",
       "      <td>826</td>\n",
       "      <td>14706</td>\n",
       "      <td>10634</td>\n",
       "      <td>0</td>\n",
       "      <td>2016-09-11 01:47:03</td>\n",
       "      <td>https://pbs.twimg.com/profile_images/149410555...</td>\n",
       "      <td>True</td>\n",
       "      <td>False</td>\n",
       "      <td>0</td>\n",
       "      <td>0</td>\n",
       "    </tr>\n",
       "    <tr>\n",
       "      <th>4</th>\n",
       "      <td>The fact that we wait 2 years for s2 of euphor...</td>\n",
       "      <td>2022-02-28 23:59:37</td>\n",
       "      <td>1498447829836046339</td>\n",
       "      <td>𝒜𝐿𝐿𝐼𝒜𝒴𝒜𝐻 🧜🏾‍♀️</td>\n",
       "      <td>AlliayahJ</td>\n",
       "      <td>570392528</td>\n",
       "      <td>504⚜️317🏁vegas🏜</td>\n",
       "      <td>None</td>\n",
       "      <td>22💐 |sc•alliayah.xo| Pisces🌞Taurus🌑Gemini🌄 Bla...</td>\n",
       "      <td>False</td>\n",
       "      <td>...</td>\n",
       "      <td>461</td>\n",
       "      <td>39879</td>\n",
       "      <td>27469</td>\n",
       "      <td>0</td>\n",
       "      <td>2012-05-04 00:15:09</td>\n",
       "      <td>https://pbs.twimg.com/profile_images/148900835...</td>\n",
       "      <td>False</td>\n",
       "      <td>False</td>\n",
       "      <td>1</td>\n",
       "      <td>1</td>\n",
       "    </tr>\n",
       "  </tbody>\n",
       "</table>\n",
       "<p>5 rows × 21 columns</p>\n",
       "</div>"
      ],
      "text/plain": [
       "                                                  0                   1   \\\n",
       "0  We deadass have so many unanswered questions f... 2022-02-28 23:59:59   \n",
       "1  i can sleep peacefully now #euphoria https://t... 2022-02-28 23:59:58   \n",
       "2  Me watching yall tweet about Euphoria and I ha... 2022-02-28 23:59:58   \n",
       "3  Farewell 🥺🥺🥺🥺\\n#Euphoria #EuphoriaFinale #Euph... 2022-02-28 23:59:47   \n",
       "4  The fact that we wait 2 years for s2 of euphor... 2022-02-28 23:59:37   \n",
       "\n",
       "                    2               3              4                    5   \\\n",
       "0  1498447922664546304  (Not) Taylor ♡  folklorealbum  1365176606386491396   \n",
       "1  1498447920756105216              ري      fuckinRii   773271568998920192   \n",
       "2  1498447918222782470           MER✨😈       whomorgg  1416973349616488448   \n",
       "3  1498447873670889472  Rabiu Kabir🃏🎮😉   rabioukabeer   774786300457222144   \n",
       "4  1498447829836046339  𝒜𝐿𝐿𝐼𝒜𝒴𝒜𝐻 🧜🏾‍♀️      AlliayahJ            570392528   \n",
       "\n",
       "                 6                        7   \\\n",
       "0    JMA♡ | She/Her  https://t.co/3Issz5SZP2   \n",
       "1       your dreams                     None   \n",
       "2  Philadelphia, PA                     None   \n",
       "3           Nigeria  https://t.co/26Zgi9aRny   \n",
       "4   504⚜️317🏁vegas🏜                     None   \n",
       "\n",
       "                                                  8      9   ...    11     12  \\\n",
       "0  I love you and that's all I really know. (NOT ...  False  ...  1406   5503   \n",
       "1                                                     False  ...   114     95   \n",
       "2                               Nicetown📍CheyneyU’24  False  ...    85   1494   \n",
       "3  @rabioukabeer on all platforms\\n\\nLive Much, L...  False  ...   826  14706   \n",
       "4  22💐 |sc•alliayah.xo| Pisces🌞Taurus🌑Gemini🌄 Bla...  False  ...   461  39879   \n",
       "\n",
       "      13  14                  15  \\\n",
       "0   4431  16 2021-02-26 05:47:33   \n",
       "1   5749   0 2016-09-06 21:28:04   \n",
       "2     80   0 2021-07-19 04:09:16   \n",
       "3  10634   0 2016-09-11 01:47:03   \n",
       "4  27469   0 2012-05-04 00:15:09   \n",
       "\n",
       "                                                  16     17     18  19  20  \n",
       "0  https://pbs.twimg.com/profile_images/149415705...   True  False   0   1  \n",
       "1  https://pbs.twimg.com/profile_images/149305363...   True  False   0   1  \n",
       "2  https://pbs.twimg.com/profile_images/147657367...   True  False   0   1  \n",
       "3  https://pbs.twimg.com/profile_images/149410555...   True  False   0   0  \n",
       "4  https://pbs.twimg.com/profile_images/148900835...  False  False   1   1  \n",
       "\n",
       "[5 rows x 21 columns]"
      ]
     },
     "execution_count": 10,
     "metadata": {},
     "output_type": "execute_result"
    }
   ],
   "source": [
    "tweets_df.head()"
   ]
  },
  {
   "cell_type": "code",
   "execution_count": 11,
   "id": "1b09ffe6",
   "metadata": {
    "ExecuteTime": {
     "end_time": "2022-03-02T08:35:23.866046Z",
     "start_time": "2022-03-02T08:35:23.863603Z"
    }
   },
   "outputs": [
    {
     "data": {
      "text/plain": [
       "(50000, 21)"
      ]
     },
     "execution_count": 11,
     "metadata": {},
     "output_type": "execute_result"
    }
   ],
   "source": [
    "tweets_df.shape"
   ]
  },
  {
   "cell_type": "markdown",
   "id": "399db3ea",
   "metadata": {},
   "source": [
    "## Final Step within notebook would be to convert the data to CSV format with a numeric label in an effort to differentiate my `.csv` files "
   ]
  },
  {
   "cell_type": "code",
   "execution_count": 12,
   "id": "d90cde32",
   "metadata": {
    "ExecuteTime": {
     "end_time": "2022-03-02T08:35:24.450795Z",
     "start_time": "2022-03-02T08:35:23.867053Z"
    }
   },
   "outputs": [],
   "source": [
    "tweets_df.to_csv('euphoria07.csv')"
   ]
  }
 ],
 "metadata": {
  "kernelspec": {
   "display_name": "Python 3.9.1 ('ds102')",
   "language": "python",
   "name": "python3"
  },
  "language_info": {
   "codemirror_mode": {
    "name": "ipython",
    "version": 3
   },
   "file_extension": ".py",
   "mimetype": "text/x-python",
   "name": "python",
   "nbconvert_exporter": "python",
   "pygments_lexer": "ipython3",
   "version": "3.9.1"
  },
  "toc": {
   "base_numbering": 1,
   "nav_menu": {},
   "number_sections": true,
   "sideBar": true,
   "skip_h1_title": false,
   "title_cell": "Table of Contents",
   "title_sidebar": "Contents",
   "toc_cell": false,
   "toc_position": {},
   "toc_section_display": true,
   "toc_window_display": false
  },
  "vscode": {
   "interpreter": {
    "hash": "68c0c88e4f3c8bf7de2929d850738bc4e9dc6999b5d80199871e3a1d1acd7724"
   }
  }
 },
 "nbformat": 4,
 "nbformat_minor": 5
}
