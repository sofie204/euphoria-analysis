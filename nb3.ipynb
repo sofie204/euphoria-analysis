{
 "cells": [
  {
   "cell_type": "code",
   "execution_count": 2,
   "id": "e8167ec1",
   "metadata": {
    "ExecuteTime": {
     "end_time": "2022-08-21T04:33:04.343223Z",
     "start_time": "2022-08-21T04:33:03.918414Z"
    }
   },
   "outputs": [],
   "source": [
    "import pandas as pd"
   ]
  },
  {
   "cell_type": "markdown",
   "id": "a60d4a8d",
   "metadata": {},
   "source": [
    "## Things I want to analyze/achieve with this analysis \n",
    "\n",
    "- Drop duplicates\n",
    "- WordCloud\n",
    "- Most famous/tweeted about characters \n",
    "- Sentiment towards main characters \n",
    "- Location.location.location\n",
    "    - Where are Euphorias big fans based out of \n",
    "- Most famous tweets about the show \n",
    "- Drop useless/irrelevant columns"
   ]
  },
  {
   "cell_type": "markdown",
   "id": "8d32d1b0",
   "metadata": {},
   "source": [
    "### Pre-Processing Tweets Steps\n",
    "\n",
    "Tweets will be cleaned up using the following steps \n",
    "1. Removing Punctuations \n",
    "2. Tokenization - converting a sentence (full-text tweet) into a list of words\n",
    "3. Removing Stopwords\n",
    "4. Lemmatization/Stemming - Transforming any form of a word to its root word "
   ]
  },
  {
   "cell_type": "code",
   "execution_count": 5,
   "id": "1e1845d6",
   "metadata": {
    "ExecuteTime": {
     "end_time": "2022-08-21T04:34:06.195589Z",
     "start_time": "2022-08-21T04:34:04.821868Z"
    }
   },
   "outputs": [
    {
     "name": "stderr",
     "output_type": "stream",
     "text": [
      "/Users/iizokun/opt/miniconda3/envs/ds102/lib/python3.9/site-packages/IPython/core/interactiveshell.py:3155: DtypeWarning: Columns (10,18,19) have mixed types.Specify dtype option on import or set low_memory=False.\n",
      "  has_raised = await self.run_ast_nodes(code_ast.body, cell_name,\n"
     ]
    }
   ],
   "source": [
    "tweets_df = pd.read_csv('euphoria_tweets_complete.csv', index_col=0)"
   ]
  },
  {
   "cell_type": "code",
   "execution_count": 6,
   "id": "90356242",
   "metadata": {
    "ExecuteTime": {
     "end_time": "2022-08-21T04:34:07.061345Z",
     "start_time": "2022-08-21T04:34:07.019784Z"
    }
   },
   "outputs": [
    {
     "data": {
      "text/html": [
       "<div>\n",
       "<style scoped>\n",
       "    .dataframe tbody tr th:only-of-type {\n",
       "        vertical-align: middle;\n",
       "    }\n",
       "\n",
       "    .dataframe tbody tr th {\n",
       "        vertical-align: top;\n",
       "    }\n",
       "\n",
       "    .dataframe thead th {\n",
       "        text-align: right;\n",
       "    }\n",
       "</style>\n",
       "<table border=\"1\" class=\"dataframe\">\n",
       "  <thead>\n",
       "    <tr style=\"text-align: right;\">\n",
       "      <th></th>\n",
       "      <th>tweet_full_text</th>\n",
       "      <th>tweet_created_at</th>\n",
       "      <th>tweet_id</th>\n",
       "      <th>tweet_username</th>\n",
       "      <th>tweet_user_screename</th>\n",
       "      <th>tweet_userid_str</th>\n",
       "      <th>tweet_user_location</th>\n",
       "      <th>tweet_user_url</th>\n",
       "      <th>tweet_user_description</th>\n",
       "      <th>tweet_user_verified</th>\n",
       "      <th>...</th>\n",
       "      <th>tweet_user_friends_count</th>\n",
       "      <th>tweet_user_favorites_count</th>\n",
       "      <th>tweet_user_statuses_count</th>\n",
       "      <th>tweet_user_listed_count</th>\n",
       "      <th>tweet_user_created_at</th>\n",
       "      <th>user_profile_image_url</th>\n",
       "      <th>user_default_profile</th>\n",
       "      <th>user_default_profile_image</th>\n",
       "      <th>tweet_retweet_count</th>\n",
       "      <th>tweet_favorite_count</th>\n",
       "    </tr>\n",
       "  </thead>\n",
       "  <tbody>\n",
       "    <tr>\n",
       "      <th>0</th>\n",
       "      <td>Really want a fez / Lexi parallel scene to whe...</td>\n",
       "      <td>2022-01-23 23:59:50</td>\n",
       "      <td>1.485402e+18</td>\n",
       "      <td>Katy</td>\n",
       "      <td>katykitty628</td>\n",
       "      <td>1.471191e+18</td>\n",
       "      <td>NaN</td>\n",
       "      <td>NaN</td>\n",
       "      <td>just a girl in a man's world 😌.               ...</td>\n",
       "      <td>False</td>\n",
       "      <td>...</td>\n",
       "      <td>82.0</td>\n",
       "      <td>556.0</td>\n",
       "      <td>113.0</td>\n",
       "      <td>0.0</td>\n",
       "      <td>2021-12-15 18:51:50</td>\n",
       "      <td>https://pbs.twimg.com/profile_images/147119180...</td>\n",
       "      <td>True</td>\n",
       "      <td>False</td>\n",
       "      <td>0.0</td>\n",
       "      <td>0.0</td>\n",
       "    </tr>\n",
       "    <tr>\n",
       "      <th>1</th>\n",
       "      <td>#Euphoria I hope Maddy pulls the hair out that...</td>\n",
       "      <td>2022-01-23 23:59:33</td>\n",
       "      <td>1.485402e+18</td>\n",
       "      <td>𝐕𝐢𝐫𝐠𝐞𝐚𝐮𝐱</td>\n",
       "      <td>_njauu</td>\n",
       "      <td>9.510643e+17</td>\n",
       "      <td>here</td>\n",
       "      <td>NaN</td>\n",
       "      <td>you're in my business, don't do that.</td>\n",
       "      <td>False</td>\n",
       "      <td>...</td>\n",
       "      <td>221.0</td>\n",
       "      <td>155447.0</td>\n",
       "      <td>45787.0</td>\n",
       "      <td>1.0</td>\n",
       "      <td>2018-01-10 12:12:53</td>\n",
       "      <td>https://pbs.twimg.com/profile_images/147736305...</td>\n",
       "      <td>True</td>\n",
       "      <td>False</td>\n",
       "      <td>0.0</td>\n",
       "      <td>0.0</td>\n",
       "    </tr>\n",
       "    <tr>\n",
       "      <th>2</th>\n",
       "      <td>Between #AndJustLikeThat and #Euphoria @HBO is...</td>\n",
       "      <td>2022-01-23 23:59:04</td>\n",
       "      <td>1.485402e+18</td>\n",
       "      <td>Steph Swinton</td>\n",
       "      <td>StephSwinton</td>\n",
       "      <td>2.390617e+07</td>\n",
       "      <td>New York</td>\n",
       "      <td>NaN</td>\n",
       "      <td>Just a girl from the city.\\nalt Twitter: TheAr...</td>\n",
       "      <td>False</td>\n",
       "      <td>...</td>\n",
       "      <td>729.0</td>\n",
       "      <td>32677.0</td>\n",
       "      <td>28747.0</td>\n",
       "      <td>5.0</td>\n",
       "      <td>2009-03-12 05:32:39</td>\n",
       "      <td>https://pbs.twimg.com/profile_images/950198226...</td>\n",
       "      <td>False</td>\n",
       "      <td>False</td>\n",
       "      <td>0.0</td>\n",
       "      <td>2.0</td>\n",
       "    </tr>\n",
       "    <tr>\n",
       "      <th>3</th>\n",
       "      <td>its #Euphoria  day!!!!</td>\n",
       "      <td>2022-01-23 23:59:04</td>\n",
       "      <td>1.485402e+18</td>\n",
       "      <td>felic-titty</td>\n",
       "      <td>lilbootybbg</td>\n",
       "      <td>1.173761e+18</td>\n",
       "      <td>in therapy</td>\n",
       "      <td>NaN</td>\n",
       "      <td>she/her 21 :)</td>\n",
       "      <td>False</td>\n",
       "      <td>...</td>\n",
       "      <td>145.0</td>\n",
       "      <td>42553.0</td>\n",
       "      <td>3027.0</td>\n",
       "      <td>0.0</td>\n",
       "      <td>2019-09-17 00:52:26</td>\n",
       "      <td>https://pbs.twimg.com/profile_images/145893433...</td>\n",
       "      <td>True</td>\n",
       "      <td>False</td>\n",
       "      <td>0.0</td>\n",
       "      <td>2.0</td>\n",
       "    </tr>\n",
       "    <tr>\n",
       "      <th>4</th>\n",
       "      <td>YESSSIR DOING A QUICK STREAM BEFOE TONIGHT'S #...</td>\n",
       "      <td>2022-01-23 23:58:56</td>\n",
       "      <td>1.485402e+18</td>\n",
       "      <td>Chris RossVlogs</td>\n",
       "      <td>ChrisRossvlogs</td>\n",
       "      <td>1.347083e+18</td>\n",
       "      <td>Mr. Hollywood</td>\n",
       "      <td>https://t.co/3xdQXI2Zv8</td>\n",
       "      <td>Actor/Director, &amp; Youtuber Use code “ChrisRoss...</td>\n",
       "      <td>False</td>\n",
       "      <td>...</td>\n",
       "      <td>276.0</td>\n",
       "      <td>4211.0</td>\n",
       "      <td>4099.0</td>\n",
       "      <td>1.0</td>\n",
       "      <td>2021-01-07 07:32:01</td>\n",
       "      <td>https://pbs.twimg.com/profile_images/141594587...</td>\n",
       "      <td>True</td>\n",
       "      <td>False</td>\n",
       "      <td>1.0</td>\n",
       "      <td>3.0</td>\n",
       "    </tr>\n",
       "  </tbody>\n",
       "</table>\n",
       "<p>5 rows × 21 columns</p>\n",
       "</div>"
      ],
      "text/plain": [
       "                                     tweet_full_text     tweet_created_at  \\\n",
       "0  Really want a fez / Lexi parallel scene to whe...  2022-01-23 23:59:50   \n",
       "1  #Euphoria I hope Maddy pulls the hair out that...  2022-01-23 23:59:33   \n",
       "2  Between #AndJustLikeThat and #Euphoria @HBO is...  2022-01-23 23:59:04   \n",
       "3                             its #Euphoria  day!!!!  2022-01-23 23:59:04   \n",
       "4  YESSSIR DOING A QUICK STREAM BEFOE TONIGHT'S #...  2022-01-23 23:58:56   \n",
       "\n",
       "       tweet_id   tweet_username tweet_user_screename  tweet_userid_str  \\\n",
       "0  1.485402e+18             Katy         katykitty628      1.471191e+18   \n",
       "1  1.485402e+18         𝐕𝐢𝐫𝐠𝐞𝐚𝐮𝐱               _njauu      9.510643e+17   \n",
       "2  1.485402e+18    Steph Swinton         StephSwinton      2.390617e+07   \n",
       "3  1.485402e+18      felic-titty          lilbootybbg      1.173761e+18   \n",
       "4  1.485402e+18  Chris RossVlogs       ChrisRossvlogs      1.347083e+18   \n",
       "\n",
       "  tweet_user_location           tweet_user_url  \\\n",
       "0                 NaN                      NaN   \n",
       "1                here                      NaN   \n",
       "2            New York                      NaN   \n",
       "3         in therapy                       NaN   \n",
       "4      Mr. Hollywood   https://t.co/3xdQXI2Zv8   \n",
       "\n",
       "                              tweet_user_description tweet_user_verified  ...  \\\n",
       "0  just a girl in a man's world 😌.               ...               False  ...   \n",
       "1              you're in my business, don't do that.               False  ...   \n",
       "2  Just a girl from the city.\\nalt Twitter: TheAr...               False  ...   \n",
       "3                                      she/her 21 :)               False  ...   \n",
       "4  Actor/Director, & Youtuber Use code “ChrisRoss...               False  ...   \n",
       "\n",
       "   tweet_user_friends_count  tweet_user_favorites_count  \\\n",
       "0                      82.0                       556.0   \n",
       "1                     221.0                    155447.0   \n",
       "2                     729.0                     32677.0   \n",
       "3                     145.0                     42553.0   \n",
       "4                     276.0                      4211.0   \n",
       "\n",
       "   tweet_user_statuses_count  tweet_user_listed_count  tweet_user_created_at  \\\n",
       "0                      113.0                      0.0    2021-12-15 18:51:50   \n",
       "1                    45787.0                      1.0    2018-01-10 12:12:53   \n",
       "2                    28747.0                      5.0    2009-03-12 05:32:39   \n",
       "3                     3027.0                      0.0    2019-09-17 00:52:26   \n",
       "4                     4099.0                      1.0    2021-01-07 07:32:01   \n",
       "\n",
       "                              user_profile_image_url user_default_profile  \\\n",
       "0  https://pbs.twimg.com/profile_images/147119180...                 True   \n",
       "1  https://pbs.twimg.com/profile_images/147736305...                 True   \n",
       "2  https://pbs.twimg.com/profile_images/950198226...                False   \n",
       "3  https://pbs.twimg.com/profile_images/145893433...                 True   \n",
       "4  https://pbs.twimg.com/profile_images/141594587...                 True   \n",
       "\n",
       "  user_default_profile_image tweet_retweet_count  tweet_favorite_count  \n",
       "0                      False                 0.0                   0.0  \n",
       "1                      False                 0.0                   0.0  \n",
       "2                      False                 0.0                   2.0  \n",
       "3                      False                 0.0                   2.0  \n",
       "4                      False                 1.0                   3.0  \n",
       "\n",
       "[5 rows x 21 columns]"
      ]
     },
     "execution_count": 6,
     "metadata": {},
     "output_type": "execute_result"
    }
   ],
   "source": [
    "tweets_df.head()"
   ]
  },
  {
   "cell_type": "code",
   "execution_count": 7,
   "id": "56d1137f",
   "metadata": {
    "ExecuteTime": {
     "end_time": "2022-08-21T04:34:13.769317Z",
     "start_time": "2022-08-21T04:34:13.756710Z"
    }
   },
   "outputs": [
    {
     "data": {
      "text/plain": [
       "(236640, 21)"
      ]
     },
     "execution_count": 7,
     "metadata": {},
     "output_type": "execute_result"
    }
   ],
   "source": [
    "tweets_df.shape"
   ]
  },
  {
   "cell_type": "code",
   "execution_count": 8,
   "id": "f99198b4",
   "metadata": {
    "ExecuteTime": {
     "end_time": "2022-08-21T04:35:42.403677Z",
     "start_time": "2022-08-21T04:35:42.388025Z"
    }
   },
   "outputs": [
    {
     "data": {
      "text/plain": [
       "tweet_full_text                object\n",
       "tweet_created_at               object\n",
       "tweet_id                      float64\n",
       "tweet_username                 object\n",
       "tweet_user_screename           object\n",
       "tweet_userid_str              float64\n",
       "tweet_user_location            object\n",
       "tweet_user_url                 object\n",
       "tweet_user_description         object\n",
       "tweet_user_verified            object\n",
       "tweet_user_followers_count    float64\n",
       "tweet_user_friends_count      float64\n",
       "tweet_user_favorites_count    float64\n",
       "tweet_user_statuses_count     float64\n",
       "tweet_user_listed_count       float64\n",
       "tweet_user_created_at          object\n",
       "user_profile_image_url         object\n",
       "user_default_profile           object\n",
       "user_default_profile_image     object\n",
       "tweet_retweet_count           float64\n",
       "tweet_favorite_count          float64\n",
       "dtype: object"
      ]
     },
     "execution_count": 8,
     "metadata": {},
     "output_type": "execute_result"
    }
   ],
   "source": [
    "tweets_df.dtypes"
   ]
  },
  {
   "cell_type": "code",
   "execution_count": null,
   "id": "db2dcd7c",
   "metadata": {},
   "outputs": [],
   "source": [
    "tweets_df = tweet_df.drop(columns = [])"
   ]
  },
  {
   "cell_type": "code",
   "execution_count": null,
   "id": "c2c3e31d",
   "metadata": {},
   "outputs": [],
   "source": []
  },
  {
   "cell_type": "code",
   "execution_count": null,
   "id": "9e89f529",
   "metadata": {},
   "outputs": [],
   "source": []
  },
  {
   "cell_type": "code",
   "execution_count": null,
   "id": "05755c09",
   "metadata": {},
   "outputs": [],
   "source": []
  },
  {
   "cell_type": "code",
   "execution_count": null,
   "id": "c59782b1",
   "metadata": {},
   "outputs": [],
   "source": []
  },
  {
   "cell_type": "code",
   "execution_count": null,
   "id": "f6934a77",
   "metadata": {},
   "outputs": [],
   "source": []
  },
  {
   "cell_type": "code",
   "execution_count": 9,
   "id": "8a36d7fa",
   "metadata": {
    "ExecuteTime": {
     "end_time": "2022-08-21T04:35:47.571881Z",
     "start_time": "2022-08-21T04:35:47.520656Z"
    }
   },
   "outputs": [
    {
     "data": {
      "text/plain": [
       "49933"
      ]
     },
     "execution_count": 9,
     "metadata": {},
     "output_type": "execute_result"
    }
   ],
   "source": [
    "tweets_df.duplicated(subset='tweet_id').sum() # Check for duplicate values"
   ]
  },
  {
   "cell_type": "code",
   "execution_count": 15,
   "id": "500d2df3",
   "metadata": {
    "ExecuteTime": {
     "end_time": "2022-08-21T04:36:24.102053Z",
     "start_time": "2022-08-21T04:36:24.051858Z"
    }
   },
   "outputs": [],
   "source": [
    "duplicate = tweets_df[tweets_df.duplicated(subset='tweet_id')]"
   ]
  },
  {
   "cell_type": "code",
   "execution_count": 16,
   "id": "b5e034e9",
   "metadata": {
    "ExecuteTime": {
     "end_time": "2022-08-21T04:36:24.715142Z",
     "start_time": "2022-08-21T04:36:24.678150Z"
    }
   },
   "outputs": [
    {
     "name": "stdout",
     "output_type": "stream",
     "text": [
      "Duplicate Rows :\n"
     ]
    },
    {
     "data": {
      "text/html": [
       "<div>\n",
       "<style scoped>\n",
       "    .dataframe tbody tr th:only-of-type {\n",
       "        vertical-align: middle;\n",
       "    }\n",
       "\n",
       "    .dataframe tbody tr th {\n",
       "        vertical-align: top;\n",
       "    }\n",
       "\n",
       "    .dataframe thead th {\n",
       "        text-align: right;\n",
       "    }\n",
       "</style>\n",
       "<table border=\"1\" class=\"dataframe\">\n",
       "  <thead>\n",
       "    <tr style=\"text-align: right;\">\n",
       "      <th></th>\n",
       "      <th>tweet_full_text</th>\n",
       "      <th>tweet_created_at</th>\n",
       "      <th>tweet_id</th>\n",
       "      <th>tweet_username</th>\n",
       "      <th>tweet_user_screename</th>\n",
       "      <th>tweet_userid_str</th>\n",
       "      <th>tweet_user_location</th>\n",
       "      <th>tweet_user_url</th>\n",
       "      <th>tweet_user_description</th>\n",
       "      <th>tweet_user_verified</th>\n",
       "      <th>...</th>\n",
       "      <th>tweet_user_friends_count</th>\n",
       "      <th>tweet_user_favorites_count</th>\n",
       "      <th>tweet_user_statuses_count</th>\n",
       "      <th>tweet_user_listed_count</th>\n",
       "      <th>tweet_user_created_at</th>\n",
       "      <th>user_profile_image_url</th>\n",
       "      <th>user_default_profile</th>\n",
       "      <th>user_default_profile_image</th>\n",
       "      <th>tweet_retweet_count</th>\n",
       "      <th>tweet_favorite_count</th>\n",
       "    </tr>\n",
       "  </thead>\n",
       "  <tbody>\n",
       "    <tr>\n",
       "      <th>1</th>\n",
       "      <td>When are we getting her backstory? #Euphoria h...</td>\n",
       "      <td>18/01/2022 23:59</td>\n",
       "      <td>1.483590e+18</td>\n",
       "      <td>pingüino stan</td>\n",
       "      <td>spacetono</td>\n",
       "      <td>1.031210e+18</td>\n",
       "      <td>he/they</td>\n",
       "      <td>NaN</td>\n",
       "      <td>published author, film star, director, student...</td>\n",
       "      <td>False</td>\n",
       "      <td>...</td>\n",
       "      <td>296.0</td>\n",
       "      <td>94208.0</td>\n",
       "      <td>1051.0</td>\n",
       "      <td>0.0</td>\n",
       "      <td>19/08/2018 15:49</td>\n",
       "      <td>https://pbs.twimg.com/profile_images/148357692...</td>\n",
       "      <td>True</td>\n",
       "      <td>False</td>\n",
       "      <td>0.0</td>\n",
       "      <td>5.0</td>\n",
       "    </tr>\n",
       "    <tr>\n",
       "      <th>2</th>\n",
       "      <td>Y’all ain’t tell me Lil Meech was on #Euphoria...</td>\n",
       "      <td>18/01/2022 23:57</td>\n",
       "      <td>1.483590e+18</td>\n",
       "      <td>what you see is what you get 🤷🏾‍♀️</td>\n",
       "      <td>CenSchutt</td>\n",
       "      <td>5.914994e+07</td>\n",
       "      <td>Miami, FL</td>\n",
       "      <td>NaN</td>\n",
       "      <td>1920 🕊 | IG: @Cen.Schutt 🇭🇹| Paralegal Bae 👩🏾‍...</td>\n",
       "      <td>False</td>\n",
       "      <td>...</td>\n",
       "      <td>389.0</td>\n",
       "      <td>3929.0</td>\n",
       "      <td>34843.0</td>\n",
       "      <td>1.0</td>\n",
       "      <td>22/07/2009 15:10</td>\n",
       "      <td>https://pbs.twimg.com/profile_images/148005706...</td>\n",
       "      <td>False</td>\n",
       "      <td>False</td>\n",
       "      <td>0.0</td>\n",
       "      <td>0.0</td>\n",
       "    </tr>\n",
       "    <tr>\n",
       "      <th>3</th>\n",
       "      <td>I think @sydney_sweeney is one of the most bea...</td>\n",
       "      <td>18/01/2022 23:57</td>\n",
       "      <td>1.483590e+18</td>\n",
       "      <td>danielle</td>\n",
       "      <td>dac1971</td>\n",
       "      <td>7.117740e+07</td>\n",
       "      <td>NaN</td>\n",
       "      <td>https://t.co/RZJ1yyGKiT</td>\n",
       "      <td>https://t.co/FKOSlKk1w6</td>\n",
       "      <td>False</td>\n",
       "      <td>...</td>\n",
       "      <td>97.0</td>\n",
       "      <td>41711.0</td>\n",
       "      <td>61967.0</td>\n",
       "      <td>45.0</td>\n",
       "      <td>03/09/2009 05:03</td>\n",
       "      <td>https://pbs.twimg.com/profile_images/148238200...</td>\n",
       "      <td>False</td>\n",
       "      <td>False</td>\n",
       "      <td>0.0</td>\n",
       "      <td>2.0</td>\n",
       "    </tr>\n",
       "    <tr>\n",
       "      <th>4</th>\n",
       "      <td>We’re watching Ethan’s villain origin before o...</td>\n",
       "      <td>18/01/2022 23:56</td>\n",
       "      <td>1.483590e+18</td>\n",
       "      <td>keturah 🪐</td>\n",
       "      <td>KeturahTheGreat</td>\n",
       "      <td>3.071322e+08</td>\n",
       "      <td>901|615</td>\n",
       "      <td>NaN</td>\n",
       "      <td>Living with ease. 🤍🕯 She/her. INFJ-T.</td>\n",
       "      <td>False</td>\n",
       "      <td>...</td>\n",
       "      <td>1612.0</td>\n",
       "      <td>217856.0</td>\n",
       "      <td>108262.0</td>\n",
       "      <td>8.0</td>\n",
       "      <td>29/05/2011 02:46</td>\n",
       "      <td>https://pbs.twimg.com/profile_images/146354440...</td>\n",
       "      <td>False</td>\n",
       "      <td>False</td>\n",
       "      <td>0.0</td>\n",
       "      <td>7.0</td>\n",
       "    </tr>\n",
       "    <tr>\n",
       "      <th>5</th>\n",
       "      <td>lana gonna eat on the #Euphoria song https://t...</td>\n",
       "      <td>18/01/2022 23:56</td>\n",
       "      <td>1.483590e+18</td>\n",
       "      <td>brady</td>\n",
       "      <td>1989DEFAULT</td>\n",
       "      <td>1.230300e+18</td>\n",
       "      <td>honeymoon</td>\n",
       "      <td>NaN</td>\n",
       "      <td>fan account</td>\n",
       "      <td>False</td>\n",
       "      <td>...</td>\n",
       "      <td>1326.0</td>\n",
       "      <td>7835.0</td>\n",
       "      <td>11171.0</td>\n",
       "      <td>3.0</td>\n",
       "      <td>20/02/2020 01:33</td>\n",
       "      <td>https://pbs.twimg.com/profile_images/148359064...</td>\n",
       "      <td>True</td>\n",
       "      <td>False</td>\n",
       "      <td>0.0</td>\n",
       "      <td>1.0</td>\n",
       "    </tr>\n",
       "  </tbody>\n",
       "</table>\n",
       "<p>5 rows × 21 columns</p>\n",
       "</div>"
      ],
      "text/plain": [
       "                                     tweet_full_text  tweet_created_at  \\\n",
       "1  When are we getting her backstory? #Euphoria h...  18/01/2022 23:59   \n",
       "2  Y’all ain’t tell me Lil Meech was on #Euphoria...  18/01/2022 23:57   \n",
       "3  I think @sydney_sweeney is one of the most bea...  18/01/2022 23:57   \n",
       "4  We’re watching Ethan’s villain origin before o...  18/01/2022 23:56   \n",
       "5  lana gonna eat on the #Euphoria song https://t...  18/01/2022 23:56   \n",
       "\n",
       "       tweet_id                      tweet_username tweet_user_screename  \\\n",
       "1  1.483590e+18                       pingüino stan            spacetono   \n",
       "2  1.483590e+18  what you see is what you get 🤷🏾‍♀️            CenSchutt   \n",
       "3  1.483590e+18                            danielle              dac1971   \n",
       "4  1.483590e+18                           keturah 🪐      KeturahTheGreat   \n",
       "5  1.483590e+18                               brady          1989DEFAULT   \n",
       "\n",
       "   tweet_userid_str tweet_user_location           tweet_user_url  \\\n",
       "1      1.031210e+18             he/they                      NaN   \n",
       "2      5.914994e+07           Miami, FL                      NaN   \n",
       "3      7.117740e+07                 NaN  https://t.co/RZJ1yyGKiT   \n",
       "4      3.071322e+08             901|615                      NaN   \n",
       "5      1.230300e+18           honeymoon                      NaN   \n",
       "\n",
       "                              tweet_user_description tweet_user_verified  ...  \\\n",
       "1  published author, film star, director, student...               False  ...   \n",
       "2  1920 🕊 | IG: @Cen.Schutt 🇭🇹| Paralegal Bae 👩🏾‍...               False  ...   \n",
       "3                            https://t.co/FKOSlKk1w6               False  ...   \n",
       "4              Living with ease. 🤍🕯 She/her. INFJ-T.               False  ...   \n",
       "5                                        fan account               False  ...   \n",
       "\n",
       "   tweet_user_friends_count  tweet_user_favorites_count  \\\n",
       "1                     296.0                     94208.0   \n",
       "2                     389.0                      3929.0   \n",
       "3                      97.0                     41711.0   \n",
       "4                    1612.0                    217856.0   \n",
       "5                    1326.0                      7835.0   \n",
       "\n",
       "   tweet_user_statuses_count  tweet_user_listed_count  tweet_user_created_at  \\\n",
       "1                     1051.0                      0.0       19/08/2018 15:49   \n",
       "2                    34843.0                      1.0       22/07/2009 15:10   \n",
       "3                    61967.0                     45.0       03/09/2009 05:03   \n",
       "4                   108262.0                      8.0       29/05/2011 02:46   \n",
       "5                    11171.0                      3.0       20/02/2020 01:33   \n",
       "\n",
       "                              user_profile_image_url user_default_profile  \\\n",
       "1  https://pbs.twimg.com/profile_images/148357692...                 True   \n",
       "2  https://pbs.twimg.com/profile_images/148005706...                False   \n",
       "3  https://pbs.twimg.com/profile_images/148238200...                False   \n",
       "4  https://pbs.twimg.com/profile_images/146354440...                False   \n",
       "5  https://pbs.twimg.com/profile_images/148359064...                 True   \n",
       "\n",
       "  user_default_profile_image tweet_retweet_count  tweet_favorite_count  \n",
       "1                      False                 0.0                   5.0  \n",
       "2                      False                 0.0                   0.0  \n",
       "3                      False                 0.0                   2.0  \n",
       "4                      False                 0.0                   7.0  \n",
       "5                      False                 0.0                   1.0  \n",
       "\n",
       "[5 rows x 21 columns]"
      ]
     },
     "execution_count": 16,
     "metadata": {},
     "output_type": "execute_result"
    }
   ],
   "source": [
    "print(\"Duplicate Rows :\")\n",
    "duplicate.head()"
   ]
  },
  {
   "cell_type": "code",
   "execution_count": 17,
   "id": "135a68da",
   "metadata": {
    "ExecuteTime": {
     "end_time": "2022-08-21T04:38:54.720314Z",
     "start_time": "2022-08-21T04:38:54.631936Z"
    }
   },
   "outputs": [],
   "source": [
    "tweets_df=tweets_df.drop_duplicates(subset=['tweet_id']) # drop duplicate values\n"
   ]
  },
  {
   "cell_type": "code",
   "execution_count": 18,
   "id": "7e303f35",
   "metadata": {
    "ExecuteTime": {
     "end_time": "2022-08-21T04:39:02.389652Z",
     "start_time": "2022-08-21T04:39:02.370994Z"
    }
   },
   "outputs": [
    {
     "data": {
      "text/plain": [
       "(186707, 21)"
      ]
     },
     "execution_count": 18,
     "metadata": {},
     "output_type": "execute_result"
    }
   ],
   "source": [
    "tweets_df.shape"
   ]
  },
  {
   "cell_type": "markdown",
   "id": "1e84d117",
   "metadata": {},
   "source": [
    "While I don't want to drop any columns just yet, I do have a list of columns with very important info:\n",
    "- `tweet_full_text`\n",
    "- `tweet_created_at`\n",
    "- `tweet_id`\n",
    "- `tweet_user_location`\n",
    "- `tweet_user_screename`\n",
    "- `tweet_retweet_count`\n",
    "- `tweet_favorite_count`"
   ]
  },
  {
   "cell_type": "code",
   "execution_count": 34,
   "id": "32cc7927",
   "metadata": {
    "ExecuteTime": {
     "end_time": "2022-08-21T04:49:06.746077Z",
     "start_time": "2022-08-21T04:49:06.620293Z"
    }
   },
   "outputs": [
    {
     "data": {
      "text/plain": [
       "tweet_full_text                    0\n",
       "tweet_created_at                   0\n",
       "tweet_id                           0\n",
       "tweet_username                     9\n",
       "tweet_user_screename               0\n",
       "tweet_userid_str                   0\n",
       "tweet_user_location            62051\n",
       "tweet_user_url                123593\n",
       "tweet_user_description         17706\n",
       "tweet_user_verified                2\n",
       "tweet_user_followers_count         2\n",
       "tweet_user_friends_count           2\n",
       "tweet_user_favorites_count         5\n",
       "tweet_user_statuses_count          5\n",
       "tweet_user_listed_count            5\n",
       "tweet_user_created_at              5\n",
       "user_profile_image_url             7\n",
       "user_default_profile               5\n",
       "user_default_profile_image         5\n",
       "tweet_retweet_count                5\n",
       "tweet_favorite_count               5\n",
       "dtype: int64"
      ]
     },
     "execution_count": 34,
     "metadata": {},
     "output_type": "execute_result"
    }
   ],
   "source": [
    "# Check for NaN values\n",
    "tweets_df.isna().sum()"
   ]
  },
  {
   "cell_type": "code",
   "execution_count": 35,
   "id": "0a62c3e3",
   "metadata": {
    "ExecuteTime": {
     "end_time": "2022-08-21T04:49:26.525786Z",
     "start_time": "2022-08-21T04:49:26.418511Z"
    }
   },
   "outputs": [
    {
     "data": {
      "text/plain": [
       "tweet_full_text                    0\n",
       "tweet_created_at                   0\n",
       "tweet_id                           0\n",
       "tweet_username                     9\n",
       "tweet_user_screename               0\n",
       "tweet_userid_str                   0\n",
       "tweet_user_location            62051\n",
       "tweet_user_url                123593\n",
       "tweet_user_description         17706\n",
       "tweet_user_verified                2\n",
       "tweet_user_followers_count         2\n",
       "tweet_user_friends_count           2\n",
       "tweet_user_favorites_count         5\n",
       "tweet_user_statuses_count          5\n",
       "tweet_user_listed_count            5\n",
       "tweet_user_created_at              5\n",
       "user_profile_image_url             7\n",
       "user_default_profile               5\n",
       "user_default_profile_image         5\n",
       "tweet_retweet_count                5\n",
       "tweet_favorite_count               5\n",
       "dtype: int64"
      ]
     },
     "execution_count": 35,
     "metadata": {},
     "output_type": "execute_result"
    }
   ],
   "source": [
    "tweets_df.isnull().sum()"
   ]
  },
  {
   "cell_type": "code",
   "execution_count": 36,
   "id": "d3bbfa4c",
   "metadata": {
    "ExecuteTime": {
     "end_time": "2022-08-21T04:51:01.919715Z",
     "start_time": "2022-08-21T04:51:01.842040Z"
    }
   },
   "outputs": [],
   "source": [
    "# Drop user url and user description columns \n",
    "tweets_df = tweets_df.drop(columns = ['tweet_user_url', 'tweet_user_description'])"
   ]
  },
  {
   "cell_type": "code",
   "execution_count": 39,
   "id": "6be8e8fb",
   "metadata": {
    "ExecuteTime": {
     "end_time": "2022-08-21T04:52:26.306012Z",
     "start_time": "2022-08-21T04:52:26.264048Z"
    }
   },
   "outputs": [],
   "source": [
    "# Replace the NaN values in the location column with 'No Location'\n",
    "tweets_df['tweet_user_location'] = tweets_df['tweet_user_location'].fillna('No Location')"
   ]
  },
  {
   "cell_type": "code",
   "execution_count": 52,
   "id": "6bc638ad",
   "metadata": {
    "ExecuteTime": {
     "end_time": "2022-08-21T04:56:15.870399Z",
     "start_time": "2022-08-21T04:56:15.769433Z"
    }
   },
   "outputs": [
    {
     "data": {
      "text/plain": [
       "tweet_full_text               0\n",
       "tweet_created_at              0\n",
       "tweet_id                      0\n",
       "tweet_username                9\n",
       "tweet_user_screename          0\n",
       "tweet_userid_str              0\n",
       "tweet_user_location           0\n",
       "tweet_user_verified           2\n",
       "tweet_user_followers_count    2\n",
       "tweet_user_friends_count      2\n",
       "tweet_user_favorites_count    5\n",
       "tweet_user_statuses_count     5\n",
       "tweet_user_listed_count       5\n",
       "tweet_user_created_at         5\n",
       "user_profile_image_url        7\n",
       "user_default_profile          5\n",
       "user_default_profile_image    5\n",
       "tweet_retweet_count           5\n",
       "tweet_favorite_count          5\n",
       "dtype: int64"
      ]
     },
     "execution_count": 52,
     "metadata": {},
     "output_type": "execute_result"
    }
   ],
   "source": [
    "tweets_df.isnull().sum()"
   ]
  },
  {
   "cell_type": "code",
   "execution_count": 53,
   "id": "db64869e",
   "metadata": {
    "ExecuteTime": {
     "end_time": "2022-08-21T04:57:10.050922Z",
     "start_time": "2022-08-21T04:57:09.929170Z"
    }
   },
   "outputs": [],
   "source": [
    "tweets_df = tweets_df.dropna()"
   ]
  },
  {
   "cell_type": "code",
   "execution_count": 54,
   "id": "2f3416d2",
   "metadata": {
    "ExecuteTime": {
     "end_time": "2022-08-21T04:57:13.778858Z",
     "start_time": "2022-08-21T04:57:13.765628Z"
    }
   },
   "outputs": [
    {
     "data": {
      "text/plain": [
       "(186693, 19)"
      ]
     },
     "execution_count": 54,
     "metadata": {},
     "output_type": "execute_result"
    }
   ],
   "source": [
    "tweets_df.shape"
   ]
  },
  {
   "cell_type": "code",
   "execution_count": 55,
   "id": "f5bac76a",
   "metadata": {
    "ExecuteTime": {
     "end_time": "2022-08-21T05:52:16.695816Z",
     "start_time": "2022-08-21T05:52:16.493766Z"
    }
   },
   "outputs": [],
   "source": [
    "import requests"
   ]
  },
  {
   "cell_type": "code",
   "execution_count": 91,
   "id": "c3e4cab1",
   "metadata": {
    "ExecuteTime": {
     "end_time": "2022-08-21T06:24:31.045924Z",
     "start_time": "2022-08-21T06:24:31.038090Z"
    }
   },
   "outputs": [],
   "source": [
    "geo_url = \"https://geocode.search.hereapi.com/v1/geocode\"\n",
    "api_key = \"nFMufDOPF6pBdYPgtvywIGDp0t3I4A8iDptFekcr2v4\""
   ]
  },
  {
   "cell_type": "code",
   "execution_count": 58,
   "id": "e11f0fb1",
   "metadata": {
    "ExecuteTime": {
     "end_time": "2022-08-21T05:54:10.838011Z",
     "start_time": "2022-08-21T05:54:10.532958Z"
    }
   },
   "outputs": [],
   "source": [
    "response = requests.get(url, params)"
   ]
  },
  {
   "cell_type": "code",
   "execution_count": 63,
   "id": "ba6859fa",
   "metadata": {
    "ExecuteTime": {
     "end_time": "2022-08-21T06:05:09.031090Z",
     "start_time": "2022-08-21T06:05:09.021581Z"
    }
   },
   "outputs": [],
   "source": [
    "test_list = []"
   ]
  },
  {
   "cell_type": "code",
   "execution_count": 86,
   "id": "b287903b",
   "metadata": {
    "ExecuteTime": {
     "end_time": "2022-08-21T06:19:53.522472Z",
     "start_time": "2022-08-21T06:19:53.506816Z"
    }
   },
   "outputs": [
    {
     "name": "stdout",
     "output_type": "stream",
     "text": [
      "{'items': [{'title': 'Accra, Ghana', 'id': 'here:cm:namedplace:23881307', 'resultType': 'locality', 'localityType': 'city', 'address': {'label': 'Accra, Ghana', 'countryCode': 'GHA', 'countryName': 'Ghana', 'county': 'Greater Accra', 'city': 'Accra'}, 'position': {'lat': 5.57888, 'lng': -0.23261}, 'mapView': {'west': -0.2829, 'south': 5.51744, 'east': -0.13331, 'north': 5.66631}, 'scoring': {'queryScore': 1.0, 'fieldScore': {'city': 1.0}}}]}\n",
      "Ghana\n"
     ]
    }
   ],
   "source": [
    "if response.status_code == 200:\n",
    "    print(response.json())\n",
    "    test = response.json()\n",
    "    print(response.json()['items'][0]['address']['countryName'])\n",
    "else:\n",
    "    print(\"Error\", status_code)"
   ]
  },
  {
   "cell_type": "markdown",
   "id": "4cf5d47c",
   "metadata": {},
   "source": [
    "Create a function that prints and saves the reponse text for all values in the location column, extract the countrycode, countryname, and position from the response text"
   ]
  },
  {
   "cell_type": "code",
   "execution_count": 62,
   "id": "523c3859",
   "metadata": {
    "ExecuteTime": {
     "end_time": "2022-08-21T06:04:33.057727Z",
     "start_time": "2022-08-21T06:04:33.044831Z"
    }
   },
   "outputs": [],
   "source": [
    "import json"
   ]
  },
  {
   "cell_type": "code",
   "execution_count": 97,
   "id": "6e499588",
   "metadata": {
    "ExecuteTime": {
     "end_time": "2022-08-21T06:40:24.522112Z",
     "start_time": "2022-08-21T06:40:24.500870Z"
    }
   },
   "outputs": [],
   "source": [
    "def getGeneralLocationData(location):\n",
    "    geo_params = {\"q\": location  , \"apiKey\": api_key }\n",
    "    \n",
    "    response = requests.get(url = geo_url, params = geo_params)\n",
    "    \n",
    "    location_data = response.json()\n",
    "    \n",
    "    return location_data\n",
    "  \n",
    "\n",
    "        "
   ]
  },
  {
   "cell_type": "code",
   "execution_count": 98,
   "id": "4fa025a3",
   "metadata": {
    "ExecuteTime": {
     "end_time": "2022-08-21T12:45:53.113437Z",
     "start_time": "2022-08-21T06:40:25.320228Z"
    }
   },
   "outputs": [],
   "source": [
    "tweets_df['general_location_data'] = tweets_df['tweet_user_location'].apply(getGeneralLocationData)"
   ]
  },
  {
   "cell_type": "code",
   "execution_count": 106,
   "id": "7fbd8dfc",
   "metadata": {
    "ExecuteTime": {
     "end_time": "2022-08-22T01:40:50.322525Z",
     "start_time": "2022-08-22T01:40:50.312922Z"
    }
   },
   "outputs": [],
   "source": [
    "pd.set_option('display.max_columns', None)\n",
    "pd.set_option('display.max_rows', None)\n",
    "pd.set_option('display.max_colwidth', None)\n"
   ]
  },
  {
   "cell_type": "code",
   "execution_count": 109,
   "id": "bf7bbba4",
   "metadata": {
    "ExecuteTime": {
     "end_time": "2022-08-22T02:06:30.224544Z",
     "start_time": "2022-08-22T02:06:29.343767Z"
    }
   },
   "outputs": [],
   "source": [
    "tweets_df = tweets_df.drop(columns = ['user_profile_image_url', 'tweet_user_favorites_count', 'tweet_user_statuses_count', 'user_default_profile', 'user_default_profile_image'])"
   ]
  },
  {
   "cell_type": "code",
   "execution_count": 111,
   "id": "7ac4fd28",
   "metadata": {
    "ExecuteTime": {
     "end_time": "2022-08-22T02:07:25.617360Z",
     "start_time": "2022-08-22T02:07:25.543097Z"
    }
   },
   "outputs": [
    {
     "data": {
      "text/html": [
       "<div>\n",
       "<style scoped>\n",
       "    .dataframe tbody tr th:only-of-type {\n",
       "        vertical-align: middle;\n",
       "    }\n",
       "\n",
       "    .dataframe tbody tr th {\n",
       "        vertical-align: top;\n",
       "    }\n",
       "\n",
       "    .dataframe thead th {\n",
       "        text-align: right;\n",
       "    }\n",
       "</style>\n",
       "<table border=\"1\" class=\"dataframe\">\n",
       "  <thead>\n",
       "    <tr style=\"text-align: right;\">\n",
       "      <th></th>\n",
       "      <th>tweet_full_text</th>\n",
       "      <th>tweet_created_at</th>\n",
       "      <th>tweet_id</th>\n",
       "      <th>tweet_username</th>\n",
       "      <th>tweet_user_screename</th>\n",
       "      <th>tweet_userid_str</th>\n",
       "      <th>tweet_user_location</th>\n",
       "      <th>tweet_user_verified</th>\n",
       "      <th>tweet_user_followers_count</th>\n",
       "      <th>tweet_user_friends_count</th>\n",
       "      <th>tweet_user_listed_count</th>\n",
       "      <th>tweet_user_created_at</th>\n",
       "      <th>tweet_retweet_count</th>\n",
       "      <th>tweet_favorite_count</th>\n",
       "      <th>general_location_data</th>\n",
       "    </tr>\n",
       "  </thead>\n",
       "  <tbody>\n",
       "    <tr>\n",
       "      <th>31831</th>\n",
       "      <td>Whole week ruined. #Euphoria 💔 https://t.co/VH2tlkuvhA</td>\n",
       "      <td>2022-02-28 06:17:04</td>\n",
       "      <td>1.498180e+18</td>\n",
       "      <td>Ty White ✞</td>\n",
       "      <td>Twhite2_</td>\n",
       "      <td>2.931667e+09</td>\n",
       "      <td>PDX</td>\n",
       "      <td>False</td>\n",
       "      <td>427.0</td>\n",
       "      <td>1260.0</td>\n",
       "      <td>3.0</td>\n",
       "      <td>2014-12-16 01:31:04</td>\n",
       "      <td>0.0</td>\n",
       "      <td>4.0</td>\n",
       "      <td>{'items': [{'title': 'Portland Int'l Airport', 'id': 'here:pds:place:840jx7ps-f600e90fa5b80f981e83be335737333c', 'resultType': 'place', 'address': {'label': \"Portland Int'l Airport, 7000 NE Airport Way, Portland, OR 97218, United States\", 'countryCode': 'USA', 'countryName': 'United States', 'stateCode': 'OR', 'state': 'Oregon', 'county': 'Multnomah', 'city': 'Portland', 'street': 'NE Airport Way', 'postalCode': '97218', 'houseNumber': '7000'}, 'position': {'lat': 45.58834, 'lng': -122.58838}, 'access': [{'lat': 45.58834, 'lng': -122.58838}], 'categories': [{'id': '400-4000-4581', 'name': 'Airport', 'primary': True}], 'scoring': {'queryScore': 1.0, 'fieldScore': {'placeName': 1.0}}}]}</td>\n",
       "    </tr>\n",
       "    <tr>\n",
       "      <th>19743</th>\n",
       "      <td>Fez is currently my favorite in this show #Euphoria</td>\n",
       "      <td>2022-02-08 04:47:46</td>\n",
       "      <td>1.490910e+18</td>\n",
       "      <td>.</td>\n",
       "      <td>TheIntrovertGod</td>\n",
       "      <td>2.993961e+09</td>\n",
       "      <td>No Location</td>\n",
       "      <td>False</td>\n",
       "      <td>349.0</td>\n",
       "      <td>822.0</td>\n",
       "      <td>8.0</td>\n",
       "      <td>2015-01-24 01:02:52</td>\n",
       "      <td>0.0</td>\n",
       "      <td>1.0</td>\n",
       "      <td>{'items': []}</td>\n",
       "    </tr>\n",
       "    <tr>\n",
       "      <th>43473</th>\n",
       "      <td>lexi every time someone moves #Euphoria #EuphoriaHBO  https://t.co/LXUDiYy49t</td>\n",
       "      <td>2022-01-31 05:12:54</td>\n",
       "      <td>1.488017e+18</td>\n",
       "      <td>the noe castrejon 🤠</td>\n",
       "      <td>noe_castrejon</td>\n",
       "      <td>9.648252e+08</td>\n",
       "      <td>Houston/SanMo</td>\n",
       "      <td>False</td>\n",
       "      <td>1472.0</td>\n",
       "      <td>1304.0</td>\n",
       "      <td>6.0</td>\n",
       "      <td>2012-11-22 19:33:14</td>\n",
       "      <td>2.0</td>\n",
       "      <td>10.0</td>\n",
       "      <td>{'items': [{'title': 'Houston St, 4024 Biñan, Philippines', 'id': 'here:af:street:UXKINqKWNSNoVy1nZih8bA', 'resultType': 'street', 'address': {'label': 'Houston St, 4024 Biñan, Philippines', 'countryCode': 'PHL', 'countryName': 'Philippines', 'stateCode': 'PH-40', 'state': 'Calabarzon', 'countyCode': 'PH-LAG', 'county': 'Laguna', 'city': 'Biñan', 'district': 'Santo Tomas', 'street': 'Houston St', 'postalCode': '4024'}, 'position': {'lat': 14.31025, 'lng': 121.06934}, 'mapView': {'west': 121.06868, 'south': 14.30974, 'east': 121.07, 'north': 14.31075}, 'scoring': {'queryScore': 0.83, 'fieldScore': {'district': 0.3, 'streets': [0.9]}}}, {'title': 'W Houston St, Santo, TX 76472, United States', 'id': 'here:af:street:igCaFhsWPm71oOGpefANCC', 'resultType': 'street', 'address': {'label': 'W Houston St, Santo, TX 76472, United States', 'countryCode': 'USA', 'countryName': 'United States', 'stateCode': 'TX', 'state': 'Texas', 'county': 'Palo Pinto', 'city': 'Santo', 'street': 'W Houston St', 'postalCode': '76472'}, 'position': {'lat': 32.66276, 'lng': -98.12374}, 'mapView': {'west': -98.1243, 'south': 32.66258, 'east': -98.12318, 'north': 32.66293}, 'scoring': {'queryScore': 0.83, 'fieldScore': {'city': 0.6, 'streets': [0.78]}}}, {'title': 'E Houston St, Santo, TX 76472, United States', 'id': 'here:af:street:oXDoZOdAxkPEsFrmMIYsjB', 'resultType': 'street', 'address': {'label': 'E Houston St, Santo, TX 76472, United States', 'countryCode': 'USA', 'countryName': 'United States', 'stateCode': 'TX', 'state': 'Texas', 'county': 'Palo Pinto', 'city': 'Santo', 'street': 'E Houston St', 'postalCode': '76472'}, 'position': {'lat': 32.66336, 'lng': -98.12134}, 'mapView': {'west': -98.12318, 'south': 32.66293, 'east': -98.11972, 'north': 32.6647}, 'scoring': {'queryScore': 0.83, 'fieldScore': {'city': 0.6, 'streets': [0.78]}}}]}</td>\n",
       "    </tr>\n",
       "    <tr>\n",
       "      <th>1112</th>\n",
       "      <td>I'm more excited for the new episode of Euphoria tonight than I am the Super Bowl 😅 #EuphoriaHBO #EuphoriaDay  #euphoria</td>\n",
       "      <td>2022-02-13 20:23:49</td>\n",
       "      <td>1.492958e+18</td>\n",
       "      <td>Sam I Am</td>\n",
       "      <td>LAC2023</td>\n",
       "      <td>1.319885e+18</td>\n",
       "      <td>No Location</td>\n",
       "      <td>False</td>\n",
       "      <td>3019.0</td>\n",
       "      <td>4986.0</td>\n",
       "      <td>8.0</td>\n",
       "      <td>2020-10-24 06:14:07</td>\n",
       "      <td>1.0</td>\n",
       "      <td>1.0</td>\n",
       "      <td>{'items': []}</td>\n",
       "    </tr>\n",
       "    <tr>\n",
       "      <th>6100</th>\n",
       "      <td>I just watched @euphoriaHBO for the first time and i love it so much 😩❤️#euphoria #EuphoriaHBO 😍😍😍</td>\n",
       "      <td>2022-01-27 21:18:12</td>\n",
       "      <td>1.486811e+18</td>\n",
       "      <td>Patty</td>\n",
       "      <td>pattyhuds</td>\n",
       "      <td>1.438554e+18</td>\n",
       "      <td>No Location</td>\n",
       "      <td>False</td>\n",
       "      <td>0.0</td>\n",
       "      <td>43.0</td>\n",
       "      <td>0.0</td>\n",
       "      <td>2021-09-16 17:23:36</td>\n",
       "      <td>0.0</td>\n",
       "      <td>0.0</td>\n",
       "      <td>{'items': []}</td>\n",
       "    </tr>\n",
       "    <tr>\n",
       "      <th>9412</th>\n",
       "      <td>We absolutely need to see teen suffering. \\n\\n#Euphoria https://t.co/oCW7wyqaCV</td>\n",
       "      <td>2022-02-16 13:58:34</td>\n",
       "      <td>1.493948e+18</td>\n",
       "      <td>CJ</td>\n",
       "      <td>C2thaLo</td>\n",
       "      <td>1.749426e+07</td>\n",
       "      <td>New England</td>\n",
       "      <td>False</td>\n",
       "      <td>65.0</td>\n",
       "      <td>411.0</td>\n",
       "      <td>0.0</td>\n",
       "      <td>2008-11-19 20:18:01</td>\n",
       "      <td>0.0</td>\n",
       "      <td>0.0</td>\n",
       "      <td>{'items': [{'title': 'New England, ND, United States', 'id': 'here:cm:namedplace:21000733', 'resultType': 'locality', 'localityType': 'city', 'address': {'label': 'New England, ND, United States', 'countryCode': 'USA', 'countryName': 'United States', 'stateCode': 'ND', 'state': 'North Dakota', 'county': 'Hettinger', 'city': 'New England', 'postalCode': '58647'}, 'position': {'lat': 46.53633, 'lng': -102.86053}, 'mapView': {'west': -103.30043, 'south': 46.28068, 'east': -102.54996, 'north': 46.71688}, 'scoring': {'queryScore': 1.0, 'fieldScore': {'city': 1.0}}}]}</td>\n",
       "    </tr>\n",
       "    <tr>\n",
       "      <th>15483</th>\n",
       "      <td>Cassie from euphoria looks exactly like Janice from the muppets. #Euphoria https://t.co/5Q5wBIewSL</td>\n",
       "      <td>2022-02-15 02:50:38</td>\n",
       "      <td>1.493417e+18</td>\n",
       "      <td>Brayden Escoe</td>\n",
       "      <td>letsgoescoe16</td>\n",
       "      <td>4.079736e+09</td>\n",
       "      <td>No Location</td>\n",
       "      <td>False</td>\n",
       "      <td>1957.0</td>\n",
       "      <td>1917.0</td>\n",
       "      <td>3.0</td>\n",
       "      <td>2015-10-31 12:43:48</td>\n",
       "      <td>0.0</td>\n",
       "      <td>9.0</td>\n",
       "      <td>{'items': []}</td>\n",
       "    </tr>\n",
       "    <tr>\n",
       "      <th>13995</th>\n",
       "      <td>#Best podcast music\\n#Good music\\n\\nhttps://t.co/8c5xsTtQiN\\n\\n#podcast_andchillwithmacg #EuphoriaHBOMax https://t.co/nxuoGZEVao</td>\n",
       "      <td>2022-02-28 15:04:33</td>\n",
       "      <td>1.498313e+18</td>\n",
       "      <td>Umran</td>\n",
       "      <td>Umran84484820</td>\n",
       "      <td>1.487109e+18</td>\n",
       "      <td>No Location</td>\n",
       "      <td>False</td>\n",
       "      <td>7.0</td>\n",
       "      <td>26.0</td>\n",
       "      <td>4.0</td>\n",
       "      <td>2022-01-28 17:03:58</td>\n",
       "      <td>1.0</td>\n",
       "      <td>0.0</td>\n",
       "      <td>{'items': []}</td>\n",
       "    </tr>\n",
       "    <tr>\n",
       "      <th>19582</th>\n",
       "      <td>I feel like that finale didn’t give me everything I wanted, but what was there I liked - it was emotional and very cathartic (and idc I actually liked Elliot’s song) #Euphoria</td>\n",
       "      <td>2022-02-28 11:45:27</td>\n",
       "      <td>1.498263e+18</td>\n",
       "      <td>Erin</td>\n",
       "      <td>_erinz_</td>\n",
       "      <td>3.670637e+08</td>\n",
       "      <td>Wales / Exeter (she/her)</td>\n",
       "      <td>False</td>\n",
       "      <td>950.0</td>\n",
       "      <td>3026.0</td>\n",
       "      <td>18.0</td>\n",
       "      <td>2011-09-03 09:38:40</td>\n",
       "      <td>0.0</td>\n",
       "      <td>1.0</td>\n",
       "      <td>{'items': [{'title': 'Exeter, NSW 2579, Australia', 'id': 'here:cm:namedplace:1469285674', 'resultType': 'locality', 'localityType': 'city', 'address': {'label': 'Exeter, NSW 2579, Australia', 'countryCode': 'AUS', 'countryName': 'Australia', 'stateCode': 'NSW', 'state': 'New South Wales', 'city': 'Exeter', 'postalCode': '2579'}, 'position': {'lat': -34.61557, 'lng': 150.3159}, 'mapView': {'west': 150.21539, 'south': -34.64758, 'east': 150.35445, 'north': -34.5843}, 'scoring': {'queryScore': 0.35, 'fieldScore': {'city': 1.0}}}]}</td>\n",
       "    </tr>\n",
       "    <tr>\n",
       "      <th>1229</th>\n",
       "      <td>Bitch it’s Sunday!!! Very excited/nervous/stressed to see what these kids get themselves into tonight #Euphoria 🙃</td>\n",
       "      <td>2022-01-30 17:10:25</td>\n",
       "      <td>1.487836e+18</td>\n",
       "      <td>Mike the Top</td>\n",
       "      <td>ThatkidDavid1</td>\n",
       "      <td>4.799589e+08</td>\n",
       "      <td>Maryland, USA</td>\n",
       "      <td>False</td>\n",
       "      <td>762.0</td>\n",
       "      <td>842.0</td>\n",
       "      <td>7.0</td>\n",
       "      <td>2012-01-31 23:44:22</td>\n",
       "      <td>0.0</td>\n",
       "      <td>8.0</td>\n",
       "      <td>{'items': [{'title': 'MD, United States', 'id': 'here:cm:namedplace:21010637', 'resultType': 'administrativeArea', 'administrativeAreaType': 'state', 'address': {'label': 'MD, United States', 'countryCode': 'USA', 'countryName': 'United States', 'stateCode': 'MD', 'state': 'Maryland'}, 'position': {'lat': 38.97678, 'lng': -76.49015}, 'mapView': {'west': -79.4872, 'south': 37.88655, 'east': -75.04924, 'north': 39.72315}, 'scoring': {'queryScore': 1.0, 'fieldScore': {'country': 1.0, 'state': 1.0}}}]}</td>\n",
       "    </tr>\n",
       "    <tr>\n",
       "      <th>4552</th>\n",
       "      <td>I now see that the actor who plays Ashtray hopes his #Euphoria character is still alive. This is a level of optimism that I’d previously not known existed. I’m pretty sure his character is as dead as the career of Kevin Sorbo.</td>\n",
       "      <td>2022-02-28 20:33:52</td>\n",
       "      <td>1.498396e+18</td>\n",
       "      <td>John M</td>\n",
       "      <td>John_M15</td>\n",
       "      <td>1.905486e+07</td>\n",
       "      <td>Morganville, NJ</td>\n",
       "      <td>False</td>\n",
       "      <td>3935.0</td>\n",
       "      <td>5006.0</td>\n",
       "      <td>360.0</td>\n",
       "      <td>2009-01-16 04:34:31</td>\n",
       "      <td>0.0</td>\n",
       "      <td>4.0</td>\n",
       "      <td>{'items': [{'title': 'Morganville, NJ, United States', 'id': 'here:cm:namedplace:21018120', 'resultType': 'locality', 'localityType': 'city', 'address': {'label': 'Morganville, NJ, United States', 'countryCode': 'USA', 'countryName': 'United States', 'stateCode': 'NJ', 'state': 'New Jersey', 'county': 'Monmouth', 'city': 'Morganville', 'postalCode': '07751'}, 'position': {'lat': 40.3742, 'lng': -74.24534}, 'mapView': {'west': -74.32607, 'south': 40.32246, 'east': -74.19979, 'north': 40.39499}, 'scoring': {'queryScore': 1.0, 'fieldScore': {'state': 1.0, 'city': 1.0}}}]}</td>\n",
       "    </tr>\n",
       "    <tr>\n",
       "      <th>36346</th>\n",
       "      <td>this weird ass throuple between Rue, Jules &amp;amp; Elliot is too much #Euphoria</td>\n",
       "      <td>2022-01-31 07:08:02</td>\n",
       "      <td>1.488046e+18</td>\n",
       "      <td>domi.</td>\n",
       "      <td>domikeyes</td>\n",
       "      <td>1.080221e+18</td>\n",
       "      <td>Texas, USA</td>\n",
       "      <td>False</td>\n",
       "      <td>1212.0</td>\n",
       "      <td>1027.0</td>\n",
       "      <td>1.0</td>\n",
       "      <td>2019-01-01 21:55:09</td>\n",
       "      <td>0.0</td>\n",
       "      <td>1.0</td>\n",
       "      <td>{'items': [{'title': 'TX, United States', 'id': 'here:cm:namedplace:21015214', 'resultType': 'administrativeArea', 'administrativeAreaType': 'state', 'address': {'label': 'TX, United States', 'countryCode': 'USA', 'countryName': 'United States', 'stateCode': 'TX', 'state': 'Texas'}, 'position': {'lat': 30.26759, 'lng': -97.743}, 'mapView': {'west': -106.64595, 'south': 25.83706, 'east': -93.50835, 'north': 36.50066}, 'scoring': {'queryScore': 1.0, 'fieldScore': {'country': 1.0, 'state': 1.0}}}]}</td>\n",
       "    </tr>\n",
       "    <tr>\n",
       "      <th>6206</th>\n",
       "      <td>I think I missed where Ali told Rue some confidential information that she used against him, so what was it? #EuphoriaHBO</td>\n",
       "      <td>2022-02-04 03:01:44</td>\n",
       "      <td>1.489434e+18</td>\n",
       "      <td>ErinNicole</td>\n",
       "      <td>QueenErinnn</td>\n",
       "      <td>2.235140e+09</td>\n",
       "      <td>Louisiana</td>\n",
       "      <td>False</td>\n",
       "      <td>1908.0</td>\n",
       "      <td>877.0</td>\n",
       "      <td>3.0</td>\n",
       "      <td>2013-12-07 22:34:46</td>\n",
       "      <td>0.0</td>\n",
       "      <td>0.0</td>\n",
       "      <td>{'items': [{'title': 'LA, United States', 'id': 'here:cm:namedplace:21015135', 'resultType': 'administrativeArea', 'administrativeAreaType': 'state', 'address': {'label': 'LA, United States', 'countryCode': 'USA', 'countryName': 'United States', 'stateCode': 'LA', 'state': 'Louisiana'}, 'position': {'lat': 30.44335, 'lng': -91.18665}, 'mapView': {'west': -94.04333, 'south': 28.92869, 'east': -88.80943, 'north': 33.01971}, 'scoring': {'queryScore': 1.0, 'fieldScore': {'state': 1.0}}}]}</td>\n",
       "    </tr>\n",
       "    <tr>\n",
       "      <th>3263</th>\n",
       "      <td>I have finished season 1 of Euphoria and now it’s time to catch up on season 2 #Euphoria</td>\n",
       "      <td>2022-02-13 04:36:55</td>\n",
       "      <td>1.492719e+18</td>\n",
       "      <td>Dakotah is seeing Ice Nine Kills in 30 DAYS!!!🔪🔪</td>\n",
       "      <td>dakotahhhhg</td>\n",
       "      <td>1.164760e+18</td>\n",
       "      <td>Horrorwood</td>\n",
       "      <td>False</td>\n",
       "      <td>241.0</td>\n",
       "      <td>1849.0</td>\n",
       "      <td>1.0</td>\n",
       "      <td>2019-08-23 04:43:12</td>\n",
       "      <td>0.0</td>\n",
       "      <td>2.0</td>\n",
       "      <td>{'items': [{'title': 'Horror Woods Ln, Denton, NC 27239, United States', 'id': 'here:af:street:T5AJVrJBli51tQvaz1tN3D', 'resultType': 'street', 'address': {'label': 'Horror Woods Ln, Denton, NC 27239, United States', 'countryCode': 'USA', 'countryName': 'United States', 'stateCode': 'NC', 'state': 'North Carolina', 'county': 'Davidson', 'city': 'Denton', 'street': 'Horror Woods Ln', 'postalCode': '27239'}, 'position': {'lat': 35.6907, 'lng': -80.1045}, 'mapView': {'west': -80.1056, 'south': 35.68922, 'east': -80.10406, 'north': 35.69236}, 'scoring': {'queryScore': 0.99, 'fieldScore': {'streets': [0.81]}}}]}</td>\n",
       "    </tr>\n",
       "    <tr>\n",
       "      <th>18379</th>\n",
       "      <td>IDK but.... when elliot was describing Jules I felt attacked!!🤣😅\\n#Euphoria</td>\n",
       "      <td>2022-02-01 00:28:40</td>\n",
       "      <td>1.488308e+18</td>\n",
       "      <td>Shanice🇬🇾</td>\n",
       "      <td>Nicey_blu</td>\n",
       "      <td>1.488132e+18</td>\n",
       "      <td>No Location</td>\n",
       "      <td>False</td>\n",
       "      <td>25.0</td>\n",
       "      <td>35.0</td>\n",
       "      <td>0.0</td>\n",
       "      <td>2022-01-31 12:47:44</td>\n",
       "      <td>0.0</td>\n",
       "      <td>0.0</td>\n",
       "      <td>{'items': []}</td>\n",
       "    </tr>\n",
       "    <tr>\n",
       "      <th>14434</th>\n",
       "      <td>✨ Rue line art! Very excited to colour✨\\n#Rue \\n#EuphoriaSeason2     \\n#Euphoria \\n#EuphoriaHBO \\n#EuphoriaFanArt \\n#Zendaya \\n#artistsontwitter https://t.co/2BGuWFOjJ7</td>\n",
       "      <td>2022-02-01 08:29:45</td>\n",
       "      <td>1.488429e+18</td>\n",
       "      <td>Relley⁷</td>\n",
       "      <td>Skm_Art_</td>\n",
       "      <td>3.196060e+09</td>\n",
       "      <td>Adelaide, South Australia</td>\n",
       "      <td>False</td>\n",
       "      <td>153.0</td>\n",
       "      <td>319.0</td>\n",
       "      <td>5.0</td>\n",
       "      <td>2015-05-15 08:49:56</td>\n",
       "      <td>0.0</td>\n",
       "      <td>4.0</td>\n",
       "      <td>{'items': [{'title': 'Adelaide, SA 5000, Australia', 'id': 'here:cm:namedplace:1469256875', 'resultType': 'locality', 'localityType': 'city', 'address': {'label': 'Adelaide, SA 5000, Australia', 'countryCode': 'AUS', 'countryName': 'Australia', 'stateCode': 'SA', 'state': 'South Australia', 'city': 'Adelaide', 'postalCode': '5000'}, 'position': {'lat': -34.92585, 'lng': 138.5998}, 'mapView': {'west': 138.4417, 'south': -35.34902, 'east': 138.78316, 'north': -34.64809}, 'scoring': {'queryScore': 1.0, 'fieldScore': {'state': 1.0, 'city': 1.0}}}]}</td>\n",
       "    </tr>\n",
       "    <tr>\n",
       "      <th>46465</th>\n",
       "      <td>Cal doing everything except driving correctly #cal #Euphoria https://t.co/jhyc3izZ79</td>\n",
       "      <td>2022-01-31 04:44:49</td>\n",
       "      <td>1.488010e+18</td>\n",
       "      <td>aaron</td>\n",
       "      <td>FamousboyA</td>\n",
       "      <td>7.305438e+17</td>\n",
       "      <td>United States</td>\n",
       "      <td>False</td>\n",
       "      <td>27.0</td>\n",
       "      <td>70.0</td>\n",
       "      <td>0.0</td>\n",
       "      <td>2016-05-11 23:43:11</td>\n",
       "      <td>0.0</td>\n",
       "      <td>18.0</td>\n",
       "      <td>{'items': [{'title': 'United States', 'id': 'here:cm:namedplace:21000001', 'resultType': 'administrativeArea', 'administrativeAreaType': 'country', 'address': {'label': 'United States', 'countryCode': 'USA', 'countryName': 'United States'}, 'position': {'lat': 38.89036, 'lng': -77.03196}, 'mapView': {'west': -124.749, 'south': 24.5018, 'east': -66.9406, 'north': 49.3845}, 'scoring': {'queryScore': 1.0, 'fieldScore': {'country': 1.0}}}]}</td>\n",
       "    </tr>\n",
       "    <tr>\n",
       "      <th>26723</th>\n",
       "      <td>Is Jules slow? #Euphoria #EuphoriaHBO</td>\n",
       "      <td>2022-01-31 15:55:08</td>\n",
       "      <td>1.488179e+18</td>\n",
       "      <td>What you shoulda did Keish?</td>\n",
       "      <td>MissKeyshiax3</td>\n",
       "      <td>1.463252e+18</td>\n",
       "      <td>No Location</td>\n",
       "      <td>False</td>\n",
       "      <td>47.0</td>\n",
       "      <td>101.0</td>\n",
       "      <td>0.0</td>\n",
       "      <td>2021-11-23 21:03:32</td>\n",
       "      <td>0.0</td>\n",
       "      <td>1.0</td>\n",
       "      <td>{'items': []}</td>\n",
       "    </tr>\n",
       "    <tr>\n",
       "      <th>38677</th>\n",
       "      <td>Okay but I wanna know what’s in that locked up room at Laurie’s house 🤔 #Euphoria</td>\n",
       "      <td>2022-02-07 15:39:30</td>\n",
       "      <td>1.490712e+18</td>\n",
       "      <td>bunni lo🍷</td>\n",
       "      <td>llauren_elaine</td>\n",
       "      <td>1.155712e+09</td>\n",
       "      <td>california</td>\n",
       "      <td>False</td>\n",
       "      <td>131.0</td>\n",
       "      <td>118.0</td>\n",
       "      <td>0.0</td>\n",
       "      <td>2013-02-07 02:11:39</td>\n",
       "      <td>0.0</td>\n",
       "      <td>0.0</td>\n",
       "      <td>{'items': [{'title': 'CA, United States', 'id': 'here:cm:namedplace:21009408', 'resultType': 'administrativeArea', 'administrativeAreaType': 'state', 'address': {'label': 'CA, United States', 'countryCode': 'USA', 'countryName': 'United States', 'stateCode': 'CA', 'state': 'California'}, 'position': {'lat': 38.57944, 'lng': -121.49086}, 'mapView': {'west': -124.40962, 'south': 32.53429, 'east': -114.13084, 'north': 42.00946}, 'scoring': {'queryScore': 1.0, 'fieldScore': {'state': 1.0}}}]}</td>\n",
       "    </tr>\n",
       "    <tr>\n",
       "      <th>25811</th>\n",
       "      <td>wait why Cal Jacobs lil speech kinda eating…….. #Euphoria https://t.co/hw0vjdgVjI</td>\n",
       "      <td>2022-01-31 16:47:24</td>\n",
       "      <td>1.488192e+18</td>\n",
       "      <td>rj</td>\n",
       "      <td>robeeet8</td>\n",
       "      <td>1.323179e+18</td>\n",
       "      <td>Atlanta, GA</td>\n",
       "      <td>False</td>\n",
       "      <td>17.0</td>\n",
       "      <td>15.0</td>\n",
       "      <td>0.0</td>\n",
       "      <td>2020-11-02 08:25:00</td>\n",
       "      <td>0.0</td>\n",
       "      <td>0.0</td>\n",
       "      <td>{'items': [{'title': 'Atlanta, GA, United States', 'id': 'here:cm:namedplace:21024291', 'resultType': 'locality', 'localityType': 'city', 'address': {'label': 'Atlanta, GA, United States', 'countryCode': 'USA', 'countryName': 'United States', 'stateCode': 'GA', 'state': 'Georgia', 'county': 'Fulton', 'city': 'Atlanta', 'postalCode': '30303'}, 'position': {'lat': 33.74831, 'lng': -84.39111}, 'mapView': {'west': -84.65523, 'south': 33.56166, 'east': -84.21835, 'north': 34.00951}, 'scoring': {'queryScore': 1.0, 'fieldScore': {'state': 1.0, 'city': 1.0}}}]}</td>\n",
       "    </tr>\n",
       "  </tbody>\n",
       "</table>\n",
       "</div>"
      ],
      "text/plain": [
       "                                                                                                                                                                                                                          tweet_full_text  \\\n",
       "31831                                                                                                                                                                              Whole week ruined. #Euphoria 💔 https://t.co/VH2tlkuvhA   \n",
       "19743                                                                                                                                                                                 Fez is currently my favorite in this show #Euphoria   \n",
       "43473                                                                                                                                                       lexi every time someone moves #Euphoria #EuphoriaHBO  https://t.co/LXUDiYy49t   \n",
       "1112                                                                                                             I'm more excited for the new episode of Euphoria tonight than I am the Super Bowl 😅 #EuphoriaHBO #EuphoriaDay  #euphoria   \n",
       "6100                                                                                                                                   I just watched @euphoriaHBO for the first time and i love it so much 😩❤️#euphoria #EuphoriaHBO 😍😍😍   \n",
       "9412                                                                                                                                                      We absolutely need to see teen suffering. \\n\\n#Euphoria https://t.co/oCW7wyqaCV   \n",
       "15483                                                                                                                                  Cassie from euphoria looks exactly like Janice from the muppets. #Euphoria https://t.co/5Q5wBIewSL   \n",
       "13995                                                                                                    #Best podcast music\\n#Good music\\n\\nhttps://t.co/8c5xsTtQiN\\n\\n#podcast_andchillwithmacg #EuphoriaHBOMax https://t.co/nxuoGZEVao   \n",
       "19582                                                     I feel like that finale didn’t give me everything I wanted, but what was there I liked - it was emotional and very cathartic (and idc I actually liked Elliot’s song) #Euphoria   \n",
       "1229                                                                                                                    Bitch it’s Sunday!!! Very excited/nervous/stressed to see what these kids get themselves into tonight #Euphoria 🙃   \n",
       "4552   I now see that the actor who plays Ashtray hopes his #Euphoria character is still alive. This is a level of optimism that I’d previously not known existed. I’m pretty sure his character is as dead as the career of Kevin Sorbo.   \n",
       "36346                                                                                                                                                       this weird ass throuple between Rue, Jules &amp; Elliot is too much #Euphoria   \n",
       "6206                                                                                                            I think I missed where Ali told Rue some confidential information that she used against him, so what was it? #EuphoriaHBO   \n",
       "3263                                                                                                                                             I have finished season 1 of Euphoria and now it’s time to catch up on season 2 #Euphoria   \n",
       "18379                                                                                                                                                         IDK but.... when elliot was describing Jules I felt attacked!!🤣😅\\n#Euphoria   \n",
       "14434                                                            ✨ Rue line art! Very excited to colour✨\\n#Rue \\n#EuphoriaSeason2     \\n#Euphoria \\n#EuphoriaHBO \\n#EuphoriaFanArt \\n#Zendaya \\n#artistsontwitter https://t.co/2BGuWFOjJ7   \n",
       "46465                                                                                                                                                Cal doing everything except driving correctly #cal #Euphoria https://t.co/jhyc3izZ79   \n",
       "26723                                                                                                                                                                                               Is Jules slow? #Euphoria #EuphoriaHBO   \n",
       "38677                                                                                                                                                   Okay but I wanna know what’s in that locked up room at Laurie’s house 🤔 #Euphoria   \n",
       "25811                                                                                                                                                   wait why Cal Jacobs lil speech kinda eating…….. #Euphoria https://t.co/hw0vjdgVjI   \n",
       "\n",
       "          tweet_created_at      tweet_id  \\\n",
       "31831  2022-02-28 06:17:04  1.498180e+18   \n",
       "19743  2022-02-08 04:47:46  1.490910e+18   \n",
       "43473  2022-01-31 05:12:54  1.488017e+18   \n",
       "1112   2022-02-13 20:23:49  1.492958e+18   \n",
       "6100   2022-01-27 21:18:12  1.486811e+18   \n",
       "9412   2022-02-16 13:58:34  1.493948e+18   \n",
       "15483  2022-02-15 02:50:38  1.493417e+18   \n",
       "13995  2022-02-28 15:04:33  1.498313e+18   \n",
       "19582  2022-02-28 11:45:27  1.498263e+18   \n",
       "1229   2022-01-30 17:10:25  1.487836e+18   \n",
       "4552   2022-02-28 20:33:52  1.498396e+18   \n",
       "36346  2022-01-31 07:08:02  1.488046e+18   \n",
       "6206   2022-02-04 03:01:44  1.489434e+18   \n",
       "3263   2022-02-13 04:36:55  1.492719e+18   \n",
       "18379  2022-02-01 00:28:40  1.488308e+18   \n",
       "14434  2022-02-01 08:29:45  1.488429e+18   \n",
       "46465  2022-01-31 04:44:49  1.488010e+18   \n",
       "26723  2022-01-31 15:55:08  1.488179e+18   \n",
       "38677  2022-02-07 15:39:30  1.490712e+18   \n",
       "25811  2022-01-31 16:47:24  1.488192e+18   \n",
       "\n",
       "                                         tweet_username tweet_user_screename  \\\n",
       "31831                                        Ty White ✞             Twhite2_   \n",
       "19743                                                 .      TheIntrovertGod   \n",
       "43473                               the noe castrejon 🤠        noe_castrejon   \n",
       "1112                                           Sam I Am              LAC2023   \n",
       "6100                                              Patty            pattyhuds   \n",
       "9412                                                 CJ              C2thaLo   \n",
       "15483                                     Brayden Escoe        letsgoescoe16   \n",
       "13995                                             Umran        Umran84484820   \n",
       "19582                                              Erin              _erinz_   \n",
       "1229                                       Mike the Top        ThatkidDavid1   \n",
       "4552                                             John M             John_M15   \n",
       "36346                                             domi.            domikeyes   \n",
       "6206                                         ErinNicole          QueenErinnn   \n",
       "3263   Dakotah is seeing Ice Nine Kills in 30 DAYS!!!🔪🔪          dakotahhhhg   \n",
       "18379                                         Shanice🇬🇾            Nicey_blu   \n",
       "14434                                           Relley⁷             Skm_Art_   \n",
       "46465                                             aaron           FamousboyA   \n",
       "26723                       What you shoulda did Keish?        MissKeyshiax3   \n",
       "38677                                         bunni lo🍷       llauren_elaine   \n",
       "25811                                                rj             robeeet8   \n",
       "\n",
       "       tweet_userid_str        tweet_user_location tweet_user_verified  \\\n",
       "31831      2.931667e+09                        PDX               False   \n",
       "19743      2.993961e+09                No Location               False   \n",
       "43473      9.648252e+08              Houston/SanMo               False   \n",
       "1112       1.319885e+18                No Location               False   \n",
       "6100       1.438554e+18                No Location               False   \n",
       "9412       1.749426e+07               New England                False   \n",
       "15483      4.079736e+09                No Location               False   \n",
       "13995      1.487109e+18                No Location               False   \n",
       "19582      3.670637e+08   Wales / Exeter (she/her)               False   \n",
       "1229       4.799589e+08              Maryland, USA               False   \n",
       "4552       1.905486e+07            Morganville, NJ               False   \n",
       "36346      1.080221e+18                 Texas, USA               False   \n",
       "6206       2.235140e+09                  Louisiana               False   \n",
       "3263       1.164760e+18                 Horrorwood               False   \n",
       "18379      1.488132e+18                No Location               False   \n",
       "14434      3.196060e+09  Adelaide, South Australia               False   \n",
       "46465      7.305438e+17              United States               False   \n",
       "26723      1.463252e+18                No Location               False   \n",
       "38677      1.155712e+09                 california               False   \n",
       "25811      1.323179e+18                Atlanta, GA               False   \n",
       "\n",
       "       tweet_user_followers_count  tweet_user_friends_count  \\\n",
       "31831                       427.0                    1260.0   \n",
       "19743                       349.0                     822.0   \n",
       "43473                      1472.0                    1304.0   \n",
       "1112                       3019.0                    4986.0   \n",
       "6100                          0.0                      43.0   \n",
       "9412                         65.0                     411.0   \n",
       "15483                      1957.0                    1917.0   \n",
       "13995                         7.0                      26.0   \n",
       "19582                       950.0                    3026.0   \n",
       "1229                        762.0                     842.0   \n",
       "4552                       3935.0                    5006.0   \n",
       "36346                      1212.0                    1027.0   \n",
       "6206                       1908.0                     877.0   \n",
       "3263                        241.0                    1849.0   \n",
       "18379                        25.0                      35.0   \n",
       "14434                       153.0                     319.0   \n",
       "46465                        27.0                      70.0   \n",
       "26723                        47.0                     101.0   \n",
       "38677                       131.0                     118.0   \n",
       "25811                        17.0                      15.0   \n",
       "\n",
       "       tweet_user_listed_count tweet_user_created_at  tweet_retweet_count  \\\n",
       "31831                      3.0   2014-12-16 01:31:04                  0.0   \n",
       "19743                      8.0   2015-01-24 01:02:52                  0.0   \n",
       "43473                      6.0   2012-11-22 19:33:14                  2.0   \n",
       "1112                       8.0   2020-10-24 06:14:07                  1.0   \n",
       "6100                       0.0   2021-09-16 17:23:36                  0.0   \n",
       "9412                       0.0   2008-11-19 20:18:01                  0.0   \n",
       "15483                      3.0   2015-10-31 12:43:48                  0.0   \n",
       "13995                      4.0   2022-01-28 17:03:58                  1.0   \n",
       "19582                     18.0   2011-09-03 09:38:40                  0.0   \n",
       "1229                       7.0   2012-01-31 23:44:22                  0.0   \n",
       "4552                     360.0   2009-01-16 04:34:31                  0.0   \n",
       "36346                      1.0   2019-01-01 21:55:09                  0.0   \n",
       "6206                       3.0   2013-12-07 22:34:46                  0.0   \n",
       "3263                       1.0   2019-08-23 04:43:12                  0.0   \n",
       "18379                      0.0   2022-01-31 12:47:44                  0.0   \n",
       "14434                      5.0   2015-05-15 08:49:56                  0.0   \n",
       "46465                      0.0   2016-05-11 23:43:11                  0.0   \n",
       "26723                      0.0   2021-11-23 21:03:32                  0.0   \n",
       "38677                      0.0   2013-02-07 02:11:39                  0.0   \n",
       "25811                      0.0   2020-11-02 08:25:00                  0.0   \n",
       "\n",
       "       tweet_favorite_count  \\\n",
       "31831                   4.0   \n",
       "19743                   1.0   \n",
       "43473                  10.0   \n",
       "1112                    1.0   \n",
       "6100                    0.0   \n",
       "9412                    0.0   \n",
       "15483                   9.0   \n",
       "13995                   0.0   \n",
       "19582                   1.0   \n",
       "1229                    8.0   \n",
       "4552                    4.0   \n",
       "36346                   1.0   \n",
       "6206                    0.0   \n",
       "3263                    2.0   \n",
       "18379                   0.0   \n",
       "14434                   4.0   \n",
       "46465                  18.0   \n",
       "26723                   1.0   \n",
       "38677                   0.0   \n",
       "25811                   0.0   \n",
       "\n",
       "                                                                                                                                                                                                                                                                                                                                                                                                                                                                                                                                                                                                                                                                                                                                                                                                                                                                                                                                                                                                                                                                                                                                                                                                                                                                                                                                                                                                                                                                                                                                                                                                                                                                                                                                                                                                                                                                                                   general_location_data  \n",
       "31831                                                                                                                                                                                                                                                                                                                                                                                                                                                                                                                                                                                                                                                                                                                                                                                                                                                                                                                                                                                                                                                                                                                                                                                              {'items': [{'title': 'Portland Int'l Airport', 'id': 'here:pds:place:840jx7ps-f600e90fa5b80f981e83be335737333c', 'resultType': 'place', 'address': {'label': \"Portland Int'l Airport, 7000 NE Airport Way, Portland, OR 97218, United States\", 'countryCode': 'USA', 'countryName': 'United States', 'stateCode': 'OR', 'state': 'Oregon', 'county': 'Multnomah', 'city': 'Portland', 'street': 'NE Airport Way', 'postalCode': '97218', 'houseNumber': '7000'}, 'position': {'lat': 45.58834, 'lng': -122.58838}, 'access': [{'lat': 45.58834, 'lng': -122.58838}], 'categories': [{'id': '400-4000-4581', 'name': 'Airport', 'primary': True}], 'scoring': {'queryScore': 1.0, 'fieldScore': {'placeName': 1.0}}}]}  \n",
       "19743                                                                                                                                                                                                                                                                                                                                                                                                                                                                                                                                                                                                                                                                                                                                                                                                                                                                                                                                                                                                                                                                                                                                                                                                                                                                                                                                                                                                                                                                                                                                                                                                                                                                                                                                                                                                                                                                                                      {'items': []}  \n",
       "43473  {'items': [{'title': 'Houston St, 4024 Biñan, Philippines', 'id': 'here:af:street:UXKINqKWNSNoVy1nZih8bA', 'resultType': 'street', 'address': {'label': 'Houston St, 4024 Biñan, Philippines', 'countryCode': 'PHL', 'countryName': 'Philippines', 'stateCode': 'PH-40', 'state': 'Calabarzon', 'countyCode': 'PH-LAG', 'county': 'Laguna', 'city': 'Biñan', 'district': 'Santo Tomas', 'street': 'Houston St', 'postalCode': '4024'}, 'position': {'lat': 14.31025, 'lng': 121.06934}, 'mapView': {'west': 121.06868, 'south': 14.30974, 'east': 121.07, 'north': 14.31075}, 'scoring': {'queryScore': 0.83, 'fieldScore': {'district': 0.3, 'streets': [0.9]}}}, {'title': 'W Houston St, Santo, TX 76472, United States', 'id': 'here:af:street:igCaFhsWPm71oOGpefANCC', 'resultType': 'street', 'address': {'label': 'W Houston St, Santo, TX 76472, United States', 'countryCode': 'USA', 'countryName': 'United States', 'stateCode': 'TX', 'state': 'Texas', 'county': 'Palo Pinto', 'city': 'Santo', 'street': 'W Houston St', 'postalCode': '76472'}, 'position': {'lat': 32.66276, 'lng': -98.12374}, 'mapView': {'west': -98.1243, 'south': 32.66258, 'east': -98.12318, 'north': 32.66293}, 'scoring': {'queryScore': 0.83, 'fieldScore': {'city': 0.6, 'streets': [0.78]}}}, {'title': 'E Houston St, Santo, TX 76472, United States', 'id': 'here:af:street:oXDoZOdAxkPEsFrmMIYsjB', 'resultType': 'street', 'address': {'label': 'E Houston St, Santo, TX 76472, United States', 'countryCode': 'USA', 'countryName': 'United States', 'stateCode': 'TX', 'state': 'Texas', 'county': 'Palo Pinto', 'city': 'Santo', 'street': 'E Houston St', 'postalCode': '76472'}, 'position': {'lat': 32.66336, 'lng': -98.12134}, 'mapView': {'west': -98.12318, 'south': 32.66293, 'east': -98.11972, 'north': 32.6647}, 'scoring': {'queryScore': 0.83, 'fieldScore': {'city': 0.6, 'streets': [0.78]}}}]}  \n",
       "1112                                                                                                                                                                                                                                                                                                                                                                                                                                                                                                                                                                                                                                                                                                                                                                                                                                                                                                                                                                                                                                                                                                                                                                                                                                                                                                                                                                                                                                                                                                                                                                                                                                                                                                                                                                                                                                                                                                       {'items': []}  \n",
       "6100                                                                                                                                                                                                                                                                                                                                                                                                                                                                                                                                                                                                                                                                                                                                                                                                                                                                                                                                                                                                                                                                                                                                                                                                                                                                                                                                                                                                                                                                                                                                                                                                                                                                                                                                                                                                                                                                                                       {'items': []}  \n",
       "9412                                                                                                                                                                                                                                                                                                                                                                                                                                                                                                                                                                                                                                                                                                                                                                                                                                                                                                                                                                                                                                                                                                                                                                                                                                                                                                                            {'items': [{'title': 'New England, ND, United States', 'id': 'here:cm:namedplace:21000733', 'resultType': 'locality', 'localityType': 'city', 'address': {'label': 'New England, ND, United States', 'countryCode': 'USA', 'countryName': 'United States', 'stateCode': 'ND', 'state': 'North Dakota', 'county': 'Hettinger', 'city': 'New England', 'postalCode': '58647'}, 'position': {'lat': 46.53633, 'lng': -102.86053}, 'mapView': {'west': -103.30043, 'south': 46.28068, 'east': -102.54996, 'north': 46.71688}, 'scoring': {'queryScore': 1.0, 'fieldScore': {'city': 1.0}}}]}  \n",
       "15483                                                                                                                                                                                                                                                                                                                                                                                                                                                                                                                                                                                                                                                                                                                                                                                                                                                                                                                                                                                                                                                                                                                                                                                                                                                                                                                                                                                                                                                                                                                                                                                                                                                                                                                                                                                                                                                                                                      {'items': []}  \n",
       "13995                                                                                                                                                                                                                                                                                                                                                                                                                                                                                                                                                                                                                                                                                                                                                                                                                                                                                                                                                                                                                                                                                                                                                                                                                                                                                                                                                                                                                                                                                                                                                                                                                                                                                                                                                                                                                                                                                                      {'items': []}  \n",
       "19582                                                                                                                                                                                                                                                                                                                                                                                                                                                                                                                                                                                                                                                                                                                                                                                                                                                                                                                                                                                                                                                                                                                                                                                                                                                                                                                                                             {'items': [{'title': 'Exeter, NSW 2579, Australia', 'id': 'here:cm:namedplace:1469285674', 'resultType': 'locality', 'localityType': 'city', 'address': {'label': 'Exeter, NSW 2579, Australia', 'countryCode': 'AUS', 'countryName': 'Australia', 'stateCode': 'NSW', 'state': 'New South Wales', 'city': 'Exeter', 'postalCode': '2579'}, 'position': {'lat': -34.61557, 'lng': 150.3159}, 'mapView': {'west': 150.21539, 'south': -34.64758, 'east': 150.35445, 'north': -34.5843}, 'scoring': {'queryScore': 0.35, 'fieldScore': {'city': 1.0}}}]}  \n",
       "1229                                                                                                                                                                                                                                                                                                                                                                                                                                                                                                                                                                                                                                                                                                                                                                                                                                                                                                                                                                                                                                                                                                                                                                                                                                                                                                                                                                                             {'items': [{'title': 'MD, United States', 'id': 'here:cm:namedplace:21010637', 'resultType': 'administrativeArea', 'administrativeAreaType': 'state', 'address': {'label': 'MD, United States', 'countryCode': 'USA', 'countryName': 'United States', 'stateCode': 'MD', 'state': 'Maryland'}, 'position': {'lat': 38.97678, 'lng': -76.49015}, 'mapView': {'west': -79.4872, 'south': 37.88655, 'east': -75.04924, 'north': 39.72315}, 'scoring': {'queryScore': 1.0, 'fieldScore': {'country': 1.0, 'state': 1.0}}}]}  \n",
       "4552                                                                                                                                                                                                                                                                                                                                                                                                                                                                                                                                                                                                                                                                                                                                                                                                                                                                                                                                                                                                                                                                                                                                                                                                                                                                                                                     {'items': [{'title': 'Morganville, NJ, United States', 'id': 'here:cm:namedplace:21018120', 'resultType': 'locality', 'localityType': 'city', 'address': {'label': 'Morganville, NJ, United States', 'countryCode': 'USA', 'countryName': 'United States', 'stateCode': 'NJ', 'state': 'New Jersey', 'county': 'Monmouth', 'city': 'Morganville', 'postalCode': '07751'}, 'position': {'lat': 40.3742, 'lng': -74.24534}, 'mapView': {'west': -74.32607, 'south': 40.32246, 'east': -74.19979, 'north': 40.39499}, 'scoring': {'queryScore': 1.0, 'fieldScore': {'state': 1.0, 'city': 1.0}}}]}  \n",
       "36346                                                                                                                                                                                                                                                                                                                                                                                                                                                                                                                                                                                                                                                                                                                                                                                                                                                                                                                                                                                                                                                                                                                                                                                                                                                                                                                                                                                               {'items': [{'title': 'TX, United States', 'id': 'here:cm:namedplace:21015214', 'resultType': 'administrativeArea', 'administrativeAreaType': 'state', 'address': {'label': 'TX, United States', 'countryCode': 'USA', 'countryName': 'United States', 'stateCode': 'TX', 'state': 'Texas'}, 'position': {'lat': 30.26759, 'lng': -97.743}, 'mapView': {'west': -106.64595, 'south': 25.83706, 'east': -93.50835, 'north': 36.50066}, 'scoring': {'queryScore': 1.0, 'fieldScore': {'country': 1.0, 'state': 1.0}}}]}  \n",
       "6206                                                                                                                                                                                                                                                                                                                                                                                                                                                                                                                                                                                                                                                                                                                                                                                                                                                                                                                                                                                                                                                                                                                                                                                                                                                                                                                                                                                                           {'items': [{'title': 'LA, United States', 'id': 'here:cm:namedplace:21015135', 'resultType': 'administrativeArea', 'administrativeAreaType': 'state', 'address': {'label': 'LA, United States', 'countryCode': 'USA', 'countryName': 'United States', 'stateCode': 'LA', 'state': 'Louisiana'}, 'position': {'lat': 30.44335, 'lng': -91.18665}, 'mapView': {'west': -94.04333, 'south': 28.92869, 'east': -88.80943, 'north': 33.01971}, 'scoring': {'queryScore': 1.0, 'fieldScore': {'state': 1.0}}}]}  \n",
       "3263                                                                                                                                                                                                                                                                                                                                                                                                                                                                                                                                                                                                                                                                                                                                                                                                                                                                                                                                                                                                                                                                                                                                                                                                                                                                              {'items': [{'title': 'Horror Woods Ln, Denton, NC 27239, United States', 'id': 'here:af:street:T5AJVrJBli51tQvaz1tN3D', 'resultType': 'street', 'address': {'label': 'Horror Woods Ln, Denton, NC 27239, United States', 'countryCode': 'USA', 'countryName': 'United States', 'stateCode': 'NC', 'state': 'North Carolina', 'county': 'Davidson', 'city': 'Denton', 'street': 'Horror Woods Ln', 'postalCode': '27239'}, 'position': {'lat': 35.6907, 'lng': -80.1045}, 'mapView': {'west': -80.1056, 'south': 35.68922, 'east': -80.10406, 'north': 35.69236}, 'scoring': {'queryScore': 0.99, 'fieldScore': {'streets': [0.81]}}}]}  \n",
       "18379                                                                                                                                                                                                                                                                                                                                                                                                                                                                                                                                                                                                                                                                                                                                                                                                                                                                                                                                                                                                                                                                                                                                                                                                                                                                                                                                                                                                                                                                                                                                                                                                                                                                                                                                                                                                                                                                                                      {'items': []}  \n",
       "14434                                                                                                                                                                                                                                                                                                                                                                                                                                                                                                                                                                                                                                                                                                                                                                                                                                                                                                                                                                                                                                                                                                                                                                                                                                                                                                                                             {'items': [{'title': 'Adelaide, SA 5000, Australia', 'id': 'here:cm:namedplace:1469256875', 'resultType': 'locality', 'localityType': 'city', 'address': {'label': 'Adelaide, SA 5000, Australia', 'countryCode': 'AUS', 'countryName': 'Australia', 'stateCode': 'SA', 'state': 'South Australia', 'city': 'Adelaide', 'postalCode': '5000'}, 'position': {'lat': -34.92585, 'lng': 138.5998}, 'mapView': {'west': 138.4417, 'south': -35.34902, 'east': 138.78316, 'north': -34.64809}, 'scoring': {'queryScore': 1.0, 'fieldScore': {'state': 1.0, 'city': 1.0}}}]}  \n",
       "46465                                                                                                                                                                                                                                                                                                                                                                                                                                                                                                                                                                                                                                                                                                                                                                                                                                                                                                                                                                                                                                                                                                                                                                                                                                                                                                                                                                                                                                                           {'items': [{'title': 'United States', 'id': 'here:cm:namedplace:21000001', 'resultType': 'administrativeArea', 'administrativeAreaType': 'country', 'address': {'label': 'United States', 'countryCode': 'USA', 'countryName': 'United States'}, 'position': {'lat': 38.89036, 'lng': -77.03196}, 'mapView': {'west': -124.749, 'south': 24.5018, 'east': -66.9406, 'north': 49.3845}, 'scoring': {'queryScore': 1.0, 'fieldScore': {'country': 1.0}}}]}  \n",
       "26723                                                                                                                                                                                                                                                                                                                                                                                                                                                                                                                                                                                                                                                                                                                                                                                                                                                                                                                                                                                                                                                                                                                                                                                                                                                                                                                                                                                                                                                                                                                                                                                                                                                                                                                                                                                                                                                                                                      {'items': []}  \n",
       "38677                                                                                                                                                                                                                                                                                                                                                                                                                                                                                                                                                                                                                                                                                                                                                                                                                                                                                                                                                                                                                                                                                                                                                                                                                                                                                                                                                                                                      {'items': [{'title': 'CA, United States', 'id': 'here:cm:namedplace:21009408', 'resultType': 'administrativeArea', 'administrativeAreaType': 'state', 'address': {'label': 'CA, United States', 'countryCode': 'USA', 'countryName': 'United States', 'stateCode': 'CA', 'state': 'California'}, 'position': {'lat': 38.57944, 'lng': -121.49086}, 'mapView': {'west': -124.40962, 'south': 32.53429, 'east': -114.13084, 'north': 42.00946}, 'scoring': {'queryScore': 1.0, 'fieldScore': {'state': 1.0}}}]}  \n",
       "25811                                                                                                                                                                                                                                                                                                                                                                                                                                                                                                                                                                                                                                                                                                                                                                                                                                                                                                                                                                                                                                                                                                                                                                                                                                                                                                                                    {'items': [{'title': 'Atlanta, GA, United States', 'id': 'here:cm:namedplace:21024291', 'resultType': 'locality', 'localityType': 'city', 'address': {'label': 'Atlanta, GA, United States', 'countryCode': 'USA', 'countryName': 'United States', 'stateCode': 'GA', 'state': 'Georgia', 'county': 'Fulton', 'city': 'Atlanta', 'postalCode': '30303'}, 'position': {'lat': 33.74831, 'lng': -84.39111}, 'mapView': {'west': -84.65523, 'south': 33.56166, 'east': -84.21835, 'north': 34.00951}, 'scoring': {'queryScore': 1.0, 'fieldScore': {'state': 1.0, 'city': 1.0}}}]}  "
      ]
     },
     "execution_count": 111,
     "metadata": {},
     "output_type": "execute_result"
    }
   ],
   "source": [
    "tweets_df.sample(20)"
   ]
  },
  {
   "cell_type": "code",
   "execution_count": 164,
   "id": "7f653bc7",
   "metadata": {
    "ExecuteTime": {
     "end_time": "2022-08-22T03:08:22.324751Z",
     "start_time": "2022-08-22T03:08:22.314957Z"
    }
   },
   "outputs": [],
   "source": [
    "# if I want to get the other data from within the items dictionary. the code is:\n",
    "\n",
    "test = {'items': [{'title': \"Portland Int'l Airport\", \n",
    "                   'id': 'here:pds:place:840jx7ps-f600e90fa5b80f981e83be335737333c', \n",
    "                   'resultType': 'place', 'address': {'label': \"Portland Int'l Airport, 7000 NE Airport Way, Portland, OR 97218, United States\", 'countryCode': 'USA', 'countryName': 'United States', 'stateCode': 'OR', 'state': 'Oregon', 'county': 'Multnomah', 'city': 'Portland', 'street': 'NE Airport Way', 'postalCode': '97218', 'houseNumber': '7000'}, 'position': {'lat': 45.58834, 'lng': -122.58838}, 'access': [{'lat': 45.58834, 'lng': -122.58838}], 'categories': [{'id': '400-4000-4581', 'name': 'Airport', 'primary': True}], 'scoring': {'queryScore': 1.0, 'fieldScore': {'placeName': 1.0}}}]}   \n",
    "    "
   ]
  },
  {
   "cell_type": "code",
   "execution_count": 170,
   "id": "a955f1d8",
   "metadata": {
    "ExecuteTime": {
     "end_time": "2022-08-22T03:09:32.452655Z",
     "start_time": "2022-08-22T03:09:32.435818Z"
    }
   },
   "outputs": [
    {
     "name": "stdout",
     "output_type": "stream",
     "text": [
      "USA\n"
     ]
    }
   ],
   "source": [
    "if len(test['items']) > 0:\n",
    "    print(test['items'][0]['address']['countryCode'])"
   ]
  },
  {
   "cell_type": "code",
   "execution_count": 148,
   "id": "8c9869a0",
   "metadata": {
    "ExecuteTime": {
     "end_time": "2022-08-22T02:48:38.658878Z",
     "start_time": "2022-08-22T02:48:38.595289Z"
    }
   },
   "outputs": [
    {
     "ename": "IndexError",
     "evalue": "list index out of range",
     "output_type": "error",
     "traceback": [
      "\u001b[0;31m-------------------------------------------------------------------------\u001b[0m",
      "\u001b[0;31mIndexError\u001b[0m                              Traceback (most recent call last)",
      "\u001b[0;32m<ipython-input-148-f968f591531a>\u001b[0m in \u001b[0;36m<module>\u001b[0;34m\u001b[0m\n\u001b[1;32m      1\u001b[0m \u001b[0;32mfor\u001b[0m \u001b[0mx\u001b[0m\u001b[0;34m,\u001b[0m\u001b[0my\u001b[0m \u001b[0;32min\u001b[0m \u001b[0mtest\u001b[0m\u001b[0;34m.\u001b[0m\u001b[0mitems\u001b[0m\u001b[0;34m(\u001b[0m\u001b[0;34m)\u001b[0m\u001b[0;34m:\u001b[0m\u001b[0;34m\u001b[0m\u001b[0;34m\u001b[0m\u001b[0m\n\u001b[0;32m----> 2\u001b[0;31m     \u001b[0mprint\u001b[0m\u001b[0;34m(\u001b[0m\u001b[0my\u001b[0m\u001b[0;34m[\u001b[0m\u001b[0;36m0\u001b[0m\u001b[0;34m]\u001b[0m\u001b[0;34m[\u001b[0m\u001b[0;34m'address'\u001b[0m\u001b[0;34m]\u001b[0m\u001b[0;34m[\u001b[0m\u001b[0;34m'countryName'\u001b[0m\u001b[0;34m]\u001b[0m\u001b[0;34m)\u001b[0m\u001b[0;34m\u001b[0m\u001b[0;34m\u001b[0m\u001b[0m\n\u001b[0m",
      "\u001b[0;31mIndexError\u001b[0m: list index out of range"
     ]
    }
   ],
   "source": [
    "for x,y in test.items():\n",
    "    print(y[0]['address']['countryName'])"
   ]
  },
  {
   "cell_type": "code",
   "execution_count": 194,
   "id": "57a4e3fc",
   "metadata": {
    "ExecuteTime": {
     "end_time": "2022-08-22T03:15:34.481621Z",
     "start_time": "2022-08-22T03:15:34.475448Z"
    }
   },
   "outputs": [],
   "source": [
    "def getCountryName(data):\n",
    "    \n",
    "    for x,y in data.items():\n",
    "        if len(data['items']) > 0:\n",
    "            country = y[0]['address']['countryName']\n",
    "        else:\n",
    "            country = float('Nan')\n",
    "    \n",
    "        return country\n",
    "    "
   ]
  },
  {
   "cell_type": "code",
   "execution_count": 195,
   "id": "15320cbe",
   "metadata": {
    "ExecuteTime": {
     "end_time": "2022-08-22T03:15:34.815239Z",
     "start_time": "2022-08-22T03:15:34.804347Z"
    }
   },
   "outputs": [],
   "source": [
    "def getCountryCode(data):\n",
    "    \n",
    "    for x,y in data.items():\n",
    "        if len(data['items']) > 0:\n",
    "            country_code = y[0]['address']['countryCode']\n",
    "        else:\n",
    "            country_code = float('Nan')\n",
    "    \n",
    "        return country_code"
   ]
  },
  {
   "cell_type": "code",
   "execution_count": 196,
   "id": "e71f4c92",
   "metadata": {
    "ExecuteTime": {
     "end_time": "2022-08-22T03:15:35.255810Z",
     "start_time": "2022-08-22T03:15:35.111058Z"
    }
   },
   "outputs": [],
   "source": [
    "tweets_df['country_name'] = tweets_df['general_location_data'].apply(getCountryName)"
   ]
  },
  {
   "cell_type": "code",
   "execution_count": 197,
   "id": "ea3c7020",
   "metadata": {
    "ExecuteTime": {
     "end_time": "2022-08-22T03:15:35.549701Z",
     "start_time": "2022-08-22T03:15:35.406854Z"
    }
   },
   "outputs": [],
   "source": [
    "tweets_df['country_code'] = tweets_df['general_location_data'].apply(getCountryCode)"
   ]
  },
  {
   "cell_type": "code",
   "execution_count": 199,
   "id": "db51f4f4",
   "metadata": {
    "ExecuteTime": {
     "end_time": "2022-08-22T03:15:53.434248Z",
     "start_time": "2022-08-22T03:15:53.177400Z"
    }
   },
   "outputs": [
    {
     "data": {
      "text/html": [
       "<div>\n",
       "<style scoped>\n",
       "    .dataframe tbody tr th:only-of-type {\n",
       "        vertical-align: middle;\n",
       "    }\n",
       "\n",
       "    .dataframe tbody tr th {\n",
       "        vertical-align: top;\n",
       "    }\n",
       "\n",
       "    .dataframe thead th {\n",
       "        text-align: right;\n",
       "    }\n",
       "</style>\n",
       "<table border=\"1\" class=\"dataframe\">\n",
       "  <thead>\n",
       "    <tr style=\"text-align: right;\">\n",
       "      <th></th>\n",
       "      <th>tweet_full_text</th>\n",
       "      <th>tweet_created_at</th>\n",
       "      <th>tweet_id</th>\n",
       "      <th>tweet_username</th>\n",
       "      <th>tweet_user_screename</th>\n",
       "      <th>tweet_userid_str</th>\n",
       "      <th>tweet_user_location</th>\n",
       "      <th>tweet_user_verified</th>\n",
       "      <th>tweet_user_followers_count</th>\n",
       "      <th>tweet_user_friends_count</th>\n",
       "      <th>tweet_user_listed_count</th>\n",
       "      <th>tweet_user_created_at</th>\n",
       "      <th>tweet_retweet_count</th>\n",
       "      <th>tweet_favorite_count</th>\n",
       "      <th>general_location_data</th>\n",
       "      <th>country</th>\n",
       "      <th>country_name</th>\n",
       "      <th>country_code</th>\n",
       "    </tr>\n",
       "  </thead>\n",
       "  <tbody>\n",
       "    <tr>\n",
       "      <th>11534</th>\n",
       "      <td>Do they ever walk on the pavement on #Euphoria 😂 always walking on the middle of the rd. Absolutely LOVING it tho.</td>\n",
       "      <td>2022-02-09 12:33:26</td>\n",
       "      <td>1.491390e+18</td>\n",
       "      <td>cheryl</td>\n",
       "      <td>cheryl19899</td>\n",
       "      <td>2.101929e+08</td>\n",
       "      <td>bolton</td>\n",
       "      <td>False</td>\n",
       "      <td>244.0</td>\n",
       "      <td>1495.0</td>\n",
       "      <td>2.0</td>\n",
       "      <td>2010-10-30 20:10:37</td>\n",
       "      <td>0.0</td>\n",
       "      <td>0.0</td>\n",
       "      <td>{'items': [{'title': 'Bolton, England, United Kingdom', 'id': 'here:cm:namedplace:20343985', 'resultType': 'locality', 'localityType': 'city', 'address': {'label': 'Bolton, England, United Kingdom', 'countryCode': 'GBR', 'countryName': 'United Kingdom', 'state': 'England', 'countyCode': 'LAN', 'county': 'Lancashire', 'city': 'Bolton', 'postalCode': 'BL1 1'}, 'position': {'lat': 53.57843, 'lng': -2.42666}, 'mapView': {'west': -2.61307, 'south': 53.52615, 'east': -2.34197, 'north': 53.69518}, 'scoring': {'queryScore': 1.0, 'fieldScore': {'city': 1.0}}}, {'title': 'Bolton, CT, United States', 'id': 'here:cm:namedplace:21171604', 'resultType': 'locality', 'localityType': 'city', 'address': {'label': 'Bolton, CT, United States', 'countryCode': 'USA', 'countryName': 'United States', 'stateCode': 'CT', 'state': 'Connecticut', 'county': 'Tolland', 'city': 'Bolton', 'postalCode': '06043'}, 'position': {'lat': 41.79117, 'lng': -72.44233}, 'mapView': {'west': -72.47337, 'south': 41.73027, 'east': -72.40466, 'north': 41.80673}, 'scoring': {'queryScore': 1.0, 'fieldScore': {'city': 1.0}}}, {'title': 'Bolton, MA, United States', 'id': 'here:cm:namedplace:21170809', 'resultType': 'locality', 'localityType': 'city', 'address': {'label': 'Bolton, MA, United States', 'countryCode': 'USA', 'countryName': 'United States', 'stateCode': 'MA', 'state': 'Massachusetts', 'county': 'Worcester', 'city': 'Bolton', 'postalCode': '01740'}, 'position': {'lat': 42.45174, 'lng': -71.63776}, 'mapView': {'west': -71.66068, 'south': 42.39769, 'east': -71.55044, 'north': 42.47314}, 'scoring': {'queryScore': 1.0, 'fieldScore': {'city': 1.0}}}, {'title': 'Bolton, MS, United States', 'id': 'here:cm:namedplace:21036614', 'resultType': 'locality', 'localityType': 'city', 'address': {'label': 'Bolton, MS, United States', 'countryCode': 'USA', 'countryName': 'United States', 'stateCode': 'MS', 'state': 'Mississippi', 'county': 'Hinds', 'city': 'Bolton', 'postalCode': '39041'}, 'position': {'lat': 32.34997, 'lng': -90.46003}, 'mapView': {'west': -90.58834, 'south': 32.28291, 'east': -90.37034, 'north': 32.52798}, 'scoring': {'queryScore': 1.0, 'fieldScore': {'city': 1.0}}}, {'title': 'Bolton, NC, United States', 'id': 'here:cm:namedplace:21025100', 'resultType': 'locality', 'localityType': 'city', 'address': {'label': 'Bolton, NC, United States', 'countryCode': 'USA', 'countryName': 'United States', 'stateCode': 'NC', 'state': 'North Carolina', 'county': 'Columbus', 'city': 'Bolton', 'postalCode': '28423'}, 'position': {'lat': 34.32128, 'lng': -78.4185}, 'mapView': {'west': -78.41921, 'south': 34.30529, 'east': -78.37661, 'north': 34.33001}, 'scoring': {'queryScore': 1.0, 'fieldScore': {'city': 1.0}}}, {'title': 'Bolton, VIC 3546, Australia', 'id': 'here:cm:namedplace:1469256595', 'resultType': 'locality', 'localityType': 'city', 'address': {'label': 'Bolton, VIC 3546, Australia', 'countryCode': 'AUS', 'countryName': 'Australia', 'stateCode': 'VIC', 'state': 'Victoria', 'city': 'Bolton', 'postalCode': '3546'}, 'position': {'lat': -34.96602, 'lng': 142.87892}, 'mapView': {'west': 142.83099, 'south': -34.99916, 'east': 143.0357, 'north': -34.92383}, 'scoring': {'queryScore': 1.0, 'fieldScore': {'city': 1.0}}}, {'title': 'Bolton, NY, United States', 'id': 'here:cm:namedplace:21020062', 'resultType': 'locality', 'localityType': 'city', 'address': {'label': 'Bolton, NY, United States', 'countryCode': 'USA', 'countryName': 'United States', 'stateCode': 'NY', 'state': 'New York', 'county': 'Warren', 'city': 'Bolton', 'postalCode': '12814'}, 'position': {'lat': 43.53688, 'lng': -73.66744}, 'mapView': {'west': -73.75097, 'south': 43.47475, 'east': -73.52533, 'north': 43.67837}, 'scoring': {'queryScore': 1.0, 'fieldScore': {'city': 1.0}}}, {'title': 'Bolton, VT, United States', 'id': 'here:cm:namedplace:21133745', 'resultType': 'locality', 'localityType': 'city', 'address': {'label': 'Bolton, VT, United States', 'countryCode': 'USA', 'countryName': 'United States', 'stateCode': 'VT', 'state': 'Vermont', 'county': 'Chittenden', 'city': 'Bolton', 'postalCode': '05676'}, 'position': {'lat': 44.37981, 'lng': -72.91456}, 'mapView': {'west': -72.95402, 'south': 44.32996, 'east': -72.8045, 'north': 44.47028}, 'scoring': {'queryScore': 1.0, 'fieldScore': {'city': 1.0}}}]}</td>\n",
       "      <td>NaN</td>\n",
       "      <td>United Kingdom</td>\n",
       "      <td>GBR</td>\n",
       "    </tr>\n",
       "    <tr>\n",
       "      <th>6365</th>\n",
       "      <td>Nintendo Switch with Neon Blue and Neon Red Joy‑Con \\n\\n$299.00 with the link below!\\n\\nhttps://t.co/VlpFEEMmmm\\n\\n#Euphoria #BTC #ETH #Crypto #iHeartAwards</td>\n",
       "      <td>2022-02-18 00:46:22</td>\n",
       "      <td>1.494473e+18</td>\n",
       "      <td>Marzani Tech.</td>\n",
       "      <td>MarzaniOfficial</td>\n",
       "      <td>1.460510e+18</td>\n",
       "      <td>No Location</td>\n",
       "      <td>False</td>\n",
       "      <td>469.0</td>\n",
       "      <td>467.0</td>\n",
       "      <td>0.0</td>\n",
       "      <td>2021-11-16 07:26:50</td>\n",
       "      <td>1.0</td>\n",
       "      <td>1.0</td>\n",
       "      <td>{'items': []}</td>\n",
       "      <td>NaN</td>\n",
       "      <td>NaN</td>\n",
       "      <td>NaN</td>\n",
       "    </tr>\n",
       "    <tr>\n",
       "      <th>32370</th>\n",
       "      <td>i need more faye in season 3 #Euphoria</td>\n",
       "      <td>2022-02-28 06:11:11</td>\n",
       "      <td>1.498179e+18</td>\n",
       "      <td>garbo⛓</td>\n",
       "      <td>siamesecalicos</td>\n",
       "      <td>1.447727e+18</td>\n",
       "      <td>No Location</td>\n",
       "      <td>False</td>\n",
       "      <td>1.0</td>\n",
       "      <td>220.0</td>\n",
       "      <td>0.0</td>\n",
       "      <td>2021-10-12 00:53:49</td>\n",
       "      <td>0.0</td>\n",
       "      <td>0.0</td>\n",
       "      <td>{'items': []}</td>\n",
       "      <td>NaN</td>\n",
       "      <td>NaN</td>\n",
       "      <td>NaN</td>\n",
       "    </tr>\n",
       "    <tr>\n",
       "      <th>31683</th>\n",
       "      <td>Maddy and Cassie are gonna have to run this back cause Cassie needs to get these hands. #Euphoria</td>\n",
       "      <td>2022-02-07 19:24:43</td>\n",
       "      <td>1.490769e+18</td>\n",
       "      <td>A. Karl-Heinz 🇨🇲</td>\n",
       "      <td>MrJayBreezy</td>\n",
       "      <td>3.302159e+07</td>\n",
       "      <td>Manchester, England</td>\n",
       "      <td>False</td>\n",
       "      <td>821.0</td>\n",
       "      <td>506.0</td>\n",
       "      <td>0.0</td>\n",
       "      <td>2009-04-18 21:40:21</td>\n",
       "      <td>0.0</td>\n",
       "      <td>0.0</td>\n",
       "      <td>{'items': [{'title': 'Manchester, England, United Kingdom', 'id': 'here:cm:namedplace:20344206', 'resultType': 'locality', 'localityType': 'city', 'address': {'label': 'Manchester, England, United Kingdom', 'countryCode': 'GBR', 'countryName': 'United Kingdom', 'state': 'England', 'countyCode': 'LAN', 'county': 'Lancashire', 'city': 'Manchester', 'postalCode': 'M3 3'}, 'position': {'lat': 53.47959, 'lng': -2.24874}, 'mapView': {'west': -2.51704, 'south': 53.35585, 'east': -2.08913, 'north': 53.58981}, 'scoring': {'queryScore': 1.0, 'fieldScore': {'state': 1.0, 'city': 1.0}}}]}</td>\n",
       "      <td>NaN</td>\n",
       "      <td>United Kingdom</td>\n",
       "      <td>GBR</td>\n",
       "    </tr>\n",
       "    <tr>\n",
       "      <th>4444</th>\n",
       "      <td>✨Depression✨ @ashleyippolito\\n#EuphoriaHBOMax https://t.co/qXi42Cizgt</td>\n",
       "      <td>2022-02-19 06:41:08</td>\n",
       "      <td>1.494925e+18</td>\n",
       "      <td>Atypical_Saturn</td>\n",
       "      <td>AtypicalSaturn</td>\n",
       "      <td>1.477969e+18</td>\n",
       "      <td>No Location</td>\n",
       "      <td>False</td>\n",
       "      <td>1.0</td>\n",
       "      <td>41.0</td>\n",
       "      <td>0.0</td>\n",
       "      <td>2022-01-03 11:44:25</td>\n",
       "      <td>0.0</td>\n",
       "      <td>0.0</td>\n",
       "      <td>{'items': []}</td>\n",
       "      <td>NaN</td>\n",
       "      <td>NaN</td>\n",
       "      <td>NaN</td>\n",
       "    </tr>\n",
       "    <tr>\n",
       "      <th>7891</th>\n",
       "      <td>Maddy: “really bitch how”\\nLady officer\\n#Euphoria \\n@chiseledadonis https://t.co/93BcPtd4Cq</td>\n",
       "      <td>2022-01-27 00:34:30</td>\n",
       "      <td>1.486498e+18</td>\n",
       "      <td>Smoove in Space😋</td>\n",
       "      <td>djxx_td</td>\n",
       "      <td>1.215785e+18</td>\n",
       "      <td>No Location</td>\n",
       "      <td>False</td>\n",
       "      <td>51.0</td>\n",
       "      <td>286.0</td>\n",
       "      <td>0.0</td>\n",
       "      <td>2020-01-10 23:57:11</td>\n",
       "      <td>0.0</td>\n",
       "      <td>0.0</td>\n",
       "      <td>{'items': []}</td>\n",
       "      <td>NaN</td>\n",
       "      <td>NaN</td>\n",
       "      <td>NaN</td>\n",
       "    </tr>\n",
       "    <tr>\n",
       "      <th>47988</th>\n",
       "      <td>Between #PowerBookIIGhost and #Euphoria I am in a mood. Wow. What episodes.</td>\n",
       "      <td>2022-01-31 04:32:04</td>\n",
       "      <td>1.488007e+18</td>\n",
       "      <td>Noble</td>\n",
       "      <td>NobleManNYC</td>\n",
       "      <td>1.132885e+08</td>\n",
       "      <td>ÜT: 40.814675,-73.957991</td>\n",
       "      <td>False</td>\n",
       "      <td>43.0</td>\n",
       "      <td>131.0</td>\n",
       "      <td>0.0</td>\n",
       "      <td>2010-02-11 08:36:07</td>\n",
       "      <td>0.0</td>\n",
       "      <td>0.0</td>\n",
       "      <td>{'items': []}</td>\n",
       "      <td>NaN</td>\n",
       "      <td>NaN</td>\n",
       "      <td>NaN</td>\n",
       "    </tr>\n",
       "    <tr>\n",
       "      <th>26973</th>\n",
       "      <td>Right like damn. Zendaya ate I’m tired song 🆑😭💔 #EuphoriaHBO #Euphoria #EuphoriaFinale https://t.co/Smw2p6x8wL</td>\n",
       "      <td>2022-02-28 07:29:43</td>\n",
       "      <td>1.498199e+18</td>\n",
       "      <td>fubihhhh</td>\n",
       "      <td>fubihhhh</td>\n",
       "      <td>8.280221e+17</td>\n",
       "      <td>there</td>\n",
       "      <td>False</td>\n",
       "      <td>22.0</td>\n",
       "      <td>249.0</td>\n",
       "      <td>0.0</td>\n",
       "      <td>2017-02-04 23:26:59</td>\n",
       "      <td>0.0</td>\n",
       "      <td>2.0</td>\n",
       "      <td>{'items': [{'title': 'Over There, Mafube, Free State, South Africa', 'id': 'here:cm:poi:1038998700', 'resultType': 'locality', 'localityType': 'district', 'address': {'label': 'Over There, Mafube, Free State, South Africa', 'countryCode': 'ZAF', 'countryName': 'South Africa', 'state': 'Free State', 'county': 'Mafube', 'city': 'Mafube', 'district': 'Over There'}, 'position': {'lat': -27.38491, 'lng': 28.28702}, 'mapView': {'west': 28.28649, 'south': -27.38551, 'east': 28.28782, 'north': -27.38462}, 'scoring': {'queryScore': 0.99, 'fieldScore': {'district': 0.56}}}, {'title': 'There Gaon, Phuloni, Assam, India', 'id': 'here:cm:poi:1115503150', 'resultType': 'locality', 'localityType': 'district', 'address': {'label': 'There Gaon, Phuloni, Assam, India', 'countryCode': 'IND', 'countryName': 'India', 'stateCode': 'AS', 'state': 'Assam', 'county': 'East Karbi Anglong', 'city': 'Phuloni', 'district': 'There Gaon'}, 'position': {'lat': 26.19943, 'lng': 93.05239}, 'mapView': {'west': 93.05224, 'south': 26.19798, 'east': 93.05241, 'north': 26.20091}, 'scoring': {'queryScore': 0.99, 'fieldScore': {'district': 0.56}}}]}</td>\n",
       "      <td>NaN</td>\n",
       "      <td>South Africa</td>\n",
       "      <td>ZAF</td>\n",
       "    </tr>\n",
       "    <tr>\n",
       "      <th>19573</th>\n",
       "      <td>#EuphoriaHBOMax\\n\\nI have free real secure vpn\\nWithout problems\\nWithout ads\\nWthout sign up\\nGo to @OpenVpnPro1 \\nTo watch the explanation\\nPlease retweet if you like my vpn</td>\n",
       "      <td>2022-02-28 11:45:47</td>\n",
       "      <td>1.498263e+18</td>\n",
       "      <td>free vpn access clients</td>\n",
       "      <td>OpenVpnPro1</td>\n",
       "      <td>1.289643e+18</td>\n",
       "      <td>No Location</td>\n",
       "      <td>False</td>\n",
       "      <td>104.0</td>\n",
       "      <td>192.0</td>\n",
       "      <td>0.0</td>\n",
       "      <td>2020-08-01 19:23:29</td>\n",
       "      <td>0.0</td>\n",
       "      <td>0.0</td>\n",
       "      <td>{'items': []}</td>\n",
       "      <td>NaN</td>\n",
       "      <td>NaN</td>\n",
       "      <td>NaN</td>\n",
       "    </tr>\n",
       "    <tr>\n",
       "      <th>7531</th>\n",
       "      <td>Was I the only one disappointed in the Maddy and Cassie fight???? REWRITE THE SCRIPT AND DO IT AGAIN. I need to speak to a manager #EuphoriaHBOMax https://t.co/K5bwBa6XHg</td>\n",
       "      <td>2022-02-28 18:36:52</td>\n",
       "      <td>1.498367e+18</td>\n",
       "      <td>Xavier</td>\n",
       "      <td>itsprofessorex</td>\n",
       "      <td>2.633315e+08</td>\n",
       "      <td>Houston, TX</td>\n",
       "      <td>False</td>\n",
       "      <td>689.0</td>\n",
       "      <td>490.0</td>\n",
       "      <td>2.0</td>\n",
       "      <td>2011-03-09 21:01:55</td>\n",
       "      <td>0.0</td>\n",
       "      <td>0.0</td>\n",
       "      <td>{'items': [{'title': 'Houston, TX, United States', 'id': 'here:cm:namedplace:21015993', 'resultType': 'locality', 'localityType': 'city', 'address': {'label': 'Houston, TX, United States', 'countryCode': 'USA', 'countryName': 'United States', 'stateCode': 'TX', 'state': 'Texas', 'county': 'Harris', 'city': 'Houston', 'postalCode': '77002'}, 'position': {'lat': 29.76078, 'lng': -95.36952}, 'mapView': {'west': -95.90982, 'south': 29.52225, 'east': -95.01264, 'north': 30.13145}, 'scoring': {'queryScore': 1.0, 'fieldScore': {'state': 1.0, 'city': 1.0}}}]}</td>\n",
       "      <td>NaN</td>\n",
       "      <td>United States</td>\n",
       "      <td>USA</td>\n",
       "    </tr>\n",
       "    <tr>\n",
       "      <th>180</th>\n",
       "      <td>Fez better ask ms Lexi Howard out tonight before I do #euphoriaday #Euphoria</td>\n",
       "      <td>2022-01-23 22:57:43</td>\n",
       "      <td>1.485386e+18</td>\n",
       "      <td>Mineydi 🛸</td>\n",
       "      <td>mineydi_xo</td>\n",
       "      <td>4.608927e+09</td>\n",
       "      <td>Tx 🤠</td>\n",
       "      <td>False</td>\n",
       "      <td>498.0</td>\n",
       "      <td>484.0</td>\n",
       "      <td>1.0</td>\n",
       "      <td>2015-12-20 03:45:42</td>\n",
       "      <td>1.0</td>\n",
       "      <td>2.0</td>\n",
       "      <td>{'items': [{'title': 'TX, United States', 'id': 'here:cm:namedplace:21015214', 'resultType': 'administrativeArea', 'administrativeAreaType': 'state', 'address': {'label': 'TX, United States', 'countryCode': 'USA', 'countryName': 'United States', 'stateCode': 'TX', 'state': 'Texas'}, 'position': {'lat': 30.26759, 'lng': -97.743}, 'mapView': {'west': -106.64595, 'south': 25.83706, 'east': -93.50835, 'north': 36.50066}, 'scoring': {'queryScore': 0.5, 'fieldScore': {'state': 1.0}}}]}</td>\n",
       "      <td>NaN</td>\n",
       "      <td>United States</td>\n",
       "      <td>USA</td>\n",
       "    </tr>\n",
       "    <tr>\n",
       "      <th>15705</th>\n",
       "      <td>please can we see Derek again, that’s all I ask #Euphoria</td>\n",
       "      <td>2022-02-01 04:23:00</td>\n",
       "      <td>1.488367e+18</td>\n",
       "      <td>disco man🕺</td>\n",
       "      <td>user2936291</td>\n",
       "      <td>1.480383e+18</td>\n",
       "      <td>No Location</td>\n",
       "      <td>False</td>\n",
       "      <td>5.0</td>\n",
       "      <td>82.0</td>\n",
       "      <td>0.0</td>\n",
       "      <td>2022-01-10 03:34:35</td>\n",
       "      <td>0.0</td>\n",
       "      <td>1.0</td>\n",
       "      <td>{'items': []}</td>\n",
       "      <td>NaN</td>\n",
       "      <td>NaN</td>\n",
       "      <td>NaN</td>\n",
       "    </tr>\n",
       "    <tr>\n",
       "      <th>44437</th>\n",
       "      <td>They did all that for a Fucking Truly Variety 12 Pack  #Euphoria https://t.co/oAIFAZgpI6</td>\n",
       "      <td>2022-01-31 05:03:23</td>\n",
       "      <td>1.488015e+18</td>\n",
       "      <td>𝓞𝓼𝓬𝓪𝓻 𝓗.🧸</td>\n",
       "      <td>510oscar510_</td>\n",
       "      <td>1.102725e+18</td>\n",
       "      <td>Oakland, CA</td>\n",
       "      <td>False</td>\n",
       "      <td>2517.0</td>\n",
       "      <td>2045.0</td>\n",
       "      <td>0.0</td>\n",
       "      <td>2019-03-05 00:17:50</td>\n",
       "      <td>0.0</td>\n",
       "      <td>11.0</td>\n",
       "      <td>{'items': [{'title': 'Oakland, CA, United States', 'id': 'here:cm:namedplace:21009424', 'resultType': 'locality', 'localityType': 'city', 'address': {'label': 'Oakland, CA, United States', 'countryCode': 'USA', 'countryName': 'United States', 'stateCode': 'CA', 'state': 'California', 'county': 'Alameda', 'city': 'Oakland', 'postalCode': '94612'}, 'position': {'lat': 37.80508, 'lng': -122.27307}, 'mapView': {'west': -122.34263, 'south': 37.69923, 'east': -122.11436, 'north': 37.88536}, 'scoring': {'queryScore': 1.0, 'fieldScore': {'state': 1.0, 'city': 1.0}}}]}</td>\n",
       "      <td>NaN</td>\n",
       "      <td>United States</td>\n",
       "      <td>USA</td>\n",
       "    </tr>\n",
       "    <tr>\n",
       "      <th>1266</th>\n",
       "      <td>Super Bowl this Super Bowl that , &amp;amp; the only thing I’m worried about is #EuphoriaHBOMax #EuphoriaSunday ‼️</td>\n",
       "      <td>2022-02-13 19:47:59</td>\n",
       "      <td>1.492949e+18</td>\n",
       "      <td>damnDEE.</td>\n",
       "      <td>TheyJstLuvDEE</td>\n",
       "      <td>5.731372e+08</td>\n",
       "      <td>TX MF thats where I stay 🤘🏽</td>\n",
       "      <td>False</td>\n",
       "      <td>318.0</td>\n",
       "      <td>358.0</td>\n",
       "      <td>1.0</td>\n",
       "      <td>2012-05-06 22:02:11</td>\n",
       "      <td>0.0</td>\n",
       "      <td>0.0</td>\n",
       "      <td>{'items': []}</td>\n",
       "      <td>NaN</td>\n",
       "      <td>NaN</td>\n",
       "      <td>NaN</td>\n",
       "    </tr>\n",
       "    <tr>\n",
       "      <th>7682</th>\n",
       "      <td>“It could be worse, it could be boring” #Euphoria</td>\n",
       "      <td>2022-02-28 18:31:37</td>\n",
       "      <td>1.498365e+18</td>\n",
       "      <td>S A N I E</td>\n",
       "      <td>sanie_watchesTV</td>\n",
       "      <td>8.258734e+17</td>\n",
       "      <td>No Location</td>\n",
       "      <td>False</td>\n",
       "      <td>74.0</td>\n",
       "      <td>299.0</td>\n",
       "      <td>0.0</td>\n",
       "      <td>2017-01-30 01:08:53</td>\n",
       "      <td>0.0</td>\n",
       "      <td>0.0</td>\n",
       "      <td>{'items': []}</td>\n",
       "      <td>NaN</td>\n",
       "      <td>NaN</td>\n",
       "      <td>NaN</td>\n",
       "    </tr>\n",
       "    <tr>\n",
       "      <th>11692</th>\n",
       "      <td>#Sanremo2022 Come on #EuphoriaHBO we need Damiano on the show, we deserve it https://t.co/9Hx4fPXxMd</td>\n",
       "      <td>2022-02-01 22:23:17</td>\n",
       "      <td>1.488639e+18</td>\n",
       "      <td>Orad'aria</td>\n",
       "      <td>AriaOrad</td>\n",
       "      <td>1.199663e+18</td>\n",
       "      <td>No Location</td>\n",
       "      <td>False</td>\n",
       "      <td>3.0</td>\n",
       "      <td>83.0</td>\n",
       "      <td>0.0</td>\n",
       "      <td>2019-11-27 12:14:40</td>\n",
       "      <td>0.0</td>\n",
       "      <td>6.0</td>\n",
       "      <td>{'items': []}</td>\n",
       "      <td>NaN</td>\n",
       "      <td>NaN</td>\n",
       "      <td>NaN</td>\n",
       "    </tr>\n",
       "    <tr>\n",
       "      <th>9298</th>\n",
       "      <td>Faye is the real MVP #Euphoria</td>\n",
       "      <td>2022-02-28 17:38:02</td>\n",
       "      <td>1.498352e+18</td>\n",
       "      <td>JQ</td>\n",
       "      <td>jnquill</td>\n",
       "      <td>4.375638e+07</td>\n",
       "      <td>No Location</td>\n",
       "      <td>False</td>\n",
       "      <td>448.0</td>\n",
       "      <td>421.0</td>\n",
       "      <td>5.0</td>\n",
       "      <td>2009-05-31 21:09:25</td>\n",
       "      <td>0.0</td>\n",
       "      <td>0.0</td>\n",
       "      <td>{'items': []}</td>\n",
       "      <td>NaN</td>\n",
       "      <td>NaN</td>\n",
       "      <td>NaN</td>\n",
       "    </tr>\n",
       "    <tr>\n",
       "      <th>12798</th>\n",
       "      <td>I've just watched episode S02 | E02 'Out of Touch' of 'Euphoria (US)'! \\n#euphoria ?  https://t.co/vhFzLZGGc0 #tvtime https://t.co/sbQaPPY0V0</td>\n",
       "      <td>2022-02-01 17:43:44</td>\n",
       "      <td>1.488569e+18</td>\n",
       "      <td>andra</td>\n",
       "      <td>hopperpaski</td>\n",
       "      <td>1.169526e+18</td>\n",
       "      <td>wildflowers meadow</td>\n",
       "      <td>False</td>\n",
       "      <td>453.0</td>\n",
       "      <td>461.0</td>\n",
       "      <td>0.0</td>\n",
       "      <td>2019-09-05 08:22:26</td>\n",
       "      <td>0.0</td>\n",
       "      <td>0.0</td>\n",
       "      <td>{'items': [{'title': 'Wildflowers Ct, Mississauga, ON L5N, Canada', 'id': 'here:af:street:yT4.isjB95sBf7yKsJQEVC', 'resultType': 'street', 'address': {'label': 'Wildflowers Ct, Mississauga, ON L5N, Canada', 'countryCode': 'CAN', 'countryName': 'Canada', 'stateCode': 'ON', 'state': 'Ontario', 'county': 'Peel', 'city': 'Mississauga', 'district': 'Meadowvale', 'street': 'Wildflowers Ct', 'postalCode': 'L5N'}, 'position': {'lat': 43.58017, 'lng': -79.77333}, 'mapView': {'west': -79.77385, 'south': 43.57938, 'east': -79.77306, 'north': 43.58054}, 'scoring': {'queryScore': 0.99, 'fieldScore': {'district': 0.6, 'streets': [0.9]}}}, {'title': 'Wildflower Ln, Meadow Bridge, WV 25976, United States', 'id': 'here:af:streetsection:pBpZVjZNzbXSQExWndVXJD', 'resultType': 'street', 'address': {'label': 'Wildflower Ln, Meadow Bridge, WV 25976, United States', 'countryCode': 'USA', 'countryName': 'United States', 'stateCode': 'WV', 'state': 'West Virginia', 'county': 'Summers', 'city': 'Meadow Bridge', 'street': 'Wildflower Ln', 'postalCode': '25976'}, 'position': {'lat': 37.84158, 'lng': -80.82787}, 'mapView': {'west': -80.828, 'south': 37.8413, 'east': -80.82741, 'north': 37.84234}, 'scoring': {'queryScore': 0.94, 'fieldScore': {'city': 0.5, 'streets': [0.85]}}}, {'title': 'Flower Ln, East Meadow, NY 11554, United States', 'id': 'here:af:street:BK.sePKgp5gb6jBsOaKyBD', 'resultType': 'street', 'address': {'label': 'Flower Ln, East Meadow, NY 11554, United States', 'countryCode': 'USA', 'countryName': 'United States', 'stateCode': 'NY', 'state': 'New York', 'county': 'Nassau', 'city': 'East Meadow', 'street': 'Flower Ln', 'postalCode': '11554'}, 'position': {'lat': 40.70482, 'lng': -73.56219}, 'mapView': {'west': -73.56309, 'south': 40.7047, 'east': -73.56159, 'north': 40.70554}, 'scoring': {'queryScore': 0.71, 'fieldScore': {'city': 0.86, 'streets': [0.85]}}}, {'title': 'Wild Flower Trl, Alabaster, AL 35007, United States', 'id': 'here:af:streetsection:Tq-yoYLqSnSDH-kmk--pPA', 'resultType': 'street', 'address': {'label': 'Wild Flower Trl, Alabaster, AL 35007, United States', 'countryCode': 'USA', 'countryName': 'United States', 'stateCode': 'AL', 'state': 'Alabama', 'county': 'Shelby', 'city': 'Alabaster', 'district': 'The Meadows', 'street': 'Wild Flower Trl', 'postalCode': '35007'}, 'position': {'lat': 33.21479, 'lng': -86.83253}, 'mapView': {'west': -86.83323, 'south': 33.21386, 'east': -86.83175, 'north': 33.2148}, 'scoring': {'queryScore': 0.88, 'fieldScore': {'district': 0.5, 'streets': [0.85]}}}, {'title': 'Wild Flower Meadow, Filey, YO14 9, United Kingdom', 'id': 'here:af:street:vrP-b.tiseNZgCagbxuKdB', 'resultType': 'street', 'address': {'label': 'Wild Flower Meadow, Filey, YO14 9, United Kingdom', 'countryCode': 'GBR', 'countryName': 'United Kingdom', 'state': 'England', 'countyCode': 'NYK', 'county': 'North Yorkshire', 'city': 'Filey', 'street': 'Wild Flower Meadow', 'postalCode': 'YO14 9'}, 'position': {'lat': 54.18594, 'lng': -0.2816}, 'mapView': {'west': -0.2825, 'south': 54.1854, 'east': -0.28098, 'north': 54.18669}, 'scoring': {'queryScore': 0.94, 'fieldScore': {'streets': [0.99]}}}, {'title': 'Wildflower Meadow Ct, Hamilton, VA 20158, United States', 'id': 'here:af:street:2JWkZBG8QDNfEmRCo9XCdC', 'resultType': 'street', 'address': {'label': 'Wildflower Meadow Ct, Hamilton, VA 20158, United States', 'countryCode': 'USA', 'countryName': 'United States', 'stateCode': 'VA', 'state': 'Virginia', 'county': 'Loudoun', 'city': 'Hamilton', 'street': 'Wildflower Meadow Ct', 'postalCode': '20158'}, 'position': {'lat': 39.11574, 'lng': -77.67943}, 'mapView': {'west': -77.68013, 'south': 39.11527, 'east': -77.67856, 'north': 39.11585}, 'scoring': {'queryScore': 0.94, 'fieldScore': {'streets': [0.9]}}}, {'title': 'Wildflower Meadow Dr, Riverview, FL 33579, United States', 'id': 'here:af:street:QpczKzo8.aXCrwcM65npQB', 'resultType': 'street', 'address': {'label': 'Wildflower Meadow Dr, Riverview, FL 33579, United States', 'countryCode': 'USA', 'countryName': 'United States', 'stateCode': 'FL', 'state': 'Florida', 'county': 'Hillsborough', 'city': 'Riverview', 'street': 'Wildflower Meadow Dr', 'postalCode': '33579'}, 'position': {'lat': 27.8013, 'lng': -82.26265}, 'mapView': {'west': -82.26512, 'south': 27.79668, 'east': -82.25768, 'north': 27.80592}, 'scoring': {'queryScore': 0.94, 'fieldScore': {'streets': [0.9]}}}, {'title': 'Flowers Meadow, Newton Abbot, TQ12 6, United Kingdom', 'id': 'here:af:street:wlARUjxl2RUShVI8jB3UiA', 'resultType': 'street', 'address': {'label': 'Flowers Meadow, Newton Abbot, TQ12 6, United Kingdom', 'countryCode': 'GBR', 'countryName': 'United Kingdom', 'state': 'England', 'countyCode': 'DEV', 'county': 'Devon', 'city': 'Newton Abbot', 'district': 'Liverton', 'street': 'Flowers Meadow', 'postalCode': 'TQ12 6'}, 'position': {'lat': 50.56045, 'lng': -3.67584}, 'mapView': {'west': -3.67599, 'south': 50.56029, 'east': -3.67576, 'north': 50.56065}, 'scoring': {'queryScore': 0.76, 'fieldScore': {'streets': [0.95]}}}, {'title': 'Wildflower Beauty Studio', 'id': 'here:pds:place:840dr5xw-e41be3cf66a54ed0a95675684a76248a', 'resultType': 'place', 'address': {'label': 'Wildflower Beauty Studio, 2571 Hempstead Tpke, East Meadow, NY 11554-2135, United States', 'countryCode': 'USA', 'countryName': 'United States', 'stateCode': 'NY', 'state': 'New York', 'county': 'Nassau', 'city': 'East Meadow', 'street': 'Hempstead Tpke', 'postalCode': '11554-2135', 'houseNumber': '2571'}, 'position': {'lat': 40.72512, 'lng': -73.54042}, 'access': [{'lat': 40.7251, 'lng': -73.54011}], 'categories': [{'id': '600-6950-0000', 'name': 'Hair &amp; Beauty', 'primary': True}], 'scoring': {'queryScore': 0.91, 'fieldScore': {'city': 0.86, 'placeName': 0.72}}}]}</td>\n",
       "      <td>NaN</td>\n",
       "      <td>Canada</td>\n",
       "      <td>CAN</td>\n",
       "    </tr>\n",
       "    <tr>\n",
       "      <th>46403</th>\n",
       "      <td>How did Maddy bashing Cassie's head into a locker transition to them casually sitting and chatting in the bathroom??? I have some questions.. #EuphoriaHBOMax</td>\n",
       "      <td>2022-02-28 04:35:37</td>\n",
       "      <td>1.498155e+18</td>\n",
       "      <td>Gabby DeMoro</td>\n",
       "      <td>GabbyDemorooo</td>\n",
       "      <td>3.418702e+08</td>\n",
       "      <td>No Location</td>\n",
       "      <td>False</td>\n",
       "      <td>777.0</td>\n",
       "      <td>655.0</td>\n",
       "      <td>0.0</td>\n",
       "      <td>2011-07-25 02:57:04</td>\n",
       "      <td>0.0</td>\n",
       "      <td>3.0</td>\n",
       "      <td>{'items': []}</td>\n",
       "      <td>NaN</td>\n",
       "      <td>NaN</td>\n",
       "      <td>NaN</td>\n",
       "    </tr>\n",
       "    <tr>\n",
       "      <th>2978</th>\n",
       "      <td>I've just saw S02 | E08 of Euphoria (US) \"All My Life, My Heart Has Yearned for a Thing I Cannot Name\" #euphoria https://t.co/sgnuaN2LrZ #tvtime https://t.co/IGmSJfIkcs</td>\n",
       "      <td>2022-02-28 21:37:01</td>\n",
       "      <td>1.498412e+18</td>\n",
       "      <td>St. John</td>\n",
       "      <td>walkvrs</td>\n",
       "      <td>6.106941e+08</td>\n",
       "      <td>Paris, France</td>\n",
       "      <td>False</td>\n",
       "      <td>516.0</td>\n",
       "      <td>308.0</td>\n",
       "      <td>17.0</td>\n",
       "      <td>2012-06-17 10:17:54</td>\n",
       "      <td>0.0</td>\n",
       "      <td>0.0</td>\n",
       "      <td>{'items': [{'title': 'Paris, Île-de-France, France', 'id': 'here:cm:namedplace:20002128', 'resultType': 'locality', 'localityType': 'city', 'address': {'label': 'Paris, Île-de-France, France', 'countryCode': 'FRA', 'countryName': 'France', 'stateCode': 'IDF', 'state': 'Île-de-France', 'county': 'Paris', 'city': 'Paris', 'postalCode': '75001'}, 'position': {'lat': 48.85717, 'lng': 2.3414}, 'mapView': {'west': 2.22383, 'south': 48.81571, 'east': 2.4698, 'north': 48.90248}, 'scoring': {'queryScore': 1.0, 'fieldScore': {'country': 1.0, 'city': 1.0}}}]}</td>\n",
       "      <td>NaN</td>\n",
       "      <td>France</td>\n",
       "      <td>FRA</td>\n",
       "    </tr>\n",
       "  </tbody>\n",
       "</table>\n",
       "</div>"
      ],
      "text/plain": [
       "                                                                                                                                                                       tweet_full_text  \\\n",
       "11534                                                               Do they ever walk on the pavement on #Euphoria 😂 always walking on the middle of the rd. Absolutely LOVING it tho.   \n",
       "6365                      Nintendo Switch with Neon Blue and Neon Red Joy‑Con \\n\\n$299.00 with the link below!\\n\\nhttps://t.co/VlpFEEMmmm\\n\\n#Euphoria #BTC #ETH #Crypto #iHeartAwards   \n",
       "32370                                                                                                                                           i need more faye in season 3 #Euphoria   \n",
       "31683                                                                                Maddy and Cassie are gonna have to run this back cause Cassie needs to get these hands. #Euphoria   \n",
       "4444                                                                                                             ✨Depression✨ @ashleyippolito\\n#EuphoriaHBOMax https://t.co/qXi42Cizgt   \n",
       "7891                                                                                      Maddy: “really bitch how”\\nLady officer\\n#Euphoria \\n@chiseledadonis https://t.co/93BcPtd4Cq   \n",
       "47988                                                                                                      Between #PowerBookIIGhost and #Euphoria I am in a mood. Wow. What episodes.   \n",
       "26973                                                                   Right like damn. Zendaya ate I’m tired song 🆑😭💔 #EuphoriaHBO #Euphoria #EuphoriaFinale https://t.co/Smw2p6x8wL   \n",
       "19573  #EuphoriaHBOMax\\n\\nI have free real secure vpn\\nWithout problems\\nWithout ads\\nWthout sign up\\nGo to @OpenVpnPro1 \\nTo watch the explanation\\nPlease retweet if you like my vpn   \n",
       "7531        Was I the only one disappointed in the Maddy and Cassie fight???? REWRITE THE SCRIPT AND DO IT AGAIN. I need to speak to a manager #EuphoriaHBOMax https://t.co/K5bwBa6XHg   \n",
       "180                                                                                                       Fez better ask ms Lexi Howard out tonight before I do #euphoriaday #Euphoria   \n",
       "15705                                                                                                                        please can we see Derek again, that’s all I ask #Euphoria   \n",
       "44437                                                                                         They did all that for a Fucking Truly Variety 12 Pack  #Euphoria https://t.co/oAIFAZgpI6   \n",
       "1266                                                                    Super Bowl this Super Bowl that , &amp; the only thing I’m worried about is #EuphoriaHBOMax #EuphoriaSunday ‼️   \n",
       "7682                                                                                                                                 “It could be worse, it could be boring” #Euphoria   \n",
       "11692                                                                             #Sanremo2022 Come on #EuphoriaHBO we need Damiano on the show, we deserve it https://t.co/9Hx4fPXxMd   \n",
       "9298                                                                                                                                                    Faye is the real MVP #Euphoria   \n",
       "12798                                    I've just watched episode S02 | E02 'Out of Touch' of 'Euphoria (US)'! \\n#euphoria ?  https://t.co/vhFzLZGGc0 #tvtime https://t.co/sbQaPPY0V0   \n",
       "46403                    How did Maddy bashing Cassie's head into a locker transition to them casually sitting and chatting in the bathroom??? I have some questions.. #EuphoriaHBOMax   \n",
       "2978          I've just saw S02 | E08 of Euphoria (US) \"All My Life, My Heart Has Yearned for a Thing I Cannot Name\" #euphoria https://t.co/sgnuaN2LrZ #tvtime https://t.co/IGmSJfIkcs   \n",
       "\n",
       "          tweet_created_at      tweet_id           tweet_username  \\\n",
       "11534  2022-02-09 12:33:26  1.491390e+18                   cheryl   \n",
       "6365   2022-02-18 00:46:22  1.494473e+18            Marzani Tech.   \n",
       "32370  2022-02-28 06:11:11  1.498179e+18                   garbo⛓   \n",
       "31683  2022-02-07 19:24:43  1.490769e+18         A. Karl-Heinz 🇨🇲   \n",
       "4444   2022-02-19 06:41:08  1.494925e+18          Atypical_Saturn   \n",
       "7891   2022-01-27 00:34:30  1.486498e+18         Smoove in Space😋   \n",
       "47988  2022-01-31 04:32:04  1.488007e+18                    Noble   \n",
       "26973  2022-02-28 07:29:43  1.498199e+18                 fubihhhh   \n",
       "19573  2022-02-28 11:45:47  1.498263e+18  free vpn access clients   \n",
       "7531   2022-02-28 18:36:52  1.498367e+18                   Xavier   \n",
       "180    2022-01-23 22:57:43  1.485386e+18                Mineydi 🛸   \n",
       "15705  2022-02-01 04:23:00  1.488367e+18               disco man🕺   \n",
       "44437  2022-01-31 05:03:23  1.488015e+18                𝓞𝓼𝓬𝓪𝓻 𝓗.🧸   \n",
       "1266   2022-02-13 19:47:59  1.492949e+18                 damnDEE.   \n",
       "7682   2022-02-28 18:31:37  1.498365e+18                S A N I E   \n",
       "11692  2022-02-01 22:23:17  1.488639e+18                Orad'aria   \n",
       "9298   2022-02-28 17:38:02  1.498352e+18                       JQ   \n",
       "12798  2022-02-01 17:43:44  1.488569e+18                    andra   \n",
       "46403  2022-02-28 04:35:37  1.498155e+18             Gabby DeMoro   \n",
       "2978   2022-02-28 21:37:01  1.498412e+18                 St. John   \n",
       "\n",
       "      tweet_user_screename  tweet_userid_str          tweet_user_location  \\\n",
       "11534          cheryl19899      2.101929e+08                       bolton   \n",
       "6365       MarzaniOfficial      1.460510e+18                  No Location   \n",
       "32370       siamesecalicos      1.447727e+18                  No Location   \n",
       "31683          MrJayBreezy      3.302159e+07          Manchester, England   \n",
       "4444        AtypicalSaturn      1.477969e+18                  No Location   \n",
       "7891               djxx_td      1.215785e+18                  No Location   \n",
       "47988          NobleManNYC      1.132885e+08     ÜT: 40.814675,-73.957991   \n",
       "26973             fubihhhh      8.280221e+17                        there   \n",
       "19573          OpenVpnPro1      1.289643e+18                  No Location   \n",
       "7531        itsprofessorex      2.633315e+08                  Houston, TX   \n",
       "180             mineydi_xo      4.608927e+09                         Tx 🤠   \n",
       "15705          user2936291      1.480383e+18                  No Location   \n",
       "44437         510oscar510_      1.102725e+18                  Oakland, CA   \n",
       "1266         TheyJstLuvDEE      5.731372e+08  TX MF thats where I stay 🤘🏽   \n",
       "7682       sanie_watchesTV      8.258734e+17                  No Location   \n",
       "11692             AriaOrad      1.199663e+18                  No Location   \n",
       "9298               jnquill      4.375638e+07                  No Location   \n",
       "12798          hopperpaski      1.169526e+18          wildflowers meadow    \n",
       "46403        GabbyDemorooo      3.418702e+08                  No Location   \n",
       "2978               walkvrs      6.106941e+08                Paris, France   \n",
       "\n",
       "      tweet_user_verified  tweet_user_followers_count  \\\n",
       "11534               False                       244.0   \n",
       "6365                False                       469.0   \n",
       "32370               False                         1.0   \n",
       "31683               False                       821.0   \n",
       "4444                False                         1.0   \n",
       "7891                False                        51.0   \n",
       "47988               False                        43.0   \n",
       "26973               False                        22.0   \n",
       "19573               False                       104.0   \n",
       "7531                False                       689.0   \n",
       "180                 False                       498.0   \n",
       "15705               False                         5.0   \n",
       "44437               False                      2517.0   \n",
       "1266                False                       318.0   \n",
       "7682                False                        74.0   \n",
       "11692               False                         3.0   \n",
       "9298                False                       448.0   \n",
       "12798               False                       453.0   \n",
       "46403               False                       777.0   \n",
       "2978                False                       516.0   \n",
       "\n",
       "       tweet_user_friends_count  tweet_user_listed_count  \\\n",
       "11534                    1495.0                      2.0   \n",
       "6365                      467.0                      0.0   \n",
       "32370                     220.0                      0.0   \n",
       "31683                     506.0                      0.0   \n",
       "4444                       41.0                      0.0   \n",
       "7891                      286.0                      0.0   \n",
       "47988                     131.0                      0.0   \n",
       "26973                     249.0                      0.0   \n",
       "19573                     192.0                      0.0   \n",
       "7531                      490.0                      2.0   \n",
       "180                       484.0                      1.0   \n",
       "15705                      82.0                      0.0   \n",
       "44437                    2045.0                      0.0   \n",
       "1266                      358.0                      1.0   \n",
       "7682                      299.0                      0.0   \n",
       "11692                      83.0                      0.0   \n",
       "9298                      421.0                      5.0   \n",
       "12798                     461.0                      0.0   \n",
       "46403                     655.0                      0.0   \n",
       "2978                      308.0                     17.0   \n",
       "\n",
       "      tweet_user_created_at  tweet_retweet_count  tweet_favorite_count  \\\n",
       "11534   2010-10-30 20:10:37                  0.0                   0.0   \n",
       "6365    2021-11-16 07:26:50                  1.0                   1.0   \n",
       "32370   2021-10-12 00:53:49                  0.0                   0.0   \n",
       "31683   2009-04-18 21:40:21                  0.0                   0.0   \n",
       "4444    2022-01-03 11:44:25                  0.0                   0.0   \n",
       "7891    2020-01-10 23:57:11                  0.0                   0.0   \n",
       "47988   2010-02-11 08:36:07                  0.0                   0.0   \n",
       "26973   2017-02-04 23:26:59                  0.0                   2.0   \n",
       "19573   2020-08-01 19:23:29                  0.0                   0.0   \n",
       "7531    2011-03-09 21:01:55                  0.0                   0.0   \n",
       "180     2015-12-20 03:45:42                  1.0                   2.0   \n",
       "15705   2022-01-10 03:34:35                  0.0                   1.0   \n",
       "44437   2019-03-05 00:17:50                  0.0                  11.0   \n",
       "1266    2012-05-06 22:02:11                  0.0                   0.0   \n",
       "7682    2017-01-30 01:08:53                  0.0                   0.0   \n",
       "11692   2019-11-27 12:14:40                  0.0                   6.0   \n",
       "9298    2009-05-31 21:09:25                  0.0                   0.0   \n",
       "12798   2019-09-05 08:22:26                  0.0                   0.0   \n",
       "46403   2011-07-25 02:57:04                  0.0                   3.0   \n",
       "2978    2012-06-17 10:17:54                  0.0                   0.0   \n",
       "\n",
       "                                                                                                                                                                                                                                                                                                                                                                                                                                                                                                                                                                                                                                                                                                                                                                                                                                                                                                                                                                                                                                                                                                                                                                                                                                                                                                                                                                                                                                                                                                                                                                                                                                                                                                                                                                                                                                                                                                                                                                                                                                                                                                                                                                                                                                                                                                                                                                                                                                                                                                                                                                                                                                                                                                                                                                                                                                                                                                                                                                                                                                                                                                                                                                                                                                                                                                                                                                                                                                                                                                                                                                                                                                                                                                                                                                                                                                                                                                                                                                                                                                                                                                                                                                                                                                                                                                                                                                                                                                                                                                                                                                                                                                                                                                                                                                                                                                                                                                                                                                                                                                                                                                                                                                                                                                                                                                                                                                                                                                                                                                                                                                                                                                                                                                                                                                                                                                                                                                                                                             general_location_data  \\\n",
       "11534                                                                                                                                                                                                                                                                                                                                                                                                                                                                                                                                                                                                                                                                                                                                                                                                                                                                                                                                                                                                                                                                                                                                                                                                                                                                                                                                                                                                                                                                                                            {'items': [{'title': 'Bolton, England, United Kingdom', 'id': 'here:cm:namedplace:20343985', 'resultType': 'locality', 'localityType': 'city', 'address': {'label': 'Bolton, England, United Kingdom', 'countryCode': 'GBR', 'countryName': 'United Kingdom', 'state': 'England', 'countyCode': 'LAN', 'county': 'Lancashire', 'city': 'Bolton', 'postalCode': 'BL1 1'}, 'position': {'lat': 53.57843, 'lng': -2.42666}, 'mapView': {'west': -2.61307, 'south': 53.52615, 'east': -2.34197, 'north': 53.69518}, 'scoring': {'queryScore': 1.0, 'fieldScore': {'city': 1.0}}}, {'title': 'Bolton, CT, United States', 'id': 'here:cm:namedplace:21171604', 'resultType': 'locality', 'localityType': 'city', 'address': {'label': 'Bolton, CT, United States', 'countryCode': 'USA', 'countryName': 'United States', 'stateCode': 'CT', 'state': 'Connecticut', 'county': 'Tolland', 'city': 'Bolton', 'postalCode': '06043'}, 'position': {'lat': 41.79117, 'lng': -72.44233}, 'mapView': {'west': -72.47337, 'south': 41.73027, 'east': -72.40466, 'north': 41.80673}, 'scoring': {'queryScore': 1.0, 'fieldScore': {'city': 1.0}}}, {'title': 'Bolton, MA, United States', 'id': 'here:cm:namedplace:21170809', 'resultType': 'locality', 'localityType': 'city', 'address': {'label': 'Bolton, MA, United States', 'countryCode': 'USA', 'countryName': 'United States', 'stateCode': 'MA', 'state': 'Massachusetts', 'county': 'Worcester', 'city': 'Bolton', 'postalCode': '01740'}, 'position': {'lat': 42.45174, 'lng': -71.63776}, 'mapView': {'west': -71.66068, 'south': 42.39769, 'east': -71.55044, 'north': 42.47314}, 'scoring': {'queryScore': 1.0, 'fieldScore': {'city': 1.0}}}, {'title': 'Bolton, MS, United States', 'id': 'here:cm:namedplace:21036614', 'resultType': 'locality', 'localityType': 'city', 'address': {'label': 'Bolton, MS, United States', 'countryCode': 'USA', 'countryName': 'United States', 'stateCode': 'MS', 'state': 'Mississippi', 'county': 'Hinds', 'city': 'Bolton', 'postalCode': '39041'}, 'position': {'lat': 32.34997, 'lng': -90.46003}, 'mapView': {'west': -90.58834, 'south': 32.28291, 'east': -90.37034, 'north': 32.52798}, 'scoring': {'queryScore': 1.0, 'fieldScore': {'city': 1.0}}}, {'title': 'Bolton, NC, United States', 'id': 'here:cm:namedplace:21025100', 'resultType': 'locality', 'localityType': 'city', 'address': {'label': 'Bolton, NC, United States', 'countryCode': 'USA', 'countryName': 'United States', 'stateCode': 'NC', 'state': 'North Carolina', 'county': 'Columbus', 'city': 'Bolton', 'postalCode': '28423'}, 'position': {'lat': 34.32128, 'lng': -78.4185}, 'mapView': {'west': -78.41921, 'south': 34.30529, 'east': -78.37661, 'north': 34.33001}, 'scoring': {'queryScore': 1.0, 'fieldScore': {'city': 1.0}}}, {'title': 'Bolton, VIC 3546, Australia', 'id': 'here:cm:namedplace:1469256595', 'resultType': 'locality', 'localityType': 'city', 'address': {'label': 'Bolton, VIC 3546, Australia', 'countryCode': 'AUS', 'countryName': 'Australia', 'stateCode': 'VIC', 'state': 'Victoria', 'city': 'Bolton', 'postalCode': '3546'}, 'position': {'lat': -34.96602, 'lng': 142.87892}, 'mapView': {'west': 142.83099, 'south': -34.99916, 'east': 143.0357, 'north': -34.92383}, 'scoring': {'queryScore': 1.0, 'fieldScore': {'city': 1.0}}}, {'title': 'Bolton, NY, United States', 'id': 'here:cm:namedplace:21020062', 'resultType': 'locality', 'localityType': 'city', 'address': {'label': 'Bolton, NY, United States', 'countryCode': 'USA', 'countryName': 'United States', 'stateCode': 'NY', 'state': 'New York', 'county': 'Warren', 'city': 'Bolton', 'postalCode': '12814'}, 'position': {'lat': 43.53688, 'lng': -73.66744}, 'mapView': {'west': -73.75097, 'south': 43.47475, 'east': -73.52533, 'north': 43.67837}, 'scoring': {'queryScore': 1.0, 'fieldScore': {'city': 1.0}}}, {'title': 'Bolton, VT, United States', 'id': 'here:cm:namedplace:21133745', 'resultType': 'locality', 'localityType': 'city', 'address': {'label': 'Bolton, VT, United States', 'countryCode': 'USA', 'countryName': 'United States', 'stateCode': 'VT', 'state': 'Vermont', 'county': 'Chittenden', 'city': 'Bolton', 'postalCode': '05676'}, 'position': {'lat': 44.37981, 'lng': -72.91456}, 'mapView': {'west': -72.95402, 'south': 44.32996, 'east': -72.8045, 'north': 44.47028}, 'scoring': {'queryScore': 1.0, 'fieldScore': {'city': 1.0}}}]}   \n",
       "6365                                                                                                                                                                                                                                                                                                                                                                                                                                                                                                                                                                                                                                                                                                                                                                                                                                                                                                                                                                                                                                                                                                                                                                                                                                                                                                                                                                                                                                                                                                                                                                                                                                                                                                                                                                                                                                                                                                                                                                                                                                                                                                                                                                                                                                                                                                                                                                                                                                                                                                                                                                                                                                                                                                                                                                                                                                                                                                                                                                                                                                                                                                                                                                                                                                                                                                                                                                                                                                                                                                                                                                                                                                                                                                                                                                                                                                                                                                                                                                                                                                                                                                                                                                                                                                                                                                                                                                                                                                                                                                                                                                                                                                                                                                                                                                                                                                                                                                                                                                                                                                                                                                                                                                                                                                                                                                                                                                                                                                                                                                                                                                                                                                                                                                                                                                                                                                                                                                                                                                 {'items': []}   \n",
       "32370                                                                                                                                                                                                                                                                                                                                                                                                                                                                                                                                                                                                                                                                                                                                                                                                                                                                                                                                                                                                                                                                                                                                                                                                                                                                                                                                                                                                                                                                                                                                                                                                                                                                                                                                                                                                                                                                                                                                                                                                                                                                                                                                                                                                                                                                                                                                                                                                                                                                                                                                                                                                                                                                                                                                                                                                                                                                                                                                                                                                                                                                                                                                                                                                                                                                                                                                                                                                                                                                                                                                                                                                                                                                                                                                                                                                                                                                                                                                                                                                                                                                                                                                                                                                                                                                                                                                                                                                                                                                                                                                                                                                                                                                                                                                                                                                                                                                                                                                                                                                                                                                                                                                                                                                                                                                                                                                                                                                                                                                                                                                                                                                                                                                                                                                                                                                                                                                                                                                                                {'items': []}   \n",
       "31683                                                                                                                                                                                                                                                                                                                                                                                                                                                                                                                                                                                                                                                                                                                                                                                                                                                                                                                                                                                                                                                                                                                                                                                                                                                                                                                                                                                                                                                                                                                                                                                                                                                                                                                                                                                                                                                                                                                                                                                                                                                                                                                                                                                                                                                                                                                                                                                                                                                                                                                                                                                                                                                                                                                                                                                                                                                                                                                                                                                                                                                                                                                                                                                                                                                                                                                                                                                                                                                                                                                                                                                                                                                                                                                                                                                                                                                                                                                                                                                                                                                                                                                                                                                                                                                                                                                                                                                                                                                                                                                                                                                                                                                                                                                                                                                                                                                                                                                                                                                                                                                                                                                                                                                                                                                                                                                                                                      {'items': [{'title': 'Manchester, England, United Kingdom', 'id': 'here:cm:namedplace:20344206', 'resultType': 'locality', 'localityType': 'city', 'address': {'label': 'Manchester, England, United Kingdom', 'countryCode': 'GBR', 'countryName': 'United Kingdom', 'state': 'England', 'countyCode': 'LAN', 'county': 'Lancashire', 'city': 'Manchester', 'postalCode': 'M3 3'}, 'position': {'lat': 53.47959, 'lng': -2.24874}, 'mapView': {'west': -2.51704, 'south': 53.35585, 'east': -2.08913, 'north': 53.58981}, 'scoring': {'queryScore': 1.0, 'fieldScore': {'state': 1.0, 'city': 1.0}}}]}   \n",
       "4444                                                                                                                                                                                                                                                                                                                                                                                                                                                                                                                                                                                                                                                                                                                                                                                                                                                                                                                                                                                                                                                                                                                                                                                                                                                                                                                                                                                                                                                                                                                                                                                                                                                                                                                                                                                                                                                                                                                                                                                                                                                                                                                                                                                                                                                                                                                                                                                                                                                                                                                                                                                                                                                                                                                                                                                                                                                                                                                                                                                                                                                                                                                                                                                                                                                                                                                                                                                                                                                                                                                                                                                                                                                                                                                                                                                                                                                                                                                                                                                                                                                                                                                                                                                                                                                                                                                                                                                                                                                                                                                                                                                                                                                                                                                                                                                                                                                                                                                                                                                                                                                                                                                                                                                                                                                                                                                                                                                                                                                                                                                                                                                                                                                                                                                                                                                                                                                                                                                                                                 {'items': []}   \n",
       "7891                                                                                                                                                                                                                                                                                                                                                                                                                                                                                                                                                                                                                                                                                                                                                                                                                                                                                                                                                                                                                                                                                                                                                                                                                                                                                                                                                                                                                                                                                                                                                                                                                                                                                                                                                                                                                                                                                                                                                                                                                                                                                                                                                                                                                                                                                                                                                                                                                                                                                                                                                                                                                                                                                                                                                                                                                                                                                                                                                                                                                                                                                                                                                                                                                                                                                                                                                                                                                                                                                                                                                                                                                                                                                                                                                                                                                                                                                                                                                                                                                                                                                                                                                                                                                                                                                                                                                                                                                                                                                                                                                                                                                                                                                                                                                                                                                                                                                                                                                                                                                                                                                                                                                                                                                                                                                                                                                                                                                                                                                                                                                                                                                                                                                                                                                                                                                                                                                                                                                                 {'items': []}   \n",
       "47988                                                                                                                                                                                                                                                                                                                                                                                                                                                                                                                                                                                                                                                                                                                                                                                                                                                                                                                                                                                                                                                                                                                                                                                                                                                                                                                                                                                                                                                                                                                                                                                                                                                                                                                                                                                                                                                                                                                                                                                                                                                                                                                                                                                                                                                                                                                                                                                                                                                                                                                                                                                                                                                                                                                                                                                                                                                                                                                                                                                                                                                                                                                                                                                                                                                                                                                                                                                                                                                                                                                                                                                                                                                                                                                                                                                                                                                                                                                                                                                                                                                                                                                                                                                                                                                                                                                                                                                                                                                                                                                                                                                                                                                                                                                                                                                                                                                                                                                                                                                                                                                                                                                                                                                                                                                                                                                                                                                                                                                                                                                                                                                                                                                                                                                                                                                                                                                                                                                                                                {'items': []}   \n",
       "26973                                                                                                                                                                                                                                                                                                                                                                                                                                                                                                                                                                                                                                                                                                                                                                                                                                                                                                                                                                                                                                                                                                                                                                                                                                                                                                                                                                                                                                                                                                                                                                                                                                                                                                                                                                                                                                                                                                                                                                                                                                                                                                                                                                                                                                                                                                                                                                                                                                                                                                                                                                                                                                                                                                                                                                                                                                                                                                                                                                                                                                                                                                                                                                                                                                                                                                                                                                                                                                                                                                                                                                                                                                                                                                                                                                                                                                                                                                                                                                                                                                                                                                                                                                                                                                                                                                                                                                                                                                                                                                                                                                                                                                                                                                                                                                                                       {'items': [{'title': 'Over There, Mafube, Free State, South Africa', 'id': 'here:cm:poi:1038998700', 'resultType': 'locality', 'localityType': 'district', 'address': {'label': 'Over There, Mafube, Free State, South Africa', 'countryCode': 'ZAF', 'countryName': 'South Africa', 'state': 'Free State', 'county': 'Mafube', 'city': 'Mafube', 'district': 'Over There'}, 'position': {'lat': -27.38491, 'lng': 28.28702}, 'mapView': {'west': 28.28649, 'south': -27.38551, 'east': 28.28782, 'north': -27.38462}, 'scoring': {'queryScore': 0.99, 'fieldScore': {'district': 0.56}}}, {'title': 'There Gaon, Phuloni, Assam, India', 'id': 'here:cm:poi:1115503150', 'resultType': 'locality', 'localityType': 'district', 'address': {'label': 'There Gaon, Phuloni, Assam, India', 'countryCode': 'IND', 'countryName': 'India', 'stateCode': 'AS', 'state': 'Assam', 'county': 'East Karbi Anglong', 'city': 'Phuloni', 'district': 'There Gaon'}, 'position': {'lat': 26.19943, 'lng': 93.05239}, 'mapView': {'west': 93.05224, 'south': 26.19798, 'east': 93.05241, 'north': 26.20091}, 'scoring': {'queryScore': 0.99, 'fieldScore': {'district': 0.56}}}]}   \n",
       "19573                                                                                                                                                                                                                                                                                                                                                                                                                                                                                                                                                                                                                                                                                                                                                                                                                                                                                                                                                                                                                                                                                                                                                                                                                                                                                                                                                                                                                                                                                                                                                                                                                                                                                                                                                                                                                                                                                                                                                                                                                                                                                                                                                                                                                                                                                                                                                                                                                                                                                                                                                                                                                                                                                                                                                                                                                                                                                                                                                                                                                                                                                                                                                                                                                                                                                                                                                                                                                                                                                                                                                                                                                                                                                                                                                                                                                                                                                                                                                                                                                                                                                                                                                                                                                                                                                                                                                                                                                                                                                                                                                                                                                                                                                                                                                                                                                                                                                                                                                                                                                                                                                                                                                                                                                                                                                                                                                                                                                                                                                                                                                                                                                                                                                                                                                                                                                                                                                                                                                                {'items': []}   \n",
       "7531                                                                                                                                                                                                                                                                                                                                                                                                                                                                                                                                                                                                                                                                                                                                                                                                                                                                                                                                                                                                                                                                                                                                                                                                                                                                                                                                                                                                                                                                                                                                                                                                                                                                                                                                                                                                                                                                                                                                                                                                                                                                                                                                                                                                                                                                                                                                                                                                                                                                                                                                                                                                                                                                                                                                                                                                                                                                                                                                                                                                                                                                                                                                                                                                                                                                                                                                                                                                                                                                                                                                                                                                                                                                                                                                                                                                                                                                                                                                                                                                                                                                                                                                                                                                                                                                                                                                                                                                                                                                                                                                                                                                                                                                                                                                                                                                                                                                                                                                                                                                                                                                                                                                                                                                                                                                                                                                                                                                 {'items': [{'title': 'Houston, TX, United States', 'id': 'here:cm:namedplace:21015993', 'resultType': 'locality', 'localityType': 'city', 'address': {'label': 'Houston, TX, United States', 'countryCode': 'USA', 'countryName': 'United States', 'stateCode': 'TX', 'state': 'Texas', 'county': 'Harris', 'city': 'Houston', 'postalCode': '77002'}, 'position': {'lat': 29.76078, 'lng': -95.36952}, 'mapView': {'west': -95.90982, 'south': 29.52225, 'east': -95.01264, 'north': 30.13145}, 'scoring': {'queryScore': 1.0, 'fieldScore': {'state': 1.0, 'city': 1.0}}}]}   \n",
       "180                                                                                                                                                                                                                                                                                                                                                                                                                                                                                                                                                                                                                                                                                                                                                                                                                                                                                                                                                                                                                                                                                                                                                                                                                                                                                                                                                                                                                                                                                                                                                                                                                                                                                                                                                                                                                                                                                                                                                                                                                                                                                                                                                                                                                                                                                                                                                                                                                                                                                                                                                                                                                                                                                                                                                                                                                                                                                                                                                                                                                                                                                                                                                                                                                                                                                                                                                                                                                                                                                                                                                                                                                                                                                                                                                                                                                                                                                                                                                                                                                                                                                                                                                                                                                                                                                                                                                                                                                                                                                                                                                                                                                                                                                                                                                                                                                                                                                                                                                                                                                                                                                                                                                                                                                                                                                                                                                                                                                                                                           {'items': [{'title': 'TX, United States', 'id': 'here:cm:namedplace:21015214', 'resultType': 'administrativeArea', 'administrativeAreaType': 'state', 'address': {'label': 'TX, United States', 'countryCode': 'USA', 'countryName': 'United States', 'stateCode': 'TX', 'state': 'Texas'}, 'position': {'lat': 30.26759, 'lng': -97.743}, 'mapView': {'west': -106.64595, 'south': 25.83706, 'east': -93.50835, 'north': 36.50066}, 'scoring': {'queryScore': 0.5, 'fieldScore': {'state': 1.0}}}]}   \n",
       "15705                                                                                                                                                                                                                                                                                                                                                                                                                                                                                                                                                                                                                                                                                                                                                                                                                                                                                                                                                                                                                                                                                                                                                                                                                                                                                                                                                                                                                                                                                                                                                                                                                                                                                                                                                                                                                                                                                                                                                                                                                                                                                                                                                                                                                                                                                                                                                                                                                                                                                                                                                                                                                                                                                                                                                                                                                                                                                                                                                                                                                                                                                                                                                                                                                                                                                                                                                                                                                                                                                                                                                                                                                                                                                                                                                                                                                                                                                                                                                                                                                                                                                                                                                                                                                                                                                                                                                                                                                                                                                                                                                                                                                                                                                                                                                                                                                                                                                                                                                                                                                                                                                                                                                                                                                                                                                                                                                                                                                                                                                                                                                                                                                                                                                                                                                                                                                                                                                                                                                                {'items': []}   \n",
       "44437                                                                                                                                                                                                                                                                                                                                                                                                                                                                                                                                                                                                                                                                                                                                                                                                                                                                                                                                                                                                                                                                                                                                                                                                                                                                                                                                                                                                                                                                                                                                                                                                                                                                                                                                                                                                                                                                                                                                                                                                                                                                                                                                                                                                                                                                                                                                                                                                                                                                                                                                                                                                                                                                                                                                                                                                                                                                                                                                                                                                                                                                                                                                                                                                                                                                                                                                                                                                                                                                                                                                                                                                                                                                                                                                                                                                                                                                                                                                                                                                                                                                                                                                                                                                                                                                                                                                                                                                                                                                                                                                                                                                                                                                                                                                                                                                                                                                                                                                                                                                                                                                                                                                                                                                                                                                                                                                                                                       {'items': [{'title': 'Oakland, CA, United States', 'id': 'here:cm:namedplace:21009424', 'resultType': 'locality', 'localityType': 'city', 'address': {'label': 'Oakland, CA, United States', 'countryCode': 'USA', 'countryName': 'United States', 'stateCode': 'CA', 'state': 'California', 'county': 'Alameda', 'city': 'Oakland', 'postalCode': '94612'}, 'position': {'lat': 37.80508, 'lng': -122.27307}, 'mapView': {'west': -122.34263, 'south': 37.69923, 'east': -122.11436, 'north': 37.88536}, 'scoring': {'queryScore': 1.0, 'fieldScore': {'state': 1.0, 'city': 1.0}}}]}   \n",
       "1266                                                                                                                                                                                                                                                                                                                                                                                                                                                                                                                                                                                                                                                                                                                                                                                                                                                                                                                                                                                                                                                                                                                                                                                                                                                                                                                                                                                                                                                                                                                                                                                                                                                                                                                                                                                                                                                                                                                                                                                                                                                                                                                                                                                                                                                                                                                                                                                                                                                                                                                                                                                                                                                                                                                                                                                                                                                                                                                                                                                                                                                                                                                                                                                                                                                                                                                                                                                                                                                                                                                                                                                                                                                                                                                                                                                                                                                                                                                                                                                                                                                                                                                                                                                                                                                                                                                                                                                                                                                                                                                                                                                                                                                                                                                                                                                                                                                                                                                                                                                                                                                                                                                                                                                                                                                                                                                                                                                                                                                                                                                                                                                                                                                                                                                                                                                                                                                                                                                                                                 {'items': []}   \n",
       "7682                                                                                                                                                                                                                                                                                                                                                                                                                                                                                                                                                                                                                                                                                                                                                                                                                                                                                                                                                                                                                                                                                                                                                                                                                                                                                                                                                                                                                                                                                                                                                                                                                                                                                                                                                                                                                                                                                                                                                                                                                                                                                                                                                                                                                                                                                                                                                                                                                                                                                                                                                                                                                                                                                                                                                                                                                                                                                                                                                                                                                                                                                                                                                                                                                                                                                                                                                                                                                                                                                                                                                                                                                                                                                                                                                                                                                                                                                                                                                                                                                                                                                                                                                                                                                                                                                                                                                                                                                                                                                                                                                                                                                                                                                                                                                                                                                                                                                                                                                                                                                                                                                                                                                                                                                                                                                                                                                                                                                                                                                                                                                                                                                                                                                                                                                                                                                                                                                                                                                                 {'items': []}   \n",
       "11692                                                                                                                                                                                                                                                                                                                                                                                                                                                                                                                                                                                                                                                                                                                                                                                                                                                                                                                                                                                                                                                                                                                                                                                                                                                                                                                                                                                                                                                                                                                                                                                                                                                                                                                                                                                                                                                                                                                                                                                                                                                                                                                                                                                                                                                                                                                                                                                                                                                                                                                                                                                                                                                                                                                                                                                                                                                                                                                                                                                                                                                                                                                                                                                                                                                                                                                                                                                                                                                                                                                                                                                                                                                                                                                                                                                                                                                                                                                                                                                                                                                                                                                                                                                                                                                                                                                                                                                                                                                                                                                                                                                                                                                                                                                                                                                                                                                                                                                                                                                                                                                                                                                                                                                                                                                                                                                                                                                                                                                                                                                                                                                                                                                                                                                                                                                                                                                                                                                                                                {'items': []}   \n",
       "9298                                                                                                                                                                                                                                                                                                                                                                                                                                                                                                                                                                                                                                                                                                                                                                                                                                                                                                                                                                                                                                                                                                                                                                                                                                                                                                                                                                                                                                                                                                                                                                                                                                                                                                                                                                                                                                                                                                                                                                                                                                                                                                                                                                                                                                                                                                                                                                                                                                                                                                                                                                                                                                                                                                                                                                                                                                                                                                                                                                                                                                                                                                                                                                                                                                                                                                                                                                                                                                                                                                                                                                                                                                                                                                                                                                                                                                                                                                                                                                                                                                                                                                                                                                                                                                                                                                                                                                                                                                                                                                                                                                                                                                                                                                                                                                                                                                                                                                                                                                                                                                                                                                                                                                                                                                                                                                                                                                                                                                                                                                                                                                                                                                                                                                                                                                                                                                                                                                                                                                 {'items': []}   \n",
       "12798  {'items': [{'title': 'Wildflowers Ct, Mississauga, ON L5N, Canada', 'id': 'here:af:street:yT4.isjB95sBf7yKsJQEVC', 'resultType': 'street', 'address': {'label': 'Wildflowers Ct, Mississauga, ON L5N, Canada', 'countryCode': 'CAN', 'countryName': 'Canada', 'stateCode': 'ON', 'state': 'Ontario', 'county': 'Peel', 'city': 'Mississauga', 'district': 'Meadowvale', 'street': 'Wildflowers Ct', 'postalCode': 'L5N'}, 'position': {'lat': 43.58017, 'lng': -79.77333}, 'mapView': {'west': -79.77385, 'south': 43.57938, 'east': -79.77306, 'north': 43.58054}, 'scoring': {'queryScore': 0.99, 'fieldScore': {'district': 0.6, 'streets': [0.9]}}}, {'title': 'Wildflower Ln, Meadow Bridge, WV 25976, United States', 'id': 'here:af:streetsection:pBpZVjZNzbXSQExWndVXJD', 'resultType': 'street', 'address': {'label': 'Wildflower Ln, Meadow Bridge, WV 25976, United States', 'countryCode': 'USA', 'countryName': 'United States', 'stateCode': 'WV', 'state': 'West Virginia', 'county': 'Summers', 'city': 'Meadow Bridge', 'street': 'Wildflower Ln', 'postalCode': '25976'}, 'position': {'lat': 37.84158, 'lng': -80.82787}, 'mapView': {'west': -80.828, 'south': 37.8413, 'east': -80.82741, 'north': 37.84234}, 'scoring': {'queryScore': 0.94, 'fieldScore': {'city': 0.5, 'streets': [0.85]}}}, {'title': 'Flower Ln, East Meadow, NY 11554, United States', 'id': 'here:af:street:BK.sePKgp5gb6jBsOaKyBD', 'resultType': 'street', 'address': {'label': 'Flower Ln, East Meadow, NY 11554, United States', 'countryCode': 'USA', 'countryName': 'United States', 'stateCode': 'NY', 'state': 'New York', 'county': 'Nassau', 'city': 'East Meadow', 'street': 'Flower Ln', 'postalCode': '11554'}, 'position': {'lat': 40.70482, 'lng': -73.56219}, 'mapView': {'west': -73.56309, 'south': 40.7047, 'east': -73.56159, 'north': 40.70554}, 'scoring': {'queryScore': 0.71, 'fieldScore': {'city': 0.86, 'streets': [0.85]}}}, {'title': 'Wild Flower Trl, Alabaster, AL 35007, United States', 'id': 'here:af:streetsection:Tq-yoYLqSnSDH-kmk--pPA', 'resultType': 'street', 'address': {'label': 'Wild Flower Trl, Alabaster, AL 35007, United States', 'countryCode': 'USA', 'countryName': 'United States', 'stateCode': 'AL', 'state': 'Alabama', 'county': 'Shelby', 'city': 'Alabaster', 'district': 'The Meadows', 'street': 'Wild Flower Trl', 'postalCode': '35007'}, 'position': {'lat': 33.21479, 'lng': -86.83253}, 'mapView': {'west': -86.83323, 'south': 33.21386, 'east': -86.83175, 'north': 33.2148}, 'scoring': {'queryScore': 0.88, 'fieldScore': {'district': 0.5, 'streets': [0.85]}}}, {'title': 'Wild Flower Meadow, Filey, YO14 9, United Kingdom', 'id': 'here:af:street:vrP-b.tiseNZgCagbxuKdB', 'resultType': 'street', 'address': {'label': 'Wild Flower Meadow, Filey, YO14 9, United Kingdom', 'countryCode': 'GBR', 'countryName': 'United Kingdom', 'state': 'England', 'countyCode': 'NYK', 'county': 'North Yorkshire', 'city': 'Filey', 'street': 'Wild Flower Meadow', 'postalCode': 'YO14 9'}, 'position': {'lat': 54.18594, 'lng': -0.2816}, 'mapView': {'west': -0.2825, 'south': 54.1854, 'east': -0.28098, 'north': 54.18669}, 'scoring': {'queryScore': 0.94, 'fieldScore': {'streets': [0.99]}}}, {'title': 'Wildflower Meadow Ct, Hamilton, VA 20158, United States', 'id': 'here:af:street:2JWkZBG8QDNfEmRCo9XCdC', 'resultType': 'street', 'address': {'label': 'Wildflower Meadow Ct, Hamilton, VA 20158, United States', 'countryCode': 'USA', 'countryName': 'United States', 'stateCode': 'VA', 'state': 'Virginia', 'county': 'Loudoun', 'city': 'Hamilton', 'street': 'Wildflower Meadow Ct', 'postalCode': '20158'}, 'position': {'lat': 39.11574, 'lng': -77.67943}, 'mapView': {'west': -77.68013, 'south': 39.11527, 'east': -77.67856, 'north': 39.11585}, 'scoring': {'queryScore': 0.94, 'fieldScore': {'streets': [0.9]}}}, {'title': 'Wildflower Meadow Dr, Riverview, FL 33579, United States', 'id': 'here:af:street:QpczKzo8.aXCrwcM65npQB', 'resultType': 'street', 'address': {'label': 'Wildflower Meadow Dr, Riverview, FL 33579, United States', 'countryCode': 'USA', 'countryName': 'United States', 'stateCode': 'FL', 'state': 'Florida', 'county': 'Hillsborough', 'city': 'Riverview', 'street': 'Wildflower Meadow Dr', 'postalCode': '33579'}, 'position': {'lat': 27.8013, 'lng': -82.26265}, 'mapView': {'west': -82.26512, 'south': 27.79668, 'east': -82.25768, 'north': 27.80592}, 'scoring': {'queryScore': 0.94, 'fieldScore': {'streets': [0.9]}}}, {'title': 'Flowers Meadow, Newton Abbot, TQ12 6, United Kingdom', 'id': 'here:af:street:wlARUjxl2RUShVI8jB3UiA', 'resultType': 'street', 'address': {'label': 'Flowers Meadow, Newton Abbot, TQ12 6, United Kingdom', 'countryCode': 'GBR', 'countryName': 'United Kingdom', 'state': 'England', 'countyCode': 'DEV', 'county': 'Devon', 'city': 'Newton Abbot', 'district': 'Liverton', 'street': 'Flowers Meadow', 'postalCode': 'TQ12 6'}, 'position': {'lat': 50.56045, 'lng': -3.67584}, 'mapView': {'west': -3.67599, 'south': 50.56029, 'east': -3.67576, 'north': 50.56065}, 'scoring': {'queryScore': 0.76, 'fieldScore': {'streets': [0.95]}}}, {'title': 'Wildflower Beauty Studio', 'id': 'here:pds:place:840dr5xw-e41be3cf66a54ed0a95675684a76248a', 'resultType': 'place', 'address': {'label': 'Wildflower Beauty Studio, 2571 Hempstead Tpke, East Meadow, NY 11554-2135, United States', 'countryCode': 'USA', 'countryName': 'United States', 'stateCode': 'NY', 'state': 'New York', 'county': 'Nassau', 'city': 'East Meadow', 'street': 'Hempstead Tpke', 'postalCode': '11554-2135', 'houseNumber': '2571'}, 'position': {'lat': 40.72512, 'lng': -73.54042}, 'access': [{'lat': 40.7251, 'lng': -73.54011}], 'categories': [{'id': '600-6950-0000', 'name': 'Hair & Beauty', 'primary': True}], 'scoring': {'queryScore': 0.91, 'fieldScore': {'city': 0.86, 'placeName': 0.72}}}]}   \n",
       "46403                                                                                                                                                                                                                                                                                                                                                                                                                                                                                                                                                                                                                                                                                                                                                                                                                                                                                                                                                                                                                                                                                                                                                                                                                                                                                                                                                                                                                                                                                                                                                                                                                                                                                                                                                                                                                                                                                                                                                                                                                                                                                                                                                                                                                                                                                                                                                                                                                                                                                                                                                                                                                                                                                                                                                                                                                                                                                                                                                                                                                                                                                                                                                                                                                                                                                                                                                                                                                                                                                                                                                                                                                                                                                                                                                                                                                                                                                                                                                                                                                                                                                                                                                                                                                                                                                                                                                                                                                                                                                                                                                                                                                                                                                                                                                                                                                                                                                                                                                                                                                                                                                                                                                                                                                                                                                                                                                                                                                                                                                                                                                                                                                                                                                                                                                                                                                                                                                                                                                                {'items': []}   \n",
       "2978                                                                                                                                                                                                                                                                                                                                                                                                                                                                                                                                                                                                                                                                                                                                                                                                                                                                                                                                                                                                                                                                                                                                                                                                                                                                                                                                                                                                                                                                                                                                                                                                                                                                                                                                                                                                                                                                                                                                                                                                                                                                                                                                                                                                                                                                                                                                                                                                                                                                                                                                                                                                                                                                                                                                                                                                                                                                                                                                                                                                                                                                                                                                                                                                                                                                                                                                                                                                                                                                                                                                                                                                                                                                                                                                                                                                                                                                                                                                                                                                                                                                                                                                                                                                                                                                                                                                                                                                                                                                                                                                                                                                                                                                                                                                                                                                                                                                                                                                                                                                                                                                                                                                                                                                                                                                                                                                                                                                    {'items': [{'title': 'Paris, Île-de-France, France', 'id': 'here:cm:namedplace:20002128', 'resultType': 'locality', 'localityType': 'city', 'address': {'label': 'Paris, Île-de-France, France', 'countryCode': 'FRA', 'countryName': 'France', 'stateCode': 'IDF', 'state': 'Île-de-France', 'county': 'Paris', 'city': 'Paris', 'postalCode': '75001'}, 'position': {'lat': 48.85717, 'lng': 2.3414}, 'mapView': {'west': 2.22383, 'south': 48.81571, 'east': 2.4698, 'north': 48.90248}, 'scoring': {'queryScore': 1.0, 'fieldScore': {'country': 1.0, 'city': 1.0}}}]}   \n",
       "\n",
       "       country    country_name country_code  \n",
       "11534      NaN  United Kingdom          GBR  \n",
       "6365       NaN             NaN          NaN  \n",
       "32370      NaN             NaN          NaN  \n",
       "31683      NaN  United Kingdom          GBR  \n",
       "4444       NaN             NaN          NaN  \n",
       "7891       NaN             NaN          NaN  \n",
       "47988      NaN             NaN          NaN  \n",
       "26973      NaN    South Africa          ZAF  \n",
       "19573      NaN             NaN          NaN  \n",
       "7531       NaN   United States          USA  \n",
       "180        NaN   United States          USA  \n",
       "15705      NaN             NaN          NaN  \n",
       "44437      NaN   United States          USA  \n",
       "1266       NaN             NaN          NaN  \n",
       "7682       NaN             NaN          NaN  \n",
       "11692      NaN             NaN          NaN  \n",
       "9298       NaN             NaN          NaN  \n",
       "12798      NaN          Canada          CAN  \n",
       "46403      NaN             NaN          NaN  \n",
       "2978       NaN          France          FRA  "
      ]
     },
     "execution_count": 199,
     "metadata": {},
     "output_type": "execute_result"
    }
   ],
   "source": [
    "tweets_df.sample(20)"
   ]
  },
  {
   "cell_type": "code",
   "execution_count": 201,
   "id": "f2839fb4",
   "metadata": {
    "ExecuteTime": {
     "end_time": "2022-08-22T03:17:57.172726Z",
     "start_time": "2022-08-22T03:17:57.155747Z"
    }
   },
   "outputs": [
    {
     "data": {
      "text/plain": [
       "Index(['tweet_full_text', 'tweet_created_at', 'tweet_id', 'tweet_username',\n",
       "       'tweet_user_screename', 'tweet_userid_str', 'tweet_user_location',\n",
       "       'tweet_user_verified', 'tweet_user_followers_count',\n",
       "       'tweet_user_friends_count', 'tweet_user_listed_count',\n",
       "       'tweet_user_created_at', 'tweet_retweet_count', 'tweet_favorite_count',\n",
       "       'general_location_data', 'country', 'country_name', 'country_code'],\n",
       "      dtype='object')"
      ]
     },
     "execution_count": 201,
     "metadata": {},
     "output_type": "execute_result"
    }
   ],
   "source": [
    "tweets_df.columns"
   ]
  },
  {
   "cell_type": "code",
   "execution_count": 202,
   "id": "d5a5f407",
   "metadata": {
    "ExecuteTime": {
     "end_time": "2022-08-22T03:20:59.079520Z",
     "start_time": "2022-08-22T03:20:58.496177Z"
    }
   },
   "outputs": [],
   "source": [
    "# Remove irrelevant columns\n",
    "\n",
    "\n",
    "\n",
    "tweets_df = tweets_df.drop(columns = ['tweet_user_listed_count', 'tweet_user_created_at', 'general_location_data'])"
   ]
  },
  {
   "cell_type": "markdown",
   "id": "b1e8ce8a",
   "metadata": {},
   "source": [
    "## Tweets Processing"
   ]
  },
  {
   "cell_type": "code",
   "execution_count": 203,
   "id": "d0042994",
   "metadata": {
    "ExecuteTime": {
     "end_time": "2022-08-22T03:22:28.376628Z",
     "start_time": "2022-08-22T03:22:28.343209Z"
    }
   },
   "outputs": [],
   "source": [
    "# Extract Hashtags \n",
    "import re"
   ]
  },
  {
   "cell_type": "code",
   "execution_count": 204,
   "id": "ffb8206e",
   "metadata": {
    "ExecuteTime": {
     "end_time": "2022-08-22T03:22:38.176348Z",
     "start_time": "2022-08-22T03:22:38.161366Z"
    }
   },
   "outputs": [],
   "source": [
    "x = [\"This is a string that needs processing #ugh #yikes\",\n",
    "\"this string doesn't have hashtags\",\n",
    "\"this is another one #hooray\"]"
   ]
  },
  {
   "cell_type": "code",
   "execution_count": 208,
   "id": "41e482da",
   "metadata": {
    "ExecuteTime": {
     "end_time": "2022-08-22T03:23:16.298502Z",
     "start_time": "2022-08-22T03:23:16.282425Z"
    }
   },
   "outputs": [
    {
     "name": "stdout",
     "output_type": "stream",
     "text": [
      "[['#ugh', '#yikes'], [], ['#hooray']]\n"
     ]
    }
   ],
   "source": [
    "hashtags = [re.findall('#\\w+', i) for i in x]\n",
    "print(hashtags)"
   ]
  },
  {
   "cell_type": "code",
   "execution_count": 206,
   "id": "64f4a0fc",
   "metadata": {
    "ExecuteTime": {
     "end_time": "2022-08-22T03:23:04.548709Z",
     "start_time": "2022-08-22T03:23:04.539467Z"
    }
   },
   "outputs": [],
   "source": [
    "y = ['hello this is me ']"
   ]
  },
  {
   "cell_type": "code",
   "execution_count": 209,
   "id": "ceeb35b8",
   "metadata": {
    "ExecuteTime": {
     "end_time": "2022-08-22T03:23:24.825878Z",
     "start_time": "2022-08-22T03:23:24.817827Z"
    }
   },
   "outputs": [
    {
     "name": "stdout",
     "output_type": "stream",
     "text": [
      "[[]]\n"
     ]
    }
   ],
   "source": [
    "more_hashtags = [re.findall('#\\w+', i) for i in y]\n",
    "print(more_hashtags)"
   ]
  },
  {
   "cell_type": "code",
   "execution_count": 210,
   "id": "a5539b39",
   "metadata": {
    "ExecuteTime": {
     "end_time": "2022-08-22T03:23:30.704245Z",
     "start_time": "2022-08-22T03:23:30.690335Z"
    }
   },
   "outputs": [
    {
     "data": {
      "text/plain": [
       "1"
      ]
     },
     "execution_count": 210,
     "metadata": {},
     "output_type": "execute_result"
    }
   ],
   "source": [
    "len(more_hashtags)"
   ]
  },
  {
   "cell_type": "code",
   "execution_count": 212,
   "id": "df2b8ed8",
   "metadata": {
    "ExecuteTime": {
     "end_time": "2022-08-22T03:24:40.669046Z",
     "start_time": "2022-08-22T03:24:40.651021Z"
    }
   },
   "outputs": [
    {
     "name": "stdout",
     "output_type": "stream",
     "text": [
      "['#ugh', '#yikes']\n",
      "[]\n",
      "['#hooray']\n"
     ]
    }
   ],
   "source": [
    "for i in x:\n",
    "    test = re.findall('#\\w+',i)\n",
    "    print(test)"
   ]
  },
  {
   "cell_type": "code",
   "execution_count": 217,
   "id": "44b28fdc",
   "metadata": {
    "ExecuteTime": {
     "end_time": "2022-08-22T03:28:53.146511Z",
     "start_time": "2022-08-22T03:28:53.133898Z"
    }
   },
   "outputs": [],
   "source": [
    "a = '#girlboss'"
   ]
  },
  {
   "cell_type": "code",
   "execution_count": 218,
   "id": "814d97eb",
   "metadata": {
    "ExecuteTime": {
     "end_time": "2022-08-22T03:28:53.915134Z",
     "start_time": "2022-08-22T03:28:53.901085Z"
    }
   },
   "outputs": [
    {
     "name": "stdout",
     "output_type": "stream",
     "text": [
      "['#girlboss']\n"
     ]
    }
   ],
   "source": [
    "\n",
    "test = re.findall('#\\w+',a)\n",
    "print(test)"
   ]
  },
  {
   "cell_type": "code",
   "execution_count": 223,
   "id": "67b31cb7",
   "metadata": {
    "ExecuteTime": {
     "end_time": "2022-08-22T03:33:58.515097Z",
     "start_time": "2022-08-22T03:33:58.496210Z"
    }
   },
   "outputs": [],
   "source": [
    "def getHashtags(tweet):\n",
    "    tags = re.findall('#\\w+',tweet)\n",
    "    un_listed_tags = \" \".join(tags)\n",
    "    return un_listed_tags"
   ]
  },
  {
   "cell_type": "code",
   "execution_count": 224,
   "id": "bc6c371f",
   "metadata": {
    "ExecuteTime": {
     "end_time": "2022-08-22T03:33:59.815352Z",
     "start_time": "2022-08-22T03:33:59.506822Z"
    }
   },
   "outputs": [],
   "source": [
    "tweets_df['hash_tage'] = tweets_df['tweet_full_text'].apply(getHashtags)"
   ]
  },
  {
   "cell_type": "code",
   "execution_count": 225,
   "id": "44d83388",
   "metadata": {
    "ExecuteTime": {
     "end_time": "2022-08-22T03:33:59.966661Z",
     "start_time": "2022-08-22T03:33:59.945681Z"
    }
   },
   "outputs": [
    {
     "data": {
      "text/html": [
       "<div>\n",
       "<style scoped>\n",
       "    .dataframe tbody tr th:only-of-type {\n",
       "        vertical-align: middle;\n",
       "    }\n",
       "\n",
       "    .dataframe tbody tr th {\n",
       "        vertical-align: top;\n",
       "    }\n",
       "\n",
       "    .dataframe thead th {\n",
       "        text-align: right;\n",
       "    }\n",
       "</style>\n",
       "<table border=\"1\" class=\"dataframe\">\n",
       "  <thead>\n",
       "    <tr style=\"text-align: right;\">\n",
       "      <th></th>\n",
       "      <th>tweet_full_text</th>\n",
       "      <th>tweet_created_at</th>\n",
       "      <th>tweet_id</th>\n",
       "      <th>tweet_username</th>\n",
       "      <th>tweet_user_screename</th>\n",
       "      <th>tweet_userid_str</th>\n",
       "      <th>tweet_user_location</th>\n",
       "      <th>tweet_user_verified</th>\n",
       "      <th>tweet_user_followers_count</th>\n",
       "      <th>tweet_user_friends_count</th>\n",
       "      <th>tweet_retweet_count</th>\n",
       "      <th>tweet_favorite_count</th>\n",
       "      <th>country</th>\n",
       "      <th>country_name</th>\n",
       "      <th>country_code</th>\n",
       "      <th>hash_tage</th>\n",
       "    </tr>\n",
       "  </thead>\n",
       "  <tbody>\n",
       "    <tr>\n",
       "      <th>16976</th>\n",
       "      <td>I hate that I have a gut feeling that something awful is gonna happen with the Lexi and Fez situation 😭😭they’re so cute #Euphoria</td>\n",
       "      <td>2022-02-15 00:00:31</td>\n",
       "      <td>1.493375e+18</td>\n",
       "      <td>olivia</td>\n",
       "      <td>Liv_Jord</td>\n",
       "      <td>1.278210e+18</td>\n",
       "      <td>No Location</td>\n",
       "      <td>False</td>\n",
       "      <td>26.0</td>\n",
       "      <td>367.0</td>\n",
       "      <td>0.0</td>\n",
       "      <td>1.0</td>\n",
       "      <td>NaN</td>\n",
       "      <td>NaN</td>\n",
       "      <td>NaN</td>\n",
       "      <td>#Euphoria</td>\n",
       "    </tr>\n",
       "    <tr>\n",
       "      <th>16977</th>\n",
       "      <td>What’s with all the adults on Euphoria just casually drinking with minors 😂 #EuphoriaHBO</td>\n",
       "      <td>2022-02-15 00:00:21</td>\n",
       "      <td>1.493375e+18</td>\n",
       "      <td>(toe•lu)🇳🇬</td>\n",
       "      <td>skiipTOmyLU</td>\n",
       "      <td>2.456662e+07</td>\n",
       "      <td>Houston, TX</td>\n",
       "      <td>False</td>\n",
       "      <td>412.0</td>\n",
       "      <td>366.0</td>\n",
       "      <td>0.0</td>\n",
       "      <td>0.0</td>\n",
       "      <td>NaN</td>\n",
       "      <td>United States</td>\n",
       "      <td>USA</td>\n",
       "      <td>#EuphoriaHBO</td>\n",
       "    </tr>\n",
       "    <tr>\n",
       "      <th>16978</th>\n",
       "      <td>“Episode eight is where we’ll get that sense of redemption.” Only two more episodes left this season of #Euphoria! https://t.co/kq0KAscb2P</td>\n",
       "      <td>2022-02-15 00:00:20</td>\n",
       "      <td>1.493375e+18</td>\n",
       "      <td>GRAZIA</td>\n",
       "      <td>graziatweets</td>\n",
       "      <td>2.041904e+07</td>\n",
       "      <td>New York</td>\n",
       "      <td>True</td>\n",
       "      <td>21726.0</td>\n",
       "      <td>794.0</td>\n",
       "      <td>1.0</td>\n",
       "      <td>0.0</td>\n",
       "      <td>NaN</td>\n",
       "      <td>United States</td>\n",
       "      <td>USA</td>\n",
       "      <td>#Euphoria</td>\n",
       "    </tr>\n",
       "    <tr>\n",
       "      <th>16979</th>\n",
       "      <td>Rue be like #Euphoria https://t.co/E0Z6AEYyEb</td>\n",
       "      <td>2022-02-15 00:00:15</td>\n",
       "      <td>1.493375e+18</td>\n",
       "      <td>the business bitch</td>\n",
       "      <td>_babuba_</td>\n",
       "      <td>4.765358e+09</td>\n",
       "      <td>No Location</td>\n",
       "      <td>False</td>\n",
       "      <td>1390.0</td>\n",
       "      <td>335.0</td>\n",
       "      <td>0.0</td>\n",
       "      <td>1.0</td>\n",
       "      <td>NaN</td>\n",
       "      <td>NaN</td>\n",
       "      <td>NaN</td>\n",
       "      <td>#Euphoria</td>\n",
       "    </tr>\n",
       "    <tr>\n",
       "      <th>16980</th>\n",
       "      <td>Unique Rotating Ultra-Thin Steel Watch👉https://t.co/M3LvHmeHAf\\nChoose The Best Gift For Your Valentine👉https://t.co/xoGrEKdDoi\\nVisit Our website👉https://t.co/TYPGNjIVy1\\nSubscribe Our Link👉https://t.co/HKL1DTiG4S\\n\\n#watches #Valentine #Euphoria #Odell #lssonlinemart #lsstrends https://t.co/z2wKCRxAUv</td>\n",
       "      <td>2022-02-15 00:00:01</td>\n",
       "      <td>1.493375e+18</td>\n",
       "      <td>Lucky Super Store</td>\n",
       "      <td>LSS_Store</td>\n",
       "      <td>1.062288e+18</td>\n",
       "      <td>715 Main St, Asbury Park, NJ</td>\n",
       "      <td>False</td>\n",
       "      <td>1507.0</td>\n",
       "      <td>1477.0</td>\n",
       "      <td>0.0</td>\n",
       "      <td>0.0</td>\n",
       "      <td>NaN</td>\n",
       "      <td>United States</td>\n",
       "      <td>USA</td>\n",
       "      <td>#watches #Valentine #Euphoria #Odell #lssonlinemart #lsstrends</td>\n",
       "    </tr>\n",
       "  </tbody>\n",
       "</table>\n",
       "</div>"
      ],
      "text/plain": [
       "                                                                                                                                                                                                                                                                                                        tweet_full_text  \\\n",
       "16976                                                                                                                                                                                 I hate that I have a gut feeling that something awful is gonna happen with the Lexi and Fez situation 😭😭they’re so cute #Euphoria   \n",
       "16977                                                                                                                                                                                                                          What’s with all the adults on Euphoria just casually drinking with minors 😂 #EuphoriaHBO   \n",
       "16978                                                                                                                                                                        “Episode eight is where we’ll get that sense of redemption.” Only two more episodes left this season of #Euphoria! https://t.co/kq0KAscb2P   \n",
       "16979                                                                                                                                                                                                                                                                     Rue be like #Euphoria https://t.co/E0Z6AEYyEb   \n",
       "16980  Unique Rotating Ultra-Thin Steel Watch👉https://t.co/M3LvHmeHAf\\nChoose The Best Gift For Your Valentine👉https://t.co/xoGrEKdDoi\\nVisit Our website👉https://t.co/TYPGNjIVy1\\nSubscribe Our Link👉https://t.co/HKL1DTiG4S\\n\\n#watches #Valentine #Euphoria #Odell #lssonlinemart #lsstrends https://t.co/z2wKCRxAUv   \n",
       "\n",
       "          tweet_created_at      tweet_id      tweet_username  \\\n",
       "16976  2022-02-15 00:00:31  1.493375e+18              olivia   \n",
       "16977  2022-02-15 00:00:21  1.493375e+18          (toe•lu)🇳🇬   \n",
       "16978  2022-02-15 00:00:20  1.493375e+18              GRAZIA   \n",
       "16979  2022-02-15 00:00:15  1.493375e+18  the business bitch   \n",
       "16980  2022-02-15 00:00:01  1.493375e+18   Lucky Super Store   \n",
       "\n",
       "      tweet_user_screename  tweet_userid_str            tweet_user_location  \\\n",
       "16976             Liv_Jord      1.278210e+18                    No Location   \n",
       "16977          skiipTOmyLU      2.456662e+07                    Houston, TX   \n",
       "16978         graziatweets      2.041904e+07                       New York   \n",
       "16979             _babuba_      4.765358e+09                    No Location   \n",
       "16980            LSS_Store      1.062288e+18  715 Main St, Asbury Park, NJ    \n",
       "\n",
       "      tweet_user_verified  tweet_user_followers_count  \\\n",
       "16976               False                        26.0   \n",
       "16977               False                       412.0   \n",
       "16978                True                     21726.0   \n",
       "16979               False                      1390.0   \n",
       "16980               False                      1507.0   \n",
       "\n",
       "       tweet_user_friends_count  tweet_retweet_count  tweet_favorite_count  \\\n",
       "16976                     367.0                  0.0                   1.0   \n",
       "16977                     366.0                  0.0                   0.0   \n",
       "16978                     794.0                  1.0                   0.0   \n",
       "16979                     335.0                  0.0                   1.0   \n",
       "16980                    1477.0                  0.0                   0.0   \n",
       "\n",
       "       country   country_name country_code  \\\n",
       "16976      NaN            NaN          NaN   \n",
       "16977      NaN  United States          USA   \n",
       "16978      NaN  United States          USA   \n",
       "16979      NaN            NaN          NaN   \n",
       "16980      NaN  United States          USA   \n",
       "\n",
       "                                                            hash_tage  \n",
       "16976                                                       #Euphoria  \n",
       "16977                                                    #EuphoriaHBO  \n",
       "16978                                                       #Euphoria  \n",
       "16979                                                       #Euphoria  \n",
       "16980  #watches #Valentine #Euphoria #Odell #lssonlinemart #lsstrends  "
      ]
     },
     "execution_count": 225,
     "metadata": {},
     "output_type": "execute_result"
    }
   ],
   "source": [
    "tweets_df.tail()"
   ]
  },
  {
   "cell_type": "markdown",
   "id": "2456b1f2",
   "metadata": {},
   "source": [
    "Next Steps: \n",
    "- get number of unique hastags\n",
    "- Then get most popular hashtags and the count for those\n",
    "- Get most popular characters that have been tweeted about \n",
    "    - who are tweeting more about?\n",
    "- Define stopwords \n",
    "- Then move onto:\n",
    "1. Removing Punctuations\n",
    "2. Tokenization - converting a sentence (full-text tweet) into a list of words\n",
    "3. Removing Stopwords\n",
    "4. Lemmatization/Stemming - Transforming any form of a word to its root word\n",
    "\n",
    "Don't forget to remove Punctuations \n",
    "\n",
    "Then after all that above, move onto Data Exploration and Building Visualizations in Python"
   ]
  },
  {
   "cell_type": "code",
   "execution_count": null,
   "id": "e105de44",
   "metadata": {},
   "outputs": [],
   "source": [
    "# get number of uniquie hashtags \n",
    "# - combine entire column into a list and then find out which one is the....most used/most common? "
   ]
  },
  {
   "cell_type": "code",
   "execution_count": null,
   "id": "b695e7b7",
   "metadata": {},
   "outputs": [],
   "source": []
  }
 ],
 "metadata": {
  "kernelspec": {
   "display_name": "Python 3",
   "language": "python",
   "name": "python3"
  },
  "language_info": {
   "codemirror_mode": {
    "name": "ipython",
    "version": 3
   },
   "file_extension": ".py",
   "mimetype": "text/x-python",
   "name": "python",
   "nbconvert_exporter": "python",
   "pygments_lexer": "ipython3",
   "version": "3.9.1"
  },
  "toc": {
   "base_numbering": 1,
   "nav_menu": {},
   "number_sections": true,
   "sideBar": true,
   "skip_h1_title": false,
   "title_cell": "Table of Contents",
   "title_sidebar": "Contents",
   "toc_cell": false,
   "toc_position": {},
   "toc_section_display": true,
   "toc_window_display": false
  }
 },
 "nbformat": 4,
 "nbformat_minor": 5
}
