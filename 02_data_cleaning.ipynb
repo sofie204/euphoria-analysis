{
 "cells": [
  {
   "cell_type": "markdown",
   "id": "8bfe624b",
   "metadata": {},
   "source": [
    "# Euphoria Twitter Analysis"
   ]
  },
  {
   "cell_type": "markdown",
   "id": "c8238735",
   "metadata": {},
   "source": [
    "## Data Cleaning and Processing "
   ]
  },
  {
   "cell_type": "markdown",
   "id": "1870a79f",
   "metadata": {},
   "source": [
    "## Scope: This notebook will show how I combine all my data into one DataFrame and clean the data "
   ]
  },
  {
   "cell_type": "markdown",
   "id": "21b5ee5d",
   "metadata": {},
   "source": [
    "Scrape data off twitter and then use NLP to transform the data and do some data visuzlizations "
   ]
  },
  {
   "cell_type": "code",
   "execution_count": 1,
   "id": "d9c28815",
   "metadata": {
    "ExecuteTime": {
     "end_time": "2022-08-21T02:41:02.364513Z",
     "start_time": "2022-08-21T02:41:01.957367Z"
    }
   },
   "outputs": [],
   "source": [
    "# Import Libraries \n",
    "import pandas as pd\n",
    "import os\n",
    "import glob"
   ]
  },
  {
   "cell_type": "code",
   "execution_count": 2,
   "id": "a4d1f379",
   "metadata": {
    "ExecuteTime": {
     "end_time": "2022-08-21T02:41:03.808490Z",
     "start_time": "2022-08-21T02:41:03.785555Z"
    }
   },
   "outputs": [
    {
     "data": {
      "text/plain": [
       "'/Users/iizokun/Desktop/ds_programming/euphoria'"
      ]
     },
     "execution_count": 2,
     "metadata": {},
     "output_type": "execute_result"
    }
   ],
   "source": [
    "pwd"
   ]
  },
  {
   "cell_type": "code",
   "execution_count": 3,
   "id": "f53a9577",
   "metadata": {
    "ExecuteTime": {
     "end_time": "2022-08-21T02:41:06.542911Z",
     "start_time": "2022-08-21T02:41:06.535110Z"
    }
   },
   "outputs": [],
   "source": [
    "join= os.path.join(\"euphoria*.csv\")"
   ]
  },
  {
   "cell_type": "code",
   "execution_count": 4,
   "id": "245ef737",
   "metadata": {
    "ExecuteTime": {
     "end_time": "2022-08-21T02:41:07.771620Z",
     "start_time": "2022-08-21T02:41:07.761331Z"
    }
   },
   "outputs": [],
   "source": [
    "join_list = glob.glob(join)"
   ]
  },
  {
   "cell_type": "code",
   "execution_count": 5,
   "id": "24e46cd8",
   "metadata": {
    "ExecuteTime": {
     "end_time": "2022-08-21T02:41:09.271507Z",
     "start_time": "2022-08-21T02:41:09.256384Z"
    }
   },
   "outputs": [
    {
     "data": {
      "text/plain": [
       "['euphoria02.csv',\n",
       " 'euphoria03.csv',\n",
       " 'euphoria01.csv',\n",
       " 'euphoria04.csv',\n",
       " 'euphoria05.csv',\n",
       " 'euphoria07.csv',\n",
       " 'euphoria06.csv']"
      ]
     },
     "execution_count": 5,
     "metadata": {},
     "output_type": "execute_result"
    }
   ],
   "source": [
    "join_list"
   ]
  },
  {
   "cell_type": "code",
   "execution_count": 6,
   "id": "92b958ea",
   "metadata": {
    "ExecuteTime": {
     "end_time": "2022-08-21T02:41:14.383204Z",
     "start_time": "2022-08-21T02:41:14.368327Z"
    }
   },
   "outputs": [
    {
     "data": {
      "text/plain": [
       "'euphoria*.csv'"
      ]
     },
     "execution_count": 6,
     "metadata": {},
     "output_type": "execute_result"
    }
   ],
   "source": [
    "join"
   ]
  },
  {
   "cell_type": "code",
   "execution_count": 7,
   "id": "3a83f9c9",
   "metadata": {
    "ExecuteTime": {
     "end_time": "2022-08-21T02:41:17.790912Z",
     "start_time": "2022-08-21T02:41:16.046256Z"
    }
   },
   "outputs": [
    {
     "name": "stdout",
     "output_type": "stream",
     "text": [
      "Loading euphoria02.csv\n",
      "Loading euphoria03.csv\n",
      "Loading euphoria01.csv\n"
     ]
    },
    {
     "name": "stderr",
     "output_type": "stream",
     "text": [
      "/Users/iizokun/opt/miniconda3/envs/ds102/lib/python3.9/site-packages/IPython/core/interactiveshell.py:3155: DtypeWarning: Columns (0,10,18,19) have mixed types.Specify dtype option on import or set low_memory=False.\n",
      "  has_raised = await self.run_ast_nodes(code_ast.body, cell_name,\n"
     ]
    },
    {
     "name": "stdout",
     "output_type": "stream",
     "text": [
      "Loading euphoria04.csv\n",
      "Loading euphoria05.csv\n",
      "Loading euphoria07.csv\n",
      "Loading euphoria06.csv\n"
     ]
    }
   ],
   "source": [
    "all_tweets = []\n",
    "for tweet_df in join_list:\n",
    "    print(f'Loading {tweet_df}')\n",
    "    \n",
    "    new_df = pd.read_csv(tweet_df)\n",
    "    \n",
    "    all_tweets.append(new_df)"
   ]
  },
  {
   "cell_type": "code",
   "execution_count": 8,
   "id": "05816113",
   "metadata": {
    "ExecuteTime": {
     "end_time": "2022-08-21T02:41:27.053617Z",
     "start_time": "2022-08-21T02:41:27.035774Z"
    }
   },
   "outputs": [
    {
     "data": {
      "text/plain": [
       "7"
      ]
     },
     "execution_count": 8,
     "metadata": {},
     "output_type": "execute_result"
    }
   ],
   "source": [
    "len(all_tweets)"
   ]
  },
  {
   "cell_type": "code",
   "execution_count": 9,
   "id": "ae0d2d40",
   "metadata": {
    "ExecuteTime": {
     "end_time": "2022-08-21T02:41:29.501741Z",
     "start_time": "2022-08-21T02:41:29.388664Z"
    }
   },
   "outputs": [],
   "source": [
    "df = pd.concat(all_tweets)"
   ]
  },
  {
   "cell_type": "code",
   "execution_count": 10,
   "id": "eedabeee",
   "metadata": {
    "ExecuteTime": {
     "end_time": "2022-08-21T02:41:32.847576Z",
     "start_time": "2022-08-21T02:41:32.841575Z"
    }
   },
   "outputs": [
    {
     "data": {
      "text/plain": [
       "(236640, 22)"
      ]
     },
     "execution_count": 10,
     "metadata": {},
     "output_type": "execute_result"
    }
   ],
   "source": [
    "\n",
    "df.shape"
   ]
  },
  {
   "cell_type": "code",
   "execution_count": 11,
   "id": "1850345b",
   "metadata": {
    "ExecuteTime": {
     "end_time": "2022-08-21T02:46:16.450292Z",
     "start_time": "2022-08-21T02:46:16.364801Z"
    }
   },
   "outputs": [
    {
     "data": {
      "text/html": [
       "<div>\n",
       "<style scoped>\n",
       "    .dataframe tbody tr th:only-of-type {\n",
       "        vertical-align: middle;\n",
       "    }\n",
       "\n",
       "    .dataframe tbody tr th {\n",
       "        vertical-align: top;\n",
       "    }\n",
       "\n",
       "    .dataframe thead th {\n",
       "        text-align: right;\n",
       "    }\n",
       "</style>\n",
       "<table border=\"1\" class=\"dataframe\">\n",
       "  <thead>\n",
       "    <tr style=\"text-align: right;\">\n",
       "      <th></th>\n",
       "      <th>Unnamed: 0</th>\n",
       "      <th>0</th>\n",
       "      <th>1</th>\n",
       "      <th>2</th>\n",
       "      <th>3</th>\n",
       "      <th>4</th>\n",
       "      <th>5</th>\n",
       "      <th>6</th>\n",
       "      <th>7</th>\n",
       "      <th>8</th>\n",
       "      <th>...</th>\n",
       "      <th>11</th>\n",
       "      <th>12</th>\n",
       "      <th>13</th>\n",
       "      <th>14</th>\n",
       "      <th>15</th>\n",
       "      <th>16</th>\n",
       "      <th>17</th>\n",
       "      <th>18</th>\n",
       "      <th>19</th>\n",
       "      <th>20</th>\n",
       "    </tr>\n",
       "  </thead>\n",
       "  <tbody>\n",
       "    <tr>\n",
       "      <th>0</th>\n",
       "      <td>0</td>\n",
       "      <td>Really want a fez / Lexi parallel scene to whe...</td>\n",
       "      <td>2022-01-23 23:59:50</td>\n",
       "      <td>1.485402e+18</td>\n",
       "      <td>Katy</td>\n",
       "      <td>katykitty628</td>\n",
       "      <td>1.471191e+18</td>\n",
       "      <td>NaN</td>\n",
       "      <td>NaN</td>\n",
       "      <td>just a girl in a man's world 😌.               ...</td>\n",
       "      <td>...</td>\n",
       "      <td>82.0</td>\n",
       "      <td>556.0</td>\n",
       "      <td>113.0</td>\n",
       "      <td>0.0</td>\n",
       "      <td>2021-12-15 18:51:50</td>\n",
       "      <td>https://pbs.twimg.com/profile_images/147119180...</td>\n",
       "      <td>True</td>\n",
       "      <td>False</td>\n",
       "      <td>0.0</td>\n",
       "      <td>0.0</td>\n",
       "    </tr>\n",
       "    <tr>\n",
       "      <th>1</th>\n",
       "      <td>1</td>\n",
       "      <td>#Euphoria I hope Maddy pulls the hair out that...</td>\n",
       "      <td>2022-01-23 23:59:33</td>\n",
       "      <td>1.485402e+18</td>\n",
       "      <td>𝐕𝐢𝐫𝐠𝐞𝐚𝐮𝐱</td>\n",
       "      <td>_njauu</td>\n",
       "      <td>9.510643e+17</td>\n",
       "      <td>here</td>\n",
       "      <td>NaN</td>\n",
       "      <td>you're in my business, don't do that.</td>\n",
       "      <td>...</td>\n",
       "      <td>221.0</td>\n",
       "      <td>155447.0</td>\n",
       "      <td>45787.0</td>\n",
       "      <td>1.0</td>\n",
       "      <td>2018-01-10 12:12:53</td>\n",
       "      <td>https://pbs.twimg.com/profile_images/147736305...</td>\n",
       "      <td>True</td>\n",
       "      <td>False</td>\n",
       "      <td>0.0</td>\n",
       "      <td>0.0</td>\n",
       "    </tr>\n",
       "    <tr>\n",
       "      <th>2</th>\n",
       "      <td>2</td>\n",
       "      <td>Between #AndJustLikeThat and #Euphoria @HBO is...</td>\n",
       "      <td>2022-01-23 23:59:04</td>\n",
       "      <td>1.485402e+18</td>\n",
       "      <td>Steph Swinton</td>\n",
       "      <td>StephSwinton</td>\n",
       "      <td>2.390617e+07</td>\n",
       "      <td>New York</td>\n",
       "      <td>NaN</td>\n",
       "      <td>Just a girl from the city.\\nalt Twitter: TheAr...</td>\n",
       "      <td>...</td>\n",
       "      <td>729.0</td>\n",
       "      <td>32677.0</td>\n",
       "      <td>28747.0</td>\n",
       "      <td>5.0</td>\n",
       "      <td>2009-03-12 05:32:39</td>\n",
       "      <td>https://pbs.twimg.com/profile_images/950198226...</td>\n",
       "      <td>False</td>\n",
       "      <td>False</td>\n",
       "      <td>0.0</td>\n",
       "      <td>2.0</td>\n",
       "    </tr>\n",
       "    <tr>\n",
       "      <th>3</th>\n",
       "      <td>3</td>\n",
       "      <td>its #Euphoria  day!!!!</td>\n",
       "      <td>2022-01-23 23:59:04</td>\n",
       "      <td>1.485402e+18</td>\n",
       "      <td>felic-titty</td>\n",
       "      <td>lilbootybbg</td>\n",
       "      <td>1.173761e+18</td>\n",
       "      <td>in therapy</td>\n",
       "      <td>NaN</td>\n",
       "      <td>she/her 21 :)</td>\n",
       "      <td>...</td>\n",
       "      <td>145.0</td>\n",
       "      <td>42553.0</td>\n",
       "      <td>3027.0</td>\n",
       "      <td>0.0</td>\n",
       "      <td>2019-09-17 00:52:26</td>\n",
       "      <td>https://pbs.twimg.com/profile_images/145893433...</td>\n",
       "      <td>True</td>\n",
       "      <td>False</td>\n",
       "      <td>0.0</td>\n",
       "      <td>2.0</td>\n",
       "    </tr>\n",
       "    <tr>\n",
       "      <th>4</th>\n",
       "      <td>4</td>\n",
       "      <td>YESSSIR DOING A QUICK STREAM BEFOE TONIGHT'S #...</td>\n",
       "      <td>2022-01-23 23:58:56</td>\n",
       "      <td>1.485402e+18</td>\n",
       "      <td>Chris RossVlogs</td>\n",
       "      <td>ChrisRossvlogs</td>\n",
       "      <td>1.347083e+18</td>\n",
       "      <td>Mr. Hollywood</td>\n",
       "      <td>https://t.co/3xdQXI2Zv8</td>\n",
       "      <td>Actor/Director, &amp; Youtuber Use code “ChrisRoss...</td>\n",
       "      <td>...</td>\n",
       "      <td>276.0</td>\n",
       "      <td>4211.0</td>\n",
       "      <td>4099.0</td>\n",
       "      <td>1.0</td>\n",
       "      <td>2021-01-07 07:32:01</td>\n",
       "      <td>https://pbs.twimg.com/profile_images/141594587...</td>\n",
       "      <td>True</td>\n",
       "      <td>False</td>\n",
       "      <td>1.0</td>\n",
       "      <td>3.0</td>\n",
       "    </tr>\n",
       "  </tbody>\n",
       "</table>\n",
       "<p>5 rows × 22 columns</p>\n",
       "</div>"
      ],
      "text/plain": [
       "  Unnamed: 0                                                  0  \\\n",
       "0          0  Really want a fez / Lexi parallel scene to whe...   \n",
       "1          1  #Euphoria I hope Maddy pulls the hair out that...   \n",
       "2          2  Between #AndJustLikeThat and #Euphoria @HBO is...   \n",
       "3          3                             its #Euphoria  day!!!!   \n",
       "4          4  YESSSIR DOING A QUICK STREAM BEFOE TONIGHT'S #...   \n",
       "\n",
       "                     1             2                3               4  \\\n",
       "0  2022-01-23 23:59:50  1.485402e+18             Katy    katykitty628   \n",
       "1  2022-01-23 23:59:33  1.485402e+18         𝐕𝐢𝐫𝐠𝐞𝐚𝐮𝐱          _njauu   \n",
       "2  2022-01-23 23:59:04  1.485402e+18    Steph Swinton    StephSwinton   \n",
       "3  2022-01-23 23:59:04  1.485402e+18      felic-titty     lilbootybbg   \n",
       "4  2022-01-23 23:58:56  1.485402e+18  Chris RossVlogs  ChrisRossvlogs   \n",
       "\n",
       "              5               6                        7  \\\n",
       "0  1.471191e+18             NaN                      NaN   \n",
       "1  9.510643e+17            here                      NaN   \n",
       "2  2.390617e+07        New York                      NaN   \n",
       "3  1.173761e+18     in therapy                       NaN   \n",
       "4  1.347083e+18  Mr. Hollywood   https://t.co/3xdQXI2Zv8   \n",
       "\n",
       "                                                   8  ...     11        12  \\\n",
       "0  just a girl in a man's world 😌.               ...  ...   82.0     556.0   \n",
       "1              you're in my business, don't do that.  ...  221.0  155447.0   \n",
       "2  Just a girl from the city.\\nalt Twitter: TheAr...  ...  729.0   32677.0   \n",
       "3                                      she/her 21 :)  ...  145.0   42553.0   \n",
       "4  Actor/Director, & Youtuber Use code “ChrisRoss...  ...  276.0    4211.0   \n",
       "\n",
       "        13   14                   15  \\\n",
       "0    113.0  0.0  2021-12-15 18:51:50   \n",
       "1  45787.0  1.0  2018-01-10 12:12:53   \n",
       "2  28747.0  5.0  2009-03-12 05:32:39   \n",
       "3   3027.0  0.0  2019-09-17 00:52:26   \n",
       "4   4099.0  1.0  2021-01-07 07:32:01   \n",
       "\n",
       "                                                  16     17     18   19   20  \n",
       "0  https://pbs.twimg.com/profile_images/147119180...   True  False  0.0  0.0  \n",
       "1  https://pbs.twimg.com/profile_images/147736305...   True  False  0.0  0.0  \n",
       "2  https://pbs.twimg.com/profile_images/950198226...  False  False  0.0  2.0  \n",
       "3  https://pbs.twimg.com/profile_images/145893433...   True  False  0.0  2.0  \n",
       "4  https://pbs.twimg.com/profile_images/141594587...   True  False  1.0  3.0  \n",
       "\n",
       "[5 rows x 22 columns]"
      ]
     },
     "execution_count": 11,
     "metadata": {},
     "output_type": "execute_result"
    }
   ],
   "source": [
    "df.head()"
   ]
  },
  {
   "cell_type": "code",
   "execution_count": 12,
   "id": "bb54867e",
   "metadata": {
    "ExecuteTime": {
     "end_time": "2022-08-21T02:46:23.950747Z",
     "start_time": "2022-08-21T02:46:23.915496Z"
    }
   },
   "outputs": [
    {
     "data": {
      "text/html": [
       "<div>\n",
       "<style scoped>\n",
       "    .dataframe tbody tr th:only-of-type {\n",
       "        vertical-align: middle;\n",
       "    }\n",
       "\n",
       "    .dataframe tbody tr th {\n",
       "        vertical-align: top;\n",
       "    }\n",
       "\n",
       "    .dataframe thead th {\n",
       "        text-align: right;\n",
       "    }\n",
       "</style>\n",
       "<table border=\"1\" class=\"dataframe\">\n",
       "  <thead>\n",
       "    <tr style=\"text-align: right;\">\n",
       "      <th></th>\n",
       "      <th>Unnamed: 0</th>\n",
       "      <th>0</th>\n",
       "      <th>1</th>\n",
       "      <th>2</th>\n",
       "      <th>3</th>\n",
       "      <th>4</th>\n",
       "      <th>5</th>\n",
       "      <th>6</th>\n",
       "      <th>7</th>\n",
       "      <th>8</th>\n",
       "      <th>...</th>\n",
       "      <th>11</th>\n",
       "      <th>12</th>\n",
       "      <th>13</th>\n",
       "      <th>14</th>\n",
       "      <th>15</th>\n",
       "      <th>16</th>\n",
       "      <th>17</th>\n",
       "      <th>18</th>\n",
       "      <th>19</th>\n",
       "      <th>20</th>\n",
       "    </tr>\n",
       "  </thead>\n",
       "  <tbody>\n",
       "    <tr>\n",
       "      <th>16976</th>\n",
       "      <td>16976</td>\n",
       "      <td>I hate that I have a gut feeling that somethin...</td>\n",
       "      <td>2022-02-15 00:00:31</td>\n",
       "      <td>1.493375e+18</td>\n",
       "      <td>olivia</td>\n",
       "      <td>Liv_Jord</td>\n",
       "      <td>1.278210e+18</td>\n",
       "      <td>NaN</td>\n",
       "      <td>NaN</td>\n",
       "      <td>21~NC make today count she/her</td>\n",
       "      <td>...</td>\n",
       "      <td>367.0</td>\n",
       "      <td>12109.0</td>\n",
       "      <td>2144.0</td>\n",
       "      <td>0.0</td>\n",
       "      <td>2020-07-01 06:12:49</td>\n",
       "      <td>https://pbs.twimg.com/profile_images/141830766...</td>\n",
       "      <td>True</td>\n",
       "      <td>False</td>\n",
       "      <td>0.0</td>\n",
       "      <td>1.0</td>\n",
       "    </tr>\n",
       "    <tr>\n",
       "      <th>16977</th>\n",
       "      <td>16977</td>\n",
       "      <td>What’s with all the adults on Euphoria just ca...</td>\n",
       "      <td>2022-02-15 00:00:21</td>\n",
       "      <td>1.493375e+18</td>\n",
       "      <td>(toe•lu)🇳🇬</td>\n",
       "      <td>skiipTOmyLU</td>\n",
       "      <td>2.456662e+07</td>\n",
       "      <td>Houston, TX</td>\n",
       "      <td>NaN</td>\n",
       "      <td>I came, I saw, I left early.</td>\n",
       "      <td>...</td>\n",
       "      <td>366.0</td>\n",
       "      <td>8476.0</td>\n",
       "      <td>23075.0</td>\n",
       "      <td>7.0</td>\n",
       "      <td>2009-03-15 18:56:40</td>\n",
       "      <td>https://pbs.twimg.com/profile_images/149364342...</td>\n",
       "      <td>False</td>\n",
       "      <td>False</td>\n",
       "      <td>0.0</td>\n",
       "      <td>0.0</td>\n",
       "    </tr>\n",
       "    <tr>\n",
       "      <th>16978</th>\n",
       "      <td>16978</td>\n",
       "      <td>“Episode eight is where we’ll get that sense o...</td>\n",
       "      <td>2022-02-15 00:00:20</td>\n",
       "      <td>1.493375e+18</td>\n",
       "      <td>GRAZIA</td>\n",
       "      <td>graziatweets</td>\n",
       "      <td>2.041904e+07</td>\n",
       "      <td>New York</td>\n",
       "      <td>https://t.co/pifa2NBobd</td>\n",
       "      <td>The number one destination for smart and styli...</td>\n",
       "      <td>...</td>\n",
       "      <td>794.0</td>\n",
       "      <td>936.0</td>\n",
       "      <td>7336.0</td>\n",
       "      <td>357.0</td>\n",
       "      <td>2009-02-09 06:02:12</td>\n",
       "      <td>https://pbs.twimg.com/profile_images/132316780...</td>\n",
       "      <td>False</td>\n",
       "      <td>False</td>\n",
       "      <td>1.0</td>\n",
       "      <td>0.0</td>\n",
       "    </tr>\n",
       "    <tr>\n",
       "      <th>16979</th>\n",
       "      <td>16979</td>\n",
       "      <td>Rue be like #Euphoria https://t.co/E0Z6AEYyEb</td>\n",
       "      <td>2022-02-15 00:00:15</td>\n",
       "      <td>1.493375e+18</td>\n",
       "      <td>the business bitch</td>\n",
       "      <td>_babuba_</td>\n",
       "      <td>4.765358e+09</td>\n",
       "      <td>NaN</td>\n",
       "      <td>NaN</td>\n",
       "      <td>πίβοτ σε εξέλ και παρκέ</td>\n",
       "      <td>...</td>\n",
       "      <td>335.0</td>\n",
       "      <td>83433.0</td>\n",
       "      <td>36282.0</td>\n",
       "      <td>14.0</td>\n",
       "      <td>2016-01-16 00:16:14</td>\n",
       "      <td>https://pbs.twimg.com/profile_images/148817450...</td>\n",
       "      <td>False</td>\n",
       "      <td>False</td>\n",
       "      <td>0.0</td>\n",
       "      <td>1.0</td>\n",
       "    </tr>\n",
       "    <tr>\n",
       "      <th>16980</th>\n",
       "      <td>16980</td>\n",
       "      <td>Unique Rotating Ultra-Thin Steel Watch👉https:/...</td>\n",
       "      <td>2022-02-15 00:00:01</td>\n",
       "      <td>1.493375e+18</td>\n",
       "      <td>Lucky Super Store</td>\n",
       "      <td>LSS_Store</td>\n",
       "      <td>1.062288e+18</td>\n",
       "      <td>715 Main St, Asbury Park, NJ</td>\n",
       "      <td>https://t.co/UTYsdnPioj</td>\n",
       "      <td>NaN</td>\n",
       "      <td>...</td>\n",
       "      <td>1477.0</td>\n",
       "      <td>4279.0</td>\n",
       "      <td>5252.0</td>\n",
       "      <td>2.0</td>\n",
       "      <td>2018-11-13 10:15:07</td>\n",
       "      <td>https://pbs.twimg.com/profile_images/146425578...</td>\n",
       "      <td>False</td>\n",
       "      <td>False</td>\n",
       "      <td>0.0</td>\n",
       "      <td>0.0</td>\n",
       "    </tr>\n",
       "  </tbody>\n",
       "</table>\n",
       "<p>5 rows × 22 columns</p>\n",
       "</div>"
      ],
      "text/plain": [
       "      Unnamed: 0                                                  0  \\\n",
       "16976      16976  I hate that I have a gut feeling that somethin...   \n",
       "16977      16977  What’s with all the adults on Euphoria just ca...   \n",
       "16978      16978  “Episode eight is where we’ll get that sense o...   \n",
       "16979      16979      Rue be like #Euphoria https://t.co/E0Z6AEYyEb   \n",
       "16980      16980  Unique Rotating Ultra-Thin Steel Watch👉https:/...   \n",
       "\n",
       "                         1             2                   3             4  \\\n",
       "16976  2022-02-15 00:00:31  1.493375e+18              olivia      Liv_Jord   \n",
       "16977  2022-02-15 00:00:21  1.493375e+18          (toe•lu)🇳🇬   skiipTOmyLU   \n",
       "16978  2022-02-15 00:00:20  1.493375e+18              GRAZIA  graziatweets   \n",
       "16979  2022-02-15 00:00:15  1.493375e+18  the business bitch      _babuba_   \n",
       "16980  2022-02-15 00:00:01  1.493375e+18   Lucky Super Store     LSS_Store   \n",
       "\n",
       "                  5                              6                        7  \\\n",
       "16976  1.278210e+18                            NaN                      NaN   \n",
       "16977  2.456662e+07                    Houston, TX                      NaN   \n",
       "16978  2.041904e+07                       New York  https://t.co/pifa2NBobd   \n",
       "16979  4.765358e+09                            NaN                      NaN   \n",
       "16980  1.062288e+18  715 Main St, Asbury Park, NJ   https://t.co/UTYsdnPioj   \n",
       "\n",
       "                                                       8  ...      11  \\\n",
       "16976                     21~NC make today count she/her  ...   367.0   \n",
       "16977                       I came, I saw, I left early.  ...   366.0   \n",
       "16978  The number one destination for smart and styli...  ...   794.0   \n",
       "16979                            πίβοτ σε εξέλ και παρκέ  ...   335.0   \n",
       "16980                                                NaN  ...  1477.0   \n",
       "\n",
       "            12       13     14                   15  \\\n",
       "16976  12109.0   2144.0    0.0  2020-07-01 06:12:49   \n",
       "16977   8476.0  23075.0    7.0  2009-03-15 18:56:40   \n",
       "16978    936.0   7336.0  357.0  2009-02-09 06:02:12   \n",
       "16979  83433.0  36282.0   14.0  2016-01-16 00:16:14   \n",
       "16980   4279.0   5252.0    2.0  2018-11-13 10:15:07   \n",
       "\n",
       "                                                      16     17     18   19  \\\n",
       "16976  https://pbs.twimg.com/profile_images/141830766...   True  False  0.0   \n",
       "16977  https://pbs.twimg.com/profile_images/149364342...  False  False  0.0   \n",
       "16978  https://pbs.twimg.com/profile_images/132316780...  False  False  1.0   \n",
       "16979  https://pbs.twimg.com/profile_images/148817450...  False  False  0.0   \n",
       "16980  https://pbs.twimg.com/profile_images/146425578...  False  False  0.0   \n",
       "\n",
       "        20  \n",
       "16976  1.0  \n",
       "16977  0.0  \n",
       "16978  0.0  \n",
       "16979  1.0  \n",
       "16980  0.0  \n",
       "\n",
       "[5 rows x 22 columns]"
      ]
     },
     "execution_count": 12,
     "metadata": {},
     "output_type": "execute_result"
    }
   ],
   "source": [
    "df.tail()"
   ]
  },
  {
   "cell_type": "code",
   "execution_count": 15,
   "id": "4c1c1356",
   "metadata": {
    "ExecuteTime": {
     "end_time": "2022-08-21T02:50:03.491744Z",
     "start_time": "2022-08-21T02:50:03.436522Z"
    }
   },
   "outputs": [
    {
     "data": {
      "text/html": [
       "<div>\n",
       "<style scoped>\n",
       "    .dataframe tbody tr th:only-of-type {\n",
       "        vertical-align: middle;\n",
       "    }\n",
       "\n",
       "    .dataframe tbody tr th {\n",
       "        vertical-align: top;\n",
       "    }\n",
       "\n",
       "    .dataframe thead th {\n",
       "        text-align: right;\n",
       "    }\n",
       "</style>\n",
       "<table border=\"1\" class=\"dataframe\">\n",
       "  <thead>\n",
       "    <tr style=\"text-align: right;\">\n",
       "      <th></th>\n",
       "      <th>Unnamed: 0</th>\n",
       "      <th>0</th>\n",
       "      <th>1</th>\n",
       "      <th>2</th>\n",
       "      <th>3</th>\n",
       "      <th>4</th>\n",
       "      <th>5</th>\n",
       "      <th>6</th>\n",
       "      <th>7</th>\n",
       "      <th>8</th>\n",
       "      <th>...</th>\n",
       "      <th>11</th>\n",
       "      <th>12</th>\n",
       "      <th>13</th>\n",
       "      <th>14</th>\n",
       "      <th>15</th>\n",
       "      <th>16</th>\n",
       "      <th>17</th>\n",
       "      <th>18</th>\n",
       "      <th>19</th>\n",
       "      <th>20</th>\n",
       "    </tr>\n",
       "  </thead>\n",
       "  <tbody>\n",
       "    <tr>\n",
       "      <th>37769</th>\n",
       "      <td>37767</td>\n",
       "      <td>Rue all night  #Euphoria https://t.co/ygHrDinofg</td>\n",
       "      <td>2022-02-07 16:04:33</td>\n",
       "      <td>1.490718e+18</td>\n",
       "      <td>Danski</td>\n",
       "      <td>Danskiatplay</td>\n",
       "      <td>2.868479e+07</td>\n",
       "      <td>NaN</td>\n",
       "      <td>NaN</td>\n",
       "      <td>🕸 just a spider dude.</td>\n",
       "      <td>...</td>\n",
       "      <td>168.0</td>\n",
       "      <td>5404.0</td>\n",
       "      <td>2254.0</td>\n",
       "      <td>33.0</td>\n",
       "      <td>2009-04-03 23:28:37</td>\n",
       "      <td>https://pbs.twimg.com/profile_images/139414060...</td>\n",
       "      <td>False</td>\n",
       "      <td>False</td>\n",
       "      <td>0.0</td>\n",
       "      <td>0.0</td>\n",
       "    </tr>\n",
       "    <tr>\n",
       "      <th>34875</th>\n",
       "      <td>34875</td>\n",
       "      <td>Honestly this is some of the best and most tra...</td>\n",
       "      <td>2022-01-31 07:53:08</td>\n",
       "      <td>1.488058e+18</td>\n",
       "      <td>Kristiana</td>\n",
       "      <td>KristianaJo</td>\n",
       "      <td>3.299120e+09</td>\n",
       "      <td>Las Vegas, NV</td>\n",
       "      <td>NaN</td>\n",
       "      <td>I’m a grown up now but somehow Twitter still e...</td>\n",
       "      <td>...</td>\n",
       "      <td>246.0</td>\n",
       "      <td>7806.0</td>\n",
       "      <td>3595.0</td>\n",
       "      <td>0.0</td>\n",
       "      <td>2015-07-28 03:27:51</td>\n",
       "      <td>https://pbs.twimg.com/profile_images/148776321...</td>\n",
       "      <td>True</td>\n",
       "      <td>False</td>\n",
       "      <td>1.0</td>\n",
       "      <td>3.0</td>\n",
       "    </tr>\n",
       "    <tr>\n",
       "      <th>26041</th>\n",
       "      <td>26039</td>\n",
       "      <td>#nw #Euphoria Season 2, Episode 2 https://t.co...</td>\n",
       "      <td>17/01/2022 03:19</td>\n",
       "      <td>1.482920e+18</td>\n",
       "      <td>JAXEN 🧣</td>\n",
       "      <td>ABELXDAYA</td>\n",
       "      <td>9.833290e+17</td>\n",
       "      <td>19 He/Him</td>\n",
       "      <td>https://t.co/2AK8TWZMto</td>\n",
       "      <td>Zendaya's side hoe</td>\n",
       "      <td>...</td>\n",
       "      <td>1892.0</td>\n",
       "      <td>124965.0</td>\n",
       "      <td>27854.0</td>\n",
       "      <td>23.0</td>\n",
       "      <td>09/04/2018 13:00</td>\n",
       "      <td>https://pbs.twimg.com/profile_images/148389764...</td>\n",
       "      <td>True</td>\n",
       "      <td>False</td>\n",
       "      <td>0.0</td>\n",
       "      <td>8.0</td>\n",
       "    </tr>\n",
       "    <tr>\n",
       "      <th>17288</th>\n",
       "      <td>17288</td>\n",
       "      <td>Maddy to cassie on next ep ☠\\n#maddy  #cassie ...</td>\n",
       "      <td>2022-02-08 12:03:18</td>\n",
       "      <td>1.491020e+18</td>\n",
       "      <td>Meligod</td>\n",
       "      <td>meeligod</td>\n",
       "      <td>1.359190e+18</td>\n",
       "      <td>NaN</td>\n",
       "      <td>NaN</td>\n",
       "      <td>Melissa /\\n18. ♡</td>\n",
       "      <td>...</td>\n",
       "      <td>31.0</td>\n",
       "      <td>265.0</td>\n",
       "      <td>50.0</td>\n",
       "      <td>0.0</td>\n",
       "      <td>2021-02-09 17:17:31</td>\n",
       "      <td>https://pbs.twimg.com/profile_images/149102189...</td>\n",
       "      <td>True</td>\n",
       "      <td>False</td>\n",
       "      <td>0.0</td>\n",
       "      <td>3.0</td>\n",
       "    </tr>\n",
       "    <tr>\n",
       "      <th>1002</th>\n",
       "      <td>1002</td>\n",
       "      <td>Finally catching up on #Euphoria</td>\n",
       "      <td>2022-02-06 19:29:41</td>\n",
       "      <td>1.490407e+18</td>\n",
       "      <td>💙💕</td>\n",
       "      <td>only1_ayanna_</td>\n",
       "      <td>5.835804e+07</td>\n",
       "      <td>Jersey/NYC</td>\n",
       "      <td>NaN</td>\n",
       "      <td>“And I hide from the camera .... why.... cause...</td>\n",
       "      <td>...</td>\n",
       "      <td>770.0</td>\n",
       "      <td>42010.0</td>\n",
       "      <td>22005.0</td>\n",
       "      <td>3.0</td>\n",
       "      <td>2009-07-20 02:03:52</td>\n",
       "      <td>https://pbs.twimg.com/profile_images/148613825...</td>\n",
       "      <td>False</td>\n",
       "      <td>False</td>\n",
       "      <td>0.0</td>\n",
       "      <td>0.0</td>\n",
       "    </tr>\n",
       "  </tbody>\n",
       "</table>\n",
       "<p>5 rows × 22 columns</p>\n",
       "</div>"
      ],
      "text/plain": [
       "      Unnamed: 0                                                  0  \\\n",
       "37769      37767   Rue all night  #Euphoria https://t.co/ygHrDinofg   \n",
       "34875      34875  Honestly this is some of the best and most tra...   \n",
       "26041      26039  #nw #Euphoria Season 2, Episode 2 https://t.co...   \n",
       "17288      17288  Maddy to cassie on next ep ☠\\n#maddy  #cassie ...   \n",
       "1002        1002                   Finally catching up on #Euphoria   \n",
       "\n",
       "                         1             2          3              4  \\\n",
       "37769  2022-02-07 16:04:33  1.490718e+18     Danski   Danskiatplay   \n",
       "34875  2022-01-31 07:53:08  1.488058e+18  Kristiana    KristianaJo   \n",
       "26041     17/01/2022 03:19  1.482920e+18    JAXEN 🧣      ABELXDAYA   \n",
       "17288  2022-02-08 12:03:18  1.491020e+18    Meligod       meeligod   \n",
       "1002   2022-02-06 19:29:41  1.490407e+18         💙💕  only1_ayanna_   \n",
       "\n",
       "                  5              6                        7  \\\n",
       "37769  2.868479e+07            NaN                      NaN   \n",
       "34875  3.299120e+09  Las Vegas, NV                      NaN   \n",
       "26041  9.833290e+17      19 He/Him  https://t.co/2AK8TWZMto   \n",
       "17288  1.359190e+18            NaN                      NaN   \n",
       "1002   5.835804e+07     Jersey/NYC                      NaN   \n",
       "\n",
       "                                                       8  ...      11  \\\n",
       "37769                              🕸 just a spider dude.  ...   168.0   \n",
       "34875  I’m a grown up now but somehow Twitter still e...  ...   246.0   \n",
       "26041                                 Zendaya's side hoe  ...  1892.0   \n",
       "17288                                   Melissa /\\n18. ♡  ...    31.0   \n",
       "1002   “And I hide from the camera .... why.... cause...  ...   770.0   \n",
       "\n",
       "             12       13    14                   15  \\\n",
       "37769    5404.0   2254.0  33.0  2009-04-03 23:28:37   \n",
       "34875    7806.0   3595.0   0.0  2015-07-28 03:27:51   \n",
       "26041  124965.0  27854.0  23.0     09/04/2018 13:00   \n",
       "17288     265.0     50.0   0.0  2021-02-09 17:17:31   \n",
       "1002    42010.0  22005.0   3.0  2009-07-20 02:03:52   \n",
       "\n",
       "                                                      16     17     18   19  \\\n",
       "37769  https://pbs.twimg.com/profile_images/139414060...  False  False  0.0   \n",
       "34875  https://pbs.twimg.com/profile_images/148776321...   True  False  1.0   \n",
       "26041  https://pbs.twimg.com/profile_images/148389764...   True  False  0.0   \n",
       "17288  https://pbs.twimg.com/profile_images/149102189...   True  False  0.0   \n",
       "1002   https://pbs.twimg.com/profile_images/148613825...  False  False  0.0   \n",
       "\n",
       "        20  \n",
       "37769  0.0  \n",
       "34875  3.0  \n",
       "26041  8.0  \n",
       "17288  3.0  \n",
       "1002   0.0  \n",
       "\n",
       "[5 rows x 22 columns]"
      ]
     },
     "execution_count": 15,
     "metadata": {},
     "output_type": "execute_result"
    }
   ],
   "source": [
    "df.sample(5)\n"
   ]
  },
  {
   "cell_type": "markdown",
   "id": "c9399c84",
   "metadata": {},
   "source": [
    "Next Step would be to get some column names and get the row index in place"
   ]
  },
  {
   "cell_type": "code",
   "execution_count": 17,
   "id": "cc56fff6",
   "metadata": {
    "ExecuteTime": {
     "end_time": "2022-08-21T02:50:24.068774Z",
     "start_time": "2022-08-21T02:50:24.053517Z"
    }
   },
   "outputs": [
    {
     "data": {
      "text/plain": [
       "Index(['Unnamed: 0', '0', '1', '2', '3', '4', '5', '6', '7', '8', '9', '10',\n",
       "       '11', '12', '13', '14', '15', '16', '17', '18', '19', '20'],\n",
       "      dtype='object')"
      ]
     },
     "execution_count": 17,
     "metadata": {},
     "output_type": "execute_result"
    }
   ],
   "source": [
    "df.columns"
   ]
  },
  {
   "cell_type": "code",
   "execution_count": 21,
   "id": "0845b21e",
   "metadata": {
    "ExecuteTime": {
     "end_time": "2022-08-21T02:51:18.175608Z",
     "start_time": "2022-08-21T02:51:18.114149Z"
    }
   },
   "outputs": [],
   "source": [
    "df = df.drop(columns = ['Unnamed: 0'])"
   ]
  },
  {
   "cell_type": "code",
   "execution_count": 22,
   "id": "5b6fc76a",
   "metadata": {
    "ExecuteTime": {
     "end_time": "2022-08-21T02:51:18.855058Z",
     "start_time": "2022-08-21T02:51:18.840984Z"
    }
   },
   "outputs": [
    {
     "data": {
      "text/plain": [
       "Index(['0', '1', '2', '3', '4', '5', '6', '7', '8', '9', '10', '11', '12',\n",
       "       '13', '14', '15', '16', '17', '18', '19', '20'],\n",
       "      dtype='object')"
      ]
     },
     "execution_count": 22,
     "metadata": {},
     "output_type": "execute_result"
    }
   ],
   "source": [
    "df.columns"
   ]
  },
  {
   "cell_type": "code",
   "execution_count": 23,
   "id": "d609340d",
   "metadata": {
    "ExecuteTime": {
     "end_time": "2022-08-21T02:51:19.607204Z",
     "start_time": "2022-08-21T02:51:19.590015Z"
    }
   },
   "outputs": [
    {
     "data": {
      "text/plain": [
       "(236640, 21)"
      ]
     },
     "execution_count": 23,
     "metadata": {},
     "output_type": "execute_result"
    }
   ],
   "source": [
    "df.shape"
   ]
  },
  {
   "cell_type": "code",
   "execution_count": 24,
   "id": "cdd65605",
   "metadata": {
    "ExecuteTime": {
     "end_time": "2022-08-21T02:51:28.554115Z",
     "start_time": "2022-08-21T02:51:28.543257Z"
    }
   },
   "outputs": [],
   "source": [
    "df.columns = ['tweet_full_text', 'tweet_created_at','tweet_id', 'tweet_username','tweet_user_screename','tweet_userid_str',\n",
    "                   'tweet_user_location','tweet_user_url', 'tweet_user_description', 'tweet_user_verified','tweet_user_followers_count',\n",
    "                   'tweet_user_friends_count', 'tweet_user_favorites_count', 'tweet_user_statuses_count','tweet_user_listed_count',\n",
    "                   'tweet_user_created_at', 'user_profile_image_url', 'user_default_profile','user_default_profile_image', 'tweet_retweet_count', 'tweet_favorite_count']"
   ]
  },
  {
   "cell_type": "code",
   "execution_count": 25,
   "id": "6705fbd1",
   "metadata": {
    "ExecuteTime": {
     "end_time": "2022-08-21T02:51:39.815355Z",
     "start_time": "2022-08-21T02:51:39.780950Z"
    }
   },
   "outputs": [
    {
     "data": {
      "text/html": [
       "<div>\n",
       "<style scoped>\n",
       "    .dataframe tbody tr th:only-of-type {\n",
       "        vertical-align: middle;\n",
       "    }\n",
       "\n",
       "    .dataframe tbody tr th {\n",
       "        vertical-align: top;\n",
       "    }\n",
       "\n",
       "    .dataframe thead th {\n",
       "        text-align: right;\n",
       "    }\n",
       "</style>\n",
       "<table border=\"1\" class=\"dataframe\">\n",
       "  <thead>\n",
       "    <tr style=\"text-align: right;\">\n",
       "      <th></th>\n",
       "      <th>tweet_full_text</th>\n",
       "      <th>tweet_created_at</th>\n",
       "      <th>tweet_id</th>\n",
       "      <th>tweet_username</th>\n",
       "      <th>tweet_user_screename</th>\n",
       "      <th>tweet_userid_str</th>\n",
       "      <th>tweet_user_location</th>\n",
       "      <th>tweet_user_url</th>\n",
       "      <th>tweet_user_description</th>\n",
       "      <th>tweet_user_verified</th>\n",
       "      <th>...</th>\n",
       "      <th>tweet_user_friends_count</th>\n",
       "      <th>tweet_user_favorites_count</th>\n",
       "      <th>tweet_user_statuses_count</th>\n",
       "      <th>tweet_user_listed_count</th>\n",
       "      <th>tweet_user_created_at</th>\n",
       "      <th>user_profile_image_url</th>\n",
       "      <th>user_default_profile</th>\n",
       "      <th>user_default_profile_image</th>\n",
       "      <th>tweet_retweet_count</th>\n",
       "      <th>tweet_favorite_count</th>\n",
       "    </tr>\n",
       "  </thead>\n",
       "  <tbody>\n",
       "    <tr>\n",
       "      <th>0</th>\n",
       "      <td>Really want a fez / Lexi parallel scene to whe...</td>\n",
       "      <td>2022-01-23 23:59:50</td>\n",
       "      <td>1.485402e+18</td>\n",
       "      <td>Katy</td>\n",
       "      <td>katykitty628</td>\n",
       "      <td>1.471191e+18</td>\n",
       "      <td>NaN</td>\n",
       "      <td>NaN</td>\n",
       "      <td>just a girl in a man's world 😌.               ...</td>\n",
       "      <td>False</td>\n",
       "      <td>...</td>\n",
       "      <td>82.0</td>\n",
       "      <td>556.0</td>\n",
       "      <td>113.0</td>\n",
       "      <td>0.0</td>\n",
       "      <td>2021-12-15 18:51:50</td>\n",
       "      <td>https://pbs.twimg.com/profile_images/147119180...</td>\n",
       "      <td>True</td>\n",
       "      <td>False</td>\n",
       "      <td>0.0</td>\n",
       "      <td>0.0</td>\n",
       "    </tr>\n",
       "    <tr>\n",
       "      <th>1</th>\n",
       "      <td>#Euphoria I hope Maddy pulls the hair out that...</td>\n",
       "      <td>2022-01-23 23:59:33</td>\n",
       "      <td>1.485402e+18</td>\n",
       "      <td>𝐕𝐢𝐫𝐠𝐞𝐚𝐮𝐱</td>\n",
       "      <td>_njauu</td>\n",
       "      <td>9.510643e+17</td>\n",
       "      <td>here</td>\n",
       "      <td>NaN</td>\n",
       "      <td>you're in my business, don't do that.</td>\n",
       "      <td>False</td>\n",
       "      <td>...</td>\n",
       "      <td>221.0</td>\n",
       "      <td>155447.0</td>\n",
       "      <td>45787.0</td>\n",
       "      <td>1.0</td>\n",
       "      <td>2018-01-10 12:12:53</td>\n",
       "      <td>https://pbs.twimg.com/profile_images/147736305...</td>\n",
       "      <td>True</td>\n",
       "      <td>False</td>\n",
       "      <td>0.0</td>\n",
       "      <td>0.0</td>\n",
       "    </tr>\n",
       "    <tr>\n",
       "      <th>2</th>\n",
       "      <td>Between #AndJustLikeThat and #Euphoria @HBO is...</td>\n",
       "      <td>2022-01-23 23:59:04</td>\n",
       "      <td>1.485402e+18</td>\n",
       "      <td>Steph Swinton</td>\n",
       "      <td>StephSwinton</td>\n",
       "      <td>2.390617e+07</td>\n",
       "      <td>New York</td>\n",
       "      <td>NaN</td>\n",
       "      <td>Just a girl from the city.\\nalt Twitter: TheAr...</td>\n",
       "      <td>False</td>\n",
       "      <td>...</td>\n",
       "      <td>729.0</td>\n",
       "      <td>32677.0</td>\n",
       "      <td>28747.0</td>\n",
       "      <td>5.0</td>\n",
       "      <td>2009-03-12 05:32:39</td>\n",
       "      <td>https://pbs.twimg.com/profile_images/950198226...</td>\n",
       "      <td>False</td>\n",
       "      <td>False</td>\n",
       "      <td>0.0</td>\n",
       "      <td>2.0</td>\n",
       "    </tr>\n",
       "    <tr>\n",
       "      <th>3</th>\n",
       "      <td>its #Euphoria  day!!!!</td>\n",
       "      <td>2022-01-23 23:59:04</td>\n",
       "      <td>1.485402e+18</td>\n",
       "      <td>felic-titty</td>\n",
       "      <td>lilbootybbg</td>\n",
       "      <td>1.173761e+18</td>\n",
       "      <td>in therapy</td>\n",
       "      <td>NaN</td>\n",
       "      <td>she/her 21 :)</td>\n",
       "      <td>False</td>\n",
       "      <td>...</td>\n",
       "      <td>145.0</td>\n",
       "      <td>42553.0</td>\n",
       "      <td>3027.0</td>\n",
       "      <td>0.0</td>\n",
       "      <td>2019-09-17 00:52:26</td>\n",
       "      <td>https://pbs.twimg.com/profile_images/145893433...</td>\n",
       "      <td>True</td>\n",
       "      <td>False</td>\n",
       "      <td>0.0</td>\n",
       "      <td>2.0</td>\n",
       "    </tr>\n",
       "    <tr>\n",
       "      <th>4</th>\n",
       "      <td>YESSSIR DOING A QUICK STREAM BEFOE TONIGHT'S #...</td>\n",
       "      <td>2022-01-23 23:58:56</td>\n",
       "      <td>1.485402e+18</td>\n",
       "      <td>Chris RossVlogs</td>\n",
       "      <td>ChrisRossvlogs</td>\n",
       "      <td>1.347083e+18</td>\n",
       "      <td>Mr. Hollywood</td>\n",
       "      <td>https://t.co/3xdQXI2Zv8</td>\n",
       "      <td>Actor/Director, &amp; Youtuber Use code “ChrisRoss...</td>\n",
       "      <td>False</td>\n",
       "      <td>...</td>\n",
       "      <td>276.0</td>\n",
       "      <td>4211.0</td>\n",
       "      <td>4099.0</td>\n",
       "      <td>1.0</td>\n",
       "      <td>2021-01-07 07:32:01</td>\n",
       "      <td>https://pbs.twimg.com/profile_images/141594587...</td>\n",
       "      <td>True</td>\n",
       "      <td>False</td>\n",
       "      <td>1.0</td>\n",
       "      <td>3.0</td>\n",
       "    </tr>\n",
       "  </tbody>\n",
       "</table>\n",
       "<p>5 rows × 21 columns</p>\n",
       "</div>"
      ],
      "text/plain": [
       "                                     tweet_full_text     tweet_created_at  \\\n",
       "0  Really want a fez / Lexi parallel scene to whe...  2022-01-23 23:59:50   \n",
       "1  #Euphoria I hope Maddy pulls the hair out that...  2022-01-23 23:59:33   \n",
       "2  Between #AndJustLikeThat and #Euphoria @HBO is...  2022-01-23 23:59:04   \n",
       "3                             its #Euphoria  day!!!!  2022-01-23 23:59:04   \n",
       "4  YESSSIR DOING A QUICK STREAM BEFOE TONIGHT'S #...  2022-01-23 23:58:56   \n",
       "\n",
       "       tweet_id   tweet_username tweet_user_screename  tweet_userid_str  \\\n",
       "0  1.485402e+18             Katy         katykitty628      1.471191e+18   \n",
       "1  1.485402e+18         𝐕𝐢𝐫𝐠𝐞𝐚𝐮𝐱               _njauu      9.510643e+17   \n",
       "2  1.485402e+18    Steph Swinton         StephSwinton      2.390617e+07   \n",
       "3  1.485402e+18      felic-titty          lilbootybbg      1.173761e+18   \n",
       "4  1.485402e+18  Chris RossVlogs       ChrisRossvlogs      1.347083e+18   \n",
       "\n",
       "  tweet_user_location           tweet_user_url  \\\n",
       "0                 NaN                      NaN   \n",
       "1                here                      NaN   \n",
       "2            New York                      NaN   \n",
       "3         in therapy                       NaN   \n",
       "4      Mr. Hollywood   https://t.co/3xdQXI2Zv8   \n",
       "\n",
       "                              tweet_user_description tweet_user_verified  ...  \\\n",
       "0  just a girl in a man's world 😌.               ...               False  ...   \n",
       "1              you're in my business, don't do that.               False  ...   \n",
       "2  Just a girl from the city.\\nalt Twitter: TheAr...               False  ...   \n",
       "3                                      she/her 21 :)               False  ...   \n",
       "4  Actor/Director, & Youtuber Use code “ChrisRoss...               False  ...   \n",
       "\n",
       "   tweet_user_friends_count  tweet_user_favorites_count  \\\n",
       "0                      82.0                       556.0   \n",
       "1                     221.0                    155447.0   \n",
       "2                     729.0                     32677.0   \n",
       "3                     145.0                     42553.0   \n",
       "4                     276.0                      4211.0   \n",
       "\n",
       "   tweet_user_statuses_count  tweet_user_listed_count  tweet_user_created_at  \\\n",
       "0                      113.0                      0.0    2021-12-15 18:51:50   \n",
       "1                    45787.0                      1.0    2018-01-10 12:12:53   \n",
       "2                    28747.0                      5.0    2009-03-12 05:32:39   \n",
       "3                     3027.0                      0.0    2019-09-17 00:52:26   \n",
       "4                     4099.0                      1.0    2021-01-07 07:32:01   \n",
       "\n",
       "                              user_profile_image_url user_default_profile  \\\n",
       "0  https://pbs.twimg.com/profile_images/147119180...                 True   \n",
       "1  https://pbs.twimg.com/profile_images/147736305...                 True   \n",
       "2  https://pbs.twimg.com/profile_images/950198226...                False   \n",
       "3  https://pbs.twimg.com/profile_images/145893433...                 True   \n",
       "4  https://pbs.twimg.com/profile_images/141594587...                 True   \n",
       "\n",
       "  user_default_profile_image tweet_retweet_count  tweet_favorite_count  \n",
       "0                      False                 0.0                   0.0  \n",
       "1                      False                 0.0                   0.0  \n",
       "2                      False                 0.0                   2.0  \n",
       "3                      False                 0.0                   2.0  \n",
       "4                      False                 1.0                   3.0  \n",
       "\n",
       "[5 rows x 21 columns]"
      ]
     },
     "execution_count": 25,
     "metadata": {},
     "output_type": "execute_result"
    }
   ],
   "source": [
    "df.head()"
   ]
  },
  {
   "cell_type": "code",
   "execution_count": 35,
   "id": "476aa5fe",
   "metadata": {
    "ExecuteTime": {
     "end_time": "2022-08-21T04:18:04.681478Z",
     "start_time": "2022-08-21T04:18:01.561102Z"
    }
   },
   "outputs": [],
   "source": [
    "# Now that we have the tweet df containing all tweets across all weeks. I want to keep that df, for future use maybe \n",
    "\n",
    "df.to_csv('euphoria_tweets_complete.csv')"
   ]
  },
  {
   "cell_type": "code",
   "execution_count": 37,
   "id": "f5d224e3",
   "metadata": {
    "ExecuteTime": {
     "end_time": "2022-08-21T04:18:22.093095Z",
     "start_time": "2022-08-21T04:18:22.081172Z"
    }
   },
   "outputs": [
    {
     "data": {
      "text/plain": [
       "(236640, 21)"
      ]
     },
     "execution_count": 37,
     "metadata": {},
     "output_type": "execute_result"
    }
   ],
   "source": [
    "df.shape"
   ]
  }
 ],
 "metadata": {
  "kernelspec": {
   "display_name": "Python 3",
   "language": "python",
   "name": "python3"
  },
  "language_info": {
   "codemirror_mode": {
    "name": "ipython",
    "version": 3
   },
   "file_extension": ".py",
   "mimetype": "text/x-python",
   "name": "python",
   "nbconvert_exporter": "python",
   "pygments_lexer": "ipython3",
   "version": "3.9.1"
  },
  "toc": {
   "base_numbering": 1,
   "nav_menu": {},
   "number_sections": true,
   "sideBar": true,
   "skip_h1_title": false,
   "title_cell": "Table of Contents",
   "title_sidebar": "Contents",
   "toc_cell": false,
   "toc_position": {},
   "toc_section_display": true,
   "toc_window_display": false
  }
 },
 "nbformat": 4,
 "nbformat_minor": 5
}
