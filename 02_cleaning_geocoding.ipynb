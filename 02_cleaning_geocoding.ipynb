{
 "cells": [
  {
   "cell_type": "markdown",
   "id": "8bfe624b",
   "metadata": {},
   "source": [
    "# Euphoria Twitter Analysis"
   ]
  },
  {
   "cell_type": "markdown",
   "id": "c8238735",
   "metadata": {},
   "source": [
    "## Data Cleaning and Location Geocoding"
   ]
  },
  {
   "cell_type": "markdown",
   "id": "1870a79f",
   "metadata": {},
   "source": [
    "### Scope: This notebook will show how I combine all my data into one DataFrame, clean the data, and use the HERE API to extract the country and countrycodes of each tweet that has user specified location within it. "
   ]
  },
  {
   "cell_type": "code",
   "execution_count": 38,
   "id": "d9c28815",
   "metadata": {
    "ExecuteTime": {
     "end_time": "2022-08-22T04:11:39.381684Z",
     "start_time": "2022-08-22T04:11:39.367700Z"
    }
   },
   "outputs": [],
   "source": [
    "# Import Libraries \n",
    "import pandas as pd\n",
    "import os\n",
    "import glob\n",
    "import re\n",
    "import requests\n",
    "import json"
   ]
  },
  {
   "cell_type": "code",
   "execution_count": 39,
   "id": "0a8e2406",
   "metadata": {
    "ExecuteTime": {
     "end_time": "2022-08-22T04:12:12.921802Z",
     "start_time": "2022-08-22T04:12:12.904502Z"
    }
   },
   "outputs": [],
   "source": [
    "pd.set_option('display.max_columns', None)\n",
    "pd.set_option('display.max_rows', None)\n",
    "pd.set_option('display.max_colwidth', None)"
   ]
  },
  {
   "cell_type": "code",
   "execution_count": 2,
   "id": "a4d1f379",
   "metadata": {
    "ExecuteTime": {
     "end_time": "2022-08-22T04:05:32.370361Z",
     "start_time": "2022-08-22T04:05:32.348724Z"
    }
   },
   "outputs": [
    {
     "data": {
      "text/plain": [
       "'/Users/iizokun/Desktop/ds_programming/euphoria'"
      ]
     },
     "execution_count": 2,
     "metadata": {},
     "output_type": "execute_result"
    }
   ],
   "source": [
    "pwd"
   ]
  },
  {
   "cell_type": "code",
   "execution_count": 3,
   "id": "f53a9577",
   "metadata": {
    "ExecuteTime": {
     "end_time": "2022-08-22T04:05:32.497485Z",
     "start_time": "2022-08-22T04:05:32.487746Z"
    }
   },
   "outputs": [],
   "source": [
    "join= os.path.join(\"euphoria*.csv\")"
   ]
  },
  {
   "cell_type": "code",
   "execution_count": 4,
   "id": "245ef737",
   "metadata": {
    "ExecuteTime": {
     "end_time": "2022-08-22T04:05:32.631279Z",
     "start_time": "2022-08-22T04:05:32.622312Z"
    }
   },
   "outputs": [],
   "source": [
    "join_list = glob.glob(join)"
   ]
  },
  {
   "cell_type": "code",
   "execution_count": 5,
   "id": "24e46cd8",
   "metadata": {
    "ExecuteTime": {
     "end_time": "2022-08-22T04:05:32.818287Z",
     "start_time": "2022-08-22T04:05:32.806943Z"
    }
   },
   "outputs": [
    {
     "data": {
      "text/plain": [
       "['euphoria02.csv',\n",
       " 'euphoria03.csv',\n",
       " 'euphoria01.csv',\n",
       " 'euphoria04.csv',\n",
       " 'euphoria05.csv',\n",
       " 'euphoria07.csv',\n",
       " 'euphoria06.csv']"
      ]
     },
     "execution_count": 5,
     "metadata": {},
     "output_type": "execute_result"
    }
   ],
   "source": [
    "join_list"
   ]
  },
  {
   "cell_type": "code",
   "execution_count": 6,
   "id": "3a83f9c9",
   "metadata": {
    "ExecuteTime": {
     "end_time": "2022-08-22T04:05:34.462022Z",
     "start_time": "2022-08-22T04:05:32.950121Z"
    }
   },
   "outputs": [
    {
     "name": "stdout",
     "output_type": "stream",
     "text": [
      "Loading euphoria02.csv\n",
      "Loading euphoria03.csv\n",
      "Loading euphoria01.csv\n"
     ]
    },
    {
     "name": "stderr",
     "output_type": "stream",
     "text": [
      "/Users/iizokun/opt/miniconda3/envs/ds102/lib/python3.9/site-packages/IPython/core/interactiveshell.py:3155: DtypeWarning: Columns (0,10,18,19) have mixed types.Specify dtype option on import or set low_memory=False.\n",
      "  has_raised = await self.run_ast_nodes(code_ast.body, cell_name,\n"
     ]
    },
    {
     "name": "stdout",
     "output_type": "stream",
     "text": [
      "Loading euphoria04.csv\n",
      "Loading euphoria05.csv\n",
      "Loading euphoria07.csv\n",
      "Loading euphoria06.csv\n"
     ]
    }
   ],
   "source": [
    "all_tweets = []\n",
    "for tweet_df in join_list:\n",
    "    print(f'Loading {tweet_df}')\n",
    "    \n",
    "    new_df = pd.read_csv(tweet_df)\n",
    "    \n",
    "    all_tweets.append(new_df)"
   ]
  },
  {
   "cell_type": "code",
   "execution_count": 7,
   "id": "05816113",
   "metadata": {
    "ExecuteTime": {
     "end_time": "2022-08-22T04:05:34.465350Z",
     "start_time": "2022-08-22T04:05:34.463109Z"
    }
   },
   "outputs": [
    {
     "data": {
      "text/plain": [
       "7"
      ]
     },
     "execution_count": 7,
     "metadata": {},
     "output_type": "execute_result"
    }
   ],
   "source": [
    "len(all_tweets)"
   ]
  },
  {
   "cell_type": "code",
   "execution_count": 8,
   "id": "ae0d2d40",
   "metadata": {
    "ExecuteTime": {
     "end_time": "2022-08-22T04:05:34.590076Z",
     "start_time": "2022-08-22T04:05:34.466677Z"
    }
   },
   "outputs": [],
   "source": [
    "df = pd.concat(all_tweets)"
   ]
  },
  {
   "cell_type": "code",
   "execution_count": 9,
   "id": "eedabeee",
   "metadata": {
    "ExecuteTime": {
     "end_time": "2022-08-22T04:05:34.594861Z",
     "start_time": "2022-08-22T04:05:34.591600Z"
    }
   },
   "outputs": [
    {
     "data": {
      "text/plain": [
       "(236640, 22)"
      ]
     },
     "execution_count": 9,
     "metadata": {},
     "output_type": "execute_result"
    }
   ],
   "source": [
    "\n",
    "df.shape"
   ]
  },
  {
   "cell_type": "code",
   "execution_count": 10,
   "id": "1850345b",
   "metadata": {
    "ExecuteTime": {
     "end_time": "2022-08-22T04:05:34.615333Z",
     "start_time": "2022-08-22T04:05:34.595901Z"
    }
   },
   "outputs": [
    {
     "data": {
      "text/html": [
       "<div>\n",
       "<style scoped>\n",
       "    .dataframe tbody tr th:only-of-type {\n",
       "        vertical-align: middle;\n",
       "    }\n",
       "\n",
       "    .dataframe tbody tr th {\n",
       "        vertical-align: top;\n",
       "    }\n",
       "\n",
       "    .dataframe thead th {\n",
       "        text-align: right;\n",
       "    }\n",
       "</style>\n",
       "<table border=\"1\" class=\"dataframe\">\n",
       "  <thead>\n",
       "    <tr style=\"text-align: right;\">\n",
       "      <th></th>\n",
       "      <th>Unnamed: 0</th>\n",
       "      <th>0</th>\n",
       "      <th>1</th>\n",
       "      <th>2</th>\n",
       "      <th>3</th>\n",
       "      <th>4</th>\n",
       "      <th>5</th>\n",
       "      <th>6</th>\n",
       "      <th>7</th>\n",
       "      <th>8</th>\n",
       "      <th>...</th>\n",
       "      <th>11</th>\n",
       "      <th>12</th>\n",
       "      <th>13</th>\n",
       "      <th>14</th>\n",
       "      <th>15</th>\n",
       "      <th>16</th>\n",
       "      <th>17</th>\n",
       "      <th>18</th>\n",
       "      <th>19</th>\n",
       "      <th>20</th>\n",
       "    </tr>\n",
       "  </thead>\n",
       "  <tbody>\n",
       "    <tr>\n",
       "      <th>0</th>\n",
       "      <td>0</td>\n",
       "      <td>Really want a fez / Lexi parallel scene to whe...</td>\n",
       "      <td>2022-01-23 23:59:50</td>\n",
       "      <td>1.485402e+18</td>\n",
       "      <td>Katy</td>\n",
       "      <td>katykitty628</td>\n",
       "      <td>1.471191e+18</td>\n",
       "      <td>NaN</td>\n",
       "      <td>NaN</td>\n",
       "      <td>just a girl in a man's world 😌.               ...</td>\n",
       "      <td>...</td>\n",
       "      <td>82.0</td>\n",
       "      <td>556.0</td>\n",
       "      <td>113.0</td>\n",
       "      <td>0.0</td>\n",
       "      <td>2021-12-15 18:51:50</td>\n",
       "      <td>https://pbs.twimg.com/profile_images/147119180...</td>\n",
       "      <td>True</td>\n",
       "      <td>False</td>\n",
       "      <td>0.0</td>\n",
       "      <td>0.0</td>\n",
       "    </tr>\n",
       "    <tr>\n",
       "      <th>1</th>\n",
       "      <td>1</td>\n",
       "      <td>#Euphoria I hope Maddy pulls the hair out that...</td>\n",
       "      <td>2022-01-23 23:59:33</td>\n",
       "      <td>1.485402e+18</td>\n",
       "      <td>𝐕𝐢𝐫𝐠𝐞𝐚𝐮𝐱</td>\n",
       "      <td>_njauu</td>\n",
       "      <td>9.510643e+17</td>\n",
       "      <td>here</td>\n",
       "      <td>NaN</td>\n",
       "      <td>you're in my business, don't do that.</td>\n",
       "      <td>...</td>\n",
       "      <td>221.0</td>\n",
       "      <td>155447.0</td>\n",
       "      <td>45787.0</td>\n",
       "      <td>1.0</td>\n",
       "      <td>2018-01-10 12:12:53</td>\n",
       "      <td>https://pbs.twimg.com/profile_images/147736305...</td>\n",
       "      <td>True</td>\n",
       "      <td>False</td>\n",
       "      <td>0.0</td>\n",
       "      <td>0.0</td>\n",
       "    </tr>\n",
       "    <tr>\n",
       "      <th>2</th>\n",
       "      <td>2</td>\n",
       "      <td>Between #AndJustLikeThat and #Euphoria @HBO is...</td>\n",
       "      <td>2022-01-23 23:59:04</td>\n",
       "      <td>1.485402e+18</td>\n",
       "      <td>Steph Swinton</td>\n",
       "      <td>StephSwinton</td>\n",
       "      <td>2.390617e+07</td>\n",
       "      <td>New York</td>\n",
       "      <td>NaN</td>\n",
       "      <td>Just a girl from the city.\\nalt Twitter: TheAr...</td>\n",
       "      <td>...</td>\n",
       "      <td>729.0</td>\n",
       "      <td>32677.0</td>\n",
       "      <td>28747.0</td>\n",
       "      <td>5.0</td>\n",
       "      <td>2009-03-12 05:32:39</td>\n",
       "      <td>https://pbs.twimg.com/profile_images/950198226...</td>\n",
       "      <td>False</td>\n",
       "      <td>False</td>\n",
       "      <td>0.0</td>\n",
       "      <td>2.0</td>\n",
       "    </tr>\n",
       "    <tr>\n",
       "      <th>3</th>\n",
       "      <td>3</td>\n",
       "      <td>its #Euphoria  day!!!!</td>\n",
       "      <td>2022-01-23 23:59:04</td>\n",
       "      <td>1.485402e+18</td>\n",
       "      <td>felic-titty</td>\n",
       "      <td>lilbootybbg</td>\n",
       "      <td>1.173761e+18</td>\n",
       "      <td>in therapy</td>\n",
       "      <td>NaN</td>\n",
       "      <td>she/her 21 :)</td>\n",
       "      <td>...</td>\n",
       "      <td>145.0</td>\n",
       "      <td>42553.0</td>\n",
       "      <td>3027.0</td>\n",
       "      <td>0.0</td>\n",
       "      <td>2019-09-17 00:52:26</td>\n",
       "      <td>https://pbs.twimg.com/profile_images/145893433...</td>\n",
       "      <td>True</td>\n",
       "      <td>False</td>\n",
       "      <td>0.0</td>\n",
       "      <td>2.0</td>\n",
       "    </tr>\n",
       "    <tr>\n",
       "      <th>4</th>\n",
       "      <td>4</td>\n",
       "      <td>YESSSIR DOING A QUICK STREAM BEFOE TONIGHT'S #...</td>\n",
       "      <td>2022-01-23 23:58:56</td>\n",
       "      <td>1.485402e+18</td>\n",
       "      <td>Chris RossVlogs</td>\n",
       "      <td>ChrisRossvlogs</td>\n",
       "      <td>1.347083e+18</td>\n",
       "      <td>Mr. Hollywood</td>\n",
       "      <td>https://t.co/3xdQXI2Zv8</td>\n",
       "      <td>Actor/Director, &amp; Youtuber Use code “ChrisRoss...</td>\n",
       "      <td>...</td>\n",
       "      <td>276.0</td>\n",
       "      <td>4211.0</td>\n",
       "      <td>4099.0</td>\n",
       "      <td>1.0</td>\n",
       "      <td>2021-01-07 07:32:01</td>\n",
       "      <td>https://pbs.twimg.com/profile_images/141594587...</td>\n",
       "      <td>True</td>\n",
       "      <td>False</td>\n",
       "      <td>1.0</td>\n",
       "      <td>3.0</td>\n",
       "    </tr>\n",
       "  </tbody>\n",
       "</table>\n",
       "<p>5 rows × 22 columns</p>\n",
       "</div>"
      ],
      "text/plain": [
       "  Unnamed: 0                                                  0  \\\n",
       "0          0  Really want a fez / Lexi parallel scene to whe...   \n",
       "1          1  #Euphoria I hope Maddy pulls the hair out that...   \n",
       "2          2  Between #AndJustLikeThat and #Euphoria @HBO is...   \n",
       "3          3                             its #Euphoria  day!!!!   \n",
       "4          4  YESSSIR DOING A QUICK STREAM BEFOE TONIGHT'S #...   \n",
       "\n",
       "                     1             2                3               4  \\\n",
       "0  2022-01-23 23:59:50  1.485402e+18             Katy    katykitty628   \n",
       "1  2022-01-23 23:59:33  1.485402e+18         𝐕𝐢𝐫𝐠𝐞𝐚𝐮𝐱          _njauu   \n",
       "2  2022-01-23 23:59:04  1.485402e+18    Steph Swinton    StephSwinton   \n",
       "3  2022-01-23 23:59:04  1.485402e+18      felic-titty     lilbootybbg   \n",
       "4  2022-01-23 23:58:56  1.485402e+18  Chris RossVlogs  ChrisRossvlogs   \n",
       "\n",
       "              5               6                        7  \\\n",
       "0  1.471191e+18             NaN                      NaN   \n",
       "1  9.510643e+17            here                      NaN   \n",
       "2  2.390617e+07        New York                      NaN   \n",
       "3  1.173761e+18     in therapy                       NaN   \n",
       "4  1.347083e+18  Mr. Hollywood   https://t.co/3xdQXI2Zv8   \n",
       "\n",
       "                                                   8  ...     11        12  \\\n",
       "0  just a girl in a man's world 😌.               ...  ...   82.0     556.0   \n",
       "1              you're in my business, don't do that.  ...  221.0  155447.0   \n",
       "2  Just a girl from the city.\\nalt Twitter: TheAr...  ...  729.0   32677.0   \n",
       "3                                      she/her 21 :)  ...  145.0   42553.0   \n",
       "4  Actor/Director, & Youtuber Use code “ChrisRoss...  ...  276.0    4211.0   \n",
       "\n",
       "        13   14                   15  \\\n",
       "0    113.0  0.0  2021-12-15 18:51:50   \n",
       "1  45787.0  1.0  2018-01-10 12:12:53   \n",
       "2  28747.0  5.0  2009-03-12 05:32:39   \n",
       "3   3027.0  0.0  2019-09-17 00:52:26   \n",
       "4   4099.0  1.0  2021-01-07 07:32:01   \n",
       "\n",
       "                                                  16     17     18   19   20  \n",
       "0  https://pbs.twimg.com/profile_images/147119180...   True  False  0.0  0.0  \n",
       "1  https://pbs.twimg.com/profile_images/147736305...   True  False  0.0  0.0  \n",
       "2  https://pbs.twimg.com/profile_images/950198226...  False  False  0.0  2.0  \n",
       "3  https://pbs.twimg.com/profile_images/145893433...   True  False  0.0  2.0  \n",
       "4  https://pbs.twimg.com/profile_images/141594587...   True  False  1.0  3.0  \n",
       "\n",
       "[5 rows x 22 columns]"
      ]
     },
     "execution_count": 10,
     "metadata": {},
     "output_type": "execute_result"
    }
   ],
   "source": [
    "df.head()"
   ]
  },
  {
   "cell_type": "code",
   "execution_count": 11,
   "id": "0845b21e",
   "metadata": {
    "ExecuteTime": {
     "end_time": "2022-08-22T04:05:34.707620Z",
     "start_time": "2022-08-22T04:05:34.616635Z"
    }
   },
   "outputs": [],
   "source": [
    "df = df.drop(columns = ['Unnamed: 0'])"
   ]
  },
  {
   "cell_type": "code",
   "execution_count": 12,
   "id": "bb54867e",
   "metadata": {
    "ExecuteTime": {
     "end_time": "2022-08-22T04:05:34.723517Z",
     "start_time": "2022-08-22T04:05:34.708992Z"
    }
   },
   "outputs": [
    {
     "data": {
      "text/html": [
       "<div>\n",
       "<style scoped>\n",
       "    .dataframe tbody tr th:only-of-type {\n",
       "        vertical-align: middle;\n",
       "    }\n",
       "\n",
       "    .dataframe tbody tr th {\n",
       "        vertical-align: top;\n",
       "    }\n",
       "\n",
       "    .dataframe thead th {\n",
       "        text-align: right;\n",
       "    }\n",
       "</style>\n",
       "<table border=\"1\" class=\"dataframe\">\n",
       "  <thead>\n",
       "    <tr style=\"text-align: right;\">\n",
       "      <th></th>\n",
       "      <th>0</th>\n",
       "      <th>1</th>\n",
       "      <th>2</th>\n",
       "      <th>3</th>\n",
       "      <th>4</th>\n",
       "      <th>5</th>\n",
       "      <th>6</th>\n",
       "      <th>7</th>\n",
       "      <th>8</th>\n",
       "      <th>9</th>\n",
       "      <th>...</th>\n",
       "      <th>11</th>\n",
       "      <th>12</th>\n",
       "      <th>13</th>\n",
       "      <th>14</th>\n",
       "      <th>15</th>\n",
       "      <th>16</th>\n",
       "      <th>17</th>\n",
       "      <th>18</th>\n",
       "      <th>19</th>\n",
       "      <th>20</th>\n",
       "    </tr>\n",
       "  </thead>\n",
       "  <tbody>\n",
       "    <tr>\n",
       "      <th>16976</th>\n",
       "      <td>I hate that I have a gut feeling that somethin...</td>\n",
       "      <td>2022-02-15 00:00:31</td>\n",
       "      <td>1.493375e+18</td>\n",
       "      <td>olivia</td>\n",
       "      <td>Liv_Jord</td>\n",
       "      <td>1.278210e+18</td>\n",
       "      <td>NaN</td>\n",
       "      <td>NaN</td>\n",
       "      <td>21~NC make today count she/her</td>\n",
       "      <td>False</td>\n",
       "      <td>...</td>\n",
       "      <td>367.0</td>\n",
       "      <td>12109.0</td>\n",
       "      <td>2144.0</td>\n",
       "      <td>0.0</td>\n",
       "      <td>2020-07-01 06:12:49</td>\n",
       "      <td>https://pbs.twimg.com/profile_images/141830766...</td>\n",
       "      <td>True</td>\n",
       "      <td>False</td>\n",
       "      <td>0.0</td>\n",
       "      <td>1.0</td>\n",
       "    </tr>\n",
       "    <tr>\n",
       "      <th>16977</th>\n",
       "      <td>What’s with all the adults on Euphoria just ca...</td>\n",
       "      <td>2022-02-15 00:00:21</td>\n",
       "      <td>1.493375e+18</td>\n",
       "      <td>(toe•lu)🇳🇬</td>\n",
       "      <td>skiipTOmyLU</td>\n",
       "      <td>2.456662e+07</td>\n",
       "      <td>Houston, TX</td>\n",
       "      <td>NaN</td>\n",
       "      <td>I came, I saw, I left early.</td>\n",
       "      <td>False</td>\n",
       "      <td>...</td>\n",
       "      <td>366.0</td>\n",
       "      <td>8476.0</td>\n",
       "      <td>23075.0</td>\n",
       "      <td>7.0</td>\n",
       "      <td>2009-03-15 18:56:40</td>\n",
       "      <td>https://pbs.twimg.com/profile_images/149364342...</td>\n",
       "      <td>False</td>\n",
       "      <td>False</td>\n",
       "      <td>0.0</td>\n",
       "      <td>0.0</td>\n",
       "    </tr>\n",
       "    <tr>\n",
       "      <th>16978</th>\n",
       "      <td>“Episode eight is where we’ll get that sense o...</td>\n",
       "      <td>2022-02-15 00:00:20</td>\n",
       "      <td>1.493375e+18</td>\n",
       "      <td>GRAZIA</td>\n",
       "      <td>graziatweets</td>\n",
       "      <td>2.041904e+07</td>\n",
       "      <td>New York</td>\n",
       "      <td>https://t.co/pifa2NBobd</td>\n",
       "      <td>The number one destination for smart and styli...</td>\n",
       "      <td>True</td>\n",
       "      <td>...</td>\n",
       "      <td>794.0</td>\n",
       "      <td>936.0</td>\n",
       "      <td>7336.0</td>\n",
       "      <td>357.0</td>\n",
       "      <td>2009-02-09 06:02:12</td>\n",
       "      <td>https://pbs.twimg.com/profile_images/132316780...</td>\n",
       "      <td>False</td>\n",
       "      <td>False</td>\n",
       "      <td>1.0</td>\n",
       "      <td>0.0</td>\n",
       "    </tr>\n",
       "    <tr>\n",
       "      <th>16979</th>\n",
       "      <td>Rue be like #Euphoria https://t.co/E0Z6AEYyEb</td>\n",
       "      <td>2022-02-15 00:00:15</td>\n",
       "      <td>1.493375e+18</td>\n",
       "      <td>the business bitch</td>\n",
       "      <td>_babuba_</td>\n",
       "      <td>4.765358e+09</td>\n",
       "      <td>NaN</td>\n",
       "      <td>NaN</td>\n",
       "      <td>πίβοτ σε εξέλ και παρκέ</td>\n",
       "      <td>False</td>\n",
       "      <td>...</td>\n",
       "      <td>335.0</td>\n",
       "      <td>83433.0</td>\n",
       "      <td>36282.0</td>\n",
       "      <td>14.0</td>\n",
       "      <td>2016-01-16 00:16:14</td>\n",
       "      <td>https://pbs.twimg.com/profile_images/148817450...</td>\n",
       "      <td>False</td>\n",
       "      <td>False</td>\n",
       "      <td>0.0</td>\n",
       "      <td>1.0</td>\n",
       "    </tr>\n",
       "    <tr>\n",
       "      <th>16980</th>\n",
       "      <td>Unique Rotating Ultra-Thin Steel Watch👉https:/...</td>\n",
       "      <td>2022-02-15 00:00:01</td>\n",
       "      <td>1.493375e+18</td>\n",
       "      <td>Lucky Super Store</td>\n",
       "      <td>LSS_Store</td>\n",
       "      <td>1.062288e+18</td>\n",
       "      <td>715 Main St, Asbury Park, NJ</td>\n",
       "      <td>https://t.co/UTYsdnPioj</td>\n",
       "      <td>NaN</td>\n",
       "      <td>False</td>\n",
       "      <td>...</td>\n",
       "      <td>1477.0</td>\n",
       "      <td>4279.0</td>\n",
       "      <td>5252.0</td>\n",
       "      <td>2.0</td>\n",
       "      <td>2018-11-13 10:15:07</td>\n",
       "      <td>https://pbs.twimg.com/profile_images/146425578...</td>\n",
       "      <td>False</td>\n",
       "      <td>False</td>\n",
       "      <td>0.0</td>\n",
       "      <td>0.0</td>\n",
       "    </tr>\n",
       "  </tbody>\n",
       "</table>\n",
       "<p>5 rows × 21 columns</p>\n",
       "</div>"
      ],
      "text/plain": [
       "                                                       0                    1  \\\n",
       "16976  I hate that I have a gut feeling that somethin...  2022-02-15 00:00:31   \n",
       "16977  What’s with all the adults on Euphoria just ca...  2022-02-15 00:00:21   \n",
       "16978  “Episode eight is where we’ll get that sense o...  2022-02-15 00:00:20   \n",
       "16979      Rue be like #Euphoria https://t.co/E0Z6AEYyEb  2022-02-15 00:00:15   \n",
       "16980  Unique Rotating Ultra-Thin Steel Watch👉https:/...  2022-02-15 00:00:01   \n",
       "\n",
       "                  2                   3             4             5  \\\n",
       "16976  1.493375e+18              olivia      Liv_Jord  1.278210e+18   \n",
       "16977  1.493375e+18          (toe•lu)🇳🇬   skiipTOmyLU  2.456662e+07   \n",
       "16978  1.493375e+18              GRAZIA  graziatweets  2.041904e+07   \n",
       "16979  1.493375e+18  the business bitch      _babuba_  4.765358e+09   \n",
       "16980  1.493375e+18   Lucky Super Store     LSS_Store  1.062288e+18   \n",
       "\n",
       "                                   6                        7  \\\n",
       "16976                            NaN                      NaN   \n",
       "16977                    Houston, TX                      NaN   \n",
       "16978                       New York  https://t.co/pifa2NBobd   \n",
       "16979                            NaN                      NaN   \n",
       "16980  715 Main St, Asbury Park, NJ   https://t.co/UTYsdnPioj   \n",
       "\n",
       "                                                       8      9  ...      11  \\\n",
       "16976                     21~NC make today count she/her  False  ...   367.0   \n",
       "16977                       I came, I saw, I left early.  False  ...   366.0   \n",
       "16978  The number one destination for smart and styli...   True  ...   794.0   \n",
       "16979                            πίβοτ σε εξέλ και παρκέ  False  ...   335.0   \n",
       "16980                                                NaN  False  ...  1477.0   \n",
       "\n",
       "            12       13     14                   15  \\\n",
       "16976  12109.0   2144.0    0.0  2020-07-01 06:12:49   \n",
       "16977   8476.0  23075.0    7.0  2009-03-15 18:56:40   \n",
       "16978    936.0   7336.0  357.0  2009-02-09 06:02:12   \n",
       "16979  83433.0  36282.0   14.0  2016-01-16 00:16:14   \n",
       "16980   4279.0   5252.0    2.0  2018-11-13 10:15:07   \n",
       "\n",
       "                                                      16     17     18   19  \\\n",
       "16976  https://pbs.twimg.com/profile_images/141830766...   True  False  0.0   \n",
       "16977  https://pbs.twimg.com/profile_images/149364342...  False  False  0.0   \n",
       "16978  https://pbs.twimg.com/profile_images/132316780...  False  False  1.0   \n",
       "16979  https://pbs.twimg.com/profile_images/148817450...  False  False  0.0   \n",
       "16980  https://pbs.twimg.com/profile_images/146425578...  False  False  0.0   \n",
       "\n",
       "        20  \n",
       "16976  1.0  \n",
       "16977  0.0  \n",
       "16978  0.0  \n",
       "16979  1.0  \n",
       "16980  0.0  \n",
       "\n",
       "[5 rows x 21 columns]"
      ]
     },
     "execution_count": 12,
     "metadata": {},
     "output_type": "execute_result"
    }
   ],
   "source": [
    "df.tail()"
   ]
  },
  {
   "cell_type": "code",
   "execution_count": 13,
   "id": "4c1c1356",
   "metadata": {
    "ExecuteTime": {
     "end_time": "2022-08-22T04:05:34.748727Z",
     "start_time": "2022-08-22T04:05:34.726079Z"
    }
   },
   "outputs": [
    {
     "data": {
      "text/html": [
       "<div>\n",
       "<style scoped>\n",
       "    .dataframe tbody tr th:only-of-type {\n",
       "        vertical-align: middle;\n",
       "    }\n",
       "\n",
       "    .dataframe tbody tr th {\n",
       "        vertical-align: top;\n",
       "    }\n",
       "\n",
       "    .dataframe thead th {\n",
       "        text-align: right;\n",
       "    }\n",
       "</style>\n",
       "<table border=\"1\" class=\"dataframe\">\n",
       "  <thead>\n",
       "    <tr style=\"text-align: right;\">\n",
       "      <th></th>\n",
       "      <th>0</th>\n",
       "      <th>1</th>\n",
       "      <th>2</th>\n",
       "      <th>3</th>\n",
       "      <th>4</th>\n",
       "      <th>5</th>\n",
       "      <th>6</th>\n",
       "      <th>7</th>\n",
       "      <th>8</th>\n",
       "      <th>9</th>\n",
       "      <th>...</th>\n",
       "      <th>11</th>\n",
       "      <th>12</th>\n",
       "      <th>13</th>\n",
       "      <th>14</th>\n",
       "      <th>15</th>\n",
       "      <th>16</th>\n",
       "      <th>17</th>\n",
       "      <th>18</th>\n",
       "      <th>19</th>\n",
       "      <th>20</th>\n",
       "    </tr>\n",
       "  </thead>\n",
       "  <tbody>\n",
       "    <tr>\n",
       "      <th>24837</th>\n",
       "      <td>Oh okay so the first minutes of the new #Eupho...</td>\n",
       "      <td>2022-02-08 00:13:59</td>\n",
       "      <td>1.490841e+18</td>\n",
       "      <td>Chelsey 🌜</td>\n",
       "      <td>ChelseyWithAWhy</td>\n",
       "      <td>1.284052e+08</td>\n",
       "      <td>New Jersey</td>\n",
       "      <td>https://t.co/fYHqSk4CT5</td>\n",
       "      <td>What a thing to be human 🥀🌿 Chaotic tweeter ✨K...</td>\n",
       "      <td>False</td>\n",
       "      <td>...</td>\n",
       "      <td>490.0</td>\n",
       "      <td>92631.0</td>\n",
       "      <td>9008.0</td>\n",
       "      <td>9.0</td>\n",
       "      <td>2010-04-01 01:23:25</td>\n",
       "      <td>https://pbs.twimg.com/profile_images/142995140...</td>\n",
       "      <td>False</td>\n",
       "      <td>False</td>\n",
       "      <td>0.0</td>\n",
       "      <td>1.0</td>\n",
       "    </tr>\n",
       "    <tr>\n",
       "      <th>10474</th>\n",
       "      <td>I feel like I’m the only person that hasn’t wa...</td>\n",
       "      <td>2022-02-09 19:56:17</td>\n",
       "      <td>1.491501e+18</td>\n",
       "      <td>Cherubin Mukinay</td>\n",
       "      <td>cheebe_king</td>\n",
       "      <td>3.473412e+08</td>\n",
       "      <td>Glasgow, Scotland</td>\n",
       "      <td>NaN</td>\n",
       "      <td>Snapchat- cmpunk434-xx Instagram- cherubinmuki...</td>\n",
       "      <td>False</td>\n",
       "      <td>...</td>\n",
       "      <td>5001.0</td>\n",
       "      <td>306320.0</td>\n",
       "      <td>362117.0</td>\n",
       "      <td>78.0</td>\n",
       "      <td>2011-08-02 17:05:45</td>\n",
       "      <td>https://pbs.twimg.com/profile_images/134504568...</td>\n",
       "      <td>False</td>\n",
       "      <td>False</td>\n",
       "      <td>0.0</td>\n",
       "      <td>0.0</td>\n",
       "    </tr>\n",
       "    <tr>\n",
       "      <th>5006</th>\n",
       "      <td>I've just watched episode S02 | E08 of Euphori...</td>\n",
       "      <td>2022-02-28 20:14:44</td>\n",
       "      <td>1.498391e+18</td>\n",
       "      <td>thiago</td>\n",
       "      <td>newaxizs</td>\n",
       "      <td>1.477470e+18</td>\n",
       "      <td>loonaverse</td>\n",
       "      <td>https://t.co/btSd9NhNUa</td>\n",
       "      <td>dead poets society (1989) dir. peter weir</td>\n",
       "      <td>False</td>\n",
       "      <td>...</td>\n",
       "      <td>113.0</td>\n",
       "      <td>748.0</td>\n",
       "      <td>933.0</td>\n",
       "      <td>0.0</td>\n",
       "      <td>2022-01-02 02:39:43</td>\n",
       "      <td>https://pbs.twimg.com/profile_images/149691204...</td>\n",
       "      <td>True</td>\n",
       "      <td>False</td>\n",
       "      <td>0.0</td>\n",
       "      <td>0.0</td>\n",
       "    </tr>\n",
       "    <tr>\n",
       "      <th>36542</th>\n",
       "      <td>someone had to do it so yw #EuphoriaHBOMax #Eu...</td>\n",
       "      <td>2022-02-28 05:33:36</td>\n",
       "      <td>1.498169e+18</td>\n",
       "      <td>me:</td>\n",
       "      <td>39thRaikage</td>\n",
       "      <td>9.878557e+17</td>\n",
       "      <td>The Trenches</td>\n",
       "      <td>NaN</td>\n",
       "      <td>CEO of Nobody Cares Inc. | ig: @ sillowet</td>\n",
       "      <td>False</td>\n",
       "      <td>...</td>\n",
       "      <td>54.0</td>\n",
       "      <td>851.0</td>\n",
       "      <td>108.0</td>\n",
       "      <td>0.0</td>\n",
       "      <td>2018-04-22 00:48:58</td>\n",
       "      <td>https://pbs.twimg.com/profile_images/133867281...</td>\n",
       "      <td>True</td>\n",
       "      <td>False</td>\n",
       "      <td>0.0</td>\n",
       "      <td>1.0</td>\n",
       "    </tr>\n",
       "    <tr>\n",
       "      <th>4471</th>\n",
       "      <td>Lol @ Nate sending his dad to prison because L...</td>\n",
       "      <td>2022-02-28 20:37:25</td>\n",
       "      <td>1.498397e+18</td>\n",
       "      <td>A. Skywalker</td>\n",
       "      <td>Walkerofthewild</td>\n",
       "      <td>7.643828e+08</td>\n",
       "      <td>Neon Valley Street</td>\n",
       "      <td>NaN</td>\n",
       "      <td>#KeybladeMaster  Born in the city, bred in the...</td>\n",
       "      <td>False</td>\n",
       "      <td>...</td>\n",
       "      <td>443.0</td>\n",
       "      <td>1338.0</td>\n",
       "      <td>12637.0</td>\n",
       "      <td>1.0</td>\n",
       "      <td>2012-08-17 20:23:25</td>\n",
       "      <td>https://pbs.twimg.com/profile_images/100441035...</td>\n",
       "      <td>False</td>\n",
       "      <td>False</td>\n",
       "      <td>0.0</td>\n",
       "      <td>3.0</td>\n",
       "    </tr>\n",
       "  </tbody>\n",
       "</table>\n",
       "<p>5 rows × 21 columns</p>\n",
       "</div>"
      ],
      "text/plain": [
       "                                                       0                    1  \\\n",
       "24837  Oh okay so the first minutes of the new #Eupho...  2022-02-08 00:13:59   \n",
       "10474  I feel like I’m the only person that hasn’t wa...  2022-02-09 19:56:17   \n",
       "5006   I've just watched episode S02 | E08 of Euphori...  2022-02-28 20:14:44   \n",
       "36542  someone had to do it so yw #EuphoriaHBOMax #Eu...  2022-02-28 05:33:36   \n",
       "4471   Lol @ Nate sending his dad to prison because L...  2022-02-28 20:37:25   \n",
       "\n",
       "                  2                 3                4             5  \\\n",
       "24837  1.490841e+18         Chelsey 🌜  ChelseyWithAWhy  1.284052e+08   \n",
       "10474  1.491501e+18  Cherubin Mukinay      cheebe_king  3.473412e+08   \n",
       "5006   1.498391e+18            thiago         newaxizs  1.477470e+18   \n",
       "36542  1.498169e+18               me:      39thRaikage  9.878557e+17   \n",
       "4471   1.498397e+18      A. Skywalker  Walkerofthewild  7.643828e+08   \n",
       "\n",
       "                        6                        7  \\\n",
       "24837          New Jersey  https://t.co/fYHqSk4CT5   \n",
       "10474   Glasgow, Scotland                      NaN   \n",
       "5006           loonaverse  https://t.co/btSd9NhNUa   \n",
       "36542        The Trenches                      NaN   \n",
       "4471   Neon Valley Street                      NaN   \n",
       "\n",
       "                                                       8      9  ...      11  \\\n",
       "24837  What a thing to be human 🥀🌿 Chaotic tweeter ✨K...  False  ...   490.0   \n",
       "10474  Snapchat- cmpunk434-xx Instagram- cherubinmuki...  False  ...  5001.0   \n",
       "5006           dead poets society (1989) dir. peter weir  False  ...   113.0   \n",
       "36542          CEO of Nobody Cares Inc. | ig: @ sillowet  False  ...    54.0   \n",
       "4471   #KeybladeMaster  Born in the city, bred in the...  False  ...   443.0   \n",
       "\n",
       "             12        13    14                   15  \\\n",
       "24837   92631.0    9008.0   9.0  2010-04-01 01:23:25   \n",
       "10474  306320.0  362117.0  78.0  2011-08-02 17:05:45   \n",
       "5006      748.0     933.0   0.0  2022-01-02 02:39:43   \n",
       "36542     851.0     108.0   0.0  2018-04-22 00:48:58   \n",
       "4471     1338.0   12637.0   1.0  2012-08-17 20:23:25   \n",
       "\n",
       "                                                      16     17     18   19  \\\n",
       "24837  https://pbs.twimg.com/profile_images/142995140...  False  False  0.0   \n",
       "10474  https://pbs.twimg.com/profile_images/134504568...  False  False  0.0   \n",
       "5006   https://pbs.twimg.com/profile_images/149691204...   True  False  0.0   \n",
       "36542  https://pbs.twimg.com/profile_images/133867281...   True  False  0.0   \n",
       "4471   https://pbs.twimg.com/profile_images/100441035...  False  False  0.0   \n",
       "\n",
       "        20  \n",
       "24837  1.0  \n",
       "10474  0.0  \n",
       "5006   0.0  \n",
       "36542  1.0  \n",
       "4471   3.0  \n",
       "\n",
       "[5 rows x 21 columns]"
      ]
     },
     "execution_count": 13,
     "metadata": {},
     "output_type": "execute_result"
    }
   ],
   "source": [
    "df.sample(5)\n"
   ]
  },
  {
   "cell_type": "markdown",
   "id": "c9399c84",
   "metadata": {},
   "source": [
    "Next Step would be to fill in the column names"
   ]
  },
  {
   "cell_type": "code",
   "execution_count": 14,
   "id": "5b6fc76a",
   "metadata": {
    "ExecuteTime": {
     "end_time": "2022-08-22T04:05:34.752741Z",
     "start_time": "2022-08-22T04:05:34.750028Z"
    }
   },
   "outputs": [
    {
     "data": {
      "text/plain": [
       "Index(['0', '1', '2', '3', '4', '5', '6', '7', '8', '9', '10', '11', '12',\n",
       "       '13', '14', '15', '16', '17', '18', '19', '20'],\n",
       "      dtype='object')"
      ]
     },
     "execution_count": 14,
     "metadata": {},
     "output_type": "execute_result"
    }
   ],
   "source": [
    "df.columns"
   ]
  },
  {
   "cell_type": "code",
   "execution_count": 15,
   "id": "cdd65605",
   "metadata": {
    "ExecuteTime": {
     "end_time": "2022-08-22T04:05:34.755859Z",
     "start_time": "2022-08-22T04:05:34.753819Z"
    }
   },
   "outputs": [],
   "source": [
    "df.columns = ['tweet_full_text', 'tweet_created_at','tweet_id', 'tweet_username','tweet_user_screename','tweet_userid_str',\n",
    "                   'tweet_user_location','tweet_user_url', 'tweet_user_description', 'tweet_user_verified','tweet_user_followers_count',\n",
    "                   'tweet_user_friends_count', 'tweet_user_favorites_count', 'tweet_user_statuses_count','tweet_user_listed_count',\n",
    "                   'tweet_user_created_at', 'user_profile_image_url', 'user_default_profile','user_default_profile_image', 'tweet_retweet_count', 'tweet_favorite_count']"
   ]
  },
  {
   "cell_type": "code",
   "execution_count": 16,
   "id": "6705fbd1",
   "metadata": {
    "ExecuteTime": {
     "end_time": "2022-08-22T04:05:34.906772Z",
     "start_time": "2022-08-22T04:05:34.889947Z"
    }
   },
   "outputs": [
    {
     "data": {
      "text/html": [
       "<div>\n",
       "<style scoped>\n",
       "    .dataframe tbody tr th:only-of-type {\n",
       "        vertical-align: middle;\n",
       "    }\n",
       "\n",
       "    .dataframe tbody tr th {\n",
       "        vertical-align: top;\n",
       "    }\n",
       "\n",
       "    .dataframe thead th {\n",
       "        text-align: right;\n",
       "    }\n",
       "</style>\n",
       "<table border=\"1\" class=\"dataframe\">\n",
       "  <thead>\n",
       "    <tr style=\"text-align: right;\">\n",
       "      <th></th>\n",
       "      <th>tweet_full_text</th>\n",
       "      <th>tweet_created_at</th>\n",
       "      <th>tweet_id</th>\n",
       "      <th>tweet_username</th>\n",
       "      <th>tweet_user_screename</th>\n",
       "      <th>tweet_userid_str</th>\n",
       "      <th>tweet_user_location</th>\n",
       "      <th>tweet_user_url</th>\n",
       "      <th>tweet_user_description</th>\n",
       "      <th>tweet_user_verified</th>\n",
       "      <th>...</th>\n",
       "      <th>tweet_user_friends_count</th>\n",
       "      <th>tweet_user_favorites_count</th>\n",
       "      <th>tweet_user_statuses_count</th>\n",
       "      <th>tweet_user_listed_count</th>\n",
       "      <th>tweet_user_created_at</th>\n",
       "      <th>user_profile_image_url</th>\n",
       "      <th>user_default_profile</th>\n",
       "      <th>user_default_profile_image</th>\n",
       "      <th>tweet_retweet_count</th>\n",
       "      <th>tweet_favorite_count</th>\n",
       "    </tr>\n",
       "  </thead>\n",
       "  <tbody>\n",
       "    <tr>\n",
       "      <th>0</th>\n",
       "      <td>Really want a fez / Lexi parallel scene to whe...</td>\n",
       "      <td>2022-01-23 23:59:50</td>\n",
       "      <td>1.485402e+18</td>\n",
       "      <td>Katy</td>\n",
       "      <td>katykitty628</td>\n",
       "      <td>1.471191e+18</td>\n",
       "      <td>NaN</td>\n",
       "      <td>NaN</td>\n",
       "      <td>just a girl in a man's world 😌.               ...</td>\n",
       "      <td>False</td>\n",
       "      <td>...</td>\n",
       "      <td>82.0</td>\n",
       "      <td>556.0</td>\n",
       "      <td>113.0</td>\n",
       "      <td>0.0</td>\n",
       "      <td>2021-12-15 18:51:50</td>\n",
       "      <td>https://pbs.twimg.com/profile_images/147119180...</td>\n",
       "      <td>True</td>\n",
       "      <td>False</td>\n",
       "      <td>0.0</td>\n",
       "      <td>0.0</td>\n",
       "    </tr>\n",
       "    <tr>\n",
       "      <th>1</th>\n",
       "      <td>#Euphoria I hope Maddy pulls the hair out that...</td>\n",
       "      <td>2022-01-23 23:59:33</td>\n",
       "      <td>1.485402e+18</td>\n",
       "      <td>𝐕𝐢𝐫𝐠𝐞𝐚𝐮𝐱</td>\n",
       "      <td>_njauu</td>\n",
       "      <td>9.510643e+17</td>\n",
       "      <td>here</td>\n",
       "      <td>NaN</td>\n",
       "      <td>you're in my business, don't do that.</td>\n",
       "      <td>False</td>\n",
       "      <td>...</td>\n",
       "      <td>221.0</td>\n",
       "      <td>155447.0</td>\n",
       "      <td>45787.0</td>\n",
       "      <td>1.0</td>\n",
       "      <td>2018-01-10 12:12:53</td>\n",
       "      <td>https://pbs.twimg.com/profile_images/147736305...</td>\n",
       "      <td>True</td>\n",
       "      <td>False</td>\n",
       "      <td>0.0</td>\n",
       "      <td>0.0</td>\n",
       "    </tr>\n",
       "    <tr>\n",
       "      <th>2</th>\n",
       "      <td>Between #AndJustLikeThat and #Euphoria @HBO is...</td>\n",
       "      <td>2022-01-23 23:59:04</td>\n",
       "      <td>1.485402e+18</td>\n",
       "      <td>Steph Swinton</td>\n",
       "      <td>StephSwinton</td>\n",
       "      <td>2.390617e+07</td>\n",
       "      <td>New York</td>\n",
       "      <td>NaN</td>\n",
       "      <td>Just a girl from the city.\\nalt Twitter: TheAr...</td>\n",
       "      <td>False</td>\n",
       "      <td>...</td>\n",
       "      <td>729.0</td>\n",
       "      <td>32677.0</td>\n",
       "      <td>28747.0</td>\n",
       "      <td>5.0</td>\n",
       "      <td>2009-03-12 05:32:39</td>\n",
       "      <td>https://pbs.twimg.com/profile_images/950198226...</td>\n",
       "      <td>False</td>\n",
       "      <td>False</td>\n",
       "      <td>0.0</td>\n",
       "      <td>2.0</td>\n",
       "    </tr>\n",
       "    <tr>\n",
       "      <th>3</th>\n",
       "      <td>its #Euphoria  day!!!!</td>\n",
       "      <td>2022-01-23 23:59:04</td>\n",
       "      <td>1.485402e+18</td>\n",
       "      <td>felic-titty</td>\n",
       "      <td>lilbootybbg</td>\n",
       "      <td>1.173761e+18</td>\n",
       "      <td>in therapy</td>\n",
       "      <td>NaN</td>\n",
       "      <td>she/her 21 :)</td>\n",
       "      <td>False</td>\n",
       "      <td>...</td>\n",
       "      <td>145.0</td>\n",
       "      <td>42553.0</td>\n",
       "      <td>3027.0</td>\n",
       "      <td>0.0</td>\n",
       "      <td>2019-09-17 00:52:26</td>\n",
       "      <td>https://pbs.twimg.com/profile_images/145893433...</td>\n",
       "      <td>True</td>\n",
       "      <td>False</td>\n",
       "      <td>0.0</td>\n",
       "      <td>2.0</td>\n",
       "    </tr>\n",
       "    <tr>\n",
       "      <th>4</th>\n",
       "      <td>YESSSIR DOING A QUICK STREAM BEFOE TONIGHT'S #...</td>\n",
       "      <td>2022-01-23 23:58:56</td>\n",
       "      <td>1.485402e+18</td>\n",
       "      <td>Chris RossVlogs</td>\n",
       "      <td>ChrisRossvlogs</td>\n",
       "      <td>1.347083e+18</td>\n",
       "      <td>Mr. Hollywood</td>\n",
       "      <td>https://t.co/3xdQXI2Zv8</td>\n",
       "      <td>Actor/Director, &amp; Youtuber Use code “ChrisRoss...</td>\n",
       "      <td>False</td>\n",
       "      <td>...</td>\n",
       "      <td>276.0</td>\n",
       "      <td>4211.0</td>\n",
       "      <td>4099.0</td>\n",
       "      <td>1.0</td>\n",
       "      <td>2021-01-07 07:32:01</td>\n",
       "      <td>https://pbs.twimg.com/profile_images/141594587...</td>\n",
       "      <td>True</td>\n",
       "      <td>False</td>\n",
       "      <td>1.0</td>\n",
       "      <td>3.0</td>\n",
       "    </tr>\n",
       "  </tbody>\n",
       "</table>\n",
       "<p>5 rows × 21 columns</p>\n",
       "</div>"
      ],
      "text/plain": [
       "                                     tweet_full_text     tweet_created_at  \\\n",
       "0  Really want a fez / Lexi parallel scene to whe...  2022-01-23 23:59:50   \n",
       "1  #Euphoria I hope Maddy pulls the hair out that...  2022-01-23 23:59:33   \n",
       "2  Between #AndJustLikeThat and #Euphoria @HBO is...  2022-01-23 23:59:04   \n",
       "3                             its #Euphoria  day!!!!  2022-01-23 23:59:04   \n",
       "4  YESSSIR DOING A QUICK STREAM BEFOE TONIGHT'S #...  2022-01-23 23:58:56   \n",
       "\n",
       "       tweet_id   tweet_username tweet_user_screename  tweet_userid_str  \\\n",
       "0  1.485402e+18             Katy         katykitty628      1.471191e+18   \n",
       "1  1.485402e+18         𝐕𝐢𝐫𝐠𝐞𝐚𝐮𝐱               _njauu      9.510643e+17   \n",
       "2  1.485402e+18    Steph Swinton         StephSwinton      2.390617e+07   \n",
       "3  1.485402e+18      felic-titty          lilbootybbg      1.173761e+18   \n",
       "4  1.485402e+18  Chris RossVlogs       ChrisRossvlogs      1.347083e+18   \n",
       "\n",
       "  tweet_user_location           tweet_user_url  \\\n",
       "0                 NaN                      NaN   \n",
       "1                here                      NaN   \n",
       "2            New York                      NaN   \n",
       "3         in therapy                       NaN   \n",
       "4      Mr. Hollywood   https://t.co/3xdQXI2Zv8   \n",
       "\n",
       "                              tweet_user_description tweet_user_verified  ...  \\\n",
       "0  just a girl in a man's world 😌.               ...               False  ...   \n",
       "1              you're in my business, don't do that.               False  ...   \n",
       "2  Just a girl from the city.\\nalt Twitter: TheAr...               False  ...   \n",
       "3                                      she/her 21 :)               False  ...   \n",
       "4  Actor/Director, & Youtuber Use code “ChrisRoss...               False  ...   \n",
       "\n",
       "   tweet_user_friends_count  tweet_user_favorites_count  \\\n",
       "0                      82.0                       556.0   \n",
       "1                     221.0                    155447.0   \n",
       "2                     729.0                     32677.0   \n",
       "3                     145.0                     42553.0   \n",
       "4                     276.0                      4211.0   \n",
       "\n",
       "   tweet_user_statuses_count  tweet_user_listed_count  tweet_user_created_at  \\\n",
       "0                      113.0                      0.0    2021-12-15 18:51:50   \n",
       "1                    45787.0                      1.0    2018-01-10 12:12:53   \n",
       "2                    28747.0                      5.0    2009-03-12 05:32:39   \n",
       "3                     3027.0                      0.0    2019-09-17 00:52:26   \n",
       "4                     4099.0                      1.0    2021-01-07 07:32:01   \n",
       "\n",
       "                              user_profile_image_url user_default_profile  \\\n",
       "0  https://pbs.twimg.com/profile_images/147119180...                 True   \n",
       "1  https://pbs.twimg.com/profile_images/147736305...                 True   \n",
       "2  https://pbs.twimg.com/profile_images/950198226...                False   \n",
       "3  https://pbs.twimg.com/profile_images/145893433...                 True   \n",
       "4  https://pbs.twimg.com/profile_images/141594587...                 True   \n",
       "\n",
       "  user_default_profile_image tweet_retweet_count  tweet_favorite_count  \n",
       "0                      False                 0.0                   0.0  \n",
       "1                      False                 0.0                   0.0  \n",
       "2                      False                 0.0                   2.0  \n",
       "3                      False                 0.0                   2.0  \n",
       "4                      False                 1.0                   3.0  \n",
       "\n",
       "[5 rows x 21 columns]"
      ]
     },
     "execution_count": 16,
     "metadata": {},
     "output_type": "execute_result"
    }
   ],
   "source": [
    "df.head()"
   ]
  },
  {
   "cell_type": "code",
   "execution_count": 17,
   "id": "476aa5fe",
   "metadata": {
    "ExecuteTime": {
     "end_time": "2022-08-22T04:05:38.230756Z",
     "start_time": "2022-08-22T04:05:35.081009Z"
    }
   },
   "outputs": [],
   "source": [
    "# Now that we have the tweet df containing all tweets across all weeks. I want to store that df on my local machine\n",
    "\n",
    "df.to_csv('euphoria_tweets_complete.csv')"
   ]
  },
  {
   "cell_type": "code",
   "execution_count": 18,
   "id": "4730d2c8",
   "metadata": {
    "ExecuteTime": {
     "end_time": "2022-08-22T04:05:39.586316Z",
     "start_time": "2022-08-22T04:05:38.231879Z"
    }
   },
   "outputs": [
    {
     "name": "stderr",
     "output_type": "stream",
     "text": [
      "/Users/iizokun/opt/miniconda3/envs/ds102/lib/python3.9/site-packages/IPython/core/interactiveshell.py:3155: DtypeWarning: Columns (10,18,19) have mixed types.Specify dtype option on import or set low_memory=False.\n",
      "  has_raised = await self.run_ast_nodes(code_ast.body, cell_name,\n"
     ]
    }
   ],
   "source": [
    "tweets_df = pd.read_csv('euphoria_tweets_complete.csv', index_col=0)"
   ]
  },
  {
   "cell_type": "code",
   "execution_count": 19,
   "id": "28a5f574",
   "metadata": {
    "ExecuteTime": {
     "end_time": "2022-08-22T04:05:39.591929Z",
     "start_time": "2022-08-22T04:05:39.588195Z"
    }
   },
   "outputs": [
    {
     "data": {
      "text/plain": [
       "tweet_full_text                object\n",
       "tweet_created_at               object\n",
       "tweet_id                      float64\n",
       "tweet_username                 object\n",
       "tweet_user_screename           object\n",
       "tweet_userid_str              float64\n",
       "tweet_user_location            object\n",
       "tweet_user_url                 object\n",
       "tweet_user_description         object\n",
       "tweet_user_verified            object\n",
       "tweet_user_followers_count    float64\n",
       "tweet_user_friends_count      float64\n",
       "tweet_user_favorites_count    float64\n",
       "tweet_user_statuses_count     float64\n",
       "tweet_user_listed_count       float64\n",
       "tweet_user_created_at          object\n",
       "user_profile_image_url         object\n",
       "user_default_profile           object\n",
       "user_default_profile_image     object\n",
       "tweet_retweet_count           float64\n",
       "tweet_favorite_count          float64\n",
       "dtype: object"
      ]
     },
     "execution_count": 19,
     "metadata": {},
     "output_type": "execute_result"
    }
   ],
   "source": [
    "tweets_df.dtypes"
   ]
  },
  {
   "cell_type": "markdown",
   "id": "b88b53aa",
   "metadata": {},
   "source": [
    "## Duplicate Values"
   ]
  },
  {
   "cell_type": "markdown",
   "id": "6018b36e",
   "metadata": {},
   "source": [
    "The `tweet_id` field is a unique string of characters that identifies that particular tweet so it'll be the field that's used to identify whether or not there are duplicates for any particular tweet. "
   ]
  },
  {
   "cell_type": "code",
   "execution_count": 20,
   "id": "a05571ae",
   "metadata": {
    "ExecuteTime": {
     "end_time": "2022-08-22T04:05:39.616199Z",
     "start_time": "2022-08-22T04:05:39.599827Z"
    }
   },
   "outputs": [
    {
     "data": {
      "text/plain": [
       "49933"
      ]
     },
     "execution_count": 20,
     "metadata": {},
     "output_type": "execute_result"
    }
   ],
   "source": [
    "tweets_df.duplicated(subset='tweet_id').sum() # Check for duplicate values"
   ]
  },
  {
   "cell_type": "code",
   "execution_count": 21,
   "id": "f0abb874",
   "metadata": {
    "ExecuteTime": {
     "end_time": "2022-08-22T04:05:39.637141Z",
     "start_time": "2022-08-22T04:05:39.617586Z"
    }
   },
   "outputs": [],
   "source": [
    "duplicate = tweets_df[tweets_df.duplicated(subset='tweet_id')]"
   ]
  },
  {
   "cell_type": "code",
   "execution_count": 22,
   "id": "6281b40b",
   "metadata": {
    "ExecuteTime": {
     "end_time": "2022-08-22T04:05:39.654421Z",
     "start_time": "2022-08-22T04:05:39.638323Z"
    }
   },
   "outputs": [
    {
     "name": "stdout",
     "output_type": "stream",
     "text": [
      "Duplicate Rows :\n"
     ]
    },
    {
     "data": {
      "text/html": [
       "<div>\n",
       "<style scoped>\n",
       "    .dataframe tbody tr th:only-of-type {\n",
       "        vertical-align: middle;\n",
       "    }\n",
       "\n",
       "    .dataframe tbody tr th {\n",
       "        vertical-align: top;\n",
       "    }\n",
       "\n",
       "    .dataframe thead th {\n",
       "        text-align: right;\n",
       "    }\n",
       "</style>\n",
       "<table border=\"1\" class=\"dataframe\">\n",
       "  <thead>\n",
       "    <tr style=\"text-align: right;\">\n",
       "      <th></th>\n",
       "      <th>tweet_full_text</th>\n",
       "      <th>tweet_created_at</th>\n",
       "      <th>tweet_id</th>\n",
       "      <th>tweet_username</th>\n",
       "      <th>tweet_user_screename</th>\n",
       "      <th>tweet_userid_str</th>\n",
       "      <th>tweet_user_location</th>\n",
       "      <th>tweet_user_url</th>\n",
       "      <th>tweet_user_description</th>\n",
       "      <th>tweet_user_verified</th>\n",
       "      <th>...</th>\n",
       "      <th>tweet_user_friends_count</th>\n",
       "      <th>tweet_user_favorites_count</th>\n",
       "      <th>tweet_user_statuses_count</th>\n",
       "      <th>tweet_user_listed_count</th>\n",
       "      <th>tweet_user_created_at</th>\n",
       "      <th>user_profile_image_url</th>\n",
       "      <th>user_default_profile</th>\n",
       "      <th>user_default_profile_image</th>\n",
       "      <th>tweet_retweet_count</th>\n",
       "      <th>tweet_favorite_count</th>\n",
       "    </tr>\n",
       "  </thead>\n",
       "  <tbody>\n",
       "    <tr>\n",
       "      <th>1</th>\n",
       "      <td>When are we getting her backstory? #Euphoria h...</td>\n",
       "      <td>18/01/2022 23:59</td>\n",
       "      <td>1.483590e+18</td>\n",
       "      <td>pingüino stan</td>\n",
       "      <td>spacetono</td>\n",
       "      <td>1.031210e+18</td>\n",
       "      <td>he/they</td>\n",
       "      <td>NaN</td>\n",
       "      <td>published author, film star, director, student...</td>\n",
       "      <td>False</td>\n",
       "      <td>...</td>\n",
       "      <td>296.0</td>\n",
       "      <td>94208.0</td>\n",
       "      <td>1051.0</td>\n",
       "      <td>0.0</td>\n",
       "      <td>19/08/2018 15:49</td>\n",
       "      <td>https://pbs.twimg.com/profile_images/148357692...</td>\n",
       "      <td>True</td>\n",
       "      <td>False</td>\n",
       "      <td>0.0</td>\n",
       "      <td>5.0</td>\n",
       "    </tr>\n",
       "    <tr>\n",
       "      <th>2</th>\n",
       "      <td>Y’all ain’t tell me Lil Meech was on #Euphoria...</td>\n",
       "      <td>18/01/2022 23:57</td>\n",
       "      <td>1.483590e+18</td>\n",
       "      <td>what you see is what you get 🤷🏾‍♀️</td>\n",
       "      <td>CenSchutt</td>\n",
       "      <td>5.914994e+07</td>\n",
       "      <td>Miami, FL</td>\n",
       "      <td>NaN</td>\n",
       "      <td>1920 🕊 | IG: @Cen.Schutt 🇭🇹| Paralegal Bae 👩🏾‍...</td>\n",
       "      <td>False</td>\n",
       "      <td>...</td>\n",
       "      <td>389.0</td>\n",
       "      <td>3929.0</td>\n",
       "      <td>34843.0</td>\n",
       "      <td>1.0</td>\n",
       "      <td>22/07/2009 15:10</td>\n",
       "      <td>https://pbs.twimg.com/profile_images/148005706...</td>\n",
       "      <td>False</td>\n",
       "      <td>False</td>\n",
       "      <td>0.0</td>\n",
       "      <td>0.0</td>\n",
       "    </tr>\n",
       "    <tr>\n",
       "      <th>3</th>\n",
       "      <td>I think @sydney_sweeney is one of the most bea...</td>\n",
       "      <td>18/01/2022 23:57</td>\n",
       "      <td>1.483590e+18</td>\n",
       "      <td>danielle</td>\n",
       "      <td>dac1971</td>\n",
       "      <td>7.117740e+07</td>\n",
       "      <td>NaN</td>\n",
       "      <td>https://t.co/RZJ1yyGKiT</td>\n",
       "      <td>https://t.co/FKOSlKk1w6</td>\n",
       "      <td>False</td>\n",
       "      <td>...</td>\n",
       "      <td>97.0</td>\n",
       "      <td>41711.0</td>\n",
       "      <td>61967.0</td>\n",
       "      <td>45.0</td>\n",
       "      <td>03/09/2009 05:03</td>\n",
       "      <td>https://pbs.twimg.com/profile_images/148238200...</td>\n",
       "      <td>False</td>\n",
       "      <td>False</td>\n",
       "      <td>0.0</td>\n",
       "      <td>2.0</td>\n",
       "    </tr>\n",
       "    <tr>\n",
       "      <th>4</th>\n",
       "      <td>We’re watching Ethan’s villain origin before o...</td>\n",
       "      <td>18/01/2022 23:56</td>\n",
       "      <td>1.483590e+18</td>\n",
       "      <td>keturah 🪐</td>\n",
       "      <td>KeturahTheGreat</td>\n",
       "      <td>3.071322e+08</td>\n",
       "      <td>901|615</td>\n",
       "      <td>NaN</td>\n",
       "      <td>Living with ease. 🤍🕯 She/her. INFJ-T.</td>\n",
       "      <td>False</td>\n",
       "      <td>...</td>\n",
       "      <td>1612.0</td>\n",
       "      <td>217856.0</td>\n",
       "      <td>108262.0</td>\n",
       "      <td>8.0</td>\n",
       "      <td>29/05/2011 02:46</td>\n",
       "      <td>https://pbs.twimg.com/profile_images/146354440...</td>\n",
       "      <td>False</td>\n",
       "      <td>False</td>\n",
       "      <td>0.0</td>\n",
       "      <td>7.0</td>\n",
       "    </tr>\n",
       "    <tr>\n",
       "      <th>5</th>\n",
       "      <td>lana gonna eat on the #Euphoria song https://t...</td>\n",
       "      <td>18/01/2022 23:56</td>\n",
       "      <td>1.483590e+18</td>\n",
       "      <td>brady</td>\n",
       "      <td>1989DEFAULT</td>\n",
       "      <td>1.230300e+18</td>\n",
       "      <td>honeymoon</td>\n",
       "      <td>NaN</td>\n",
       "      <td>fan account</td>\n",
       "      <td>False</td>\n",
       "      <td>...</td>\n",
       "      <td>1326.0</td>\n",
       "      <td>7835.0</td>\n",
       "      <td>11171.0</td>\n",
       "      <td>3.0</td>\n",
       "      <td>20/02/2020 01:33</td>\n",
       "      <td>https://pbs.twimg.com/profile_images/148359064...</td>\n",
       "      <td>True</td>\n",
       "      <td>False</td>\n",
       "      <td>0.0</td>\n",
       "      <td>1.0</td>\n",
       "    </tr>\n",
       "  </tbody>\n",
       "</table>\n",
       "<p>5 rows × 21 columns</p>\n",
       "</div>"
      ],
      "text/plain": [
       "                                     tweet_full_text  tweet_created_at  \\\n",
       "1  When are we getting her backstory? #Euphoria h...  18/01/2022 23:59   \n",
       "2  Y’all ain’t tell me Lil Meech was on #Euphoria...  18/01/2022 23:57   \n",
       "3  I think @sydney_sweeney is one of the most bea...  18/01/2022 23:57   \n",
       "4  We’re watching Ethan’s villain origin before o...  18/01/2022 23:56   \n",
       "5  lana gonna eat on the #Euphoria song https://t...  18/01/2022 23:56   \n",
       "\n",
       "       tweet_id                      tweet_username tweet_user_screename  \\\n",
       "1  1.483590e+18                       pingüino stan            spacetono   \n",
       "2  1.483590e+18  what you see is what you get 🤷🏾‍♀️            CenSchutt   \n",
       "3  1.483590e+18                            danielle              dac1971   \n",
       "4  1.483590e+18                           keturah 🪐      KeturahTheGreat   \n",
       "5  1.483590e+18                               brady          1989DEFAULT   \n",
       "\n",
       "   tweet_userid_str tweet_user_location           tweet_user_url  \\\n",
       "1      1.031210e+18             he/they                      NaN   \n",
       "2      5.914994e+07           Miami, FL                      NaN   \n",
       "3      7.117740e+07                 NaN  https://t.co/RZJ1yyGKiT   \n",
       "4      3.071322e+08             901|615                      NaN   \n",
       "5      1.230300e+18           honeymoon                      NaN   \n",
       "\n",
       "                              tweet_user_description tweet_user_verified  ...  \\\n",
       "1  published author, film star, director, student...               False  ...   \n",
       "2  1920 🕊 | IG: @Cen.Schutt 🇭🇹| Paralegal Bae 👩🏾‍...               False  ...   \n",
       "3                            https://t.co/FKOSlKk1w6               False  ...   \n",
       "4              Living with ease. 🤍🕯 She/her. INFJ-T.               False  ...   \n",
       "5                                        fan account               False  ...   \n",
       "\n",
       "   tweet_user_friends_count  tweet_user_favorites_count  \\\n",
       "1                     296.0                     94208.0   \n",
       "2                     389.0                      3929.0   \n",
       "3                      97.0                     41711.0   \n",
       "4                    1612.0                    217856.0   \n",
       "5                    1326.0                      7835.0   \n",
       "\n",
       "   tweet_user_statuses_count  tweet_user_listed_count  tweet_user_created_at  \\\n",
       "1                     1051.0                      0.0       19/08/2018 15:49   \n",
       "2                    34843.0                      1.0       22/07/2009 15:10   \n",
       "3                    61967.0                     45.0       03/09/2009 05:03   \n",
       "4                   108262.0                      8.0       29/05/2011 02:46   \n",
       "5                    11171.0                      3.0       20/02/2020 01:33   \n",
       "\n",
       "                              user_profile_image_url user_default_profile  \\\n",
       "1  https://pbs.twimg.com/profile_images/148357692...                 True   \n",
       "2  https://pbs.twimg.com/profile_images/148005706...                False   \n",
       "3  https://pbs.twimg.com/profile_images/148238200...                False   \n",
       "4  https://pbs.twimg.com/profile_images/146354440...                False   \n",
       "5  https://pbs.twimg.com/profile_images/148359064...                 True   \n",
       "\n",
       "  user_default_profile_image tweet_retweet_count  tweet_favorite_count  \n",
       "1                      False                 0.0                   5.0  \n",
       "2                      False                 0.0                   0.0  \n",
       "3                      False                 0.0                   2.0  \n",
       "4                      False                 0.0                   7.0  \n",
       "5                      False                 0.0                   1.0  \n",
       "\n",
       "[5 rows x 21 columns]"
      ]
     },
     "execution_count": 22,
     "metadata": {},
     "output_type": "execute_result"
    }
   ],
   "source": [
    "print(\"Duplicate Rows :\")\n",
    "duplicate.head()"
   ]
  },
  {
   "cell_type": "code",
   "execution_count": 23,
   "id": "a4b3ae5c",
   "metadata": {
    "ExecuteTime": {
     "end_time": "2022-08-22T04:05:39.701775Z",
     "start_time": "2022-08-22T04:05:39.656026Z"
    }
   },
   "outputs": [],
   "source": [
    "tweets_df=tweets_df.drop_duplicates(subset=['tweet_id']) # drop duplicate values\n"
   ]
  },
  {
   "cell_type": "code",
   "execution_count": 24,
   "id": "110c3dbc",
   "metadata": {
    "ExecuteTime": {
     "end_time": "2022-08-22T04:05:39.706346Z",
     "start_time": "2022-08-22T04:05:39.704040Z"
    }
   },
   "outputs": [
    {
     "data": {
      "text/plain": [
       "(186707, 21)"
      ]
     },
     "execution_count": 24,
     "metadata": {},
     "output_type": "execute_result"
    }
   ],
   "source": [
    "tweets_df.shape"
   ]
  },
  {
   "cell_type": "markdown",
   "id": "2f49d433",
   "metadata": {},
   "source": [
    "## Null Values"
   ]
  },
  {
   "cell_type": "code",
   "execution_count": 25,
   "id": "eec9f2f9",
   "metadata": {
    "ExecuteTime": {
     "end_time": "2022-08-22T04:05:39.795002Z",
     "start_time": "2022-08-22T04:05:39.707715Z"
    }
   },
   "outputs": [
    {
     "data": {
      "text/plain": [
       "tweet_full_text                    0\n",
       "tweet_created_at                   0\n",
       "tweet_id                           0\n",
       "tweet_username                     9\n",
       "tweet_user_screename               0\n",
       "tweet_userid_str                   0\n",
       "tweet_user_location            62051\n",
       "tweet_user_url                123593\n",
       "tweet_user_description         17706\n",
       "tweet_user_verified                2\n",
       "tweet_user_followers_count         2\n",
       "tweet_user_friends_count           2\n",
       "tweet_user_favorites_count         5\n",
       "tweet_user_statuses_count          5\n",
       "tweet_user_listed_count            5\n",
       "tweet_user_created_at              5\n",
       "user_profile_image_url             7\n",
       "user_default_profile               5\n",
       "user_default_profile_image         5\n",
       "tweet_retweet_count                5\n",
       "tweet_favorite_count               5\n",
       "dtype: int64"
      ]
     },
     "execution_count": 25,
     "metadata": {},
     "output_type": "execute_result"
    }
   ],
   "source": [
    "tweets_df.isna().sum()"
   ]
  },
  {
   "cell_type": "code",
   "execution_count": 26,
   "id": "ce611fdc",
   "metadata": {
    "ExecuteTime": {
     "end_time": "2022-08-22T04:05:39.879644Z",
     "start_time": "2022-08-22T04:05:39.796292Z"
    }
   },
   "outputs": [
    {
     "data": {
      "text/plain": [
       "tweet_full_text                    0\n",
       "tweet_created_at                   0\n",
       "tweet_id                           0\n",
       "tweet_username                     9\n",
       "tweet_user_screename               0\n",
       "tweet_userid_str                   0\n",
       "tweet_user_location            62051\n",
       "tweet_user_url                123593\n",
       "tweet_user_description         17706\n",
       "tweet_user_verified                2\n",
       "tweet_user_followers_count         2\n",
       "tweet_user_friends_count           2\n",
       "tweet_user_favorites_count         5\n",
       "tweet_user_statuses_count          5\n",
       "tweet_user_listed_count            5\n",
       "tweet_user_created_at              5\n",
       "user_profile_image_url             7\n",
       "user_default_profile               5\n",
       "user_default_profile_image         5\n",
       "tweet_retweet_count                5\n",
       "tweet_favorite_count               5\n",
       "dtype: int64"
      ]
     },
     "execution_count": 26,
     "metadata": {},
     "output_type": "execute_result"
    }
   ],
   "source": [
    "tweets_df.isnull().sum()"
   ]
  },
  {
   "cell_type": "code",
   "execution_count": 27,
   "id": "b7caa6fc",
   "metadata": {
    "ExecuteTime": {
     "end_time": "2022-08-22T04:05:39.892566Z",
     "start_time": "2022-08-22T04:05:39.881042Z"
    }
   },
   "outputs": [],
   "source": [
    "# Notice that the three main columns with null/na values are user location, user url, and user description. Two of these will most likely get dropped \n",
    "\n",
    "#Replace the NaN values in the location column with 'No Location'\n",
    "tweets_df['tweet_user_location'] = tweets_df['tweet_user_location'].fillna('No Location')"
   ]
  },
  {
   "cell_type": "code",
   "execution_count": 28,
   "id": "10f8eca3",
   "metadata": {
    "ExecuteTime": {
     "end_time": "2022-08-22T04:05:39.916464Z",
     "start_time": "2022-08-22T04:05:39.893880Z"
    }
   },
   "outputs": [],
   "source": [
    "tweets_df = tweets_df.drop(columns = ['tweet_user_url', 'tweet_user_description','user_profile_image_url', 'tweet_user_favorites_count', 'tweet_user_statuses_count', 'user_default_profile', 'user_default_profile_image','tweet_user_listed_count', 'tweet_user_created_at'])"
   ]
  },
  {
   "cell_type": "code",
   "execution_count": 29,
   "id": "d57f29db",
   "metadata": {
    "ExecuteTime": {
     "end_time": "2022-08-22T04:05:39.973050Z",
     "start_time": "2022-08-22T04:05:39.917505Z"
    }
   },
   "outputs": [],
   "source": [
    "tweets_df = tweets_df.dropna()"
   ]
  },
  {
   "cell_type": "code",
   "execution_count": 30,
   "id": "2e5a2299",
   "metadata": {
    "ExecuteTime": {
     "end_time": "2022-08-22T04:05:40.017542Z",
     "start_time": "2022-08-22T04:05:39.974061Z"
    }
   },
   "outputs": [
    {
     "data": {
      "text/plain": [
       "tweet_full_text               0\n",
       "tweet_created_at              0\n",
       "tweet_id                      0\n",
       "tweet_username                0\n",
       "tweet_user_screename          0\n",
       "tweet_userid_str              0\n",
       "tweet_user_location           0\n",
       "tweet_user_verified           0\n",
       "tweet_user_followers_count    0\n",
       "tweet_user_friends_count      0\n",
       "tweet_retweet_count           0\n",
       "tweet_favorite_count          0\n",
       "dtype: int64"
      ]
     },
     "execution_count": 30,
     "metadata": {},
     "output_type": "execute_result"
    }
   ],
   "source": [
    "tweets_df.isnull().sum()"
   ]
  },
  {
   "cell_type": "code",
   "execution_count": 31,
   "id": "9db95390",
   "metadata": {
    "ExecuteTime": {
     "end_time": "2022-08-22T04:05:40.021004Z",
     "start_time": "2022-08-22T04:05:40.018781Z"
    }
   },
   "outputs": [
    {
     "data": {
      "text/plain": [
       "(186693, 12)"
      ]
     },
     "execution_count": 31,
     "metadata": {},
     "output_type": "execute_result"
    }
   ],
   "source": [
    "tweets_df.shape"
   ]
  },
  {
   "cell_type": "markdown",
   "id": "ff3bd59b",
   "metadata": {},
   "source": [
    "## Location Geocoding Time"
   ]
  },
  {
   "cell_type": "markdown",
   "id": "a382f987",
   "metadata": {},
   "source": [
    "HERE offers the following geocoding services:\n",
    "\n",
    "- Discover and its search-as-you-type Autosuggest engine.\n",
    "- Geocode and address Autocomplete.\n",
    "- Reverse Geocode\n",
    "- Lookup for direct access and Browse for a slice-and-dice access to the data."
   ]
  },
  {
   "cell_type": "code",
   "execution_count": 32,
   "id": "f395ee75",
   "metadata": {
    "ExecuteTime": {
     "end_time": "2022-08-22T04:08:48.149218Z",
     "start_time": "2022-08-22T04:08:48.139210Z"
    }
   },
   "outputs": [],
   "source": [
    "# HERE url and API key\n",
    "geo_url = \"https://geocode.search.hereapi.com/v1/geocode\"\n",
    "api_key = \"nFMufDOPF6pBdYPgtvywIGDp0t3I4A8iDptFekcr2v4\""
   ]
  },
  {
   "cell_type": "code",
   "execution_count": 33,
   "id": "e3d11d79",
   "metadata": {
    "ExecuteTime": {
     "end_time": "2022-08-22T04:10:02.679953Z",
     "start_time": "2022-08-22T04:10:02.666924Z"
    }
   },
   "outputs": [],
   "source": [
    "# Test to show how API and HERE service works \n",
    "test_params = {\"q\": 'New York City', \"apiKey\":api_key}"
   ]
  },
  {
   "cell_type": "code",
   "execution_count": 35,
   "id": "4774e8b4",
   "metadata": {
    "ExecuteTime": {
     "end_time": "2022-08-22T04:10:10.254805Z",
     "start_time": "2022-08-22T04:10:09.900964Z"
    }
   },
   "outputs": [],
   "source": [
    "test_response = requests.get(geo_url, test_params)"
   ]
  },
  {
   "cell_type": "code",
   "execution_count": 37,
   "id": "1778b13e",
   "metadata": {
    "ExecuteTime": {
     "end_time": "2022-08-22T04:11:04.410538Z",
     "start_time": "2022-08-22T04:11:04.398182Z"
    }
   },
   "outputs": [
    {
     "name": "stdout",
     "output_type": "stream",
     "text": [
      "{'items': [{'title': 'New York, NY, United States', 'id': 'here:cm:namedplace:21019301', 'resultType': 'locality', 'localityType': 'city', 'address': {'label': 'New York, NY, United States', 'countryCode': 'USA', 'countryName': 'United States', 'stateCode': 'NY', 'state': 'New York', 'county': 'New York', 'city': 'New York', 'postalCode': '10007'}, 'position': {'lat': 40.71454, 'lng': -74.00712}, 'mapView': {'west': -74.2589, 'south': 40.47742, 'east': -73.70038, 'north': 40.91762}, 'scoring': {'queryScore': 1.0, 'fieldScore': {'city': 1.0}}}]}\n",
      "Country United States\n"
     ]
    }
   ],
   "source": [
    "if test_response.status_code == 200:\n",
    "    print(test_response.json())\n",
    "    print(\"Country\", test_response.json()['items'][0]['address']['countryName'])\n",
    "else:\n",
    "    print(\"Error\", status_code)"
   ]
  },
  {
   "cell_type": "code",
   "execution_count": 40,
   "id": "9f8f62e6",
   "metadata": {
    "ExecuteTime": {
     "end_time": "2022-08-22T04:12:25.127704Z",
     "start_time": "2022-08-22T04:12:25.117198Z"
    }
   },
   "outputs": [],
   "source": [
    "# Now we've seen the power of the API, now it's time to apply it to our DataFrame\n",
    "def getGeneralLocationData(location):\n",
    "    geo_params = {\"q\": location  , \"apiKey\": api_key }\n",
    "    \n",
    "    response = requests.get(url = geo_url, params = geo_params)\n",
    "    \n",
    "    location_data = response.json()\n",
    "    \n",
    "    return location_data\n",
    "  "
   ]
  },
  {
   "cell_type": "code",
   "execution_count": 41,
   "id": "a7a1b4d6",
   "metadata": {
    "ExecuteTime": {
     "end_time": "2022-08-22T10:07:58.003760Z",
     "start_time": "2022-08-22T04:12:25.569660Z"
    }
   },
   "outputs": [],
   "source": [
    "tweets_df['general_location_data'] = tweets_df['tweet_user_location'].apply(getGeneralLocationData)"
   ]
  },
  {
   "cell_type": "code",
   "execution_count": 42,
   "id": "1ac558a5",
   "metadata": {
    "ExecuteTime": {
     "end_time": "2022-08-22T10:07:58.061336Z",
     "start_time": "2022-08-22T10:07:58.008558Z"
    }
   },
   "outputs": [
    {
     "data": {
      "text/html": [
       "<div>\n",
       "<style scoped>\n",
       "    .dataframe tbody tr th:only-of-type {\n",
       "        vertical-align: middle;\n",
       "    }\n",
       "\n",
       "    .dataframe tbody tr th {\n",
       "        vertical-align: top;\n",
       "    }\n",
       "\n",
       "    .dataframe thead th {\n",
       "        text-align: right;\n",
       "    }\n",
       "</style>\n",
       "<table border=\"1\" class=\"dataframe\">\n",
       "  <thead>\n",
       "    <tr style=\"text-align: right;\">\n",
       "      <th></th>\n",
       "      <th>tweet_full_text</th>\n",
       "      <th>tweet_created_at</th>\n",
       "      <th>tweet_id</th>\n",
       "      <th>tweet_username</th>\n",
       "      <th>tweet_user_screename</th>\n",
       "      <th>tweet_userid_str</th>\n",
       "      <th>tweet_user_location</th>\n",
       "      <th>tweet_user_verified</th>\n",
       "      <th>tweet_user_followers_count</th>\n",
       "      <th>tweet_user_friends_count</th>\n",
       "      <th>tweet_retweet_count</th>\n",
       "      <th>tweet_favorite_count</th>\n",
       "      <th>general_location_data</th>\n",
       "    </tr>\n",
       "  </thead>\n",
       "  <tbody>\n",
       "    <tr>\n",
       "      <th>0</th>\n",
       "      <td>Really want a fez / Lexi parallel scene to when Spencer / Toby from PLL played Scrabble for the first time in the motel room and slept in the same bed. Is that just too much to ask ??? #Euphoria</td>\n",
       "      <td>2022-01-23 23:59:50</td>\n",
       "      <td>1.485402e+18</td>\n",
       "      <td>Katy</td>\n",
       "      <td>katykitty628</td>\n",
       "      <td>1.471191e+18</td>\n",
       "      <td>No Location</td>\n",
       "      <td>False</td>\n",
       "      <td>36.0</td>\n",
       "      <td>82.0</td>\n",
       "      <td>0.0</td>\n",
       "      <td>0.0</td>\n",
       "      <td>{'items': []}</td>\n",
       "    </tr>\n",
       "    <tr>\n",
       "      <th>1</th>\n",
       "      <td>#Euphoria I hope Maddy pulls the hair out that girl's scalp tonight</td>\n",
       "      <td>2022-01-23 23:59:33</td>\n",
       "      <td>1.485402e+18</td>\n",
       "      <td>𝐕𝐢𝐫𝐠𝐞𝐚𝐮𝐱</td>\n",
       "      <td>_njauu</td>\n",
       "      <td>9.510643e+17</td>\n",
       "      <td>here</td>\n",
       "      <td>False</td>\n",
       "      <td>1586.0</td>\n",
       "      <td>221.0</td>\n",
       "      <td>0.0</td>\n",
       "      <td>0.0</td>\n",
       "      <td>{'items': [{'title': 'Here, Chandgad, Maharashtra, India', 'id': 'here:cm:poi:1071061874', 'resultType': 'locality', 'localityType': 'district', 'address': {'label': 'Here, Chandgad, Maharashtra, India', 'countryCode': 'IND', 'countryName': 'India', 'stateCode': 'MH', 'state': 'Maharashtra', 'county': 'Kolhapur', 'city': 'Chandgad', 'district': 'Here'}, 'position': {'lat': 15.88025, 'lng': 74.18321}, 'mapView': {'west': 74.1832, 'south': 15.88012, 'east': 74.18327, 'north': 15.88039}, 'scoring': {'queryScore': 1.0, 'fieldScore': {'district': 1.0}}}, {'title': 'Here, Konjic, Federacija Bosne i Hercegovine, Bosna i Hercegovina', 'id': 'here:cm:poi:1097295711', 'resultType': 'locality', 'localityType': 'district', 'address': {'label': 'Here, Konjic, Federacija Bosne i Hercegovine, Bosna i Hercegovina', 'countryCode': 'BIH', 'countryName': 'Bosna i Hercegovina', 'state': 'Federacija Bosne i Hercegovine', 'county': 'Hercegovačko-Neretvanski kanton', 'city': 'Konjic', 'district': 'Here'}, 'position': {'lat': 43.81152, 'lng': 17.80095}, 'mapView': {'west': 17.80067, 'south': 43.81136, 'east': 17.80128, 'north': 43.81165}, 'scoring': {'queryScore': 1.0, 'fieldScore': {'district': 1.0}}}, {'title': 'Here, Živinice, Federacija Bosne i Hercegovine, Bosna i Hercegovina', 'id': 'here:cm:poi:1097309377', 'resultType': 'locality', 'localityType': 'district', 'address': {'label': 'Here, Živinice, Federacija Bosne i Hercegovine, Bosna i Hercegovina', 'countryCode': 'BIH', 'countryName': 'Bosna i Hercegovina', 'state': 'Federacija Bosne i Hercegovine', 'county': 'Tuzlanski kanton', 'city': 'Živinice', 'district': 'Here'}, 'position': {'lat': 44.40131, 'lng': 18.73384}, 'mapView': {'west': 18.73362, 'south': 44.40109, 'east': 18.73406, 'north': 44.40153}, 'scoring': {'queryScore': 1.0, 'fieldScore': {'district': 1.0}}}, {'title': 'Here, Patmara, Karnali, Nepal', 'id': 'here:cm:poi:1099606175', 'resultType': 'locality', 'localityType': 'district', 'address': {'label': 'Here, Patmara, Karnali, Nepal', 'countryCode': 'NPL', 'countryName': 'Nepal', 'state': 'Karnali', 'county': 'Jumla', 'city': 'Patmara', 'district': 'Here'}, 'position': {'lat': 29.31291, 'lng': 82.20937}, 'mapView': {'west': 82.20862, 'south': 29.31247, 'east': 82.21012, 'north': 29.31336}, 'scoring': {'queryScore': 1.0, 'fieldScore': {'district': 1.0}}}, {'title': 'هير, برعو, توجدير, الصومال', 'id': 'here:cm:poi:1176018446', 'resultType': 'locality', 'localityType': 'district', 'address': {'label': 'هير, برعو, توجدير, الصومال', 'countryCode': 'SOM', 'countryName': 'الصومال', 'state': 'توجدير', 'city': 'برعو', 'district': 'هير'}, 'position': {'lat': 8.67674, 'lng': 45.83171}, 'mapView': {'west': 45.8312, 'south': 8.67618, 'east': 45.83217, 'north': 8.67738}, 'scoring': {'queryScore': 1.0, 'fieldScore': {'district': 1.0}}}, {'title': 'Here, Mayo-Sava, Cameroun', 'id': 'here:cm:poi:1200913387', 'resultType': 'locality', 'localityType': 'district', 'address': {'label': 'Here, Mayo-Sava, Cameroun', 'countryCode': 'CMR', 'countryName': 'Cameroun', 'county': 'Mayo-Sava', 'city': 'Mayo-Sava', 'district': 'Here'}, 'position': {'lat': 10.99234, 'lng': 14.19674}, 'mapView': {'west': 14.19636, 'south': 10.99158, 'east': 14.19686, 'north': 10.99302}, 'scoring': {'queryScore': 1.0, 'fieldScore': {'district': 1.0}}}, {'title': 'Hère, Quend, Hauts-de-France, France', 'id': 'here:cm:poi:898824713', 'resultType': 'locality', 'localityType': 'district', 'address': {'label': 'Hère, Quend, Hauts-de-France, France', 'countryCode': 'FRA', 'countryName': 'France', 'stateCode': 'HDF', 'state': 'Hauts-de-France', 'county': 'Somme', 'city': 'Quend', 'district': 'Hère'}, 'position': {'lat': 50.30699, 'lng': 1.63927}, 'mapView': {'west': 1.63871, 'south': 50.30643, 'east': 1.63981, 'north': 50.30756}, 'scoring': {'queryScore': 1.0, 'fieldScore': {'district': 1.0}}}]}</td>\n",
       "    </tr>\n",
       "    <tr>\n",
       "      <th>2</th>\n",
       "      <td>Between #AndJustLikeThat and #Euphoria @HBO is insisting on showing me more white dick then I've ever cared to see in my life. Sheesh.</td>\n",
       "      <td>2022-01-23 23:59:04</td>\n",
       "      <td>1.485402e+18</td>\n",
       "      <td>Steph Swinton</td>\n",
       "      <td>StephSwinton</td>\n",
       "      <td>2.390617e+07</td>\n",
       "      <td>New York</td>\n",
       "      <td>False</td>\n",
       "      <td>339.0</td>\n",
       "      <td>729.0</td>\n",
       "      <td>0.0</td>\n",
       "      <td>2.0</td>\n",
       "      <td>{'items': [{'title': 'New York, NY, United States', 'id': 'here:cm:namedplace:21019301', 'resultType': 'locality', 'localityType': 'city', 'address': {'label': 'New York, NY, United States', 'countryCode': 'USA', 'countryName': 'United States', 'stateCode': 'NY', 'state': 'New York', 'county': 'New York', 'city': 'New York', 'postalCode': '10007'}, 'position': {'lat': 40.71454, 'lng': -74.00712}, 'mapView': {'west': -74.2589, 'south': 40.47742, 'east': -73.70038, 'north': 40.91762}, 'scoring': {'queryScore': 1.0, 'fieldScore': {'city': 1.0}}}, {'title': 'NY, United States', 'id': 'here:cm:namedplace:21010819', 'resultType': 'administrativeArea', 'administrativeAreaType': 'state', 'address': {'label': 'NY, United States', 'countryCode': 'USA', 'countryName': 'United States', 'stateCode': 'NY', 'state': 'New York'}, 'position': {'lat': 42.65155, 'lng': -73.75522}, 'mapView': {'west': -79.76212, 'south': 40.47742, 'east': -71.66864, 'north': 45.01608}, 'scoring': {'queryScore': 1.0, 'fieldScore': {'state': 1.0}}}]}</td>\n",
       "    </tr>\n",
       "    <tr>\n",
       "      <th>3</th>\n",
       "      <td>its #Euphoria  day!!!!</td>\n",
       "      <td>2022-01-23 23:59:04</td>\n",
       "      <td>1.485402e+18</td>\n",
       "      <td>felic-titty</td>\n",
       "      <td>lilbootybbg</td>\n",
       "      <td>1.173761e+18</td>\n",
       "      <td>in therapy</td>\n",
       "      <td>False</td>\n",
       "      <td>49.0</td>\n",
       "      <td>145.0</td>\n",
       "      <td>0.0</td>\n",
       "      <td>2.0</td>\n",
       "      <td>{'items': []}</td>\n",
       "    </tr>\n",
       "    <tr>\n",
       "      <th>4</th>\n",
       "      <td>YESSSIR DOING A QUICK STREAM BEFOE TONIGHT'S #euphoria Episode LETS BECOME THE ULTIMATE WEAPON LIVE @ 5:00PM #prototypegame #gamer #gaming #StreamersConnected #Streamcaster #SupportSmallerStreamers #SupportSmallStreams #Twitch #Youtube #twitchstreamer #roadtoaffiliate https://t.co/HMTCSzdC5Y</td>\n",
       "      <td>2022-01-23 23:58:56</td>\n",
       "      <td>1.485402e+18</td>\n",
       "      <td>Chris RossVlogs</td>\n",
       "      <td>ChrisRossvlogs</td>\n",
       "      <td>1.347083e+18</td>\n",
       "      <td>Mr. Hollywood</td>\n",
       "      <td>False</td>\n",
       "      <td>116.0</td>\n",
       "      <td>276.0</td>\n",
       "      <td>1.0</td>\n",
       "      <td>3.0</td>\n",
       "      <td>{'items': [{'title': 'Hollywood, FL, United States', 'id': 'here:cm:namedplace:21023353', 'resultType': 'locality', 'localityType': 'city', 'address': {'label': 'Hollywood, FL, United States', 'countryCode': 'USA', 'countryName': 'United States', 'stateCode': 'FL', 'state': 'Florida', 'county': 'Broward', 'city': 'Hollywood', 'postalCode': '33020'}, 'position': {'lat': 26.01067, 'lng': -80.16026}, 'mapView': {'west': -80.24889, 'south': 25.9861, 'east': -80.10689, 'north': 26.09312}, 'scoring': {'queryScore': 0.82, 'fieldScore': {'city': 1.0}}}, {'title': 'Hollywood, MD, United States', 'id': 'here:cm:namedplace:21129249', 'resultType': 'locality', 'localityType': 'city', 'address': {'label': 'Hollywood, MD, United States', 'countryCode': 'USA', 'countryName': 'United States', 'stateCode': 'MD', 'state': 'Maryland', 'county': 'St Marys', 'city': 'Hollywood', 'postalCode': '20636'}, 'position': {'lat': 38.3459, 'lng': -76.57205}, 'mapView': {'west': -76.64689, 'south': 38.29336, 'east': -76.49841, 'north': 38.39572}, 'scoring': {'queryScore': 0.82, 'fieldScore': {'city': 1.0}}}, {'title': 'Hollywood, SC, United States', 'id': 'here:cm:namedplace:21025735', 'resultType': 'locality', 'localityType': 'city', 'address': {'label': 'Hollywood, SC, United States', 'countryCode': 'USA', 'countryName': 'United States', 'stateCode': 'SC', 'state': 'South Carolina', 'county': 'Charleston', 'city': 'Hollywood', 'postalCode': '29449'}, 'position': {'lat': 32.73447, 'lng': -80.24154}, 'mapView': {'west': -80.30336, 'south': 32.69745, 'east': -80.1211, 'north': 32.82213}, 'scoring': {'queryScore': 0.82, 'fieldScore': {'city': 1.0}}}, {'title': 'Hollywood, AL, United States', 'id': 'here:cm:namedplace:21036174', 'resultType': 'locality', 'localityType': 'city', 'address': {'label': 'Hollywood, AL, United States', 'countryCode': 'USA', 'countryName': 'United States', 'stateCode': 'AL', 'state': 'Alabama', 'county': 'Jackson', 'city': 'Hollywood', 'postalCode': '35752'}, 'position': {'lat': 34.72485, 'lng': -85.97338}, 'mapView': {'west': -85.99086, 'south': 34.67557, 'east': -85.93727, 'north': 34.7516}, 'scoring': {'queryScore': 0.82, 'fieldScore': {'city': 1.0}}}]}</td>\n",
       "    </tr>\n",
       "    <tr>\n",
       "      <th>5</th>\n",
       "      <td>That scene where Kat imagines those girls is literally the comment section when someone opens up about their lack of self esteem 😭😭like just yelling LOVE YOURSELF! doesn't change anything\\n#EuphoriaHBOMax #Euphoria #EuphoriaSeason2 #kat</td>\n",
       "      <td>2022-01-23 23:58:39</td>\n",
       "      <td>1.485402e+18</td>\n",
       "      <td>Ga€ll€</td>\n",
       "      <td>herbabymama</td>\n",
       "      <td>1.380200e+18</td>\n",
       "      <td>No Location</td>\n",
       "      <td>False</td>\n",
       "      <td>2.0</td>\n",
       "      <td>34.0</td>\n",
       "      <td>0.0</td>\n",
       "      <td>1.0</td>\n",
       "      <td>{'items': []}</td>\n",
       "    </tr>\n",
       "    <tr>\n",
       "      <th>6</th>\n",
       "      <td>Just a few more hours till ep 3 comes out 🥳 #Euphoria</td>\n",
       "      <td>2022-01-23 23:58:29</td>\n",
       "      <td>1.485402e+18</td>\n",
       "      <td>🤍</td>\n",
       "      <td>ayeshhaa_al</td>\n",
       "      <td>1.373359e+18</td>\n",
       "      <td>Detroit, MI</td>\n",
       "      <td>False</td>\n",
       "      <td>101.0</td>\n",
       "      <td>98.0</td>\n",
       "      <td>0.0</td>\n",
       "      <td>0.0</td>\n",
       "      <td>{'items': [{'title': 'Detroit, MI, United States', 'id': 'here:cm:namedplace:21009236', 'resultType': 'locality', 'localityType': 'city', 'address': {'label': 'Detroit, MI, United States', 'countryCode': 'USA', 'countryName': 'United States', 'stateCode': 'MI', 'state': 'Michigan', 'county': 'Wayne', 'city': 'Detroit', 'postalCode': '48226'}, 'position': {'lat': 42.33168, 'lng': -83.048}, 'mapView': {'west': -83.2877, 'south': 42.25546, 'east': -82.91051, 'north': 42.45024}, 'scoring': {'queryScore': 1.0, 'fieldScore': {'state': 1.0, 'city': 1.0}}}]}</td>\n",
       "    </tr>\n",
       "    <tr>\n",
       "      <th>7</th>\n",
       "      <td>DONT U DARE MENTION THE 3D TUNNEL I KNOW IT SUCKS. #MADDYPEREZ #maddy #euphoria #edit https://t.co/BtoDe7G4Ww</td>\n",
       "      <td>2022-01-23 23:58:10</td>\n",
       "      <td>1.485402e+18</td>\n",
       "      <td>noelle (taylor's version)</td>\n",
       "      <td>sbtuarry</td>\n",
       "      <td>1.295025e+18</td>\n",
       "      <td>genderfluid :) + it / it's</td>\n",
       "      <td>False</td>\n",
       "      <td>578.0</td>\n",
       "      <td>455.0</td>\n",
       "      <td>1.0</td>\n",
       "      <td>2.0</td>\n",
       "      <td>{'items': []}</td>\n",
       "    </tr>\n",
       "    <tr>\n",
       "      <th>8</th>\n",
       "      <td>Can it be 9 already???? #Euphoria https://t.co/kmV3cxoxq8</td>\n",
       "      <td>2022-01-23 23:57:52</td>\n",
       "      <td>1.485401e+18</td>\n",
       "      <td>Lania Brown</td>\n",
       "      <td>lania_brown1231</td>\n",
       "      <td>1.551003e+09</td>\n",
       "      <td>No Location</td>\n",
       "      <td>False</td>\n",
       "      <td>130.0</td>\n",
       "      <td>432.0</td>\n",
       "      <td>0.0</td>\n",
       "      <td>2.0</td>\n",
       "      <td>{'items': []}</td>\n",
       "    </tr>\n",
       "    <tr>\n",
       "      <th>9</th>\n",
       "      <td>Y’all really gave #EuphoriaHBOMax a WHOLEEEEEE Lot… Y’all calm down a little bit causeeee….. I’ll just leave it at that…</td>\n",
       "      <td>2022-01-23 23:57:50</td>\n",
       "      <td>1.485401e+18</td>\n",
       "      <td>♦️Z. R. Raiford♦️</td>\n",
       "      <td>NaaShar_Ego</td>\n",
       "      <td>3.462815e+08</td>\n",
       "      <td>Greensboro, NC</td>\n",
       "      <td>False</td>\n",
       "      <td>239.0</td>\n",
       "      <td>154.0</td>\n",
       "      <td>0.0</td>\n",
       "      <td>0.0</td>\n",
       "      <td>{'items': [{'title': 'Greensboro, NC, United States', 'id': 'here:cm:namedplace:21025227', 'resultType': 'locality', 'localityType': 'city', 'address': {'label': 'Greensboro, NC, United States', 'countryCode': 'USA', 'countryName': 'United States', 'stateCode': 'NC', 'state': 'North Carolina', 'county': 'Guilford', 'city': 'Greensboro', 'postalCode': '27401'}, 'position': {'lat': 36.06908, 'lng': -79.79503}, 'mapView': {'west': -80.0179, 'south': 35.98562, 'east': -79.63767, 'north': 36.21524}, 'scoring': {'queryScore': 1.0, 'fieldScore': {'state': 1.0, 'city': 1.0}}}]}</td>\n",
       "    </tr>\n",
       "  </tbody>\n",
       "</table>\n",
       "</div>"
      ],
      "text/plain": [
       "                                                                                                                                                                                                                                                                                        tweet_full_text  \\\n",
       "0                                                                                                    Really want a fez / Lexi parallel scene to when Spencer / Toby from PLL played Scrabble for the first time in the motel room and slept in the same bed. Is that just too much to ask ??? #Euphoria   \n",
       "1                                                                                                                                                                                                                                   #Euphoria I hope Maddy pulls the hair out that girl's scalp tonight   \n",
       "2                                                                                                                                                                Between #AndJustLikeThat and #Euphoria @HBO is insisting on showing me more white dick then I've ever cared to see in my life. Sheesh.   \n",
       "3                                                                                                                                                                                                                                                                                its #Euphoria  day!!!!   \n",
       "4  YESSSIR DOING A QUICK STREAM BEFOE TONIGHT'S #euphoria Episode LETS BECOME THE ULTIMATE WEAPON LIVE @ 5:00PM #prototypegame #gamer #gaming #StreamersConnected #Streamcaster #SupportSmallerStreamers #SupportSmallStreams #Twitch #Youtube #twitchstreamer #roadtoaffiliate https://t.co/HMTCSzdC5Y   \n",
       "5                                                          That scene where Kat imagines those girls is literally the comment section when someone opens up about their lack of self esteem 😭😭like just yelling LOVE YOURSELF! doesn't change anything\\n#EuphoriaHBOMax #Euphoria #EuphoriaSeason2 #kat   \n",
       "6                                                                                                                                                                                                                                                 Just a few more hours till ep 3 comes out 🥳 #Euphoria   \n",
       "7                                                                                                                                                                                         DONT U DARE MENTION THE 3D TUNNEL I KNOW IT SUCKS. #MADDYPEREZ #maddy #euphoria #edit https://t.co/BtoDe7G4Ww   \n",
       "8                                                                                                                                                                                                                                             Can it be 9 already???? #Euphoria https://t.co/kmV3cxoxq8   \n",
       "9                                                                                                                                                                              Y’all really gave #EuphoriaHBOMax a WHOLEEEEEE Lot… Y’all calm down a little bit causeeee….. I’ll just leave it at that…   \n",
       "\n",
       "      tweet_created_at      tweet_id             tweet_username  \\\n",
       "0  2022-01-23 23:59:50  1.485402e+18                       Katy   \n",
       "1  2022-01-23 23:59:33  1.485402e+18                   𝐕𝐢𝐫𝐠𝐞𝐚𝐮𝐱   \n",
       "2  2022-01-23 23:59:04  1.485402e+18              Steph Swinton   \n",
       "3  2022-01-23 23:59:04  1.485402e+18                felic-titty   \n",
       "4  2022-01-23 23:58:56  1.485402e+18            Chris RossVlogs   \n",
       "5  2022-01-23 23:58:39  1.485402e+18                     Ga€ll€   \n",
       "6  2022-01-23 23:58:29  1.485402e+18                          🤍   \n",
       "7  2022-01-23 23:58:10  1.485402e+18  noelle (taylor's version)   \n",
       "8  2022-01-23 23:57:52  1.485401e+18                Lania Brown   \n",
       "9  2022-01-23 23:57:50  1.485401e+18          ♦️Z. R. Raiford♦️   \n",
       "\n",
       "  tweet_user_screename  tweet_userid_str         tweet_user_location  \\\n",
       "0         katykitty628      1.471191e+18                 No Location   \n",
       "1               _njauu      9.510643e+17                        here   \n",
       "2         StephSwinton      2.390617e+07                    New York   \n",
       "3          lilbootybbg      1.173761e+18                 in therapy    \n",
       "4       ChrisRossvlogs      1.347083e+18              Mr. Hollywood    \n",
       "5          herbabymama      1.380200e+18                 No Location   \n",
       "6          ayeshhaa_al      1.373359e+18                 Detroit, MI   \n",
       "7             sbtuarry      1.295025e+18  genderfluid :) + it / it's   \n",
       "8      lania_brown1231      1.551003e+09                 No Location   \n",
       "9          NaaShar_Ego      3.462815e+08              Greensboro, NC   \n",
       "\n",
       "  tweet_user_verified  tweet_user_followers_count  tweet_user_friends_count  \\\n",
       "0               False                        36.0                      82.0   \n",
       "1               False                      1586.0                     221.0   \n",
       "2               False                       339.0                     729.0   \n",
       "3               False                        49.0                     145.0   \n",
       "4               False                       116.0                     276.0   \n",
       "5               False                         2.0                      34.0   \n",
       "6               False                       101.0                      98.0   \n",
       "7               False                       578.0                     455.0   \n",
       "8               False                       130.0                     432.0   \n",
       "9               False                       239.0                     154.0   \n",
       "\n",
       "   tweet_retweet_count  tweet_favorite_count  \\\n",
       "0                  0.0                   0.0   \n",
       "1                  0.0                   0.0   \n",
       "2                  0.0                   2.0   \n",
       "3                  0.0                   2.0   \n",
       "4                  1.0                   3.0   \n",
       "5                  0.0                   1.0   \n",
       "6                  0.0                   0.0   \n",
       "7                  1.0                   2.0   \n",
       "8                  0.0                   2.0   \n",
       "9                  0.0                   0.0   \n",
       "\n",
       "                                                                                                                                                                                                                                                                                                                                                                                                                                                                                                                                                                                                                                                                                                                                                                                                                                                                                                                                                                                                                                                                                                                                                                                                                                                                                                                                                                                                                                                                                                                                                                                                                                                                                                                                                                                                                                                                                                                                                                                                                                                                                                                                                                                                                                                                                                                                                                                                                                                                                                                                                                                                                                                                                                                                                                                                                                                                                                                                                                                                                                                                                                                                                                                                                                                                                                                                                                                                                                                                                                                                                                                                                                                                                                                                                                                                                                                                                                                                                                                             general_location_data  \n",
       "0                                                                                                                                                                                                                                                                                                                                                                                                                                                                                                                                                                                                                                                                                                                                                                                                                                                                                                                                                                                                                                                                                                                                                                                                                                                                                                                                                                                                                                                                                                                                                                                                                                                                                                                                                                                                                                                                                                                                                                                                                                                                                                                                                                                                                                                                                                                                                                                                                                                                                                                                                                                                                                                                                                                                                                                                                                                                                                                                                                                                                                                                                                                                                                                                                                                                                                                                                                                                                                                                                                                                                                                                                                                                                                                                                                                                                                                                                                                                                                                                    {'items': []}  \n",
       "1  {'items': [{'title': 'Here, Chandgad, Maharashtra, India', 'id': 'here:cm:poi:1071061874', 'resultType': 'locality', 'localityType': 'district', 'address': {'label': 'Here, Chandgad, Maharashtra, India', 'countryCode': 'IND', 'countryName': 'India', 'stateCode': 'MH', 'state': 'Maharashtra', 'county': 'Kolhapur', 'city': 'Chandgad', 'district': 'Here'}, 'position': {'lat': 15.88025, 'lng': 74.18321}, 'mapView': {'west': 74.1832, 'south': 15.88012, 'east': 74.18327, 'north': 15.88039}, 'scoring': {'queryScore': 1.0, 'fieldScore': {'district': 1.0}}}, {'title': 'Here, Konjic, Federacija Bosne i Hercegovine, Bosna i Hercegovina', 'id': 'here:cm:poi:1097295711', 'resultType': 'locality', 'localityType': 'district', 'address': {'label': 'Here, Konjic, Federacija Bosne i Hercegovine, Bosna i Hercegovina', 'countryCode': 'BIH', 'countryName': 'Bosna i Hercegovina', 'state': 'Federacija Bosne i Hercegovine', 'county': 'Hercegovačko-Neretvanski kanton', 'city': 'Konjic', 'district': 'Here'}, 'position': {'lat': 43.81152, 'lng': 17.80095}, 'mapView': {'west': 17.80067, 'south': 43.81136, 'east': 17.80128, 'north': 43.81165}, 'scoring': {'queryScore': 1.0, 'fieldScore': {'district': 1.0}}}, {'title': 'Here, Živinice, Federacija Bosne i Hercegovine, Bosna i Hercegovina', 'id': 'here:cm:poi:1097309377', 'resultType': 'locality', 'localityType': 'district', 'address': {'label': 'Here, Živinice, Federacija Bosne i Hercegovine, Bosna i Hercegovina', 'countryCode': 'BIH', 'countryName': 'Bosna i Hercegovina', 'state': 'Federacija Bosne i Hercegovine', 'county': 'Tuzlanski kanton', 'city': 'Živinice', 'district': 'Here'}, 'position': {'lat': 44.40131, 'lng': 18.73384}, 'mapView': {'west': 18.73362, 'south': 44.40109, 'east': 18.73406, 'north': 44.40153}, 'scoring': {'queryScore': 1.0, 'fieldScore': {'district': 1.0}}}, {'title': 'Here, Patmara, Karnali, Nepal', 'id': 'here:cm:poi:1099606175', 'resultType': 'locality', 'localityType': 'district', 'address': {'label': 'Here, Patmara, Karnali, Nepal', 'countryCode': 'NPL', 'countryName': 'Nepal', 'state': 'Karnali', 'county': 'Jumla', 'city': 'Patmara', 'district': 'Here'}, 'position': {'lat': 29.31291, 'lng': 82.20937}, 'mapView': {'west': 82.20862, 'south': 29.31247, 'east': 82.21012, 'north': 29.31336}, 'scoring': {'queryScore': 1.0, 'fieldScore': {'district': 1.0}}}, {'title': 'هير, برعو, توجدير, الصومال', 'id': 'here:cm:poi:1176018446', 'resultType': 'locality', 'localityType': 'district', 'address': {'label': 'هير, برعو, توجدير, الصومال', 'countryCode': 'SOM', 'countryName': 'الصومال', 'state': 'توجدير', 'city': 'برعو', 'district': 'هير'}, 'position': {'lat': 8.67674, 'lng': 45.83171}, 'mapView': {'west': 45.8312, 'south': 8.67618, 'east': 45.83217, 'north': 8.67738}, 'scoring': {'queryScore': 1.0, 'fieldScore': {'district': 1.0}}}, {'title': 'Here, Mayo-Sava, Cameroun', 'id': 'here:cm:poi:1200913387', 'resultType': 'locality', 'localityType': 'district', 'address': {'label': 'Here, Mayo-Sava, Cameroun', 'countryCode': 'CMR', 'countryName': 'Cameroun', 'county': 'Mayo-Sava', 'city': 'Mayo-Sava', 'district': 'Here'}, 'position': {'lat': 10.99234, 'lng': 14.19674}, 'mapView': {'west': 14.19636, 'south': 10.99158, 'east': 14.19686, 'north': 10.99302}, 'scoring': {'queryScore': 1.0, 'fieldScore': {'district': 1.0}}}, {'title': 'Hère, Quend, Hauts-de-France, France', 'id': 'here:cm:poi:898824713', 'resultType': 'locality', 'localityType': 'district', 'address': {'label': 'Hère, Quend, Hauts-de-France, France', 'countryCode': 'FRA', 'countryName': 'France', 'stateCode': 'HDF', 'state': 'Hauts-de-France', 'county': 'Somme', 'city': 'Quend', 'district': 'Hère'}, 'position': {'lat': 50.30699, 'lng': 1.63927}, 'mapView': {'west': 1.63871, 'south': 50.30643, 'east': 1.63981, 'north': 50.30756}, 'scoring': {'queryScore': 1.0, 'fieldScore': {'district': 1.0}}}]}  \n",
       "2                                                                                                                                                                                                                                                                                                                                                                                                                                                                                                                                                                                                                                                                                                                                                                                                                                                                                                                                                                                                                                                                                                                                                                                                                                                                                                                                                                                                                                                                                                                                                                                                                                                                                                                                                                                                                                                                                                                                                                                                                                                                                                                                                                                                                                                                                                                                                                                                                                                                                                                                                                                                                                                                                                                                                                                                                                                                                                                                              {'items': [{'title': 'New York, NY, United States', 'id': 'here:cm:namedplace:21019301', 'resultType': 'locality', 'localityType': 'city', 'address': {'label': 'New York, NY, United States', 'countryCode': 'USA', 'countryName': 'United States', 'stateCode': 'NY', 'state': 'New York', 'county': 'New York', 'city': 'New York', 'postalCode': '10007'}, 'position': {'lat': 40.71454, 'lng': -74.00712}, 'mapView': {'west': -74.2589, 'south': 40.47742, 'east': -73.70038, 'north': 40.91762}, 'scoring': {'queryScore': 1.0, 'fieldScore': {'city': 1.0}}}, {'title': 'NY, United States', 'id': 'here:cm:namedplace:21010819', 'resultType': 'administrativeArea', 'administrativeAreaType': 'state', 'address': {'label': 'NY, United States', 'countryCode': 'USA', 'countryName': 'United States', 'stateCode': 'NY', 'state': 'New York'}, 'position': {'lat': 42.65155, 'lng': -73.75522}, 'mapView': {'west': -79.76212, 'south': 40.47742, 'east': -71.66864, 'north': 45.01608}, 'scoring': {'queryScore': 1.0, 'fieldScore': {'state': 1.0}}}]}  \n",
       "3                                                                                                                                                                                                                                                                                                                                                                                                                                                                                                                                                                                                                                                                                                                                                                                                                                                                                                                                                                                                                                                                                                                                                                                                                                                                                                                                                                                                                                                                                                                                                                                                                                                                                                                                                                                                                                                                                                                                                                                                                                                                                                                                                                                                                                                                                                                                                                                                                                                                                                                                                                                                                                                                                                                                                                                                                                                                                                                                                                                                                                                                                                                                                                                                                                                                                                                                                                                                                                                                                                                                                                                                                                                                                                                                                                                                                                                                                                                                                                                                    {'items': []}  \n",
       "4                                                                                                                                                                                                                                                                                                                                                                                                                                                                                                                                                                                                                                                                                                                                                                                                                                                                                                                                                                                                                                                                                                                                                                                                                                                                                                                                                                                                                                                                                                                                                                                                                                                                                                                                      {'items': [{'title': 'Hollywood, FL, United States', 'id': 'here:cm:namedplace:21023353', 'resultType': 'locality', 'localityType': 'city', 'address': {'label': 'Hollywood, FL, United States', 'countryCode': 'USA', 'countryName': 'United States', 'stateCode': 'FL', 'state': 'Florida', 'county': 'Broward', 'city': 'Hollywood', 'postalCode': '33020'}, 'position': {'lat': 26.01067, 'lng': -80.16026}, 'mapView': {'west': -80.24889, 'south': 25.9861, 'east': -80.10689, 'north': 26.09312}, 'scoring': {'queryScore': 0.82, 'fieldScore': {'city': 1.0}}}, {'title': 'Hollywood, MD, United States', 'id': 'here:cm:namedplace:21129249', 'resultType': 'locality', 'localityType': 'city', 'address': {'label': 'Hollywood, MD, United States', 'countryCode': 'USA', 'countryName': 'United States', 'stateCode': 'MD', 'state': 'Maryland', 'county': 'St Marys', 'city': 'Hollywood', 'postalCode': '20636'}, 'position': {'lat': 38.3459, 'lng': -76.57205}, 'mapView': {'west': -76.64689, 'south': 38.29336, 'east': -76.49841, 'north': 38.39572}, 'scoring': {'queryScore': 0.82, 'fieldScore': {'city': 1.0}}}, {'title': 'Hollywood, SC, United States', 'id': 'here:cm:namedplace:21025735', 'resultType': 'locality', 'localityType': 'city', 'address': {'label': 'Hollywood, SC, United States', 'countryCode': 'USA', 'countryName': 'United States', 'stateCode': 'SC', 'state': 'South Carolina', 'county': 'Charleston', 'city': 'Hollywood', 'postalCode': '29449'}, 'position': {'lat': 32.73447, 'lng': -80.24154}, 'mapView': {'west': -80.30336, 'south': 32.69745, 'east': -80.1211, 'north': 32.82213}, 'scoring': {'queryScore': 0.82, 'fieldScore': {'city': 1.0}}}, {'title': 'Hollywood, AL, United States', 'id': 'here:cm:namedplace:21036174', 'resultType': 'locality', 'localityType': 'city', 'address': {'label': 'Hollywood, AL, United States', 'countryCode': 'USA', 'countryName': 'United States', 'stateCode': 'AL', 'state': 'Alabama', 'county': 'Jackson', 'city': 'Hollywood', 'postalCode': '35752'}, 'position': {'lat': 34.72485, 'lng': -85.97338}, 'mapView': {'west': -85.99086, 'south': 34.67557, 'east': -85.93727, 'north': 34.7516}, 'scoring': {'queryScore': 0.82, 'fieldScore': {'city': 1.0}}}]}  \n",
       "5                                                                                                                                                                                                                                                                                                                                                                                                                                                                                                                                                                                                                                                                                                                                                                                                                                                                                                                                                                                                                                                                                                                                                                                                                                                                                                                                                                                                                                                                                                                                                                                                                                                                                                                                                                                                                                                                                                                                                                                                                                                                                                                                                                                                                                                                                                                                                                                                                                                                                                                                                                                                                                                                                                                                                                                                                                                                                                                                                                                                                                                                                                                                                                                                                                                                                                                                                                                                                                                                                                                                                                                                                                                                                                                                                                                                                                                                                                                                                                                                    {'items': []}  \n",
       "6                                                                                                                                                                                                                                                                                                                                                                                                                                                                                                                                                                                                                                                                                                                                                                                                                                                                                                                                                                                                                                                                                                                                                                                                                                                                                                                                                                                                                                                                                                                                                                                                                                                                                                                                                                                                                                                                                                                                                                                                                                                                                                                                                                                                                                                                                                                                                                                                                                                                                                                                                                                                                                                                                                                                                                                                                                                                                                                                                                                                                                                                                                                                                                                                                                                                                                                                                                                                                                     {'items': [{'title': 'Detroit, MI, United States', 'id': 'here:cm:namedplace:21009236', 'resultType': 'locality', 'localityType': 'city', 'address': {'label': 'Detroit, MI, United States', 'countryCode': 'USA', 'countryName': 'United States', 'stateCode': 'MI', 'state': 'Michigan', 'county': 'Wayne', 'city': 'Detroit', 'postalCode': '48226'}, 'position': {'lat': 42.33168, 'lng': -83.048}, 'mapView': {'west': -83.2877, 'south': 42.25546, 'east': -82.91051, 'north': 42.45024}, 'scoring': {'queryScore': 1.0, 'fieldScore': {'state': 1.0, 'city': 1.0}}}]}  \n",
       "7                                                                                                                                                                                                                                                                                                                                                                                                                                                                                                                                                                                                                                                                                                                                                                                                                                                                                                                                                                                                                                                                                                                                                                                                                                                                                                                                                                                                                                                                                                                                                                                                                                                                                                                                                                                                                                                                                                                                                                                                                                                                                                                                                                                                                                                                                                                                                                                                                                                                                                                                                                                                                                                                                                                                                                                                                                                                                                                                                                                                                                                                                                                                                                                                                                                                                                                                                                                                                                                                                                                                                                                                                                                                                                                                                                                                                                                                                                                                                                                                    {'items': []}  \n",
       "8                                                                                                                                                                                                                                                                                                                                                                                                                                                                                                                                                                                                                                                                                                                                                                                                                                                                                                                                                                                                                                                                                                                                                                                                                                                                                                                                                                                                                                                                                                                                                                                                                                                                                                                                                                                                                                                                                                                                                                                                                                                                                                                                                                                                                                                                                                                                                                                                                                                                                                                                                                                                                                                                                                                                                                                                                                                                                                                                                                                                                                                                                                                                                                                                                                                                                                                                                                                                                                                                                                                                                                                                                                                                                                                                                                                                                                                                                                                                                                                                    {'items': []}  \n",
       "9                                                                                                                                                                                                                                                                                                                                                                                                                                                                                                                                                                                                                                                                                                                                                                                                                                                                                                                                                                                                                                                                                                                                                                                                                                                                                                                                                                                                                                                                                                                                                                                                                                                                                                                                                                                                                                                                                                                                                                                                                                                                                                                                                                                                                                                                                                                                                                                                                                                                                                                                                                                                                                                                                                                                                                                                                                                                                                                                                                                                                                                                                                                                                                                                                                                                                                                                                                                                                 {'items': [{'title': 'Greensboro, NC, United States', 'id': 'here:cm:namedplace:21025227', 'resultType': 'locality', 'localityType': 'city', 'address': {'label': 'Greensboro, NC, United States', 'countryCode': 'USA', 'countryName': 'United States', 'stateCode': 'NC', 'state': 'North Carolina', 'county': 'Guilford', 'city': 'Greensboro', 'postalCode': '27401'}, 'position': {'lat': 36.06908, 'lng': -79.79503}, 'mapView': {'west': -80.0179, 'south': 35.98562, 'east': -79.63767, 'north': 36.21524}, 'scoring': {'queryScore': 1.0, 'fieldScore': {'state': 1.0, 'city': 1.0}}}]}  "
      ]
     },
     "execution_count": 42,
     "metadata": {},
     "output_type": "execute_result"
    }
   ],
   "source": [
    "# Let's see what the column looks like in our dataframe \n",
    "tweets_df.head(10)"
   ]
  },
  {
   "cell_type": "code",
   "execution_count": 43,
   "id": "7fc756e2",
   "metadata": {
    "ExecuteTime": {
     "end_time": "2022-08-22T10:07:58.072039Z",
     "start_time": "2022-08-22T10:07:58.066849Z"
    }
   },
   "outputs": [],
   "source": [
    "# Next step would be to extract the country name and country code from our general location data column\n",
    "\n",
    "def getCountryName(data):\n",
    "    \n",
    "    for x,y in data.items():\n",
    "        if len(data['items']) > 0:\n",
    "            country = y[0]['address']['countryName']\n",
    "        else:\n",
    "            country = float('Nan')\n",
    "    \n",
    "        return country\n",
    "    "
   ]
  },
  {
   "cell_type": "code",
   "execution_count": 44,
   "id": "944c15ad",
   "metadata": {
    "ExecuteTime": {
     "end_time": "2022-08-22T10:07:58.078531Z",
     "start_time": "2022-08-22T10:07:58.073920Z"
    }
   },
   "outputs": [],
   "source": [
    "def getCountryCode(data):\n",
    "    \n",
    "    for x,y in data.items():\n",
    "        if len(data['items']) > 0:\n",
    "            country_code = y[0]['address']['countryCode']\n",
    "        else:\n",
    "            country_code = float('Nan')\n",
    "    \n",
    "        return country_code"
   ]
  },
  {
   "cell_type": "code",
   "execution_count": 45,
   "id": "a6d60fd4",
   "metadata": {
    "ExecuteTime": {
     "end_time": "2022-08-22T10:07:58.353034Z",
     "start_time": "2022-08-22T10:07:58.080119Z"
    }
   },
   "outputs": [],
   "source": [
    "tweets_df['country_name'] = tweets_df['general_location_data'].apply(getCountryName)"
   ]
  },
  {
   "cell_type": "code",
   "execution_count": 46,
   "id": "3d951c48",
   "metadata": {
    "ExecuteTime": {
     "end_time": "2022-08-22T10:07:58.469607Z",
     "start_time": "2022-08-22T10:07:58.354200Z"
    }
   },
   "outputs": [],
   "source": [
    "tweets_df['country_code'] = tweets_df['general_location_data'].apply(getCountryCode)"
   ]
  },
  {
   "cell_type": "code",
   "execution_count": 47,
   "id": "4323f8e3",
   "metadata": {
    "ExecuteTime": {
     "end_time": "2022-08-22T10:07:58.945279Z",
     "start_time": "2022-08-22T10:07:58.470649Z"
    }
   },
   "outputs": [
    {
     "data": {
      "text/html": [
       "<div>\n",
       "<style scoped>\n",
       "    .dataframe tbody tr th:only-of-type {\n",
       "        vertical-align: middle;\n",
       "    }\n",
       "\n",
       "    .dataframe tbody tr th {\n",
       "        vertical-align: top;\n",
       "    }\n",
       "\n",
       "    .dataframe thead th {\n",
       "        text-align: right;\n",
       "    }\n",
       "</style>\n",
       "<table border=\"1\" class=\"dataframe\">\n",
       "  <thead>\n",
       "    <tr style=\"text-align: right;\">\n",
       "      <th></th>\n",
       "      <th>tweet_full_text</th>\n",
       "      <th>tweet_created_at</th>\n",
       "      <th>tweet_id</th>\n",
       "      <th>tweet_username</th>\n",
       "      <th>tweet_user_screename</th>\n",
       "      <th>tweet_userid_str</th>\n",
       "      <th>tweet_user_location</th>\n",
       "      <th>tweet_user_verified</th>\n",
       "      <th>tweet_user_followers_count</th>\n",
       "      <th>tweet_user_friends_count</th>\n",
       "      <th>tweet_retweet_count</th>\n",
       "      <th>tweet_favorite_count</th>\n",
       "      <th>general_location_data</th>\n",
       "      <th>country_name</th>\n",
       "      <th>country_code</th>\n",
       "    </tr>\n",
       "  </thead>\n",
       "  <tbody>\n",
       "    <tr>\n",
       "      <th>11749</th>\n",
       "      <td>Idk how much HBO is paying @Labrinth for #Euphoria but it’s not enough. Tell that check to to STAND UP https://t.co/MRehGB3lwy</td>\n",
       "      <td>2022-02-01 22:07:25</td>\n",
       "      <td>1.488635e+18</td>\n",
       "      <td>Kae King</td>\n",
       "      <td>TheKaeKing</td>\n",
       "      <td>1.292144e+18</td>\n",
       "      <td>No Location</td>\n",
       "      <td>False</td>\n",
       "      <td>373.0</td>\n",
       "      <td>478.0</td>\n",
       "      <td>0.0</td>\n",
       "      <td>0.0</td>\n",
       "      <td>{'items': []}</td>\n",
       "      <td>NaN</td>\n",
       "      <td>NaN</td>\n",
       "    </tr>\n",
       "    <tr>\n",
       "      <th>16071</th>\n",
       "      <td>This Malcolm X tee tho. I need it \\n\\n#euphoria</td>\n",
       "      <td>2022-02-15 01:39:13</td>\n",
       "      <td>1.493399e+18</td>\n",
       "      <td>Queen Mami No Swami</td>\n",
       "      <td>myeshxa</td>\n",
       "      <td>1.221516e+18</td>\n",
       "      <td>No Location</td>\n",
       "      <td>False</td>\n",
       "      <td>11565.0</td>\n",
       "      <td>295.0</td>\n",
       "      <td>0.0</td>\n",
       "      <td>21.0</td>\n",
       "      <td>{'items': []}</td>\n",
       "      <td>NaN</td>\n",
       "      <td>NaN</td>\n",
       "    </tr>\n",
       "    <tr>\n",
       "      <th>23738</th>\n",
       "      <td>I rewatched it a SECOND time immediately after 1st but in Spanish with my dad.\\nGave him the most pertinent context but he's only seen S1 Ep1 before this...\\nHis eyes were glued to the screen the entire time.\\n@Zendaya's dedication to this character shone brightlly.\\n#EuphoriaHBOMax https://t.co/I9eDNmGPhV</td>\n",
       "      <td>2022-02-08 01:07:15</td>\n",
       "      <td>1.490855e+18</td>\n",
       "      <td>🇲🇽🌹💘Lovey-Mona💖🌹🌈</td>\n",
       "      <td>MonaLovesYa</td>\n",
       "      <td>2.117646e+08</td>\n",
       "      <td>She/They ~ Los Angeles, CA</td>\n",
       "      <td>False</td>\n",
       "      <td>480.0</td>\n",
       "      <td>81.0</td>\n",
       "      <td>0.0</td>\n",
       "      <td>1.0</td>\n",
       "      <td>{'items': [{'title': 'Los Angeles, CA, United States', 'id': 'here:cm:namedplace:21009653', 'resultType': 'locality', 'localityType': 'city', 'address': {'label': 'Los Angeles, CA, United States', 'countryCode': 'USA', 'countryName': 'United States', 'stateCode': 'CA', 'state': 'California', 'county': 'Los Angeles', 'city': 'Los Angeles', 'postalCode': '90012'}, 'position': {'lat': 34.05357, 'lng': -118.24545}, 'mapView': {'west': -118.66817, 'south': 33.70373, 'east': -118.15521, 'north': 34.33839}, 'scoring': {'queryScore': 0.63, 'fieldScore': {'state': 1.0, 'city': 1.0}}}]}</td>\n",
       "      <td>United States</td>\n",
       "      <td>USA</td>\n",
       "    </tr>\n",
       "    <tr>\n",
       "      <th>22128</th>\n",
       "      <td>#Euphoria S2E4: I honestly thought Elliot was going to be a darker character, but there’s still time lol. So far, 1 &amp;amp; 3 felt like S1 episodes exploring the morality of these complicated characters while 2 &amp;amp; 4 felt thin and too melodramatic (by this show’s standards, any way) https://t.co/UiroddqCRM</td>\n",
       "      <td>2022-01-31 20:05:38</td>\n",
       "      <td>1.488242e+18</td>\n",
       "      <td>DeVaughn Taylor</td>\n",
       "      <td>_daddydisco</td>\n",
       "      <td>5.913888e+08</td>\n",
       "      <td>STL ➡️ LA</td>\n",
       "      <td>False</td>\n",
       "      <td>1489.0</td>\n",
       "      <td>1814.0</td>\n",
       "      <td>0.0</td>\n",
       "      <td>0.0</td>\n",
       "      <td>{'items': []}</td>\n",
       "      <td>NaN</td>\n",
       "      <td>NaN</td>\n",
       "    </tr>\n",
       "    <tr>\n",
       "      <th>14522</th>\n",
       "      <td>Well damn Cal going in on the whole fam 🥴🥴 #Euphoria</td>\n",
       "      <td>2022-02-01 07:59:57</td>\n",
       "      <td>1.488422e+18</td>\n",
       "      <td>la jefa</td>\n",
       "      <td>nikkigats</td>\n",
       "      <td>4.850756e+09</td>\n",
       "      <td>Kenosha✈️Killeen</td>\n",
       "      <td>False</td>\n",
       "      <td>109.0</td>\n",
       "      <td>309.0</td>\n",
       "      <td>0.0</td>\n",
       "      <td>1.0</td>\n",
       "      <td>{'items': [{'title': 'Killeen, TX, United States', 'id': 'here:cm:namedplace:21015285', 'resultType': 'locality', 'localityType': 'city', 'address': {'label': 'Killeen, TX, United States', 'countryCode': 'USA', 'countryName': 'United States', 'stateCode': 'TX', 'state': 'Texas', 'county': 'Bell', 'city': 'Killeen', 'postalCode': '76541'}, 'position': {'lat': 31.11689, 'lng': -97.72737}, 'mapView': {'west': -97.91378, 'south': 30.90068, 'east': -97.31514, 'north': 31.17355}, 'scoring': {'queryScore': 0.44, 'fieldScore': {'city': 0.95}}}, {'title': 'Kenosha, WI, United States', 'id': 'here:cm:namedplace:21030538', 'resultType': 'locality', 'localityType': 'city', 'address': {'label': 'Kenosha, WI, United States', 'countryCode': 'USA', 'countryName': 'United States', 'stateCode': 'WI', 'state': 'Wisconsin', 'county': 'Kenosha', 'city': 'Kenosha', 'postalCode': '53140'}, 'position': {'lat': 42.58808, 'lng': -87.82326}, 'mapView': {'west': -87.99687, 'south': 42.53887, 'east': -87.8075, 'north': 42.63946}, 'scoring': {'queryScore': 0.44, 'fieldScore': {'city': 0.95}}}]}</td>\n",
       "      <td>United States</td>\n",
       "      <td>USA</td>\n",
       "    </tr>\n",
       "    <tr>\n",
       "      <th>1624</th>\n",
       "      <td>Experience #Euphoria 🤤 https://t.co/YAu5aqqMfV #CBG #CBDOil #CBDpets #CBD #CBG #THC #Health #CannabisLegal #50ShadesofGreen</td>\n",
       "      <td>2022-01-30 13:29:29</td>\n",
       "      <td>1.487780e+18</td>\n",
       "      <td>50 Shades of Green</td>\n",
       "      <td>HempNewsNow1</td>\n",
       "      <td>1.452355e+18</td>\n",
       "      <td>Worldwide</td>\n",
       "      <td>False</td>\n",
       "      <td>229.0</td>\n",
       "      <td>1395.0</td>\n",
       "      <td>0.0</td>\n",
       "      <td>0.0</td>\n",
       "      <td>{'items': []}</td>\n",
       "      <td>NaN</td>\n",
       "      <td>NaN</td>\n",
       "    </tr>\n",
       "    <tr>\n",
       "      <th>15123</th>\n",
       "      <td>She was dead crying in the hallway at the mere fact that Rue had a friend that wasn’t her 😂 #Euphoria https://t.co/XVvxSAoJYZ</td>\n",
       "      <td>2022-02-01 05:32:26</td>\n",
       "      <td>1.488385e+18</td>\n",
       "      <td>India</td>\n",
       "      <td>indiwashere</td>\n",
       "      <td>7.369519e+08</td>\n",
       "      <td>IUP</td>\n",
       "      <td>False</td>\n",
       "      <td>569.0</td>\n",
       "      <td>757.0</td>\n",
       "      <td>1.0</td>\n",
       "      <td>6.0</td>\n",
       "      <td>{'items': [{'title': 'Iup Ln, Altoona, PA 16602, United States', 'id': 'here:af:street:ZpEJvoLE1mRyINzbmzacKB', 'resultType': 'street', 'address': {'label': 'Iup Ln, Altoona, PA 16602, United States', 'countryCode': 'USA', 'countryName': 'United States', 'stateCode': 'PA', 'state': 'Pennsylvania', 'county': 'Blair', 'city': 'Altoona', 'street': 'Iup Ln', 'postalCode': '16602'}, 'position': {'lat': 40.53256, 'lng': -78.36793}, 'mapView': {'west': -78.36837, 'south': 40.53222, 'east': -78.36761, 'north': 40.5326}, 'scoring': {'queryScore': 0.99, 'fieldScore': {'streets': [0.9]}}}]}</td>\n",
       "      <td>United States</td>\n",
       "      <td>USA</td>\n",
       "    </tr>\n",
       "    <tr>\n",
       "      <th>10996</th>\n",
       "      <td>THIS #Euphoria https://t.co/fvgTvu5DtD</td>\n",
       "      <td>2022-02-15 23:55:35</td>\n",
       "      <td>1.493736e+18</td>\n",
       "      <td>a</td>\n",
       "      <td>measmetwice</td>\n",
       "      <td>1.032795e+09</td>\n",
       "      <td>No Location</td>\n",
       "      <td>False</td>\n",
       "      <td>368.0</td>\n",
       "      <td>781.0</td>\n",
       "      <td>0.0</td>\n",
       "      <td>1.0</td>\n",
       "      <td>{'items': []}</td>\n",
       "      <td>NaN</td>\n",
       "      <td>NaN</td>\n",
       "    </tr>\n",
       "    <tr>\n",
       "      <th>43746</th>\n",
       "      <td>last night #Euphoria recap https://t.co/IBHtYzXzoT</td>\n",
       "      <td>2022-02-07 12:59:18</td>\n",
       "      <td>1.490672e+18</td>\n",
       "      <td>Katherine Reyes</td>\n",
       "      <td>elreykat</td>\n",
       "      <td>9.708475e+17</td>\n",
       "      <td>Caracas, Venezuela</td>\n",
       "      <td>False</td>\n",
       "      <td>13.0</td>\n",
       "      <td>75.0</td>\n",
       "      <td>0.0</td>\n",
       "      <td>0.0</td>\n",
       "      <td>{'items': [{'title': 'Caracas, Distrito Capital, Venezuela', 'id': 'here:cm:namedplace:23416532', 'resultType': 'locality', 'localityType': 'city', 'address': {'label': 'Caracas, Distrito Capital, Venezuela', 'countryCode': 'VEN', 'countryName': 'Venezuela', 'stateCode': 'DF', 'state': 'Distrito Capital', 'city': 'Caracas'}, 'position': {'lat': 10.50526, 'lng': -66.91776}, 'mapView': {'west': -67.06552, 'south': 10.36843, 'east': -66.73257, 'north': 10.53581}, 'scoring': {'queryScore': 1.0, 'fieldScore': {'country': 1.0, 'city': 1.0}}}]}</td>\n",
       "      <td>Venezuela</td>\n",
       "      <td>VEN</td>\n",
       "    </tr>\n",
       "    <tr>\n",
       "      <th>8836</th>\n",
       "      <td>faye is yasssified cassie i said what i said #euphoria</td>\n",
       "      <td>2022-02-02 20:34:52</td>\n",
       "      <td>1.488974e+18</td>\n",
       "      <td>mila lobos</td>\n",
       "      <td>milalobos420</td>\n",
       "      <td>1.278548e+18</td>\n",
       "      <td>welton academy</td>\n",
       "      <td>False</td>\n",
       "      <td>40.0</td>\n",
       "      <td>121.0</td>\n",
       "      <td>1.0</td>\n",
       "      <td>1.0</td>\n",
       "      <td>{'items': [{'title': 'Academy Ln, Defuniak Springs, FL 32435, United States', 'id': 'here:af:street:zZyQo6ildpQ2heWNFtBBwD', 'resultType': 'street', 'address': {'label': 'Academy Ln, Defuniak Springs, FL 32435, United States', 'countryCode': 'USA', 'countryName': 'United States', 'stateCode': 'FL', 'state': 'Florida', 'county': 'Walton', 'city': 'Defuniak Springs', 'street': 'Academy Ln', 'postalCode': '32435'}, 'position': {'lat': 30.70597, 'lng': -86.16549}, 'mapView': {'west': -86.16574, 'south': 30.70538, 'east': -86.1653, 'north': 30.70653}, 'scoring': {'queryScore': 0.85, 'fieldScore': {'county': 0.67, 'streets': [0.9]}}}]}</td>\n",
       "      <td>United States</td>\n",
       "      <td>USA</td>\n",
       "    </tr>\n",
       "  </tbody>\n",
       "</table>\n",
       "</div>"
      ],
      "text/plain": [
       "                                                                                                                                                                                                                                                                                                           tweet_full_text  \\\n",
       "11749                                                                                                                                                                                       Idk how much HBO is paying @Labrinth for #Euphoria but it’s not enough. Tell that check to to STAND UP https://t.co/MRehGB3lwy   \n",
       "16071                                                                                                                                                                                                                                                                      This Malcolm X tee tho. I need it \\n\\n#euphoria   \n",
       "23738  I rewatched it a SECOND time immediately after 1st but in Spanish with my dad.\\nGave him the most pertinent context but he's only seen S1 Ep1 before this...\\nHis eyes were glued to the screen the entire time.\\n@Zendaya's dedication to this character shone brightlly.\\n#EuphoriaHBOMax https://t.co/I9eDNmGPhV   \n",
       "22128  #Euphoria S2E4: I honestly thought Elliot was going to be a darker character, but there’s still time lol. So far, 1 &amp; 3 felt like S1 episodes exploring the morality of these complicated characters while 2 &amp; 4 felt thin and too melodramatic (by this show’s standards, any way) https://t.co/UiroddqCRM   \n",
       "14522                                                                                                                                                                                                                                                                 Well damn Cal going in on the whole fam 🥴🥴 #Euphoria   \n",
       "1624                                                                                                                                                                                           Experience #Euphoria 🤤 https://t.co/YAu5aqqMfV #CBG #CBDOil #CBDpets #CBD #CBG #THC #Health #CannabisLegal #50ShadesofGreen   \n",
       "15123                                                                                                                                                                                        She was dead crying in the hallway at the mere fact that Rue had a friend that wasn’t her 😂 #Euphoria https://t.co/XVvxSAoJYZ   \n",
       "10996                                                                                                                                                                                                                                                                               THIS #Euphoria https://t.co/fvgTvu5DtD   \n",
       "43746                                                                                                                                                                                                                                                                   last night #Euphoria recap https://t.co/IBHtYzXzoT   \n",
       "8836                                                                                                                                                                                                                                                                faye is yasssified cassie i said what i said #euphoria   \n",
       "\n",
       "          tweet_created_at      tweet_id       tweet_username  \\\n",
       "11749  2022-02-01 22:07:25  1.488635e+18             Kae King   \n",
       "16071  2022-02-15 01:39:13  1.493399e+18  Queen Mami No Swami   \n",
       "23738  2022-02-08 01:07:15  1.490855e+18    🇲🇽🌹💘Lovey-Mona💖🌹🌈   \n",
       "22128  2022-01-31 20:05:38  1.488242e+18      DeVaughn Taylor   \n",
       "14522  2022-02-01 07:59:57  1.488422e+18              la jefa   \n",
       "1624   2022-01-30 13:29:29  1.487780e+18   50 Shades of Green   \n",
       "15123  2022-02-01 05:32:26  1.488385e+18                India   \n",
       "10996  2022-02-15 23:55:35  1.493736e+18                    a   \n",
       "43746  2022-02-07 12:59:18  1.490672e+18      Katherine Reyes   \n",
       "8836   2022-02-02 20:34:52  1.488974e+18           mila lobos   \n",
       "\n",
       "      tweet_user_screename  tweet_userid_str         tweet_user_location  \\\n",
       "11749           TheKaeKing      1.292144e+18                 No Location   \n",
       "16071              myeshxa      1.221516e+18                 No Location   \n",
       "23738          MonaLovesYa      2.117646e+08  She/They ~ Los Angeles, CA   \n",
       "22128          _daddydisco      5.913888e+08                   STL ➡️ LA   \n",
       "14522            nikkigats      4.850756e+09            Kenosha✈️Killeen   \n",
       "1624          HempNewsNow1      1.452355e+18                   Worldwide   \n",
       "15123          indiwashere      7.369519e+08                        IUP    \n",
       "10996          measmetwice      1.032795e+09                 No Location   \n",
       "43746             elreykat      9.708475e+17          Caracas, Venezuela   \n",
       "8836          milalobos420      1.278548e+18              welton academy   \n",
       "\n",
       "      tweet_user_verified  tweet_user_followers_count  \\\n",
       "11749               False                       373.0   \n",
       "16071               False                     11565.0   \n",
       "23738               False                       480.0   \n",
       "22128               False                      1489.0   \n",
       "14522               False                       109.0   \n",
       "1624                False                       229.0   \n",
       "15123               False                       569.0   \n",
       "10996               False                       368.0   \n",
       "43746               False                        13.0   \n",
       "8836                False                        40.0   \n",
       "\n",
       "       tweet_user_friends_count  tweet_retweet_count  tweet_favorite_count  \\\n",
       "11749                     478.0                  0.0                   0.0   \n",
       "16071                     295.0                  0.0                  21.0   \n",
       "23738                      81.0                  0.0                   1.0   \n",
       "22128                    1814.0                  0.0                   0.0   \n",
       "14522                     309.0                  0.0                   1.0   \n",
       "1624                     1395.0                  0.0                   0.0   \n",
       "15123                     757.0                  1.0                   6.0   \n",
       "10996                     781.0                  0.0                   1.0   \n",
       "43746                      75.0                  0.0                   0.0   \n",
       "8836                      121.0                  1.0                   1.0   \n",
       "\n",
       "                                                                                                                                                                                                                                                                                                                                                                                                                                                                                                                                                                                                                                                                                                                                                                                                                                                                                                                                                                                                                                                                                                           general_location_data  \\\n",
       "11749                                                                                                                                                                                                                                                                                                                                                                                                                                                                                                                                                                                                                                                                                                                                                                                                                                                                                                                                                                                                                                                                                                              {'items': []}   \n",
       "16071                                                                                                                                                                                                                                                                                                                                                                                                                                                                                                                                                                                                                                                                                                                                                                                                                                                                                                                                                                                                                                                                                                              {'items': []}   \n",
       "23738                                                                                                                                                                                                                                                                                                                                                                                                                                                                                                                    {'items': [{'title': 'Los Angeles, CA, United States', 'id': 'here:cm:namedplace:21009653', 'resultType': 'locality', 'localityType': 'city', 'address': {'label': 'Los Angeles, CA, United States', 'countryCode': 'USA', 'countryName': 'United States', 'stateCode': 'CA', 'state': 'California', 'county': 'Los Angeles', 'city': 'Los Angeles', 'postalCode': '90012'}, 'position': {'lat': 34.05357, 'lng': -118.24545}, 'mapView': {'west': -118.66817, 'south': 33.70373, 'east': -118.15521, 'north': 34.33839}, 'scoring': {'queryScore': 0.63, 'fieldScore': {'state': 1.0, 'city': 1.0}}}]}   \n",
       "22128                                                                                                                                                                                                                                                                                                                                                                                                                                                                                                                                                                                                                                                                                                                                                                                                                                                                                                                                                                                                                                                                                                              {'items': []}   \n",
       "14522  {'items': [{'title': 'Killeen, TX, United States', 'id': 'here:cm:namedplace:21015285', 'resultType': 'locality', 'localityType': 'city', 'address': {'label': 'Killeen, TX, United States', 'countryCode': 'USA', 'countryName': 'United States', 'stateCode': 'TX', 'state': 'Texas', 'county': 'Bell', 'city': 'Killeen', 'postalCode': '76541'}, 'position': {'lat': 31.11689, 'lng': -97.72737}, 'mapView': {'west': -97.91378, 'south': 30.90068, 'east': -97.31514, 'north': 31.17355}, 'scoring': {'queryScore': 0.44, 'fieldScore': {'city': 0.95}}}, {'title': 'Kenosha, WI, United States', 'id': 'here:cm:namedplace:21030538', 'resultType': 'locality', 'localityType': 'city', 'address': {'label': 'Kenosha, WI, United States', 'countryCode': 'USA', 'countryName': 'United States', 'stateCode': 'WI', 'state': 'Wisconsin', 'county': 'Kenosha', 'city': 'Kenosha', 'postalCode': '53140'}, 'position': {'lat': 42.58808, 'lng': -87.82326}, 'mapView': {'west': -87.99687, 'south': 42.53887, 'east': -87.8075, 'north': 42.63946}, 'scoring': {'queryScore': 0.44, 'fieldScore': {'city': 0.95}}}]}   \n",
       "1624                                                                                                                                                                                                                                                                                                                                                                                                                                                                                                                                                                                                                                                                                                                                                                                                                                                                                                                                                                                                                                                                                                               {'items': []}   \n",
       "15123                                                                                                                                                                                                                                                                                                                                                                                                                                                                                                                 {'items': [{'title': 'Iup Ln, Altoona, PA 16602, United States', 'id': 'here:af:street:ZpEJvoLE1mRyINzbmzacKB', 'resultType': 'street', 'address': {'label': 'Iup Ln, Altoona, PA 16602, United States', 'countryCode': 'USA', 'countryName': 'United States', 'stateCode': 'PA', 'state': 'Pennsylvania', 'county': 'Blair', 'city': 'Altoona', 'street': 'Iup Ln', 'postalCode': '16602'}, 'position': {'lat': 40.53256, 'lng': -78.36793}, 'mapView': {'west': -78.36837, 'south': 40.53222, 'east': -78.36761, 'north': 40.5326}, 'scoring': {'queryScore': 0.99, 'fieldScore': {'streets': [0.9]}}}]}   \n",
       "10996                                                                                                                                                                                                                                                                                                                                                                                                                                                                                                                                                                                                                                                                                                                                                                                                                                                                                                                                                                                                                                                                                                              {'items': []}   \n",
       "43746                                                                                                                                                                                                                                                                                                                                                                                                                                                                                                                                                            {'items': [{'title': 'Caracas, Distrito Capital, Venezuela', 'id': 'here:cm:namedplace:23416532', 'resultType': 'locality', 'localityType': 'city', 'address': {'label': 'Caracas, Distrito Capital, Venezuela', 'countryCode': 'VEN', 'countryName': 'Venezuela', 'stateCode': 'DF', 'state': 'Distrito Capital', 'city': 'Caracas'}, 'position': {'lat': 10.50526, 'lng': -66.91776}, 'mapView': {'west': -67.06552, 'south': 10.36843, 'east': -66.73257, 'north': 10.53581}, 'scoring': {'queryScore': 1.0, 'fieldScore': {'country': 1.0, 'city': 1.0}}}]}   \n",
       "8836                                                                                                                                                                                                                                                                                                                                                                                                                                                               {'items': [{'title': 'Academy Ln, Defuniak Springs, FL 32435, United States', 'id': 'here:af:street:zZyQo6ildpQ2heWNFtBBwD', 'resultType': 'street', 'address': {'label': 'Academy Ln, Defuniak Springs, FL 32435, United States', 'countryCode': 'USA', 'countryName': 'United States', 'stateCode': 'FL', 'state': 'Florida', 'county': 'Walton', 'city': 'Defuniak Springs', 'street': 'Academy Ln', 'postalCode': '32435'}, 'position': {'lat': 30.70597, 'lng': -86.16549}, 'mapView': {'west': -86.16574, 'south': 30.70538, 'east': -86.1653, 'north': 30.70653}, 'scoring': {'queryScore': 0.85, 'fieldScore': {'county': 0.67, 'streets': [0.9]}}}]}   \n",
       "\n",
       "        country_name country_code  \n",
       "11749            NaN          NaN  \n",
       "16071            NaN          NaN  \n",
       "23738  United States          USA  \n",
       "22128            NaN          NaN  \n",
       "14522  United States          USA  \n",
       "1624             NaN          NaN  \n",
       "15123  United States          USA  \n",
       "10996            NaN          NaN  \n",
       "43746      Venezuela          VEN  \n",
       "8836   United States          USA  "
      ]
     },
     "execution_count": 47,
     "metadata": {},
     "output_type": "execute_result"
    }
   ],
   "source": [
    "# Sanity Check\n",
    "tweets_df.sample(10)"
   ]
  },
  {
   "cell_type": "code",
   "execution_count": 48,
   "id": "eae8aa99",
   "metadata": {
    "ExecuteTime": {
     "end_time": "2022-08-22T10:07:59.009698Z",
     "start_time": "2022-08-22T10:07:58.947453Z"
    }
   },
   "outputs": [],
   "source": [
    "# Remove more irrelevant columns\n",
    "tweets_df = tweets_df.drop(columns = ['general_location_data'])"
   ]
  },
  {
   "cell_type": "code",
   "execution_count": 49,
   "id": "445c1667",
   "metadata": {
    "ExecuteTime": {
     "end_time": "2022-08-22T10:07:59.013436Z",
     "start_time": "2022-08-22T10:07:59.010757Z"
    }
   },
   "outputs": [
    {
     "data": {
      "text/plain": [
       "Index(['tweet_full_text', 'tweet_created_at', 'tweet_id', 'tweet_username',\n",
       "       'tweet_user_screename', 'tweet_userid_str', 'tweet_user_location',\n",
       "       'tweet_user_verified', 'tweet_user_followers_count',\n",
       "       'tweet_user_friends_count', 'tweet_retweet_count',\n",
       "       'tweet_favorite_count', 'country_name', 'country_code'],\n",
       "      dtype='object')"
      ]
     },
     "execution_count": 49,
     "metadata": {},
     "output_type": "execute_result"
    }
   ],
   "source": [
    "tweets_df.columns"
   ]
  },
  {
   "cell_type": "code",
   "execution_count": 50,
   "id": "584e4307",
   "metadata": {
    "ExecuteTime": {
     "end_time": "2022-08-22T10:08:00.637974Z",
     "start_time": "2022-08-22T10:07:59.014167Z"
    }
   },
   "outputs": [],
   "source": [
    "# Exporting DF at this stage with updated columns\n",
    "tweets_df.to_csv('euphoria_tweets_trimmed.csv')"
   ]
  },
  {
   "cell_type": "code",
   "execution_count": null,
   "id": "3b8b340f",
   "metadata": {},
   "outputs": [],
   "source": []
  }
 ],
 "metadata": {
  "kernelspec": {
   "display_name": "Python 3",
   "language": "python",
   "name": "python3"
  },
  "language_info": {
   "codemirror_mode": {
    "name": "ipython",
    "version": 3
   },
   "file_extension": ".py",
   "mimetype": "text/x-python",
   "name": "python",
   "nbconvert_exporter": "python",
   "pygments_lexer": "ipython3",
   "version": "3.9.1"
  },
  "toc": {
   "base_numbering": 1,
   "nav_menu": {},
   "number_sections": true,
   "sideBar": true,
   "skip_h1_title": false,
   "title_cell": "Table of Contents",
   "title_sidebar": "Contents",
   "toc_cell": false,
   "toc_position": {},
   "toc_section_display": true,
   "toc_window_display": true
  }
 },
 "nbformat": 4,
 "nbformat_minor": 5
}
